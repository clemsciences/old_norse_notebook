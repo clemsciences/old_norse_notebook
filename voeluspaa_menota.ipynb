{
 "cells": [
  {
   "cell_type": "markdown",
   "metadata": {},
   "source": [
    "# Menota annotated Völuspá"
   ]
  },
  {
   "cell_type": "markdown",
   "metadata": {},
   "source": [
    "(AM 242 fol – Codex Wormianus v. 0.9.9) [http://clarino.uib.no/menota/document-element](http://clarino.uib.no/menota/document-element)\n",
    "\n",
    "* [Völuspá in Codex Regius](http://clarino.uib.no/menota/texts/GKS-2365-4to-Vsp.xml)\n",
    "* [Völuspá in Hauksbók](http://clarino.uib.no/menota/texts/AM-544-4to-Vsp.xml)"
   ]
  },
  {
   "cell_type": "code",
   "execution_count": 1,
   "metadata": {
    "collapsed": true
   },
   "outputs": [],
   "source": [
    "import os\n",
    "import codecs\n",
    "import html\n",
    "\n",
    "import xml.etree.ElementTree as ET\n",
    "from xml.sax.saxutils import escape, unescape"
   ]
  },
  {
   "cell_type": "code",
   "execution_count": 2,
   "metadata": {
    "collapsed": false
   },
   "outputs": [
    {
     "name": "stdout",
     "output_type": "stream",
     "text": [
      "&et;\n"
     ]
    }
   ],
   "source": [
    "print(html.unescape(\"&et;\"))"
   ]
  },
  {
   "cell_type": "code",
   "execution_count": 3,
   "metadata": {
    "collapsed": false
   },
   "outputs": [],
   "source": [
    "konungsbok_filename = \"GKS-2365-4to-Vsp.xml\"\n",
    "hausbok_filename = \"AM-544-4to-Vsp.xml\"\n",
    "menota_directory = \"menota\"\n",
    "# #konungsbok = ET.parse(os.path.join(menota_directory, konungsbok_filename))\n",
    "# # hausbok = ET.parse(os.path.join(menota_directory, hausbok_filename))\n",
    "# with codecs.open(os.path.join(menota_directory, konungsbok_filename), \"r\", encoding=\"utf-8\") as f:\n",
    "#     konungsbok = ET.fromstring(html.unescape(f.read()))\n",
    "# #    ET.parse\n",
    "# #with codecs.open(os.path.join(menota_directory, hausbok_filename), \"r\", encoding=\"utf-8\") as f:\n",
    "# #     hausbok = ET.fromstring(html.unescape(f.read()))\n",
    "    \n",
    "    "
   ]
  },
  {
   "cell_type": "markdown",
   "metadata": {},
   "source": [
    "This error is because the namespace of tags is not defined."
   ]
  },
  {
   "cell_type": "code",
   "execution_count": 4,
   "metadata": {
    "collapsed": true
   },
   "outputs": [],
   "source": [
    "from lxml import etree"
   ]
  },
  {
   "cell_type": "code",
   "execution_count": 5,
   "metadata": {
    "collapsed": false
   },
   "outputs": [],
   "source": [
    "parser = etree.XMLParser(load_dtd=True, no_network=False)\n",
    "tree = etree.parse(os.path.join(menota_directory, konungsbok_filename), parser=parser)"
   ]
  },
  {
   "cell_type": "code",
   "execution_count": 6,
   "metadata": {
    "collapsed": false
   },
   "outputs": [
    {
     "name": "stdout",
     "output_type": "stream",
     "text": [
      "                            <me:dipl>ec</me:dipl>\n",
      "                        <me:norm>ek</me:norm>\n",
      "</w>\n",
      "                        <w me:msa=\"xAJ rP gF nP cA sI\" lemma=\"allr\">\n",
      "                            <me:facs>allar</me:facs>\n",
      "                            <me:dipl>allar</me:dipl>\n",
      "                        <me:norm>allar</me:norm>\n",
      "</w>\n",
      "                    </l>\n",
      "                    <l>\n"
     ]
    }
   ],
   "source": [
    "root = tree.getroot()\n",
    "decoded_root = etree.tostring(root).decode(\"utf-8\")\n",
    "i = 170\n",
    "print(\"\\n\".join(decoded_root.split(\"\\n\")[i:i+10]))"
   ]
  },
  {
   "cell_type": "code",
   "execution_count": 7,
   "metadata": {
    "collapsed": false
   },
   "outputs": [
    {
     "name": "stdout",
     "output_type": "stream",
     "text": [
      "                            <me:dipl>ec</me:dipl>\n",
      "                        <me:norm>ek</me:norm>\n",
      "</w>\n",
      "                        <w me:msa=\"xAJ rP gF nP cA sI\" lemma=\"allr\">\n",
      "                            <me:facs>allar</me:facs>\n",
      "                            <me:dipl>allar</me:dipl>\n",
      "                        <me:norm>allar</me:norm>\n",
      "</w>\n",
      "                    </l>\n",
      "                    <l>\n",
      "                        <w me:msa=\"xNC gF nP cA sI\" lemma=\"kind\">\n",
      "                            <me:facs>kin&#42874;ir</me:facs>\n",
      "                            <me:dipl>kin&#42874;ir</me:dipl>\n",
      "                        <me:norm>kindir</me:norm>\n",
      "</w>\n",
      "                    </l>\n",
      "                    <l>\n",
      "                        <w me:msa=\"xAJ rC gF nP cA sD\" lemma=\"mikill\">\n",
      "                            <me:facs>meiri</me:facs>\n",
      "                            <me:dipl>meiri</me:dipl>\n",
      "                        <me:norm>meiri</me:norm>\n",
      "</w>\n",
      "                        <w me:msa=\"xCU\" lemma=\"ok\">\n",
      "                            <me:facs><am>&#8266;</am></me:facs>\n",
      "                            <me:dipl><ex>oc</ex></me:dipl>\n",
      "                        <me:norm>ok</me:norm>\n",
      "</w>\n",
      "                        <w me:msa=\"xAJ rC gF nP cA sD\" lemma=\"l&#237;till\">\n",
      "                            <me:facs>mi&#628;i</me:facs>\n",
      "                            <me:dipl>mi&#628;i</me:dipl>\n"
     ]
    }
   ],
   "source": [
    "print(\"\\n\".join(decoded_root.split(\"\\n\")[i:i+30]))"
   ]
  },
  {
   "cell_type": "code",
   "execution_count": 8,
   "metadata": {
    "collapsed": false
   },
   "outputs": [
    {
     "data": {
      "text/plain": [
       "'{http://www.tei-c.org/ns/1.0}TEI'"
      ]
     },
     "execution_count": 8,
     "metadata": {},
     "output_type": "execute_result"
    }
   ],
   "source": [
    "root.tag"
   ]
  },
  {
   "cell_type": "code",
   "execution_count": 9,
   "metadata": {
    "collapsed": true
   },
   "outputs": [],
   "source": [
    "stringify = etree.XPath(\"string()\")"
   ]
  },
  {
   "cell_type": "code",
   "execution_count": 10,
   "metadata": {
    "collapsed": true
   },
   "outputs": [],
   "source": [
    "namespaces = {'n': 'http://www.tei-c.org/ns/1.0',\n",
    "              'me': 'http://www.menota.org/ns/1.0'}"
   ]
  },
  {
   "cell_type": "code",
   "execution_count": 11,
   "metadata": {
    "collapsed": true
   },
   "outputs": [],
   "source": [
    "header, text = root.getchildren()"
   ]
  },
  {
   "cell_type": "code",
   "execution_count": 12,
   "metadata": {
    "collapsed": false
   },
   "outputs": [
    {
     "name": "stdout",
     "output_type": "stream",
     "text": [
      "<Element {http://www.tei-c.org/ns/1.0}div at 0x7f3215880d48>\n"
     ]
    }
   ],
   "source": [
    "print(text.find('.//n:div[@type=\"poem\"]', namespaces=namespaces))\n",
    "poem = text.find('.//n:div[@type=\"poem\"]', namespaces=namespaces)"
   ]
  },
  {
   "cell_type": "code",
   "execution_count": 13,
   "metadata": {
    "collapsed": true
   },
   "outputs": [],
   "source": [
    "poem = text.getchildren()[0].getchildren()[3]"
   ]
  },
  {
   "cell_type": "code",
   "execution_count": 14,
   "metadata": {
    "collapsed": false
   },
   "outputs": [],
   "source": [
    "stanzas = [child for child in poem.xpath(\"n:lg\", namespaces=namespaces)]"
   ]
  },
  {
   "cell_type": "code",
   "execution_count": 15,
   "metadata": {
    "collapsed": true
   },
   "outputs": [],
   "source": [
    "facsimile_stanzas = [stanza.findall(\".//n:l\", namespaces=namespaces) for stanza in stanzas]\n",
    "facsimile_lines = [[line.findall(\".//me:facs\", namespaces=namespaces) for line in stanza] for stanza in facsimile_stanzas]\n",
    "facsimile_text = [[[stringify(word) for word in line] for line in stanza ] for stanza in facsimile_lines]"
   ]
  },
  {
   "cell_type": "code",
   "execution_count": 16,
   "metadata": {
    "collapsed": true
   },
   "outputs": [],
   "source": [
    "diplomatica_stanzas = [stanza.findall(\".//n:l\", namespaces=namespaces) for stanza in stanzas]\n",
    "diplomatica_lines = [[line.findall(\".//me:dipl\", namespaces=namespaces) for line in stanza] for stanza in diplomatica_stanzas]\n",
    "diplomatica_text = [[[stringify(word) for word in line] for line in stanza ] for stanza in diplomatica_lines]"
   ]
  },
  {
   "cell_type": "code",
   "execution_count": 17,
   "metadata": {
    "collapsed": true
   },
   "outputs": [],
   "source": [
    "normalized_stanzas = [stanza.findall(\".//n:l\", namespaces=namespaces) for stanza in stanzas]\n",
    "normalized_lines = [[line.findall(\".//me:norm\", namespaces=namespaces) for line in stanza] for stanza in normalized_stanzas]\n",
    "normalized_text = [[[stringify(word) for word in line] for line in stanza ] for stanza in normalized_lines]"
   ]
  },
  {
   "cell_type": "code",
   "execution_count": 18,
   "metadata": {
    "collapsed": true
   },
   "outputs": [],
   "source": [
    "lemmata_stanzas = [stanza.findall(\".//n:l\", namespaces=namespaces) for stanza in stanzas]\n",
    "lemmata_lines = [[line.findall(\".//n:w\", namespaces=namespaces) for line in stanza] for stanza in lemmata_stanzas]\n",
    "lemmata_text = [[[word.get(\"lemma\") for word in line] for line in stanza ] for stanza in lemmata_lines]"
   ]
  },
  {
   "cell_type": "code",
   "execution_count": 19,
   "metadata": {
    "collapsed": false
   },
   "outputs": [],
   "source": [
    "pos_stanzas = [stanza.findall(\".//n:l\", namespaces=namespaces) for stanza in stanzas]\n",
    "pos_lines = [[line.findall(\".//n:w\", namespaces=namespaces) for line in stanza] for stanza in pos_stanzas]\n",
    "pos_text = [[[word.get('{http://www.menota.org/ns/1.0}msa') for word in line] for line in stanza ] for stanza in pos_lines]"
   ]
  },
  {
   "cell_type": "code",
   "execution_count": null,
   "metadata": {
    "collapsed": true
   },
   "outputs": [],
   "source": []
  },
  {
   "cell_type": "code",
   "execution_count": 20,
   "metadata": {
    "collapsed": false
   },
   "outputs": [
    {
     "data": {
      "text/plain": [
       "[['Hlıoðſ', 'bið', 'ec', 'allar'],\n",
       " ['kinꝺir'],\n",
       " ['meiri', '⁊', 'miɴi'],\n",
       " ['maugo', 'heimꝺalar'],\n",
       " ['uilðo', 'at', 'ec', 'ualꝼꜹþ̅'],\n",
       " ['uel', 'ꝼyr', 'telia'],\n",
       " ['ꝼoꝛn', 'ſpioll', 'ꝼíra'],\n",
       " ['þꜹ', 'e͛', 'ꝼremſt', 'u̅', 'man', '.']]"
      ]
     },
     "execution_count": 20,
     "metadata": {},
     "output_type": "execute_result"
    }
   ],
   "source": [
    "facsimile_text[0]"
   ]
  },
  {
   "cell_type": "code",
   "execution_count": 21,
   "metadata": {
    "collapsed": false
   },
   "outputs": [
    {
     "data": {
      "text/plain": [
       "[['Hlıoðſ', 'bið', 'ec', 'allar'],\n",
       " ['kinꝺir'],\n",
       " ['meiri', 'oc', 'miɴi'],\n",
       " ['maugo', 'heimꝺalar'],\n",
       " ['uilðo', 'at', 'ec', 'ualꝼꜹþr'],\n",
       " ['uel', 'ꝼyr', 'telia'],\n",
       " ['ꝼoꝛn', 'ſpioll', 'ꝼíra'],\n",
       " ['þꜹ', 'er', 'ꝼremſt', 'um', 'man', '.']]"
      ]
     },
     "execution_count": 21,
     "metadata": {},
     "output_type": "execute_result"
    }
   ],
   "source": [
    "diplomatica_text[0]"
   ]
  },
  {
   "cell_type": "code",
   "execution_count": 22,
   "metadata": {
    "collapsed": false
   },
   "outputs": [
    {
     "data": {
      "text/plain": [
       "[['Hljóðs', 'bið', 'ek', 'allar'],\n",
       " ['kindir'],\n",
       " ['meiri', 'ok', 'minni'],\n",
       " ['mögu', 'Heimdalar'],\n",
       " ['vildu', 'að', 'ek', 'Valföðr'],\n",
       " ['vel', 'fyr', 'telja'],\n",
       " ['forn', 'spjöll', 'fira'],\n",
       " ['þau', 'er', 'fremst', 'um', 'man', '.']]"
      ]
     },
     "execution_count": 22,
     "metadata": {},
     "output_type": "execute_result"
    }
   ],
   "source": [
    "normalized_text[0]"
   ]
  },
  {
   "cell_type": "code",
   "execution_count": 23,
   "metadata": {
    "collapsed": false
   },
   "outputs": [
    {
     "data": {
      "text/plain": [
       "[['hlióð', 'biðia', 'ek', 'allr'],\n",
       " ['kind'],\n",
       " ['mikill', 'ok', 'lítill'],\n",
       " ['mǫgr', 'Heimdallr'],\n",
       " ['vilia', 'at', 'ek', 'Valfǫðr'],\n",
       " ['vel', 'fyr', 'telia'],\n",
       " ['forn', 'spiall', 'firar'],\n",
       " ['sá', 'er', 'framr', 'um', 'muna']]"
      ]
     },
     "execution_count": 23,
     "metadata": {},
     "output_type": "execute_result"
    }
   ],
   "source": [
    "lemmata_text[0]"
   ]
  },
  {
   "cell_type": "code",
   "execution_count": 24,
   "metadata": {
    "collapsed": false
   },
   "outputs": [
    {
     "data": {
      "text/plain": [
       "[['xNC gN nS cG sI',\n",
       "  'xVB fF tPS mIN p1 nS vA iST',\n",
       "  'xPD cN',\n",
       "  'xAJ rP gF nP cA sI'],\n",
       " ['xNC gF nP cA sI'],\n",
       " ['xAJ rC gF nP cA sD', 'xCU', 'xAJ rC gF nP cA sD'],\n",
       " ['xNC gM nP cA sI', 'xNP gM cG sI'],\n",
       " ['xVB fF tPS mIN p2 nS vA iWK', 'xCU', 'xPD cN', 'xNC gM nS cN'],\n",
       " ['xAV rP', 'xAV rP', 'xVB fF tPS mSU p1 nS vA iWK'],\n",
       " ['xAJ rP gN nP cA sI', 'xNC gN nP cA sI', 'xNC gM nP cG sI'],\n",
       " ['xPD gN nP cA',\n",
       "  'xCU',\n",
       "  'xAJ rS gN nP cA sI',\n",
       "  'xAV rP',\n",
       "  'xVB fF tPS mIN p1 nS vA iPP']]"
      ]
     },
     "execution_count": 24,
     "metadata": {},
     "output_type": "execute_result"
    }
   ],
   "source": [
    "pos_text[0]"
   ]
  },
  {
   "cell_type": "code",
   "execution_count": null,
   "metadata": {
    "collapsed": true
   },
   "outputs": [],
   "source": []
  },
  {
   "cell_type": "code",
   "execution_count": null,
   "metadata": {
    "collapsed": true
   },
   "outputs": [],
   "source": []
  },
  {
   "cell_type": "code",
   "execution_count": null,
   "metadata": {
    "collapsed": true
   },
   "outputs": [],
   "source": []
  },
  {
   "cell_type": "code",
   "execution_count": null,
   "metadata": {
    "collapsed": true
   },
   "outputs": [],
   "source": []
  },
  {
   "cell_type": "markdown",
   "metadata": {},
   "source": [
    "By Clément Besnier, (visit my [website](www.clementbesnier.fr))"
   ]
  }
 ],
 "metadata": {
  "kernelspec": {
   "display_name": "Environment (old_norse_notebook)",
   "language": "",
   "name": "old_norse_notebook"
  },
  "language_info": {
   "codemirror_mode": {
    "name": "ipython",
    "version": 3
   },
   "file_extension": ".py",
   "mimetype": "text/x-python",
   "name": "python",
   "nbconvert_exporter": "python",
   "pygments_lexer": "ipython3",
   "version": "3.6.0"
  }
 },
 "nbformat": 4,
 "nbformat_minor": 0
}
