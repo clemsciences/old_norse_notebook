{
 "cells": [
  {
   "cell_type": "markdown",
   "metadata": {},
   "source": [
    "# Reread a paper on Old Norse processing\n",
    "\n",
    "\n",
    "[Morphological Tagging of Old Norse Texts and its Use in Studying Syntactic Variation and Change](http://citeseerx.ist.psu.edu/viewdoc/download;jsessionid=A2101BF4CF1D6C1D8C3526E8BA72ECAF?doi=10.1.1.710.7231&rep=rep1&type=pdf)\n"
   ]
  },
  {
   "cell_type": "code",
   "execution_count": null,
   "metadata": {
    "collapsed": true
   },
   "outputs": [],
   "source": []
  },
  {
   "cell_type": "code",
   "execution_count": null,
   "metadata": {
    "collapsed": true
   },
   "outputs": [],
   "source": []
  },
  {
   "cell_type": "code",
   "execution_count": null,
   "metadata": {
    "collapsed": true
   },
   "outputs": [],
   "source": []
  },
  {
   "cell_type": "markdown",
   "metadata": {},
   "source": [
    "## Tagging Modern Icelandic "
   ]
  },
  {
   "cell_type": "markdown",
   "metadata": {},
   "source": [
    "### The Tagset"
   ]
  },
  {
   "cell_type": "markdown",
   "metadata": {
    "collapsed": true
   },
   "source": [
    "* [Using available resources](http://www.malfong.is/index.php?lang=en&pg=ordtidnibok)\n",
    "\n",
    "* [Icelandic Frequency Corpus tagset](http://www.malfong.is/files/ot_tagset_files_en.pdf)"
   ]
  },
  {
   "cell_type": "markdown",
   "metadata": {},
   "source": [
    "#### Parsing a tag"
   ]
  },
  {
   "cell_type": "code",
   "execution_count": 1,
   "metadata": {
    "collapsed": true
   },
   "outputs": [],
   "source": [
    "from collections import defaultdict\n",
    "\n",
    "\n",
    "class POSElement:\n",
    "\n",
    "    @staticmethod\n",
    "    def parse(tag, value):\n",
    "        return value\n",
    "\n",
    "\n",
    "class Gender(POSElement):\n",
    "    masculine = \"k\"\n",
    "    feminine = \"v\"\n",
    "    neuter = \"h\"\n",
    "\n",
    "    verbose = defaultdict(str)\n",
    "    verbose[masculine] = \"masculine\"\n",
    "    verbose[feminine] = \"feminine\"\n",
    "    verbose[neuter] = \"neuter\"\n",
    "\n",
    "    @staticmethod\n",
    "    def parse(tag, value):\n",
    "        \"\"\"\n",
    "        >>> Gender.parse(\"k\", \"\")\n",
    "        ' masculine'\n",
    "        >>> Gender.parse(\"v\", \"\")\n",
    "        ' feminine'\n",
    "        >>> Gender.parse(\"h\", \"\")\n",
    "        ' neuter'\n",
    "\n",
    "        :param tag:\n",
    "        :param value:\n",
    "        :return:\n",
    "        \"\"\"\n",
    "        return value + \" \" + Gender.verbose[tag]\n",
    "\n",
    "    @staticmethod\n",
    "    def can_apply(tag):\n",
    "        return tag in Gender.verbose\n",
    "\n",
    "\n",
    "class Number(POSElement):\n",
    "    singular = \"e\"\n",
    "    plural = \"f\"\n",
    "\n",
    "    verbose = defaultdict(str)\n",
    "    verbose[singular] = \"singular\"\n",
    "    verbose[plural] = \"plural\"\n",
    "\n",
    "    @staticmethod\n",
    "    def parse(tag, value):\n",
    "        \"\"\"\n",
    "        >>> Number.parse(\"e\", \"\")\n",
    "        ' singular'\n",
    "        >>> Number.parse(\"f\", \"\")\n",
    "        ' plural'\n",
    "\n",
    "        :param tag:\n",
    "        :param value:\n",
    "        :return:\n",
    "        \"\"\"\n",
    "        return value + \" \" + Number.verbose[tag]\n",
    "\n",
    "    @staticmethod\n",
    "    def can_apply(tag):\n",
    "        return tag in Number.verbose\n",
    "\n",
    "\n",
    "class Case:\n",
    "    nominative = \"n\"\n",
    "    accusative = \"o\"\n",
    "    dative = \"þ\"\n",
    "    genitive = \"e\"\n",
    "\n",
    "    verbose = defaultdict(str)\n",
    "    verbose[nominative] = \"nominative\"\n",
    "    verbose[accusative] = \"accusative\"\n",
    "    verbose[dative] = \"dative\"\n",
    "    verbose[genitive] = \"genitive\"\n",
    "\n",
    "    @staticmethod\n",
    "    def parse(tag, value):\n",
    "        \"\"\"\n",
    "        >>> Case.parse(\"n\", \"\")\n",
    "        ' nominative'\n",
    "        >>> Case.parse(\"o\", \"\")\n",
    "        ' accusative'\n",
    "        >>> Case.parse(\"þ\", \"\")\n",
    "        ' dative'\n",
    "        >>> Case.parse(\"e\", \"\")\n",
    "        ' genitive'\n",
    "\n",
    "        :param tag:\n",
    "        :param value:\n",
    "        :return:\n",
    "        \"\"\"\n",
    "        return value + \" \" + Case.verbose[tag]\n",
    "\n",
    "    @staticmethod\n",
    "    def can_apply(tag):\n",
    "        return tag in Case.verbose\n",
    "\n",
    "\n",
    "class Declension:\n",
    "    strong = \"s\"\n",
    "    weak = \"v\"\n",
    "    indeclinable = \"o\"\n",
    "\n",
    "    verbose = defaultdict(str)\n",
    "    verbose[strong] = \"strong\"\n",
    "    verbose[weak] = \"weak\"\n",
    "    verbose[indeclinable] = \"indeclinable\"\n",
    "\n",
    "    @staticmethod\n",
    "    def parse(tag, value):\n",
    "        \"\"\"\n",
    "        >>> Declension.parse(\"s\", \"\")\n",
    "        ' strong'\n",
    "        >>> Declension.parse(\"v\", \"\")\n",
    "        ' weak'\n",
    "        >>> Declension.parse(\"o\", \"\")\n",
    "        ' indeclinable'\n",
    "\n",
    "        :param tag:\n",
    "        :param value:\n",
    "        :return:\n",
    "        \"\"\"\n",
    "        return value + \" \" + Declension.verbose[tag]\n",
    "\n",
    "    @staticmethod\n",
    "    def can_apply(tag):\n",
    "        return tag in Declension.verbose\n",
    "\n",
    "\n",
    "class Degree:\n",
    "    positive = \"f\"\n",
    "    comparative = \"m\"\n",
    "    superlative = \"e\"\n",
    "\n",
    "    verbose = defaultdict(str)\n",
    "    verbose[positive] = \"positive\"\n",
    "    verbose[comparative] = \"comparative\"\n",
    "    verbose[superlative] = \"superlative\"\n",
    "\n",
    "    @staticmethod\n",
    "    def parse(tag, value):\n",
    "        \"\"\"\n",
    "        >>> Degree.parse(\"f\", \"\")\n",
    "        ' positive'\n",
    "        >>> Degree.parse(\"m\", \"\")\n",
    "        ' comparative'\n",
    "        >>> Degree.parse(\"e\", \"\")\n",
    "        ' superlative'\n",
    "\n",
    "        :param tag:\n",
    "        :param value:\n",
    "        :return:\n",
    "        \"\"\"\n",
    "        return value + \" \" + Degree.verbose[tag]\n",
    "\n",
    "    @staticmethod\n",
    "    def can_apply(tag):\n",
    "        return tag in Degree.verbose\n",
    "\n",
    "\n",
    "class ProperNoun:\n",
    "    person = \"m\"\n",
    "    place = \"ö\"\n",
    "    other = \"s\"\n",
    "\n",
    "    verbose = defaultdict(str)\n",
    "    verbose[person] = \"person\"\n",
    "    verbose[place] = \"place\"\n",
    "    verbose[other] = \"other\"\n",
    "\n",
    "    @staticmethod\n",
    "    def parse(tag, value):\n",
    "        \"\"\"\n",
    "        >>> ProperNoun.parse(\"m\", \"\")\n",
    "        ' person'\n",
    "        >>> ProperNoun.parse(\"ö\", \"\")\n",
    "        \" place'\n",
    "        >>> ProperNoun.parse(\"s\", \"\")\n",
    "        ' other'\n",
    "\n",
    "        :param tag:\n",
    "        :param value:\n",
    "        :return:\n",
    "        \"\"\"\n",
    "        return value + \" \" + ProperNoun.verbose[tag]\n",
    "\n",
    "    @staticmethod\n",
    "    def can_apply(tag):\n",
    "        return tag in ProperNoun.verbose\n",
    "\n",
    "\n",
    "class Pronoun:\n",
    "    demonstrative = \"a\"\n",
    "    indefinite_demonstrative = \"b\"\n",
    "    possessive = \"e\"\n",
    "    indefinite = \"o\"\n",
    "    personal = \"p\"\n",
    "    interrogative = \"s\"\n",
    "    relative = \"t\"\n",
    "\n",
    "    verbose = defaultdict(str)\n",
    "    verbose[demonstrative] = \"demonstrative\"\n",
    "    verbose[indefinite_demonstrative] = \"indefinite demonstrative\"\n",
    "    verbose[possessive] = \"possessive\"\n",
    "    verbose[indefinite] = \"indefinite\"\n",
    "    verbose[personal] = \"personal\"\n",
    "    verbose[interrogative] = \"interrogative\"\n",
    "    verbose[relative] = \"relative\"\n",
    "\n",
    "    @staticmethod\n",
    "    def parse(tag, value):\n",
    "        \"\"\"\n",
    "        >>> Pronoun.parse(\"a\", \"\")\n",
    "        ' demonstrative'\n",
    "        >>> Pronoun.parse(\"b\", \"\")\n",
    "        ' indefinite demonstrative'\n",
    "        >>> Pronoun.parse(\"e\", \"\")\n",
    "        ' possessive'\n",
    "        >>> Pronoun.parse(\"o\", \"\")\n",
    "        ' indefinite'\n",
    "        >>> Pronoun.parse(\"p\", \"\")\n",
    "        ' personal'\n",
    "        >>> Pronoun.parse(\"s\", \"\")\n",
    "        ' interrogative'\n",
    "        >>> Pronoun.parse(\"t\", \"\")\n",
    "        ' relative'\n",
    "\n",
    "        :param tag:\n",
    "        :param value:\n",
    "        :return:\n",
    "        \"\"\"\n",
    "        return value + \" \" + Pronoun.verbose[tag]\n",
    "\n",
    "    @staticmethod\n",
    "    def can_apply(tag):\n",
    "        return tag in Pronoun.verbose\n",
    "\n",
    "\n",
    "class Person:\n",
    "    first = \"1\"\n",
    "    second = \"2\"\n",
    "    third = \"3\"\n",
    "\n",
    "    verbose = defaultdict(str)\n",
    "    verbose[first] = \"first\"\n",
    "    verbose[second] = \"second\"\n",
    "    verbose[third] = \"third\"\n",
    "\n",
    "    @staticmethod\n",
    "    def parse(tag, value):\n",
    "        \"\"\"\n",
    "        >>> Person.parse(\"1\", \"\")\n",
    "        ' first'\n",
    "        >>> Person.parse(\"2\", \"\")\n",
    "        ' second'\n",
    "        >>> Person.parse(\"3\", \"\")\n",
    "        ' third'\n",
    "\n",
    "        :param tag:\n",
    "        :param value:\n",
    "        :return:\n",
    "        \"\"\"\n",
    "        return value + \" \" + Person.verbose[tag]\n",
    "\n",
    "    @staticmethod\n",
    "    def can_apply(tag):\n",
    "        return tag in Person.verbose\n",
    "\n",
    "\n",
    "class NumberCategory:\n",
    "    cardinal = \"f\"\n",
    "    ordinal = \"o\"\n",
    "\n",
    "    verbose = defaultdict(str)\n",
    "    verbose[cardinal] = \"cardinal\"\n",
    "    verbose[ordinal] = \"ordinal\"\n",
    "\n",
    "    @staticmethod\n",
    "    def parse(tag, value):\n",
    "        \"\"\"\n",
    "        >>> NumberCategory.parse(\"f\", \"\")\n",
    "        ' cardinal'\n",
    "        >>> NumberCategory.parse(\"o\", \"\")\n",
    "        ' ordinal'\n",
    "\n",
    "        :param tag:\n",
    "        :param value:\n",
    "        :return:\n",
    "        \"\"\"\n",
    "        return value + \" \" + NumberCategory.verbose[tag]\n",
    "\n",
    "    @staticmethod\n",
    "    def can_apply(tag):\n",
    "        return tag in NumberCategory.verbose\n",
    "\n",
    "\n",
    "class Mood:\n",
    "    infinitive = \"n\"\n",
    "    imperative = \"b\"\n",
    "    indicative = \"f\"\n",
    "    subjunctive = \"v\"\n",
    "    supine = \"s\"\n",
    "    present_participle = \"l\"\n",
    "    past_participle = \"þ\"\n",
    "\n",
    "    verbose = defaultdict(str)\n",
    "    verbose[infinitive] = \"infinitive\"\n",
    "    verbose[imperative] = \"imperative\"\n",
    "    verbose[indicative] = \"indicative\"\n",
    "    verbose[subjunctive] = \"subjunctive\"\n",
    "    verbose[supine] = \"supine\"\n",
    "    verbose[present_participle] = \"present participle\"\n",
    "    verbose[past_participle] = \"past participle\"\n",
    "\n",
    "    @staticmethod\n",
    "    def parse(tag, value):\n",
    "        \"\"\"\n",
    "        >>> Mood.parse(\"n\", \"\")\n",
    "        ' infinitive'\n",
    "        >>> Mood.parse(\"b\", \"\")\n",
    "        ' imperative'\n",
    "        >>> Mood.parse(\"f\", \"\")\n",
    "        ' indicative'\n",
    "        >>> Mood.parse(\"v\", \"\")\n",
    "        ' subjunctive'\n",
    "        >>> Mood.parse(\"s\", \"\")\n",
    "        ' supine'\n",
    "        >>> Mood.parse(\"l\", \"\")\n",
    "        ' present participle'\n",
    "        >>> Mood.parse(\"þ\", \"\")\n",
    "        ' past participle'\n",
    "\n",
    "        :param tag:\n",
    "        :param value:\n",
    "        :return:\n",
    "        \"\"\"\n",
    "        return value + \" \" + Mood.verbose[tag]\n",
    "\n",
    "    @staticmethod\n",
    "    def can_apply(tag):\n",
    "        return tag in Mood.verbose\n",
    "\n",
    "\n",
    "class Voice:\n",
    "    active = \"g\"\n",
    "    middle = \"m\"\n",
    "\n",
    "    verbose = defaultdict(str)\n",
    "    verbose[active] = \"active\"\n",
    "    verbose[middle] = \"middle\"\n",
    "\n",
    "    @staticmethod\n",
    "    def parse(tag, value):\n",
    "        \"\"\"\n",
    "        >>> Voice.parse(\"g\", \"\")\n",
    "        ' active'\n",
    "        >>> Voice.parse(\"m\", \"\")\n",
    "        ' middle'\n",
    "\n",
    "        :param tag:\n",
    "        :param value:\n",
    "        :return:\n",
    "        \"\"\"\n",
    "        return value + \" \" + Voice.verbose[tag]\n",
    "\n",
    "    @staticmethod\n",
    "    def can_apply(tag):\n",
    "        return tag in Voice.verbose\n",
    "\n",
    "\n",
    "class Tense:\n",
    "    present = \"n\"\n",
    "    past = \"þ\"\n",
    "\n",
    "    verbose = defaultdict(str)\n",
    "    verbose[present] = \"present\"\n",
    "    verbose[past] = \"past\"\n",
    "\n",
    "    @staticmethod\n",
    "    def parse(tag, value):\n",
    "        \"\"\"\n",
    "        >>> Tense.parse(\"n\", \"\")\n",
    "        'present\"\n",
    "        >>> Tense.parse(\"þ\", \"\")\n",
    "        'past'\n",
    "\n",
    "        :param tag:\n",
    "        :param value:\n",
    "        :return:\n",
    "        \"\"\"\n",
    "        return value + \" \" + Tense.verbose[tag]\n",
    "\n",
    "    @staticmethod\n",
    "    def can_apply(tag):\n",
    "        return tag in Tense.verbose\n",
    "\n",
    "\n",
    "class MainPOS:\n",
    "    noun = \"n\"\n",
    "    adjective = \"l\"\n",
    "    pronoun = \"f\"\n",
    "    article = \"g\"\n",
    "    numeral = \"t\"\n",
    "    verb = \"s\"\n",
    "    adverb = \"a\"\n",
    "    conjunction = \"c\"\n",
    "    foreign = \"e\"\n",
    "    unanalysed = \"x\"\n",
    "    punctuation = \"p\"\n",
    "\n",
    "    verbose = defaultdict(str)\n",
    "    verbose[noun] = \"noun\"\n",
    "    verbose[adjective] = \"adjective\"\n",
    "    verbose[pronoun] = \"pronoun\"\n",
    "    verbose[article] = \"article\"\n",
    "    verbose[numeral] = \"numeral\"\n",
    "    verbose[verb] = \"verb\"\n",
    "    verbose[adverb] = \"adverb\"\n",
    "    verbose[conjunction] = \"conjunction\"\n",
    "    verbose[unanalysed] = \"unanalysed\"\n",
    "    verbose[punctuation] = \"punctuation\"\n",
    "\n",
    "    @staticmethod\n",
    "    def apply(tag: str, l_pos: list, value: str):\n",
    "        i = 1\n",
    "        for pos in l_pos:\n",
    "            if isinstance(pos, list):\n",
    "                for j in pos:\n",
    "                    if j.can_apply(tag[i]):\n",
    "                        value = j.parse(tag[i], value)\n",
    "            else:\n",
    "                value = pos.parse(tag[i], value)\n",
    "            i += 1\n",
    "        return value\n",
    "\n",
    "    @staticmethod\n",
    "    def parse(tag):\n",
    "        \"\"\"\n",
    "        >>> MainPOS.parse('fakeþ')\n",
    "        'pronoun demonstrative masculine singular dative'\n",
    "        >>> MainPOS.parse('sfg3eþ')\n",
    "        'verb indicative active third singular past'\n",
    "        >>> MainPOS.parse('lvensf')\n",
    "        'adjective feminine singular nominative strong positive'\n",
    "        >>> MainPOS.parse('fp1en')\n",
    "        'pronoun personal first singular nominative'\n",
    "        >>> MainPOS.parse('nkee')\n",
    "        'noun masculine singular genitive'\n",
    "        >>> MainPOS.parse('sþgken')\n",
    "        'verb past participle active masculine singular nominative'\n",
    "        >>> MainPOS.parse('nhfn')\n",
    "        'noun neuter plural nominative'\n",
    "        >>> MainPOS.parse('nveo')\n",
    "        'noun feminine singular accusative'\n",
    "\n",
    "        :param tag:\n",
    "        :return:\n",
    "        \"\"\"\n",
    "\n",
    "        value = \"\"\n",
    "        if tag[0] == MainPOS.noun:\n",
    "            if len(tag) >= 4:\n",
    "                value = MainPOS.verbose[tag[0]]\n",
    "                value = MainPOS.apply(tag, [Gender, Number, Case], value)\n",
    "                if len(tag) == 5:\n",
    "                    value = ProperNoun.parse(tag[4], value)\n",
    "            return value\n",
    "\n",
    "        elif tag[0] == MainPOS.adjective:\n",
    "            if len(tag) == 6:\n",
    "                value = MainPOS.verbose[tag[0]]\n",
    "                value = MainPOS.apply(tag, [Gender, Number, Case, Declension, Degree], value)\n",
    "            return value\n",
    "\n",
    "        elif tag[0] == MainPOS.pronoun:\n",
    "            if len(tag) == 5:\n",
    "                value = MainPOS.verbose[tag[0]]\n",
    "                value = MainPOS.apply(tag, [Pronoun, [Person, Gender], Number, Case], value)\n",
    "            return value\n",
    "\n",
    "        elif tag[0] == MainPOS.article:\n",
    "            if len(tag) == 4:\n",
    "                value = MainPOS.verbose[tag[0]]\n",
    "                value = MainPOS.apply(tag, [Gender, Number, Case], value)\n",
    "            return value\n",
    "\n",
    "        elif tag[0] == MainPOS.numeral:\n",
    "            if len(tag) == 5:\n",
    "                value = MainPOS.verbose[tag[0]]\n",
    "                value = MainPOS.apply(tag, [NumberCategory, Gender, Number, Case], value)\n",
    "\n",
    "        elif tag[0] == MainPOS.verb:\n",
    "            if len(tag) == 3 and tag[1] == \"n\":\n",
    "                value = MainPOS.verbose[tag[0]]\n",
    "                value = MainPOS.apply(tag, [Mood, Voice], value)\n",
    "                value = Mood.parse(tag[1], value)\n",
    "                value = Voice.parse(tag[2], value)\n",
    "\n",
    "            elif len(tag) == 6 and tag[1] == \"þ\":\n",
    "                value = MainPOS.verbose[tag[0]]\n",
    "                value = MainPOS.apply(tag, [Mood, Voice, Gender, Number, Case], value)\n",
    "\n",
    "            elif len(tag) == 6:\n",
    "                value = MainPOS.verbose[tag[0]]\n",
    "                value = MainPOS.apply(tag, [Mood, Voice, Person, Number, Tense], value)\n",
    "            return value\n",
    "\n",
    "        elif tag[0] == MainPOS.adverb:\n",
    "            if len(tag) == 2:\n",
    "                value = MainPOS.verbose[tag[0]]\n",
    "                if tag[1] == \"a\":\n",
    "                    value += \" no case \"\n",
    "                elif tag[1] == \"u\":\n",
    "                    value += \" exclamation\"\n",
    "                elif tag[1] == \"o\":\n",
    "                    value += \" accusative\"\n",
    "                elif tag[1] == \"þ\":\n",
    "                    value += \" dative\"\n",
    "                elif tag[1] == \"e\":\n",
    "                    value += \" genitive\"\n",
    "            return value\n",
    "\n",
    "        elif tag[0] == MainPOS.conjunction:\n",
    "            if len(tag) == 2:\n",
    "                value = MainPOS.verbose[tag[0]]\n",
    "                if tag[1] == \"n\":\n",
    "                    value += \"\"\n",
    "                elif tag[1] == \"t\":\n",
    "                    value += \"\"\n",
    "                return value\n",
    "\n",
    "        elif tag[0] == MainPOS.foreign:\n",
    "            value = MainPOS.verbose[tag[0]]\n",
    "            return value\n",
    "\n",
    "        elif tag[0] == MainPOS.unanalysed:\n",
    "            value = MainPOS.verbose[tag[0]]\n",
    "            return value\n",
    "\n",
    "        elif tag[0] == MainPOS.punctuation:\n",
    "            value = MainPOS.verbose[tag[0]]\n",
    "            return value\n",
    "\n",
    "        return value\n",
    "\n",
    "\n",
    "def parse(tag):\n",
    "    if len(tag) > 0:\n",
    "        value = MainPOS.parse(tag.lower())\n",
    "    else:\n",
    "        value = \"\"\n",
    "    return value"
   ]
  },
  {
   "cell_type": "code",
   "execution_count": null,
   "metadata": {
    "collapsed": true
   },
   "outputs": [],
   "source": []
  },
  {
   "cell_type": "code",
   "execution_count": 2,
   "metadata": {
    "collapsed": false
   },
   "outputs": [],
   "source": [
    "import eddas"
   ]
  },
  {
   "cell_type": "code",
   "execution_count": 3,
   "metadata": {
    "collapsed": false
   },
   "outputs": [
    {
     "name": "stdout",
     "output_type": "stream",
     "text": [
      "Help on package eddas:\n",
      "\n",
      "NAME\n",
      "    eddas\n",
      "\n",
      "PACKAGE CONTENTS\n",
      "    pos\n",
      "    reader\n",
      "    tests\n",
      "    text_manager\n",
      "    utils\n",
      "\n",
      "FILE\n",
      "    /home/clementbesnier/languages/lib/python3.6/site-packages/eddas-1.3.2-py3.6.egg/eddas/__init__.py\n",
      "\n",
      "\n"
     ]
    }
   ],
   "source": [
    "help(eddas)"
   ]
  },
  {
   "cell_type": "code",
   "execution_count": 4,
   "metadata": {
    "collapsed": false
   },
   "outputs": [],
   "source": [
    "from eddas import reader"
   ]
  },
  {
   "cell_type": "code",
   "execution_count": 5,
   "metadata": {
    "collapsed": false
   },
   "outputs": [],
   "source": [
    "voeluspaa_pos = reader.PoeticEddaPOSTaggedReader(\"Völuspá\")"
   ]
  },
  {
   "cell_type": "code",
   "execution_count": 6,
   "metadata": {
    "collapsed": false
   },
   "outputs": [
    {
     "data": {
      "text/plain": [
       "[[('1', 'TA')],\n",
       " [('Hljóðs', 'NHEE'), ('bið', 'SFG1EÞ'), ('ek', 'FP1EN'), ('allar', 'LVFOSF')],\n",
       " [('helgar', 'LVFOSF'), ('kindir', 'NVFO'), (',', 'P')],\n",
       " [('meiri', 'LVFOVM'), ('ok', 'CC'), ('minni', 'LVFOVM')],\n",
       " [('mögu', 'NKFO'), ('Heimdallar', 'NKEEM'), (';', 'P')],\n",
       " [('viltu', ''),\n",
       "  ('at', 'CN'),\n",
       "  ('ek', 'FP1EM'),\n",
       "  (',', 'P'),\n",
       "  ('Valföðr', 'NKENM'),\n",
       "  (',', 'P')],\n",
       " [('vel', 'AA'), ('fyr', 'CN'), ('telja', 'SG')],\n",
       " [('forn', 'LHFOSF'), ('spjöll', 'NHFO'), ('fira', 'NKFE'), (',', 'P')],\n",
       " [('þau', 'FA'),\n",
       "  ('er', 'CT'),\n",
       "  ('fremst', 'AAE'),\n",
       "  ('of', '?'),\n",
       "  ('man', 'SFG1EN'),\n",
       "  ('.', 'P')]]"
      ]
     },
     "execution_count": 6,
     "metadata": {},
     "output_type": "execute_result"
    }
   ],
   "source": [
    "voeluspaa_pos.tagged_paras()[0]"
   ]
  },
  {
   "cell_type": "code",
   "execution_count": null,
   "metadata": {
    "collapsed": true
   },
   "outputs": [],
   "source": []
  },
  {
   "cell_type": "code",
   "execution_count": 7,
   "metadata": {
    "collapsed": false
   },
   "outputs": [
    {
     "data": {
      "text/plain": [
       "'verb indicative active third singular present'"
      ]
     },
     "execution_count": 7,
     "metadata": {},
     "output_type": "execute_result"
    }
   ],
   "source": [
    "parse(\"sfg3en\")"
   ]
  },
  {
   "cell_type": "code",
   "execution_count": 8,
   "metadata": {
    "collapsed": false
   },
   "outputs": [
    {
     "name": "stdout",
     "output_type": "stream",
     "text": [
      "('1', 'ta') \n",
      "('Hljóðs', 'nhee') noun neuter singular genitive\n",
      "('bið', 'sfg1eþ') verb indicative active first singular past\n",
      "('ek', 'fp1en') pronoun personal first singular nominative\n",
      "('allar', 'lvfosf') adjective feminine plural accusative strong positive\n",
      "('helgar', 'lvfosf') adjective feminine plural accusative strong positive\n",
      "('kindir', 'nvfo') noun feminine plural accusative\n",
      "(',', 'p') punctuation\n",
      "('meiri', 'lvfovm') adjective feminine plural accusative weak comparative\n",
      "('ok', 'cc') conjunction\n",
      "('minni', 'lvfovm') adjective feminine plural accusative weak comparative\n",
      "('mögu', 'nkfo') noun masculine plural accusative\n",
      "('Heimdallar', 'nkeem') noun masculine singular genitive person\n",
      "(';', 'p') punctuation\n",
      "('viltu', '') \n",
      "('at', 'cn') conjunction\n",
      "('ek', 'fp1em') pronoun personal first singular \n",
      "(',', 'p') punctuation\n",
      "('Valföðr', 'nkenm') noun masculine singular nominative person\n",
      "(',', 'p') punctuation\n",
      "('vel', 'aa') adverb no case \n",
      "('fyr', 'cn') conjunction\n",
      "('telja', 'sg') \n",
      "('forn', 'lhfosf') adjective neuter plural accusative strong positive\n",
      "('spjöll', 'nhfo') noun neuter plural accusative\n",
      "('fira', 'nkfe') noun masculine plural genitive\n",
      "(',', 'p') punctuation\n",
      "('þau', 'fa') \n",
      "('er', 'ct') conjunction\n",
      "('fremst', 'aae') \n",
      "('of', '?') \n",
      "('man', 'sfg1en') verb indicative active first singular present\n",
      "('.', 'p') punctuation\n"
     ]
    }
   ],
   "source": [
    "for sent in voeluspaa_pos.tagged_paras()[0]:\n",
    "    for word, tag in sent:\n",
    "        print((word, tag.lower()), parse(tag))"
   ]
  },
  {
   "cell_type": "code",
   "execution_count": 9,
   "metadata": {
    "collapsed": false
   },
   "outputs": [],
   "source": [
    "voeluspaa_lem = reader.PoeticEddaLemmatizationReader(\"Völuspá\")\n",
    "tokens = voeluspaa_lem.words()\n",
    "lemmata = set([lemma for word, lemma in voeluspaa_lem.tagged_words()])\n",
    "normalized_tokens = [token.lower() for token in tokens]"
   ]
  },
  {
   "cell_type": "code",
   "execution_count": 10,
   "metadata": {
    "collapsed": false
   },
   "outputs": [],
   "source": [
    "from collections import defaultdict\n",
    "# For a lemma, give all its inflected forms present in the Völuspá\n",
    "lemmata_tokens = defaultdict(set)\n",
    "for word, lemma in voeluspaa_lem.tagged_words():\n",
    "    if word is not None and lemma is not None:\n",
    "        for token in normalized_tokens:\n",
    "            if token == word.lower() and lemma != \"\":\n",
    "                lemmata_tokens[lemma.lower()].add(token)"
   ]
  },
  {
   "cell_type": "code",
   "execution_count": 11,
   "metadata": {
    "collapsed": false
   },
   "outputs": [],
   "source": [
    "# For a token, give all its POS tags present in the Völuspá\n",
    "taupi = defaultdict(set)\n",
    "for word, pos_tag in voeluspaa_pos.tagged_words():\n",
    "    if word is not None and pos_tag is not None:\n",
    "        taupi[word.lower()].add(pos_tag.lower())"
   ]
  },
  {
   "cell_type": "code",
   "execution_count": 12,
   "metadata": {
    "collapsed": false
   },
   "outputs": [],
   "source": [
    "# For a lemma, all its possible tags present in the Völuspá\n",
    "lambdapi = defaultdict(set)\n",
    "for lemma in lemmata:\n",
    "    if lemma is not None:\n",
    "        for token in lemmata_tokens[lemma.lower()]:\n",
    "            if token is not None:\n",
    "                for pos_tag in taupi[token]:\n",
    "                    lambdapi[lemma.lower()].add(pos_tag)\n"
   ]
  },
  {
   "cell_type": "code",
   "execution_count": 13,
   "metadata": {
    "collapsed": false
   },
   "outputs": [],
   "source": [
    "# link lemmata_tokens, taupi and lambdapi to Zoëga's dictionary"
   ]
  },
  {
   "cell_type": "markdown",
   "metadata": {},
   "source": [
    "### Training the tagger"
   ]
  },
  {
   "cell_type": "code",
   "execution_count": null,
   "metadata": {
    "collapsed": true
   },
   "outputs": [],
   "source": []
  },
  {
   "cell_type": "code",
   "execution_count": null,
   "metadata": {
    "collapsed": true
   },
   "outputs": [],
   "source": []
  },
  {
   "cell_type": "markdown",
   "metadata": {},
   "source": [
    "## Tagging the Old Norse texts"
   ]
  },
  {
   "cell_type": "code",
   "execution_count": null,
   "metadata": {
    "collapsed": true
   },
   "outputs": [],
   "source": []
  },
  {
   "cell_type": "code",
   "execution_count": null,
   "metadata": {
    "collapsed": true
   },
   "outputs": [],
   "source": []
  },
  {
   "cell_type": "markdown",
   "metadata": {},
   "source": [
    "### Old Norse vs. Modern Icelandic"
   ]
  },
  {
   "cell_type": "code",
   "execution_count": null,
   "metadata": {
    "collapsed": true
   },
   "outputs": [],
   "source": []
  },
  {
   "cell_type": "markdown",
   "metadata": {},
   "source": [
    "### The Old Norse Corpus"
   ]
  },
  {
   "cell_type": "code",
   "execution_count": null,
   "metadata": {
    "collapsed": true
   },
   "outputs": [],
   "source": []
  },
  {
   "cell_type": "code",
   "execution_count": null,
   "metadata": {
    "collapsed": true
   },
   "outputs": [],
   "source": []
  },
  {
   "cell_type": "markdown",
   "metadata": {},
   "source": [
    "### Training the tagger on the Old Norse corpus"
   ]
  },
  {
   "cell_type": "code",
   "execution_count": null,
   "metadata": {
    "collapsed": true
   },
   "outputs": [],
   "source": []
  },
  {
   "cell_type": "code",
   "execution_count": null,
   "metadata": {
    "collapsed": true
   },
   "outputs": [],
   "source": []
  },
  {
   "cell_type": "markdown",
   "metadata": {},
   "source": [
    "## Tagged texts in syntactic research"
   ]
  },
  {
   "cell_type": "code",
   "execution_count": null,
   "metadata": {
    "collapsed": true
   },
   "outputs": [],
   "source": []
  },
  {
   "cell_type": "markdown",
   "metadata": {},
   "source": [
    "### Object Shift"
   ]
  },
  {
   "cell_type": "code",
   "execution_count": null,
   "metadata": {
    "collapsed": true
   },
   "outputs": [],
   "source": []
  },
  {
   "cell_type": "markdown",
   "metadata": {},
   "source": [
    "### Passive"
   ]
  },
  {
   "cell_type": "code",
   "execution_count": null,
   "metadata": {
    "collapsed": true
   },
   "outputs": [],
   "source": []
  }
 ],
 "metadata": {
  "kernelspec": {
   "display_name": "languages",
   "language": "python",
   "name": "languages"
  },
  "language_info": {
   "codemirror_mode": {
    "name": "ipython",
    "version": 3
   },
   "file_extension": ".py",
   "mimetype": "text/x-python",
   "name": "python",
   "nbconvert_exporter": "python",
   "pygments_lexer": "ipython3",
   "version": "3.6.0"
  }
 },
 "nbformat": 4,
 "nbformat_minor": 0
}
