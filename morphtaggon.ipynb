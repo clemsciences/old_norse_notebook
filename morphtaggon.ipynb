{
 "cells": [
  {
   "cell_type": "markdown",
   "metadata": {},
   "source": [
    "# Reread a paper on Old Norse processing\n",
    "\n",
    "\n",
    "[Morphological Tagging of Old Norse Texts and its Use in Studying Syntactic Variation and Change](http://citeseerx.ist.psu.edu/viewdoc/download;jsessionid=A2101BF4CF1D6C1D8C3526E8BA72ECAF?doi=10.1.1.710.7231&rep=rep1&type=pdf)\n"
   ]
  },
  {
   "cell_type": "code",
   "execution_count": null,
   "metadata": {
    "collapsed": true
   },
   "outputs": [],
   "source": []
  },
  {
   "cell_type": "code",
   "execution_count": null,
   "metadata": {
    "collapsed": true
   },
   "outputs": [],
   "source": []
  },
  {
   "cell_type": "code",
   "execution_count": null,
   "metadata": {
    "collapsed": true
   },
   "outputs": [],
   "source": []
  },
  {
   "cell_type": "markdown",
   "metadata": {},
   "source": [
    "## Tagging Modern Icelandic "
   ]
  },
  {
   "cell_type": "markdown",
   "metadata": {},
   "source": [
    "### The Tagset"
   ]
  },
  {
   "cell_type": "markdown",
   "metadata": {
    "collapsed": true
   },
   "source": [
    "* [Using available resources](http://www.malfong.is/index.php?lang=en&pg=ordtidnibok)\n",
    "\n",
    "* [Icelandic Frequency Corpus tagset](http://www.malfong.is/files/ot_tagset_files_en.pdf)"
   ]
  },
  {
   "cell_type": "markdown",
   "metadata": {},
   "source": [
    "#### Parsing a tag"
   ]
  },
  {
   "cell_type": "code",
   "execution_count": null,
   "metadata": {
    "collapsed": true
   },
   "outputs": [],
   "source": []
  },
  {
   "cell_type": "code",
   "execution_count": 1,
   "metadata": {
    "collapsed": true
   },
   "outputs": [],
   "source": [
    "from collections import defaultdict\n",
    "\n",
    "\n",
    "class POSElement:\n",
    "\n",
    "    @staticmethod\n",
    "    def parse(tag, value):\n",
    "        return value"
   ]
  },
  {
   "cell_type": "code",
   "execution_count": 2,
   "metadata": {
    "collapsed": true
   },
   "outputs": [],
   "source": [
    "class Gender(POSElement):\n",
    "    masculine = \"k\"\n",
    "    feminine = \"v\"\n",
    "    neuter = \"h\"\n",
    "\n",
    "    verbose = defaultdict(str)\n",
    "    verbose[masculine] = \"masculine\"\n",
    "    verbose[feminine] = \"feminine\"\n",
    "    verbose[neuter] = \"neuter\"\n",
    "\n",
    "    @staticmethod\n",
    "    def parse(tag, value):\n",
    "        \"\"\"\n",
    "        >>> Gender.parse(\"k\", \"\")\n",
    "        ' masculine'\n",
    "        >>> Gender.parse(\"v\", \"\")\n",
    "        ' feminine'\n",
    "        >>> Gender.parse(\"h\", \"\")\n",
    "        ' neuter'\n",
    "\n",
    "        :param tag:\n",
    "        :param value:\n",
    "        :return:\n",
    "        \"\"\"\n",
    "        return value + \" \" + Gender.verbose[tag]\n",
    "\n",
    "    @staticmethod\n",
    "    def can_apply(tag):\n",
    "        return tag in Gender.verbose"
   ]
  },
  {
   "cell_type": "code",
   "execution_count": 3,
   "metadata": {
    "collapsed": true
   },
   "outputs": [],
   "source": [
    "class Number(POSElement):\n",
    "    singular = \"e\"\n",
    "    plural = \"f\"\n",
    "\n",
    "    verbose = defaultdict(str)\n",
    "    verbose[singular] = \"singular\"\n",
    "    verbose[plural] = \"plural\"\n",
    "\n",
    "    @staticmethod\n",
    "    def parse(tag, value):\n",
    "        \"\"\"\n",
    "        >>> Number.parse(\"e\", \"\")\n",
    "        ' singular'\n",
    "        >>> Number.parse(\"f\", \"\")\n",
    "        ' plural'\n",
    "\n",
    "        :param tag:\n",
    "        :param value:\n",
    "        :return:\n",
    "        \"\"\"\n",
    "        return value + \" \" + Number.verbose[tag]\n",
    "\n",
    "    @staticmethod\n",
    "    def can_apply(tag):\n",
    "        return tag in Number.verbose"
   ]
  },
  {
   "cell_type": "code",
   "execution_count": 4,
   "metadata": {
    "collapsed": true
   },
   "outputs": [],
   "source": [
    "class Case:\n",
    "    nominative = \"n\"\n",
    "    accusative = \"o\"\n",
    "    dative = \"þ\"\n",
    "    genitive = \"e\"\n",
    "\n",
    "    verbose = defaultdict(str)\n",
    "    verbose[nominative] = \"nominative\"\n",
    "    verbose[accusative] = \"accusative\"\n",
    "    verbose[dative] = \"dative\"\n",
    "    verbose[genitive] = \"genitive\"\n",
    "\n",
    "    @staticmethod\n",
    "    def parse(tag, value):\n",
    "        \"\"\"\n",
    "        >>> Case.parse(\"n\", \"\")\n",
    "        ' nominative'\n",
    "        >>> Case.parse(\"o\", \"\")\n",
    "        ' accusative'\n",
    "        >>> Case.parse(\"þ\", \"\")\n",
    "        ' dative'\n",
    "        >>> Case.parse(\"e\", \"\")\n",
    "        ' genitive'\n",
    "\n",
    "        :param tag:\n",
    "        :param value:\n",
    "        :return:\n",
    "        \"\"\"\n",
    "        return value + \" \" + Case.verbose[tag]\n",
    "\n",
    "    @staticmethod\n",
    "    def can_apply(tag):\n",
    "        return tag in Case.verbose"
   ]
  },
  {
   "cell_type": "code",
   "execution_count": 5,
   "metadata": {
    "collapsed": true
   },
   "outputs": [],
   "source": [
    "class Declension:\n",
    "    strong = \"s\"\n",
    "    weak = \"v\"\n",
    "    indeclinable = \"o\"\n",
    "\n",
    "    verbose = defaultdict(str)\n",
    "    verbose[strong] = \"strong\"\n",
    "    verbose[weak] = \"weak\"\n",
    "    verbose[indeclinable] = \"indeclinable\"\n",
    "\n",
    "    @staticmethod\n",
    "    def parse(tag, value):\n",
    "        \"\"\"\n",
    "        >>> Declension.parse(\"s\", \"\")\n",
    "        ' strong'\n",
    "        >>> Declension.parse(\"v\", \"\")\n",
    "        ' weak'\n",
    "        >>> Declension.parse(\"o\", \"\")\n",
    "        ' indeclinable'\n",
    "\n",
    "        :param tag:\n",
    "        :param value:\n",
    "        :return:\n",
    "        \"\"\"\n",
    "        return value + \" \" + Declension.verbose[tag]\n",
    "\n",
    "    @staticmethod\n",
    "    def can_apply(tag):\n",
    "        return tag in Declension.verbose"
   ]
  },
  {
   "cell_type": "code",
   "execution_count": 6,
   "metadata": {
    "collapsed": true
   },
   "outputs": [],
   "source": [
    "class Degree:\n",
    "    positive = \"f\"\n",
    "    comparative = \"m\"\n",
    "    superlative = \"e\"\n",
    "\n",
    "    verbose = defaultdict(str)\n",
    "    verbose[positive] = \"positive\"\n",
    "    verbose[comparative] = \"comparative\"\n",
    "    verbose[superlative] = \"superlative\"\n",
    "\n",
    "    @staticmethod\n",
    "    def parse(tag, value):\n",
    "        \"\"\"\n",
    "        >>> Degree.parse(\"f\", \"\")\n",
    "        ' positive'\n",
    "        >>> Degree.parse(\"m\", \"\")\n",
    "        ' comparative'\n",
    "        >>> Degree.parse(\"e\", \"\")\n",
    "        ' superlative'\n",
    "\n",
    "        :param tag:\n",
    "        :param value:\n",
    "        :return:\n",
    "        \"\"\"\n",
    "        return value + \" \" + Degree.verbose[tag]\n",
    "\n",
    "    @staticmethod\n",
    "    def can_apply(tag):\n",
    "        return tag in Degree.verbose"
   ]
  },
  {
   "cell_type": "code",
   "execution_count": 7,
   "metadata": {
    "collapsed": true
   },
   "outputs": [],
   "source": [
    "class ProperNoun:\n",
    "    person = \"m\"\n",
    "    place = \"ö\"\n",
    "    other = \"s\"\n",
    "\n",
    "    verbose = defaultdict(str)\n",
    "    verbose[person] = \"person\"\n",
    "    verbose[place] = \"place\"\n",
    "    verbose[other] = \"other\"\n",
    "\n",
    "    @staticmethod\n",
    "    def parse(tag, value):\n",
    "        \"\"\"\n",
    "        >>> ProperNoun.parse(\"m\", \"\")\n",
    "        ' person'\n",
    "        >>> ProperNoun.parse(\"ö\", \"\")\n",
    "        \" place'\n",
    "        >>> ProperNoun.parse(\"s\", \"\")\n",
    "        ' other'\n",
    "\n",
    "        :param tag:\n",
    "        :param value:\n",
    "        :return:\n",
    "        \"\"\"\n",
    "        return value + \" \" + ProperNoun.verbose[tag]\n",
    "\n",
    "    @staticmethod\n",
    "    def can_apply(tag):\n",
    "        return tag in ProperNoun.verbose"
   ]
  },
  {
   "cell_type": "code",
   "execution_count": 8,
   "metadata": {
    "collapsed": true
   },
   "outputs": [],
   "source": [
    "class Pronoun:\n",
    "    demonstrative = \"a\"\n",
    "    indefinite_demonstrative = \"b\"\n",
    "    possessive = \"e\"\n",
    "    indefinite = \"o\"\n",
    "    personal = \"p\"\n",
    "    interrogative = \"s\"\n",
    "    relative = \"t\"\n",
    "\n",
    "    verbose = defaultdict(str)\n",
    "    verbose[demonstrative] = \"demonstrative\"\n",
    "    verbose[indefinite_demonstrative] = \"indefinite demonstrative\"\n",
    "    verbose[possessive] = \"possessive\"\n",
    "    verbose[indefinite] = \"indefinite\"\n",
    "    verbose[personal] = \"personal\"\n",
    "    verbose[interrogative] = \"interrogative\"\n",
    "    verbose[relative] = \"relative\"\n",
    "\n",
    "    @staticmethod\n",
    "    def parse(tag, value):\n",
    "        \"\"\"\n",
    "        >>> Pronoun.parse(\"a\", \"\")\n",
    "        ' demonstrative'\n",
    "        >>> Pronoun.parse(\"b\", \"\")\n",
    "        ' indefinite demonstrative'\n",
    "        >>> Pronoun.parse(\"e\", \"\")\n",
    "        ' possessive'\n",
    "        >>> Pronoun.parse(\"o\", \"\")\n",
    "        ' indefinite'\n",
    "        >>> Pronoun.parse(\"p\", \"\")\n",
    "        ' personal'\n",
    "        >>> Pronoun.parse(\"s\", \"\")\n",
    "        ' interrogative'\n",
    "        >>> Pronoun.parse(\"t\", \"\")\n",
    "        ' relative'\n",
    "\n",
    "        :param tag:\n",
    "        :param value:\n",
    "        :return:\n",
    "        \"\"\"\n",
    "        return value + \" \" + Pronoun.verbose[tag]\n",
    "\n",
    "    @staticmethod\n",
    "    def can_apply(tag):\n",
    "        return tag in Pronoun.verbose"
   ]
  },
  {
   "cell_type": "code",
   "execution_count": 9,
   "metadata": {
    "collapsed": true
   },
   "outputs": [],
   "source": [
    "class Person:\n",
    "    first = \"1\"\n",
    "    second = \"2\"\n",
    "    third = \"3\"\n",
    "\n",
    "    verbose = defaultdict(str)\n",
    "    verbose[first] = \"first\"\n",
    "    verbose[second] = \"second\"\n",
    "    verbose[third] = \"third\"\n",
    "\n",
    "    @staticmethod\n",
    "    def parse(tag, value):\n",
    "        \"\"\"\n",
    "        >>> Person.parse(\"1\", \"\")\n",
    "        ' first'\n",
    "        >>> Person.parse(\"2\", \"\")\n",
    "        ' second'\n",
    "        >>> Person.parse(\"3\", \"\")\n",
    "        ' third'\n",
    "\n",
    "        :param tag:\n",
    "        :param value:\n",
    "        :return:\n",
    "        \"\"\"\n",
    "        return value + \" \" + Person.verbose[tag]\n",
    "\n",
    "    @staticmethod\n",
    "    def can_apply(tag):\n",
    "        return tag in Person.verbose"
   ]
  },
  {
   "cell_type": "code",
   "execution_count": 10,
   "metadata": {
    "collapsed": true
   },
   "outputs": [],
   "source": [
    "class NumberCategory:\n",
    "    cardinal = \"f\"\n",
    "    ordinal = \"o\"\n",
    "\n",
    "    verbose = defaultdict(str)\n",
    "    verbose[cardinal] = \"cardinal\"\n",
    "    verbose[ordinal] = \"ordinal\"\n",
    "\n",
    "    @staticmethod\n",
    "    def parse(tag, value):\n",
    "        \"\"\"\n",
    "        >>> NumberCategory.parse(\"f\", \"\")\n",
    "        ' cardinal'\n",
    "        >>> NumberCategory.parse(\"o\", \"\")\n",
    "        ' ordinal'\n",
    "\n",
    "        :param tag:\n",
    "        :param value:\n",
    "        :return:\n",
    "        \"\"\"\n",
    "        return value + \" \" + NumberCategory.verbose[tag]\n",
    "\n",
    "    @staticmethod\n",
    "    def can_apply(tag):\n",
    "        return tag in NumberCategory.verbose"
   ]
  },
  {
   "cell_type": "code",
   "execution_count": 11,
   "metadata": {
    "collapsed": true
   },
   "outputs": [],
   "source": [
    "class Mood:\n",
    "    infinitive = \"n\"\n",
    "    imperative = \"b\"\n",
    "    indicative = \"f\"\n",
    "    subjunctive = \"v\"\n",
    "    supine = \"s\"\n",
    "    present_participle = \"l\"\n",
    "    past_participle = \"þ\"\n",
    "\n",
    "    verbose = defaultdict(str)\n",
    "    verbose[infinitive] = \"infinitive\"\n",
    "    verbose[imperative] = \"imperative\"\n",
    "    verbose[indicative] = \"indicative\"\n",
    "    verbose[subjunctive] = \"subjunctive\"\n",
    "    verbose[supine] = \"supine\"\n",
    "    verbose[present_participle] = \"present participle\"\n",
    "    verbose[past_participle] = \"past participle\"\n",
    "\n",
    "    @staticmethod\n",
    "    def parse(tag, value):\n",
    "        \"\"\"\n",
    "        >>> Mood.parse(\"n\", \"\")\n",
    "        ' infinitive'\n",
    "        >>> Mood.parse(\"b\", \"\")\n",
    "        ' imperative'\n",
    "        >>> Mood.parse(\"f\", \"\")\n",
    "        ' indicative'\n",
    "        >>> Mood.parse(\"v\", \"\")\n",
    "        ' subjunctive'\n",
    "        >>> Mood.parse(\"s\", \"\")\n",
    "        ' supine'\n",
    "        >>> Mood.parse(\"l\", \"\")\n",
    "        ' present participle'\n",
    "        >>> Mood.parse(\"þ\", \"\")\n",
    "        ' past participle'\n",
    "\n",
    "        :param tag:\n",
    "        :param value:\n",
    "        :return:\n",
    "        \"\"\"\n",
    "        return value + \" \" + Mood.verbose[tag]\n",
    "\n",
    "    @staticmethod\n",
    "    def can_apply(tag):\n",
    "        return tag in Mood.verbose"
   ]
  },
  {
   "cell_type": "code",
   "execution_count": 12,
   "metadata": {
    "collapsed": true
   },
   "outputs": [],
   "source": [
    "class Voice:\n",
    "    active = \"g\"\n",
    "    middle = \"m\"\n",
    "\n",
    "    verbose = defaultdict(str)\n",
    "    verbose[active] = \"active\"\n",
    "    verbose[middle] = \"middle\"\n",
    "\n",
    "    @staticmethod\n",
    "    def parse(tag, value):\n",
    "        \"\"\"\n",
    "        >>> Voice.parse(\"g\", \"\")\n",
    "        ' active'\n",
    "        >>> Voice.parse(\"m\", \"\")\n",
    "        ' middle'\n",
    "\n",
    "        :param tag:\n",
    "        :param value:\n",
    "        :return:\n",
    "        \"\"\"\n",
    "        return value + \" \" + Voice.verbose[tag]\n",
    "\n",
    "    @staticmethod\n",
    "    def can_apply(tag):\n",
    "        return tag in Voice.verbose"
   ]
  },
  {
   "cell_type": "code",
   "execution_count": 13,
   "metadata": {
    "collapsed": true
   },
   "outputs": [],
   "source": [
    "class Tense:\n",
    "    present = \"n\"\n",
    "    past = \"þ\"\n",
    "\n",
    "    verbose = defaultdict(str)\n",
    "    verbose[present] = \"present\"\n",
    "    verbose[past] = \"past\"\n",
    "\n",
    "    @staticmethod\n",
    "    def parse(tag, value):\n",
    "        \"\"\"\n",
    "        >>> Tense.parse(\"n\", \"\")\n",
    "        'present\"\n",
    "        >>> Tense.parse(\"þ\", \"\")\n",
    "        'past'\n",
    "\n",
    "        :param tag:\n",
    "        :param value:\n",
    "        :return:\n",
    "        \"\"\"\n",
    "        return value + \" \" + Tense.verbose[tag]\n",
    "\n",
    "    @staticmethod\n",
    "    def can_apply(tag):\n",
    "        return tag in Tense.verbose"
   ]
  },
  {
   "cell_type": "code",
   "execution_count": 14,
   "metadata": {
    "collapsed": true
   },
   "outputs": [],
   "source": [
    "class MainPOS:\n",
    "    noun = \"n\"\n",
    "    adjective = \"l\"\n",
    "    pronoun = \"f\"\n",
    "    article = \"g\"\n",
    "    numeral = \"t\"\n",
    "    verb = \"s\"\n",
    "    adverb = \"a\"\n",
    "    conjunction = \"c\"\n",
    "    foreign = \"e\"\n",
    "    unanalysed = \"x\"\n",
    "    punctuation = \"p\"\n",
    "\n",
    "    verbose = defaultdict(str)\n",
    "    verbose[noun] = \"noun\"\n",
    "    verbose[adjective] = \"adjective\"\n",
    "    verbose[pronoun] = \"pronoun\"\n",
    "    verbose[article] = \"article\"\n",
    "    verbose[numeral] = \"numeral\"\n",
    "    verbose[verb] = \"verb\"\n",
    "    verbose[adverb] = \"adverb\"\n",
    "    verbose[conjunction] = \"conjunction\"\n",
    "    verbose[unanalysed] = \"unanalysed\"\n",
    "    verbose[punctuation] = \"punctuation\"\n",
    "\n",
    "    @staticmethod\n",
    "    def apply(tag: str, l_pos: list, value: str):\n",
    "        i = 1\n",
    "        for pos in l_pos:\n",
    "            if isinstance(pos, list):\n",
    "                for j in pos:\n",
    "                    if j.can_apply(tag[i]):\n",
    "                        value = j.parse(tag[i], value)\n",
    "            else:\n",
    "                value = pos.parse(tag[i], value)\n",
    "            i += 1\n",
    "        return value\n",
    "\n",
    "    @staticmethod\n",
    "    def parse(tag):\n",
    "        \"\"\"\n",
    "        >>> MainPOS.parse('fakeþ')\n",
    "        'pronoun demonstrative masculine singular dative'\n",
    "        >>> MainPOS.parse('sfg3eþ')\n",
    "        'verb indicative active third singular past'\n",
    "        >>> MainPOS.parse('lvensf')\n",
    "        'adjective feminine singular nominative strong positive'\n",
    "        >>> MainPOS.parse('fp1en')\n",
    "        'pronoun personal first singular nominative'\n",
    "        >>> MainPOS.parse('nkee')\n",
    "        'noun masculine singular genitive'\n",
    "        >>> MainPOS.parse('sþgken')\n",
    "        'verb past participle active masculine singular nominative'\n",
    "        >>> MainPOS.parse('nhfn')\n",
    "        'noun neuter plural nominative'\n",
    "        >>> MainPOS.parse('nveo')\n",
    "        'noun feminine singular accusative'\n",
    "\n",
    "        :param tag:\n",
    "        :return:\n",
    "        \"\"\"\n",
    "\n",
    "        value = \"\"\n",
    "        if tag[0] == MainPOS.noun:\n",
    "            if len(tag) >= 4:\n",
    "                value = MainPOS.verbose[tag[0]]\n",
    "                value = MainPOS.apply(tag, [Gender, Number, Case], value)\n",
    "                if len(tag) == 5:\n",
    "                    value = ProperNoun.parse(tag[4], value)\n",
    "            return value\n",
    "\n",
    "        elif tag[0] == MainPOS.adjective:\n",
    "            if len(tag) == 6:\n",
    "                value = MainPOS.verbose[tag[0]]\n",
    "                value = MainPOS.apply(tag, [Gender, Number, Case, Declension, Degree], value)\n",
    "            return value\n",
    "\n",
    "        elif tag[0] == MainPOS.pronoun:\n",
    "            if len(tag) == 5:\n",
    "                value = MainPOS.verbose[tag[0]]\n",
    "                value = MainPOS.apply(tag, [Pronoun, [Person, Gender], Number, Case], value)\n",
    "            return value\n",
    "\n",
    "        elif tag[0] == MainPOS.article:\n",
    "            if len(tag) == 4:\n",
    "                value = MainPOS.verbose[tag[0]]\n",
    "                value = MainPOS.apply(tag, [Gender, Number, Case], value)\n",
    "            return value\n",
    "\n",
    "        elif tag[0] == MainPOS.numeral:\n",
    "            if len(tag) == 5:\n",
    "                value = MainPOS.verbose[tag[0]]\n",
    "                value = MainPOS.apply(tag, [NumberCategory, Gender, Number, Case], value)\n",
    "\n",
    "        elif tag[0] == MainPOS.verb:\n",
    "            if len(tag) == 3 and tag[1] == \"n\":\n",
    "                value = MainPOS.verbose[tag[0]]\n",
    "                value = MainPOS.apply(tag, [Mood, Voice], value)\n",
    "                value = Mood.parse(tag[1], value)\n",
    "                value = Voice.parse(tag[2], value)\n",
    "\n",
    "            elif len(tag) == 6 and tag[1] == \"þ\":\n",
    "                value = MainPOS.verbose[tag[0]]\n",
    "                value = MainPOS.apply(tag, [Mood, Voice, Gender, Number, Case], value)\n",
    "\n",
    "            elif len(tag) == 6:\n",
    "                value = MainPOS.verbose[tag[0]]\n",
    "                value = MainPOS.apply(tag, [Mood, Voice, Person, Number, Tense], value)\n",
    "            return value\n",
    "\n",
    "        elif tag[0] == MainPOS.adverb:\n",
    "            if len(tag) == 2:\n",
    "                value = MainPOS.verbose[tag[0]]\n",
    "                if tag[1] == \"a\":\n",
    "                    value += \" no case \"\n",
    "                elif tag[1] == \"u\":\n",
    "                    value += \" exclamation\"\n",
    "                elif tag[1] == \"o\":\n",
    "                    value += \" accusative\"\n",
    "                elif tag[1] == \"þ\":\n",
    "                    value += \" dative\"\n",
    "                elif tag[1] == \"e\":\n",
    "                    value += \" genitive\"\n",
    "            return value\n",
    "\n",
    "        elif tag[0] == MainPOS.conjunction:\n",
    "            if len(tag) == 2:\n",
    "                value = MainPOS.verbose[tag[0]]\n",
    "                if tag[1] == \"n\":\n",
    "                    value += \"\"\n",
    "                elif tag[1] == \"t\":\n",
    "                    value += \"\"\n",
    "                return value\n",
    "\n",
    "        elif tag[0] == MainPOS.foreign:\n",
    "            value = MainPOS.verbose[tag[0]]\n",
    "            return value\n",
    "\n",
    "        elif tag[0] == MainPOS.unanalysed:\n",
    "            value = MainPOS.verbose[tag[0]]\n",
    "            return value\n",
    "\n",
    "        elif tag[0] == MainPOS.punctuation:\n",
    "            value = MainPOS.verbose[tag[0]]\n",
    "            return value\n",
    "\n",
    "        return value\n",
    "\n",
    "\n",
    "def parse(tag):\n",
    "    if len(tag) > 0:\n",
    "        value = MainPOS.parse(tag.lower())\n",
    "    else:\n",
    "        value = \"\"\n",
    "    return value"
   ]
  },
  {
   "cell_type": "code",
   "execution_count": 15,
   "metadata": {
    "collapsed": false
   },
   "outputs": [],
   "source": [
    "import eddas"
   ]
  },
  {
   "cell_type": "code",
   "execution_count": 16,
   "metadata": {
    "collapsed": false
   },
   "outputs": [
    {
     "name": "stdout",
     "output_type": "stream",
     "text": [
      "Help on package eddas:\n",
      "\n",
      "NAME\n",
      "    eddas\n",
      "\n",
      "PACKAGE CONTENTS\n",
      "    pos\n",
      "    reader\n",
      "    tests\n",
      "    text_manager\n",
      "    utils\n",
      "\n",
      "FILE\n",
      "    /home/clementbesnier/languages/lib/python3.6/site-packages/eddas-1.3.2-py3.6.egg/eddas/__init__.py\n",
      "\n",
      "\n"
     ]
    }
   ],
   "source": [
    "help(eddas)"
   ]
  },
  {
   "cell_type": "code",
   "execution_count": 17,
   "metadata": {
    "collapsed": false
   },
   "outputs": [],
   "source": [
    "from eddas import reader"
   ]
  },
  {
   "cell_type": "code",
   "execution_count": 18,
   "metadata": {
    "collapsed": false
   },
   "outputs": [],
   "source": [
    "voeluspaa_pos = reader.PoeticEddaPOSTaggedReader(\"Völuspá\")"
   ]
  },
  {
   "cell_type": "code",
   "execution_count": 19,
   "metadata": {
    "collapsed": false
   },
   "outputs": [
    {
     "data": {
      "text/plain": [
       "[[('1', 'TA')],\n",
       " [('Hljóðs', 'NHEE'), ('bið', 'SFG1EÞ'), ('ek', 'FP1EN'), ('allar', 'LVFOSF')],\n",
       " [('helgar', 'LVFOSF'), ('kindir', 'NVFO'), (',', 'P')],\n",
       " [('meiri', 'LVFOVM'), ('ok', 'CC'), ('minni', 'LVFOVM')],\n",
       " [('mögu', 'NKFO'), ('Heimdallar', 'NKEEM'), (';', 'P')],\n",
       " [('viltu', 'SFG2EN'),\n",
       "  ('at', 'CN'),\n",
       "  ('ek', 'FP1EM'),\n",
       "  (',', 'P'),\n",
       "  ('Valföðr', 'NKENM'),\n",
       "  (',', 'P')],\n",
       " [('vel', 'AA'), ('fyr', 'CN'), ('telja', 'SNG')],\n",
       " [('forn', 'LHFOSF'), ('spjöll', 'NHFO'), ('fira', 'NKFE'), (',', 'P')],\n",
       " [('þau', 'FA'),\n",
       "  ('er', 'CT'),\n",
       "  ('fremst', 'AA'),\n",
       "  ('of', 'AA'),\n",
       "  ('man', 'SFG1EN'),\n",
       "  ('.', 'P')]]"
      ]
     },
     "execution_count": 19,
     "metadata": {},
     "output_type": "execute_result"
    }
   ],
   "source": [
    "voeluspaa_pos.tagged_paras()[0]"
   ]
  },
  {
   "cell_type": "code",
   "execution_count": null,
   "metadata": {
    "collapsed": true
   },
   "outputs": [],
   "source": []
  },
  {
   "cell_type": "code",
   "execution_count": 20,
   "metadata": {
    "collapsed": false
   },
   "outputs": [
    {
     "data": {
      "text/plain": [
       "'verb indicative active third singular present'"
      ]
     },
     "execution_count": 20,
     "metadata": {},
     "output_type": "execute_result"
    }
   ],
   "source": [
    "parse(\"sfg3en\")"
   ]
  },
  {
   "cell_type": "code",
   "execution_count": 21,
   "metadata": {
    "collapsed": false
   },
   "outputs": [
    {
     "name": "stdout",
     "output_type": "stream",
     "text": [
      "1 : ta -> \n",
      "Hljóðs : nhee -> noun neuter singular genitive\n",
      "bið : sfg1eþ -> verb indicative active first singular past\n",
      "ek : fp1en -> pronoun personal first singular nominative\n",
      "allar : lvfosf -> adjective feminine plural accusative strong positive\n",
      "helgar : lvfosf -> adjective feminine plural accusative strong positive\n",
      "kindir : nvfo -> noun feminine plural accusative\n",
      ", : p -> punctuation\n",
      "meiri : lvfovm -> adjective feminine plural accusative weak comparative\n",
      "ok : cc -> conjunction\n",
      "minni : lvfovm -> adjective feminine plural accusative weak comparative\n",
      "mögu : nkfo -> noun masculine plural accusative\n",
      "Heimdallar : nkeem -> noun masculine singular genitive person\n",
      "; : p -> punctuation\n",
      "viltu : sfg2en -> verb indicative active second singular present\n",
      "at : cn -> conjunction\n",
      "ek : fp1em -> pronoun personal first singular \n",
      ", : p -> punctuation\n",
      "Valföðr : nkenm -> noun masculine singular nominative person\n",
      ", : p -> punctuation\n",
      "vel : aa -> adverb no case \n",
      "fyr : cn -> conjunction\n",
      "telja : sng -> verb infinitive active infinitive active\n",
      "forn : lhfosf -> adjective neuter plural accusative strong positive\n",
      "spjöll : nhfo -> noun neuter plural accusative\n",
      "fira : nkfe -> noun masculine plural genitive\n",
      ", : p -> punctuation\n",
      "þau : fa -> \n",
      "er : ct -> conjunction\n",
      "fremst : aa -> adverb no case \n",
      "of : aa -> adverb no case \n",
      "man : sfg1en -> verb indicative active first singular present\n",
      ". : p -> punctuation\n"
     ]
    }
   ],
   "source": [
    "for sent in voeluspaa_pos.tagged_paras()[0]:\n",
    "    for word, tag in sent:\n",
    "        print(word, \":\", tag.lower(), \"->\", parse(tag))"
   ]
  },
  {
   "cell_type": "code",
   "execution_count": 22,
   "metadata": {
    "collapsed": false
   },
   "outputs": [
    {
     "name": "stdout",
     "output_type": "stream",
     "text": [
      "['Rígsþula', 'Helreið Brynhildar', 'Gróttasöngr', 'Sigrdrífumál', 'Hárbarðsljóð', 'Grímnismál', 'Þrymskviða', 'Völuspá', 'Atlamál in grænlenzku', 'Hyndluljóð', 'Skírnismál', 'Hymiskviða', 'Atlakviða', 'Vafþrúðnismál', 'Oddrúnarkviða', 'Völundarkviða', 'Alvíssmál', 'Fáfnismál', 'Dráp Niflunga', 'Hávamál', 'Guðrúnarhvöt', 'Hamðismál', 'Baldrs draumar', 'Lokasenna', 'Guðrúnarkviða']\n"
     ]
    }
   ],
   "source": [
    "voeluspaa_lem = reader.PoeticEddaLemmatizationReader(\"Völuspá\")\n",
    "print(reader.poetic_edda_titles)\n",
    "PUNCTUATIONS = \",:;.!?-\"\n",
    "tokens = voeluspaa_lem.words()\n",
    "lemmata = set([lemma for word, lemma in voeluspaa_lem.tagged_words() if lemma is not None and lemma not in PUNCTUATIONS])\n",
    "normalized_tokens = [token.lower() for token in tokens if token is not None and token not in PUNCTUATIONS]"
   ]
  },
  {
   "cell_type": "code",
   "execution_count": 23,
   "metadata": {
    "collapsed": false
   },
   "outputs": [],
   "source": [
    "from collections import defaultdict\n",
    "# For a lemma, give all its inflected forms present in the Völuspá\n",
    "lemmata_tokens = defaultdict(set)\n",
    "for word, lemma in voeluspaa_lem.tagged_words():\n",
    "    if word is not None and lemma is not None and word not in PUNCTUATIONS and lemma not in PUNCTUATIONS:\n",
    "        for token in normalized_tokens:\n",
    "            if token == word.lower() and lemma != \"\":\n",
    "                lemmata_tokens[lemma.lower()].add(token)"
   ]
  },
  {
   "cell_type": "code",
   "execution_count": 24,
   "metadata": {
    "collapsed": false
   },
   "outputs": [],
   "source": [
    "# For a token, give all its POS tags present in the Völuspá\n",
    "taupi = defaultdict(set)\n",
    "for word, pos_tag in voeluspaa_pos.tagged_words():\n",
    "    if word is not None and pos_tag is not None and word not in PUNCTUATIONS and lemma not in PUNCTUATIONS:\n",
    "        taupi[word.lower()].add(pos_tag.lower())"
   ]
  },
  {
   "cell_type": "code",
   "execution_count": 25,
   "metadata": {
    "collapsed": false
   },
   "outputs": [],
   "source": [
    "# For a lemma, all its possible tags present in the Völuspá\n",
    "lambdapi = defaultdict(set)\n",
    "for lemma in lemmata:\n",
    "    for token in lemmata_tokens[lemma.lower()]:\n",
    "        for pos_tag in taupi[token]:\n",
    "            lambdapi[lemma.lower()].add(pos_tag)\n"
   ]
  },
  {
   "cell_type": "code",
   "execution_count": 26,
   "metadata": {
    "collapsed": false
   },
   "outputs": [],
   "source": [
    "# link lemmata_tokens, taupi and lambdapi to Zoëga's dictionary\n",
    "import zoegas\n",
    "from zoegas import reader as zoegas_reader"
   ]
  },
  {
   "cell_type": "code",
   "execution_count": 27,
   "metadata": {
    "collapsed": false
   },
   "outputs": [],
   "source": [
    "dictionary = zoegas_reader.Dictionary(zoegas_reader.dictionary_name)\n",
    "dictionary.get_entries()"
   ]
  },
  {
   "cell_type": "code",
   "execution_count": 28,
   "metadata": {
    "collapsed": false
   },
   "outputs": [
    {
     "name": "stdout",
     "output_type": "stream",
     "text": [
      "\n",
      "\n",
      "f. flat land;\n",
      "\n",
      "áðr Börs synir ~um of yptu, ere the sons of B. raised the ground.\n",
      "\n",
      "\n"
     ]
    }
   ],
   "source": [
    "mjötvið = dictionary.find(\"bjöð\")\n",
    "print(mjötvið.description)"
   ]
  },
  {
   "cell_type": "code",
   "execution_count": 29,
   "metadata": {
    "collapsed": false
   },
   "outputs": [],
   "source": [
    "unknown_lemmata = []\n",
    "known_lemmata = {}\n",
    "for lemma in lemmata:\n",
    "    if lemma is not None:\n",
    "        entry = dictionary.find(lemma.lower())\n",
    "        if entry is None:\n",
    "            unknown_lemmata.append(lemma.lower())\n",
    "#             print(\"Not in dictionary: \"+lemma.lower())\n",
    "        else:\n",
    "            known_lemmata[lemma.lower()] = entry\n",
    "#             print(\"lemma : \"+lemma.lower())\n",
    "#     i += 1\n",
    "#     if i > 20:\n",
    "#         break"
   ]
  },
  {
   "cell_type": "code",
   "execution_count": 30,
   "metadata": {
    "collapsed": false
   },
   "outputs": [
    {
     "data": {
      "text/plain": [
       "[',vættr',\n",
       " 'valföðr',\n",
       " 'óri',\n",
       " 'niðhöggr',\n",
       " 'geyr',\n",
       " 'bávurr',\n",
       " 'hornbori',\n",
       " 'týr',\n",
       " 'jötunheimr',\n",
       " 'draupnir',\n",
       " 'nóri',\n",
       " 'gøra',\n",
       " 'jari',\n",
       " 'ókólnn',\n",
       " 'finnr',\n",
       " 'mímir',\n",
       " 'glóinn',\n",
       " 'ræðr',\n",
       " 'hveralundr',\n",
       " 'uns',\n",
       " 'billingr',\n",
       " 'und+es',\n",
       " 'mjöðvitnir',\n",
       " 'mæran',\n",
       " 'hvern',\n",
       " 'ér',\n",
       " 'þorinn',\n",
       " 'hænir',\n",
       " 'eikinskjaldi',\n",
       " 'öld',\n",
       " 'hroft',\n",
       " 'yngvi',\n",
       " 'höðr',\n",
       " 'skáfiðr',\n",
       " 'skirfir',\n",
       " 'morgun',\n",
       " 'kíli',\n",
       " 'folkvígr',\n",
       " 'mjöð',\n",
       " 'þórr',\n",
       " 'blóðigr',\n",
       " 'fensalir',\n",
       " 'slíkt',\n",
       " 'þráinn',\n",
       " 'neka',\n",
       " 'ósjaldan',\n",
       " 'ljóra',\n",
       " 'embla',\n",
       " 'frosti',\n",
       " 'mímisbrunnr',\n",
       " 'váli',\n",
       " 'frigg',\n",
       " 'eftir',\n",
       " 'göndul',\n",
       " 'mættr',\n",
       " 'ánn',\n",
       " 'hon',\n",
       " 'dúfr',\n",
       " 'buri',\n",
       " 'durinn',\n",
       " 'lofar',\n",
       " 'vindalfr',\n",
       " 'haugspori',\n",
       " 'lóni',\n",
       " 'baldr',\n",
       " 'náli',\n",
       " 'fyr',\n",
       " 'óinn',\n",
       " 'vígspá',\n",
       " 'alþjófr',\n",
       " 'dóridóri',\n",
       " 'herjans',\n",
       " 'kindr',\n",
       " 'brúni',\n",
       " 'lóðurr',\n",
       " 'upphiminn',\n",
       " 'goðþjóð',\n",
       " 'niðavallr',\n",
       " 'gullr',\n",
       " 'heimdallr',\n",
       " 'sigyn',\n",
       " 'vígband',\n",
       " 'alfr',\n",
       " 'ausinn',\n",
       " 'nýráðr',\n",
       " 'örlög',\n",
       " 'móðsognir',\n",
       " 'svíurr',\n",
       " 'aurvangr',\n",
       " 'dolgþrasir',\n",
       " 'brimir',\n",
       " 'glýja',\n",
       " 'folk',\n",
       " 'iðavellr',\n",
       " 'reginn',\n",
       " 'ginnarr',\n",
       " 'fjalarr',\n",
       " 'nípingr',\n",
       " 'góð',\n",
       " 'gullveig',\n",
       " 'bláinn',\n",
       " 'ask',\n",
       " 'járnviðr',\n",
       " 'skula',\n",
       " 'grænn',\n",
       " 'pl',\n",
       " 'gandalfr',\n",
       " 'loki',\n",
       " 'seggja',\n",
       " 'sökja',\n",
       " 'víli',\n",
       " 'geirskögul',\n",
       " 'hlévangr',\n",
       " 'hefti',\n",
       " 'fíli',\n",
       " 'virfir',\n",
       " 'bömburr',\n",
       " 'yggdrasill',\n",
       " 'herföðr',\n",
       " 'óðinn',\n",
       " 'dvalinn',\n",
       " 'ráðsviðr',\n",
       " 'hægr',\n",
       " 'bívurr',\n",
       " 'ánarr',\n",
       " 'hannar']"
      ]
     },
     "execution_count": 30,
     "metadata": {},
     "output_type": "execute_result"
    }
   ],
   "source": [
    "unknown_lemmata"
   ]
  },
  {
   "cell_type": "code",
   "execution_count": 31,
   "metadata": {
    "collapsed": false
   },
   "outputs": [
    {
     "name": "stdout",
     "output_type": "stream",
     "text": [
      "fíll\n",
      "\n",
      "\n",
      "(-s, -ar), m. elephant.\n",
      "\n",
      "\n"
     ]
    }
   ],
   "source": [
    "for i in dictionary.find_beginning_with(\"fíl\"):\n",
    "    print(i.word)\n",
    "    print(i.description)"
   ]
  },
  {
   "cell_type": "code",
   "execution_count": null,
   "metadata": {
    "collapsed": false
   },
   "outputs": [],
   "source": []
  },
  {
   "cell_type": "code",
   "execution_count": null,
   "metadata": {
    "collapsed": false
   },
   "outputs": [],
   "source": []
  },
  {
   "cell_type": "code",
   "execution_count": 32,
   "metadata": {
    "collapsed": false
   },
   "outputs": [],
   "source": [
    "import cltk.tokenize.word as cltkt"
   ]
  },
  {
   "cell_type": "code",
   "execution_count": 33,
   "metadata": {
    "collapsed": false
   },
   "outputs": [
    {
     "name": "stdout",
     "output_type": "stream",
     "text": [
      "Displaying 10 of 10 matches:\n",
      " vita , ef þú fróðr sér eða alsviðr jötunn . \" Vafþrúðnir kvað : 7 . \"Hvat er \n",
      "k lengi farit - ok þinna andfanga , jötunn . \" Vafþrúðnir kvað : 9 . \"Hví þú þ\n",
      "kom eða upphiminn fyrst , inn fróði jötunn . \" Vafþrúðnir kvað : 21 . \"Ór Ymis\n",
      "m með jötna sonum fyrst , inn fróði jötunn . \" Vafþrúðnir kvað : 31 . \"Ór Éliv\n",
      "ukku eitrdropar , svá óx , unz varð jötunn ; þar eru órar ættir komnar allar s\n",
      "itir , hvé sá börn gat , inn baldni jötunn , er hann hafði -t gýgjar gaman . \"\n",
      " fremst of veizt , þú ert alsviðr , jötunn . \" Vafþrúðnir kvað : 35 . Örófi ve\n",
      "t ek fyrst of man , er sá inn fróði jötunn á var lúðr of lagiðr . \" Óðinn kvað\n",
      "gr heitir , er sitr á himins enda , jötunn í arnar ham ; af hans vængjum kvæða\n",
      "segir þú it sannasta , inn alsvinni jötunn . \" Vafþrúðnir kvað : 43 . \"Frá jöt\n",
      "Displaying 3 of 3 matches:\n",
      " fornum stöfum við þann inn alsvinna jötun . \" Frigg kvað : 2 . \"Heima letja ek\n",
      "erjaföðr í görðum goða ; því at engi jötun ek hugða jafnramman sem Vafþrúðni ve\n",
      "ars þú skalt , Aldaföðr , orðum mæla jötun . 5 . Fór þá Óðinn at freista orðspe\n",
      "No matches\n",
      "Displaying 4 of 4 matches:\n",
      " freista orðspeki þess ins alsvinna jötuns ; at höllu hann kom , ok átti Íms f\n",
      "óðr ertu nú , gestr , far þú á bekk jötuns , ok mælumk í sessi saman ; höfði v\n",
      "örg , himinn ór hausi ins hrímkalda jötuns , en ór sveita sær . \" Óðinn kvað :\n",
      "saman ; fótr við fæti gat ins fróða jötuns sexhöfðaðan son . \" Óðinn kvað : 34\n",
      "No matches\n",
      "Displaying 5 of 5 matches:\n",
      "ma , hvé sú á heitir , er deilir með jötna sonum grund ok með goðum . \" Óðinn k\n",
      "16 . \"Ífing heitir á , er deilir með jötna sonum grund ok með goðum ; opin renn\n",
      "r , vitir , hvaðan Aurgelmir kom með jötna sonum fyrst , inn fróði jötunn . \" V\n",
      "a rök öll , Vafþrúðnir , vitir , frá jötna rúnum ok allra goða segir þú it sann\n",
      "tunn . \" Vafþrúðnir kvað : 43 . \"Frá jötna rúnum ok allra goða ek kann segja sa\n",
      "Displaying 5 of 5 matches:\n",
      "ma , hvé sú á heitir , er deilir með jötna sonum grund ok með goðum . \" Óðinn k\n",
      "16 . \"Ífing heitir á , er deilir með jötna sonum grund ok með goðum ; opin renn\n",
      "r , vitir , hvaðan Aurgelmir kom með jötna sonum fyrst , inn fróði jötunn . \" V\n",
      "a rök öll , Vafþrúðnir , vitir , frá jötna rúnum ok allra goða segir þú it sann\n",
      "tunn . \" Vafþrúðnir kvað : 43 . \"Frá jötna rúnum ok allra goða ek kann segja sa\n"
     ]
    }
   ],
   "source": [
    "# help(reader)\n",
    "from eddas import text_manager\n",
    "import os\n",
    "# help(text_manager)\n",
    "loader_vaf = text_manager.TextLoader(os.path.join(\"Sæmundar-Edda\", \"Vafþrúðnismál\"), \"txt\")\n",
    "text_vaf = loader_vaf.load()\n",
    "# print(text_vaf[:500])\n",
    "from nltk.text import Text\n",
    "text_vaf = Text(cltkt.tokenize_old_norse_words(text_vaf))\n",
    "# text_vaf.concordance()\n",
    "\n",
    "text_vaf.concordance(\"jötunn\")\n",
    "text_vaf.concordance(\"jötun\")\n",
    "text_vaf.concordance(\"jötni\")\n",
    "text_vaf.concordance(\"jötuns\")\n",
    "text_vaf.concordance(\"jötnar\")\n",
    "text_vaf.concordance(\"jötna\")\n",
    "text_vaf.concordance(\"jötna\")"
   ]
  },
  {
   "cell_type": "code",
   "execution_count": 34,
   "metadata": {
    "collapsed": false
   },
   "outputs": [
    {
     "name": "stdout",
     "output_type": "stream",
     "text": [
      "Displaying 1 of 1 matches:\n",
      "tti , er Þjazi bjó , sá inn ámáttki jötunn ; en nú Skaði byggvir , skír brúðr \n",
      "Displaying 1 of 1 matches:\n",
      "Sökkmímis , ok dulðak þann inn aldna jötun , þá er ek Miðvitnis vark ins mæra b\n",
      "No matches\n",
      "No matches\n",
      "No matches\n",
      "No matches\n",
      "No matches\n"
     ]
    }
   ],
   "source": [
    "loader_gri = text_manager.TextLoader(os.path.join(\"Sæmundar-Edda\", \"Grímnismál\"), \"txt\")\n",
    "# print(loader_gri.load()[:500])\n",
    "\n",
    "text_gri = loader_gri.load()\n",
    "from nltk.text import Text\n",
    "text_gri = Text(cltkt.tokenize_old_norse_words(text_gri))\n",
    "# text_vaf.concordance()\n",
    "\n",
    "text_gri.concordance(\"jötunn\")\n",
    "text_gri.concordance(\"jötun\")\n",
    "text_gri.concordance(\"jötni\")\n",
    "text_gri.concordance(\"jötuns\")\n",
    "text_gri.concordance(\"jötnar\")\n",
    "text_gri.concordance(\"jötna\")\n",
    "text_gri.concordance(\"jötna\")\n",
    "# text_gri.concordance(\"ok\")\n",
    "# text_gri.count(\"sonum\")"
   ]
  },
  {
   "cell_type": "code",
   "execution_count": null,
   "metadata": {
    "collapsed": false
   },
   "outputs": [],
   "source": []
  },
  {
   "cell_type": "code",
   "execution_count": null,
   "metadata": {
    "collapsed": true
   },
   "outputs": [],
   "source": []
  },
  {
   "cell_type": "markdown",
   "metadata": {},
   "source": [
    "### Training the tagger"
   ]
  },
  {
   "cell_type": "code",
   "execution_count": null,
   "metadata": {
    "collapsed": true
   },
   "outputs": [],
   "source": []
  },
  {
   "cell_type": "code",
   "execution_count": null,
   "metadata": {
    "collapsed": true
   },
   "outputs": [],
   "source": []
  },
  {
   "cell_type": "markdown",
   "metadata": {},
   "source": [
    "## Tagging the Old Norse texts"
   ]
  },
  {
   "cell_type": "code",
   "execution_count": 35,
   "metadata": {
    "collapsed": true
   },
   "outputs": [],
   "source": [
    "from nltk.tag.tnt import TnT"
   ]
  },
  {
   "cell_type": "code",
   "execution_count": 36,
   "metadata": {
    "collapsed": false
   },
   "outputs": [
    {
     "name": "stdout",
     "output_type": "stream",
     "text": [
      "Help on class TnT in module nltk.tag.tnt:\n",
      "\n",
      "class TnT(nltk.tag.api.TaggerI)\n",
      " |  TnT - Statistical POS tagger\n",
      " |  \n",
      " |  IMPORTANT NOTES:\n",
      " |  \n",
      " |  * DOES NOT AUTOMATICALLY DEAL WITH UNSEEN WORDS\n",
      " |  \n",
      " |    - It is possible to provide an untrained POS tagger to\n",
      " |      create tags for unknown words, see __init__ function\n",
      " |  \n",
      " |  * SHOULD BE USED WITH SENTENCE-DELIMITED INPUT\n",
      " |  \n",
      " |    - Due to the nature of this tagger, it works best when\n",
      " |      trained over sentence delimited input.\n",
      " |    - However it still produces good results if the training\n",
      " |      data and testing data are separated on all punctuation eg: [,.?!]\n",
      " |    - Input for training is expected to be a list of sentences\n",
      " |      where each sentence is a list of (word, tag) tuples\n",
      " |    - Input for tag function is a single sentence\n",
      " |      Input for tagdata function is a list of sentences\n",
      " |      Output is of a similar form\n",
      " |  \n",
      " |  * Function provided to process text that is unsegmented\n",
      " |  \n",
      " |    - Please see basic_sent_chop()\n",
      " |  \n",
      " |  \n",
      " |  TnT uses a second order Markov model to produce tags for\n",
      " |  a sequence of input, specifically:\n",
      " |  \n",
      " |    argmax [Proj(P(t_i|t_i-1,t_i-2)P(w_i|t_i))] P(t_T+1 | t_T)\n",
      " |  \n",
      " |  IE: the maximum projection of a set of probabilities\n",
      " |  \n",
      " |  The set of possible tags for a given word is derived\n",
      " |  from the training data. It is the set of all tags\n",
      " |  that exact word has been assigned.\n",
      " |  \n",
      " |  To speed up and get more precision, we can use log addition\n",
      " |  to instead multiplication, specifically:\n",
      " |  \n",
      " |    argmax [Sigma(log(P(t_i|t_i-1,t_i-2))+log(P(w_i|t_i)))] +\n",
      " |           log(P(t_T+1|t_T))\n",
      " |  \n",
      " |  The probability of a tag for a given word is the linear\n",
      " |  interpolation of 3 markov models; a zero-order, first-order,\n",
      " |  and a second order model.\n",
      " |  \n",
      " |    P(t_i| t_i-1, t_i-2) = l1*P(t_i) + l2*P(t_i| t_i-1) +\n",
      " |                           l3*P(t_i| t_i-1, t_i-2)\n",
      " |  \n",
      " |  A beam search is used to limit the memory usage of the algorithm.\n",
      " |  The degree of the beam can be changed using N in the initialization.\n",
      " |  N represents the maximum number of possible solutions to maintain\n",
      " |  while tagging.\n",
      " |  \n",
      " |  It is possible to differentiate the tags which are assigned to\n",
      " |  capitalized words. However this does not result in a significant\n",
      " |  gain in the accuracy of the results.\n",
      " |  \n",
      " |  Method resolution order:\n",
      " |      TnT\n",
      " |      nltk.tag.api.TaggerI\n",
      " |      builtins.object\n",
      " |  \n",
      " |  Methods defined here:\n",
      " |  \n",
      " |  __init__(self, unk=None, Trained=False, N=1000, C=False)\n",
      " |      Construct a TnT statistical tagger. Tagger must be trained\n",
      " |      before being used to tag input.\n",
      " |      \n",
      " |      :param unk: instance of a POS tagger, conforms to TaggerI\n",
      " |      :type  unk:(TaggerI)\n",
      " |      :param Trained: Indication that the POS tagger is trained or not\n",
      " |      :type  Trained: boolean\n",
      " |      :param N: Beam search degree (see above)\n",
      " |      :type  N:(int)\n",
      " |      :param C: Capitalization flag\n",
      " |      :type  C: boolean\n",
      " |      \n",
      " |      Initializer, creates frequency distributions to be used\n",
      " |      for tagging\n",
      " |      \n",
      " |      _lx values represent the portion of the tri/bi/uni taggers\n",
      " |      to be used to calculate the probability\n",
      " |      \n",
      " |      N value is the number of possible solutions to maintain\n",
      " |      while tagging. A good value for this is 1000\n",
      " |      \n",
      " |      C is a boolean value which specifies to use or\n",
      " |      not use the Capitalization of the word as additional\n",
      " |      information for tagging.\n",
      " |      NOTE: using capitalization may not increase the accuracy\n",
      " |      of the tagger\n",
      " |  \n",
      " |  tag(self, data)\n",
      " |      Tags a single sentence\n",
      " |      \n",
      " |      :param data: list of words\n",
      " |      :type data: [string,]\n",
      " |      \n",
      " |      :return: [(word, tag),]\n",
      " |      \n",
      " |      Calls recursive function '_tagword'\n",
      " |      to produce a list of tags\n",
      " |      \n",
      " |      Associates the sequence of returned tags\n",
      " |      with the correct words in the input sequence\n",
      " |      \n",
      " |      returns a list of (word, tag) tuples\n",
      " |  \n",
      " |  tagdata(self, data)\n",
      " |      Tags each sentence in a list of sentences\n",
      " |      \n",
      " |      :param data:list of list of words\n",
      " |      :type data: [[string,],]\n",
      " |      :return: list of list of (word, tag) tuples\n",
      " |      \n",
      " |      Invokes tag(sent) function for each sentence\n",
      " |      compiles the results into a list of tagged sentences\n",
      " |      each tagged sentence is a list of (word, tag) tuples\n",
      " |  \n",
      " |  train(self, data)\n",
      " |      Uses a set of tagged data to train the tagger.\n",
      " |      If an unknown word tagger is specified,\n",
      " |      it is trained on the same data.\n",
      " |      \n",
      " |      :param data: List of lists of (word, tag) tuples\n",
      " |      :type data: tuple(str)\n",
      " |  \n",
      " |  ----------------------------------------------------------------------\n",
      " |  Methods inherited from nltk.tag.api.TaggerI:\n",
      " |  \n",
      " |  evaluate(self, gold)\n",
      " |      Score the accuracy of the tagger against the gold standard.\n",
      " |      Strip the tags from the gold standard text, retag it using\n",
      " |      the tagger, then compute the accuracy score.\n",
      " |      \n",
      " |      :type gold: list(list(tuple(str, str)))\n",
      " |      :param gold: The list of tagged sentences to score the tagger on.\n",
      " |      :rtype: float\n",
      " |  \n",
      " |  tag_sents(self, sentences)\n",
      " |      Apply ``self.tag()`` to each element of *sentences*.  I.e.:\n",
      " |      \n",
      " |          return [self.tag(sent) for sent in sentences]\n",
      " |  \n",
      " |  ----------------------------------------------------------------------\n",
      " |  Data descriptors inherited from nltk.tag.api.TaggerI:\n",
      " |  \n",
      " |  __dict__\n",
      " |      dictionary for instance variables (if defined)\n",
      " |  \n",
      " |  __weakref__\n",
      " |      list of weak references to the object (if defined)\n",
      "\n"
     ]
    }
   ],
   "source": [
    "help(TnT)"
   ]
  },
  {
   "cell_type": "markdown",
   "metadata": {},
   "source": [
    "### Old Norse vs. Modern Icelandic"
   ]
  },
  {
   "cell_type": "code",
   "execution_count": null,
   "metadata": {
    "collapsed": true
   },
   "outputs": [],
   "source": []
  },
  {
   "cell_type": "markdown",
   "metadata": {},
   "source": [
    "### The Old Norse Corpus"
   ]
  },
  {
   "cell_type": "code",
   "execution_count": null,
   "metadata": {
    "collapsed": true
   },
   "outputs": [],
   "source": []
  },
  {
   "cell_type": "code",
   "execution_count": null,
   "metadata": {
    "collapsed": true
   },
   "outputs": [],
   "source": []
  },
  {
   "cell_type": "markdown",
   "metadata": {},
   "source": [
    "### Training the tagger on the Old Norse corpus"
   ]
  },
  {
   "cell_type": "code",
   "execution_count": null,
   "metadata": {
    "collapsed": true
   },
   "outputs": [],
   "source": []
  },
  {
   "cell_type": "code",
   "execution_count": null,
   "metadata": {
    "collapsed": true
   },
   "outputs": [],
   "source": []
  },
  {
   "cell_type": "markdown",
   "metadata": {},
   "source": [
    "## Tagged texts in syntactic research"
   ]
  },
  {
   "cell_type": "code",
   "execution_count": null,
   "metadata": {
    "collapsed": true
   },
   "outputs": [],
   "source": []
  },
  {
   "cell_type": "markdown",
   "metadata": {},
   "source": [
    "### Object Shift"
   ]
  },
  {
   "cell_type": "code",
   "execution_count": null,
   "metadata": {
    "collapsed": true
   },
   "outputs": [],
   "source": []
  },
  {
   "cell_type": "markdown",
   "metadata": {},
   "source": [
    "### Passive"
   ]
  },
  {
   "cell_type": "code",
   "execution_count": null,
   "metadata": {
    "collapsed": true
   },
   "outputs": [],
   "source": []
  },
  {
   "cell_type": "markdown",
   "metadata": {},
   "source": [
    "By Clément Besnier, email address: clemsciences@aol.com, web site: https://clementbesnier.fr/, twitter: clemsciences"
   ]
  }
 ],
 "metadata": {
  "kernelspec": {
   "display_name": "languages",
   "language": "python",
   "name": "languages"
  },
  "language_info": {
   "codemirror_mode": {
    "name": "ipython",
    "version": 3
   },
   "file_extension": ".py",
   "mimetype": "text/x-python",
   "name": "python",
   "nbconvert_exporter": "python",
   "pygments_lexer": "ipython3",
   "version": "3.6.0"
  }
 },
 "nbformat": 4,
 "nbformat_minor": 0
}
