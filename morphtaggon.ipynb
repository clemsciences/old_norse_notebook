{
 "cells": [
  {
   "cell_type": "markdown",
   "metadata": {},
   "source": [
    "# Reread a paper on Old Norse processing\n",
    "\n",
    "\n",
    "[Morphological Tagging of Old Norse Texts and its Use in Studying Syntactic Variation and Change](http://citeseerx.ist.psu.edu/viewdoc/download;jsessionid=A2101BF4CF1D6C1D8C3526E8BA72ECAF?doi=10.1.1.710.7231&rep=rep1&type=pdf)\n"
   ]
  },
  {
   "cell_type": "code",
   "execution_count": null,
   "metadata": {
    "collapsed": true
   },
   "outputs": [],
   "source": []
  },
  {
   "cell_type": "code",
   "execution_count": null,
   "metadata": {
    "collapsed": true
   },
   "outputs": [],
   "source": []
  },
  {
   "cell_type": "code",
   "execution_count": null,
   "metadata": {
    "collapsed": true
   },
   "outputs": [],
   "source": []
  },
  {
   "cell_type": "markdown",
   "metadata": {},
   "source": [
    "## Tagging Modern Icelandic "
   ]
  },
  {
   "cell_type": "markdown",
   "metadata": {},
   "source": [
    "### The Tagset"
   ]
  },
  {
   "cell_type": "markdown",
   "metadata": {
    "collapsed": true
   },
   "source": [
    "* [Using available resources](http://www.malfong.is/index.php?lang=en&pg=ordtidnibok)\n",
    "\n",
    "* [Icelandic Frequency Corpus tagset](http://www.malfong.is/files/ot_tagset_files_en.pdf)"
   ]
  },
  {
   "cell_type": "markdown",
   "metadata": {},
   "source": [
    "#### Parsing a tag"
   ]
  },
  {
   "cell_type": "code",
   "execution_count": 1,
   "metadata": {
    "collapsed": true
   },
   "outputs": [],
   "source": [
    "from collections import defaultdict\n",
    "\n",
    "class POSElement:\n",
    "    verbose = defaultdict(str)\n",
    "    \n",
    "    def parse(tag, value):\n",
    "        return value"
   ]
  },
  {
   "cell_type": "code",
   "execution_count": 2,
   "metadata": {
    "collapsed": false
   },
   "outputs": [],
   "source": [
    "class Gender:\n",
    "    masculine = \"k\"\n",
    "    feminine = \"v\"\n",
    "    neuter = \"h\"\n",
    "    \n",
    "    verbose = defaultdict(str)\n",
    "    verbose[masculine] = \"masculine\" \n",
    "    verbose[feminine] = \"feminine\"\n",
    "    verbose[neuter] = \"neuter\"\n",
    "    \n",
    "    def parse(tag, value):\n",
    "        return value + \" \" + Gender.verbose[tag[0]]"
   ]
  },
  {
   "cell_type": "code",
   "execution_count": 3,
   "metadata": {
    "collapsed": true
   },
   "outputs": [],
   "source": [
    "class Number:\n",
    "    singular = \"e\"\n",
    "    plural = \"f\"\n",
    "    \n",
    "    verbose = defaultdict(str)\n",
    "    verbose[singular] = \"singular\" \n",
    "    verbose[plural] = \"plural\"\n",
    "    \n",
    "    def parse(tag, value):\n",
    "        return value + \" \" + Number.verbose[tag[0]]"
   ]
  },
  {
   "cell_type": "code",
   "execution_count": 4,
   "metadata": {
    "collapsed": true
   },
   "outputs": [],
   "source": [
    "class Case:\n",
    "    nominative = \"n\"\n",
    "    accusative = \"o\"\n",
    "    dative = \"þ\"\n",
    "    genitive = \"e\"\n",
    "    \n",
    "    verbose = defaultdict(str)\n",
    "    verbose[nominative] = \"nominative\" \n",
    "    verbose[accusative] = \"accusative\"\n",
    "    verbose[dative] = \"dative\"\n",
    "    verbose[genitive] = \"genitive\"\n",
    "    \n",
    "    def parse(tag, value):\n",
    "        return value + \" \" + Case.verbose[tag[0]]"
   ]
  },
  {
   "cell_type": "code",
   "execution_count": 5,
   "metadata": {
    "collapsed": false
   },
   "outputs": [],
   "source": [
    "class Declension:\n",
    "    strong = \"s\"\n",
    "    weak = \"v\"\n",
    "    indeclinable = \"o\"\n",
    "    \n",
    "    def parse(tag, value):\n",
    "        if Declension.strong == tag[0]:\n",
    "            value += \" strong\"\n",
    "        elif Declension.weak == tag[0]:\n",
    "            value += \" weak\"\n",
    "        elif Declension.indeclinable == tag[0]:\n",
    "            value += \" indeclinable\"\n",
    "        return value"
   ]
  },
  {
   "cell_type": "code",
   "execution_count": 6,
   "metadata": {
    "collapsed": true
   },
   "outputs": [],
   "source": [
    "class Degree:\n",
    "    positive = \"f\"\n",
    "    comparative = \"m\"\n",
    "    superlative = \"e\"\n",
    "    \n",
    "    def parse(tag, value):\n",
    "        if Degree.positive == tag[0]:\n",
    "            value += \" positive\"\n",
    "        elif Degree.comparative == tag[0]:\n",
    "            value += \" comparative\"\n",
    "        elif Degree.superlative == tag[0]:\n",
    "            value += \" superlative\"\n",
    "        return value"
   ]
  },
  {
   "cell_type": "code",
   "execution_count": 7,
   "metadata": {
    "collapsed": true
   },
   "outputs": [],
   "source": [
    "class ProperNoun:\n",
    "    person = \"m\"\n",
    "    place = \"ö\"\n",
    "    other = \"s\"\n",
    "    \n",
    "    def parse(tag, value):\n",
    "        if ProperNoun.person == tag[0]:\n",
    "            value += \" person\"\n",
    "        elif ProperNoun.place == tag[0]:\n",
    "            value += \" place\"\n",
    "        elif ProperNoun.other == tag[0]:\n",
    "            value += \" other\"\n",
    "        return value"
   ]
  },
  {
   "cell_type": "code",
   "execution_count": 8,
   "metadata": {
    "collapsed": true
   },
   "outputs": [],
   "source": [
    "class Pronoun:\n",
    "    demontrative = \"a\"\n",
    "    indefinite_demonstrative = \"b\"\n",
    "    prossessive = \"e\"\n",
    "    indefinite = \"o\"\n",
    "    personal = \"p\"\n",
    "    interrogative = \"s\"\n",
    "    relative = \"t\"\n",
    "    \n",
    "    def parse(tag, value):\n",
    "        if Pronoun.demontrative == tag[0]:\n",
    "            value += \" demontrative\"\n",
    "        elif Pronoun.indefinite_demonstrative == tag[0]:\n",
    "            value += \" indefinite_demonstrative\"\n",
    "        elif Pronoun.prossessive == tag[0]:\n",
    "            value += \" prossessive\"\n",
    "        elif Pronoun.indefinite == tag[0]:\n",
    "            value += \" indefinite\"\n",
    "        elif Pronoun.personal == tag[0]:\n",
    "            value += \" personal\"\n",
    "        elif Pronoun.interrogative == tag[0]:\n",
    "            value += \" interrogative\"\n",
    "        elif Pronoun.relative == tag[0]:\n",
    "            value += \" relative\"\n",
    "        return value"
   ]
  },
  {
   "cell_type": "code",
   "execution_count": 9,
   "metadata": {
    "collapsed": true
   },
   "outputs": [],
   "source": [
    "class Person:\n",
    "    first = \"1\"\n",
    "    second = \"2\"\n",
    "    third = \"3\"\n",
    "    \n",
    "    def parse(tag, value):\n",
    "        if Person.first == tag[0]:\n",
    "            value += \" first\"\n",
    "        elif Person.second == tag[0]:\n",
    "            value += \" second\"\n",
    "        elif Person.third == tag[0]:\n",
    "            value += \" third\"\n",
    "        return value"
   ]
  },
  {
   "cell_type": "code",
   "execution_count": 10,
   "metadata": {
    "collapsed": true
   },
   "outputs": [],
   "source": [
    "class NumberCategory:\n",
    "    cardinal = \"f\"\n",
    "    ordinal = \"o\"\n",
    "    \n",
    "    def parse(tag, value):\n",
    "        if NumberCategory.cardinal == tag[0]:\n",
    "            value += \" cardinal\"\n",
    "        elif NumberCategory.ordinal == tag[0]:\n",
    "            value += \" ordinal\"\n",
    "        return value "
   ]
  },
  {
   "cell_type": "code",
   "execution_count": 11,
   "metadata": {
    "collapsed": true
   },
   "outputs": [],
   "source": [
    "class Mood:\n",
    "    infinitive = \"n\"\n",
    "    imperative = \"b\"\n",
    "    indicative = \"f\"\n",
    "    subjunctive = \"v\"\n",
    "    supine = \"s\"\n",
    "    present_participe = \"l\"\n",
    "\n",
    "    def parse(tag, value):\n",
    "        if tag[0] == \"n\":\n",
    "            value += \" infinitive\"\n",
    "        elif tag[0] == \"b\":\n",
    "            value += \" imperative\"\n",
    "        elif tag[0] == \"f\":\n",
    "            value += \" indicative\"\n",
    "        elif tag[0] == \"v\":\n",
    "            value += \" subjunctive\"\n",
    "        elif tag[0] == \"s\":\n",
    "            value += \" supine\"\n",
    "        elif tag[0] == \"l\":\n",
    "            value += \" participe present\"\n",
    "        return value"
   ]
  },
  {
   "cell_type": "code",
   "execution_count": 12,
   "metadata": {
    "collapsed": true
   },
   "outputs": [],
   "source": [
    "class Voice:\n",
    "    active = \"g\"\n",
    "    middle = \"m\"\n",
    "    \n",
    "    def parse(tag, value):\n",
    "        if Voice.active == tag[0]:\n",
    "            value += \" active\"\n",
    "        elif Voice.middle == tag[0]:\n",
    "            value += \" middle\"\n",
    "        return value"
   ]
  },
  {
   "cell_type": "code",
   "execution_count": 13,
   "metadata": {
    "collapsed": true
   },
   "outputs": [],
   "source": [
    "class Tense:\n",
    "    present = \"n\"\n",
    "    past = \"þ\"\n",
    "    \n",
    "    def parse(tag, value):\n",
    "        if Tense.present == tag[0]:\n",
    "            value += \" present\"\n",
    "        elif Tense.past == tag[0]:\n",
    "            value += \" past\"\n",
    "        return value"
   ]
  },
  {
   "cell_type": "code",
   "execution_count": 14,
   "metadata": {
    "collapsed": false
   },
   "outputs": [],
   "source": [
    "class MainPOS:\n",
    "    noun = \"n\"\n",
    "    adjective = \"l\"\n",
    "    pronoun = \"f\"\n",
    "    article = \"g\"\n",
    "    numeral = \"t\"\n",
    "    verb = \"s\"\n",
    "    adverb = \"a\"\n",
    "    conjunction = \"c\"\n",
    "    foreign = \"e\"\n",
    "    unanalysed = \"x\"\n",
    "    punctuation = \"p\"\n",
    "    \n",
    "    def parse(tag):\n",
    "        \n",
    "        value = \"\"\n",
    "        if tag[0] == MainPOS.noun:\n",
    "            if len(tag) >= 4:\n",
    "                value = \"noun\"\n",
    "                value = Gender.parse(tag[1], value)\n",
    "                value = Number.parse(tag[2], value)\n",
    "                value = Case.parse(tag[3], value)\n",
    "                if len(tag) == 5:\n",
    "                    value = ProperNoun.parse(tag[4], value)            \n",
    "            return value\n",
    "            \n",
    "        elif tag[0] == MainPOS.adjective:\n",
    "            if len(tag) == 6:\n",
    "                value = \"adjective\"\n",
    "                value = Gender.parse(tag[1], value)\n",
    "                value = Number.parse(tag[2], value)\n",
    "                value = Case.parse(tag[3], value)\n",
    "                value = Declension.parse(tag[4], value)\n",
    "                value = Degree.parse(tag[5], value)\n",
    "            return value\n",
    "            \n",
    "        elif tag[0] == MainPOS.pronoun:\n",
    "            if len(tag) == 5:\n",
    "                value = \"pronoun\"\n",
    "                \n",
    "                value = Pronoun.parse(tag[1], value)\n",
    "                \n",
    "                value = Person.parse(tag[2], value)\n",
    "                value = Gender.parse(tag[2], value)\n",
    "                \n",
    "                value = Number.parse(tag[3], value)\n",
    "                value = Case.parse(tag[4], value)\n",
    "            return value\n",
    "            \n",
    "        \n",
    "        elif tag[0] == MainPOS.article:\n",
    "            if len(tag) == 4:\n",
    "                value = \"article\"\n",
    "                value = Gender.parse(tag[1], value)\n",
    "                value = Number.parse(tag[2], value)\n",
    "                value = Case.parse(tag[3], value)\n",
    "            return value\n",
    "        \n",
    "        elif tag[0] == MainPOS.numeral:\n",
    "            if len(tag) == 5:\n",
    "                value = \"numeral\"\n",
    "                value = NumberCategory.parse(tag[1], value)\n",
    "                value = Gender.parse(tag[2], value)\n",
    "                value = Number.parse(tag[3], value)\n",
    "                value = Case.parse(tag[4], value)\n",
    "                \n",
    "        elif tag[0] == MainPOS.verb:\n",
    "            if len(tag) == 3 and tag[1] == \"n\":\n",
    "                value = \"verb\"\n",
    "                value = Mood.parse(tag[1], value)\n",
    "                value = Voice.parse(tag[2], value)\n",
    "                \n",
    "            elif len(tag) == 6:\n",
    "                value = \"verb\" + value\n",
    "                value = Mood.parse(tag[1], value)\n",
    "                value = Voice.parse(tag[2], value)\n",
    "                value = Person.parse(tag[3], value)\n",
    "                value = Number.parse(tag[4], value)\n",
    "                value = Tense.parse(tag[5], value)\n",
    "            return value\n",
    "            \n",
    "        elif tag[0] == MainPOS.adverb:\n",
    "            if len(tag) == 2:\n",
    "                \n",
    "                value = \"adverb\"\n",
    "                if tag[1] == \"a\":\n",
    "                    value += \" no case \"\n",
    "                elif tag[1] == \"u\":\n",
    "                    value += \" exclamation\"\n",
    "                elif tag[1] == \"o\":\n",
    "                    value += \" accusative\"\n",
    "                elif tag[1] == \"þ\":\n",
    "                    value += \" dative\"\n",
    "                elif tag[1] == \"e\":\n",
    "                    value += \" genitive\"\n",
    "            return value\n",
    "            \n",
    "        elif tag[0] == MainPOS.conjunction:\n",
    "            if len(tag) == 2:\n",
    "                value += \"conjunction\"\n",
    "                if tag[1] == \"n\":\n",
    "                    value += \"\"\n",
    "                elif tag[1] == \"t\":\n",
    "                    value += \"\"\n",
    "                return value\n",
    "            \n",
    "        elif tag[0] == MainPOS.foreign:\n",
    "            value += \"foreign\"\n",
    "            return value\n",
    "            \n",
    "        elif tag[0] == MainPOS.unanalysed:\n",
    "            value = \"unanalysed word\"\n",
    "            return value\n",
    "        \n",
    "        elif tag[0] == MainPOS.punctuation:\n",
    "            value = \"punctuation\"\n",
    "            return value\n",
    "        \n",
    "        return value"
   ]
  },
  {
   "cell_type": "code",
   "execution_count": 15,
   "metadata": {
    "collapsed": true
   },
   "outputs": [],
   "source": [
    "def parse(tag):\n",
    "    if len(tag) > 0:\n",
    "        value = MainPOS.parse(tag.lower())\n",
    "    else:\n",
    "        value = \"\"\n",
    "    return value"
   ]
  },
  {
   "cell_type": "code",
   "execution_count": null,
   "metadata": {
    "collapsed": true
   },
   "outputs": [],
   "source": []
  },
  {
   "cell_type": "code",
   "execution_count": 16,
   "metadata": {
    "collapsed": false
   },
   "outputs": [],
   "source": [
    "import eddas"
   ]
  },
  {
   "cell_type": "code",
   "execution_count": 17,
   "metadata": {
    "collapsed": false
   },
   "outputs": [
    {
     "name": "stdout",
     "output_type": "stream",
     "text": [
      "Help on package eddas:\n",
      "\n",
      "NAME\n",
      "    eddas\n",
      "\n",
      "PACKAGE CONTENTS\n",
      "    pos\n",
      "    reader\n",
      "    tests\n",
      "    text_manager\n",
      "    utils\n",
      "\n",
      "FILE\n",
      "    /home/clementbesnier/languages/lib/python3.6/site-packages/eddas-1.3.1-py3.6.egg/eddas/__init__.py\n",
      "\n",
      "\n"
     ]
    }
   ],
   "source": [
    "help(eddas)"
   ]
  },
  {
   "cell_type": "code",
   "execution_count": 18,
   "metadata": {
    "collapsed": true
   },
   "outputs": [],
   "source": [
    "from eddas import reader"
   ]
  },
  {
   "cell_type": "code",
   "execution_count": 19,
   "metadata": {
    "collapsed": false
   },
   "outputs": [],
   "source": [
    "voeluspaa = reader.PoeticEddaPOSTaggedReader(\"Völuspá\")"
   ]
  },
  {
   "cell_type": "code",
   "execution_count": 20,
   "metadata": {
    "collapsed": false
   },
   "outputs": [
    {
     "data": {
      "text/plain": [
       "[[('1', 'TA')],\n",
       " [('Hljóðs', 'NHEE'), ('bið', 'SFG1EÞ'), ('ek', 'FP1EN'), ('allar', 'LVFOSF')],\n",
       " [('helgar', 'LVFOSF'), ('kindir', 'NVFO'), (',', 'P')],\n",
       " [('meiri', 'LVFOVM'), ('ok', 'CC'), ('minni', 'LVFOVM')],\n",
       " [('mögu', 'NKFO'), ('Heimdallar', 'NKEEM'), (';', 'P')],\n",
       " [('viltu', ''),\n",
       "  ('at', 'CN'),\n",
       "  ('ek', 'FP1EM'),\n",
       "  (',', 'P'),\n",
       "  ('Valföðr', 'NKENM'),\n",
       "  (',', 'P')],\n",
       " [('vel', 'AA'), ('fyr', 'CN'), ('telja', 'SG')],\n",
       " [('forn', 'LHFOSF'), ('spjöll', 'NHFO'), ('fira', 'NKFE'), (',', 'P')],\n",
       " [('þau', 'FA'),\n",
       "  ('er', 'CT'),\n",
       "  ('fremst', 'AAE'),\n",
       "  ('of', '?'),\n",
       "  ('man', 'SFG1EN'),\n",
       "  ('.', 'P')]]"
      ]
     },
     "execution_count": 20,
     "metadata": {},
     "output_type": "execute_result"
    }
   ],
   "source": [
    "voeluspaa.tagged_paras()[0]"
   ]
  },
  {
   "cell_type": "code",
   "execution_count": null,
   "metadata": {
    "collapsed": true
   },
   "outputs": [],
   "source": []
  },
  {
   "cell_type": "code",
   "execution_count": 21,
   "metadata": {
    "collapsed": false
   },
   "outputs": [
    {
     "data": {
      "text/plain": [
       "'verb indicative active third singular present'"
      ]
     },
     "execution_count": 21,
     "metadata": {},
     "output_type": "execute_result"
    }
   ],
   "source": [
    "parse(\"sfg3en\")"
   ]
  },
  {
   "cell_type": "code",
   "execution_count": 22,
   "metadata": {
    "collapsed": false
   },
   "outputs": [
    {
     "name": "stdout",
     "output_type": "stream",
     "text": [
      "('1', 'ta') \n",
      "('Hljóðs', 'nhee') noun neuter singular genitive\n",
      "('bið', 'sfg1eþ') verb indicative active first singular past\n",
      "('ek', 'fp1en') pronoun personal first  singular nominative\n",
      "('allar', 'lvfosf') adjective feminine plural accusative strong positive\n",
      "('helgar', 'lvfosf') adjective feminine plural accusative strong positive\n",
      "('kindir', 'nvfo') noun feminine plural accusative\n",
      "(',', 'p') punctuation\n",
      "('meiri', 'lvfovm') adjective feminine plural accusative weak comparative\n",
      "('ok', 'cc') conjunction\n",
      "('minni', 'lvfovm') adjective feminine plural accusative weak comparative\n",
      "('mögu', 'nkfo') noun masculine plural accusative\n",
      "('Heimdallar', 'nkeem') noun masculine singular genitive person\n",
      "(';', 'p') punctuation\n",
      "('viltu', '') \n",
      "('at', 'cn') conjunction\n",
      "('ek', 'fp1em') pronoun personal first  singular \n",
      "(',', 'p') punctuation\n",
      "('Valföðr', 'nkenm') noun masculine singular nominative person\n",
      "(',', 'p') punctuation\n",
      "('vel', 'aa') adverb no case \n",
      "('fyr', 'cn') conjunction\n",
      "('telja', 'sg') \n",
      "('forn', 'lhfosf') adjective neuter plural accusative strong positive\n",
      "('spjöll', 'nhfo') noun neuter plural accusative\n",
      "('fira', 'nkfe') noun masculine plural genitive\n",
      "(',', 'p') punctuation\n",
      "('þau', 'fa') \n",
      "('er', 'ct') conjunction\n",
      "('fremst', 'aae') \n",
      "('of', '?') \n",
      "('man', 'sfg1en') verb indicative active first singular present\n",
      "('.', 'p') punctuation\n"
     ]
    }
   ],
   "source": [
    "for sent in voeluspaa.tagged_paras()[0]:\n",
    "    for word, tag in sent:\n",
    "        print((word, tag.lower()), parse(tag))"
   ]
  },
  {
   "cell_type": "code",
   "execution_count": null,
   "metadata": {
    "collapsed": true
   },
   "outputs": [],
   "source": []
  },
  {
   "cell_type": "code",
   "execution_count": null,
   "metadata": {
    "collapsed": true
   },
   "outputs": [],
   "source": []
  },
  {
   "cell_type": "code",
   "execution_count": null,
   "metadata": {
    "collapsed": true
   },
   "outputs": [],
   "source": []
  },
  {
   "cell_type": "markdown",
   "metadata": {},
   "source": [
    "### Training the tagger"
   ]
  },
  {
   "cell_type": "code",
   "execution_count": null,
   "metadata": {
    "collapsed": true
   },
   "outputs": [],
   "source": []
  },
  {
   "cell_type": "code",
   "execution_count": null,
   "metadata": {
    "collapsed": true
   },
   "outputs": [],
   "source": []
  },
  {
   "cell_type": "markdown",
   "metadata": {},
   "source": [
    "## Tagging the Old Norse texts"
   ]
  },
  {
   "cell_type": "code",
   "execution_count": null,
   "metadata": {
    "collapsed": true
   },
   "outputs": [],
   "source": []
  },
  {
   "cell_type": "code",
   "execution_count": null,
   "metadata": {
    "collapsed": true
   },
   "outputs": [],
   "source": []
  },
  {
   "cell_type": "markdown",
   "metadata": {},
   "source": [
    "### Old Norse vs. Modern Icelandic"
   ]
  },
  {
   "cell_type": "code",
   "execution_count": null,
   "metadata": {
    "collapsed": true
   },
   "outputs": [],
   "source": []
  },
  {
   "cell_type": "markdown",
   "metadata": {},
   "source": [
    "### The Old Norse Corpus"
   ]
  },
  {
   "cell_type": "code",
   "execution_count": null,
   "metadata": {
    "collapsed": true
   },
   "outputs": [],
   "source": []
  },
  {
   "cell_type": "code",
   "execution_count": null,
   "metadata": {
    "collapsed": true
   },
   "outputs": [],
   "source": []
  },
  {
   "cell_type": "markdown",
   "metadata": {},
   "source": [
    "### Training the tagger on the Old Norse corpus"
   ]
  },
  {
   "cell_type": "code",
   "execution_count": null,
   "metadata": {
    "collapsed": true
   },
   "outputs": [],
   "source": []
  },
  {
   "cell_type": "code",
   "execution_count": null,
   "metadata": {
    "collapsed": true
   },
   "outputs": [],
   "source": []
  },
  {
   "cell_type": "markdown",
   "metadata": {},
   "source": [
    "## Tagged texts in syntactic research"
   ]
  },
  {
   "cell_type": "code",
   "execution_count": null,
   "metadata": {
    "collapsed": true
   },
   "outputs": [],
   "source": []
  },
  {
   "cell_type": "markdown",
   "metadata": {},
   "source": [
    "### Object Shift"
   ]
  },
  {
   "cell_type": "code",
   "execution_count": null,
   "metadata": {
    "collapsed": true
   },
   "outputs": [],
   "source": []
  },
  {
   "cell_type": "markdown",
   "metadata": {},
   "source": [
    "### Passive"
   ]
  },
  {
   "cell_type": "code",
   "execution_count": null,
   "metadata": {
    "collapsed": true
   },
   "outputs": [],
   "source": []
  }
 ],
 "metadata": {
  "kernelspec": {
   "display_name": "languages",
   "language": "python",
   "name": "languages"
  },
  "language_info": {
   "codemirror_mode": {
    "name": "ipython",
    "version": 3
   },
   "file_extension": ".py",
   "mimetype": "text/x-python",
   "name": "python",
   "nbconvert_exporter": "python",
   "pygments_lexer": "ipython3",
   "version": "3.6.0"
  }
 },
 "nbformat": 4,
 "nbformat_minor": 0
}
