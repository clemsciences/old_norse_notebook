{
 "cells": [
  {
   "cell_type": "markdown",
   "metadata": {},
   "source": [
    "# Old Norse with CLTK\n",
    "\n",
    "Process your Old Norse texts thanks to cltk. Here are presented several tools adapted to Old Norse."
   ]
  },
  {
   "cell_type": "markdown",
   "metadata": {},
   "source": [
    "### Import Old Norse corpora\n",
    "* old_norse_text_perseus contains different Old Norse books\n",
    "* old_norse_texts_heimskringla contains the Eddas\n",
    "* old_norse_models_cltk is data for a Part Of Speech tagger \n",
    "\n",
    "By default, corpora are imported into ~/cltk_data."
   ]
  },
  {
   "cell_type": "code",
   "execution_count": 1,
   "metadata": {
    "collapsed": false
   },
   "outputs": [],
   "source": [
    "import os\n",
    "from cltk.corpus.utils.importer import CorpusImporter\n",
    "\n",
    "if \"HOMEPATH\" in os.environ:\n",
    "    USER_PATH = os.environ[\"HOMEPATH\"]\n",
    "else:\n",
    "    USER_PATH = os.environ[\"HOME\"]\n",
    "\n",
    "onc = CorpusImporter(\"old_norse\")\n",
    "onc.import_corpus(\"old_norse_text_perseus\")\n",
    "onc.import_corpus(\"old_norse_texts_heimskringla\")\n",
    "onc.import_corpus(\"old_norse_models_cltk\")"
   ]
  },
  {
   "cell_type": "markdown",
   "metadata": {},
   "source": [
    "### Configure IPython\n",
    "\n",
    "Configure IPython if you want to use this notebook\n",
    "```bash\n",
    "$ ipython profile create\n",
    "$ ipython locate\n",
    "$ nano ~/.ipython/profile_default/ipython_config.py\n",
    "```\n",
    "Add it a the end of the file:\n",
    "```python\n",
    "c.InteractiveShellApp.exec_lines = [\n",
    "    'import sys; sys.path.append(\"~/cltk_data/old_norse\")'\n",
    "]\n",
    "```\n",
    "And... It's done!"
   ]
  },
  {
   "cell_type": "markdown",
   "metadata": {},
   "source": [
    "### old_norse_text_perseus"
   ]
  },
  {
   "cell_type": "code",
   "execution_count": 2,
   "metadata": {
    "collapsed": false
   },
   "outputs": [
    {
     "name": "stdout",
     "output_type": "stream",
     "text": [
      "Nú berr svá til, at þeir koma \n",
      "HEIMIR í Hlymdölum spyrr nú þe\n",
      "Ögmundr er maðr nefndr, er kal\n",
      "Sigurðr hefir átt sér einn fós\n",
      "Nú ráða þeir þat með sér, at þ\n",
      "Eysteinn hefir konungr heitit,\n",
      "Nú halda þeir í brott þaðan, þ\n",
      "Nú er þat eitt sumar, at hann \n",
      "Þetta spyrst til skipa Ragnars\n",
      "Herruðr hét jarl ríkr ok ágætr\n",
      "Sá atburðr hefir verit út í lö\n",
      "Nú er þar til máls at taka, er\n",
      "Nú ráða þeir þetta með sér, at\n",
      "Nú segir hann, at honum lízt v\n",
      "Í þann tíma réð fyrir Danmörku\n",
      "Nú er þat eitthvert sinn, at m\n",
      "Nú líða stundir fram, ok var s\n",
      "Nú halda þeir þangat, ok er þe\n",
      "Nú er sú stund var liðin, er á\n",
      "Eptir þetta fara þeir Hvítserk\n"
     ]
    }
   ],
   "source": [
    "import os\n",
    "import json\n",
    "\n",
    "corpus = os.path.join(USER_PATH, \"cltk_data/old_norse/text/old_norse_text_perseus/plain_text/Ragnars_saga_loðbrókar_ok_sona_hans\")\n",
    "chapters = []\n",
    "for filename in os.listdir(corpus):\n",
    "    with open(os.path.join(corpus, filename), encoding=\"utf-8\") as f:\n",
    "        chapter_text = f.read()  # json.load(filename)\n",
    "        print(chapter_text[:30])\n",
    "        chapters.append(chapter_text)"
   ]
  },
  {
   "cell_type": "markdown",
   "metadata": {},
   "source": [
    "### old_norse_texts_heimskringla"
   ]
  },
  {
   "cell_type": "code",
   "execution_count": 3,
   "metadata": {
    "collapsed": false
   },
   "outputs": [
    {
     "name": "stdout",
     "output_type": "stream",
     "text": [
      "['Snorra-Edda', 'Sæmundar-Edda']\n",
      "\n",
      "Atlakviða\n",
      "\n",
      "Dauði Atla\n",
      "\n",
      "Guðrún Gjúkadóttir hefndi bræðra sinna, svá sem frægt er orðit. Hon drap fyr\n"
     ]
    }
   ],
   "source": [
    "from eddas.text_manager import *\n",
    "corpus_path = USER_PATH+\"/cltk_data/old_norse/text/old_norse_texts_heimskringla\"\n",
    "here = os.getcwd()\n",
    "os.chdir(corpus_path)\n",
    "loader = TextLoader(os.path.join(corpus_path, \"Sæmundar-Edda\", \"Atlakviða\"), \"txt\")\n",
    "print(loader.get_available_names())\n",
    "complete_text = loader.load()\n",
    "print(complete_text[:100])\n",
    "os.chdir(here)"
   ]
  },
  {
   "cell_type": "markdown",
   "metadata": {},
   "source": [
    "### POS tagging\n",
    "Unknown tags are marked with 'Unk'."
   ]
  },
  {
   "cell_type": "code",
   "execution_count": 4,
   "metadata": {
    "collapsed": false
   },
   "outputs": [
    {
     "data": {
      "text/plain": [
       "[('Hlióðs', 'Unk'),\n",
       " ('bið', 'VBPI'),\n",
       " ('ek', 'PRO-N'),\n",
       " ('allar', 'Q-A'),\n",
       " ('.', '.')]"
      ]
     },
     "execution_count": 4,
     "metadata": {},
     "output_type": "execute_result"
    }
   ],
   "source": [
    "from cltk.tag.pos import POSTag\n",
    "tagger = POSTag('old_norse')\n",
    "sent = 'Hlióðs bið ek allar.'\n",
    "tagger.tag_tnt(sent)"
   ]
  },
  {
   "cell_type": "markdown",
   "metadata": {},
   "source": [
    "### Word tokenizing\n",
    "For now, the word tokenizer is basic, but Old Norse actually does not need a sophisticated one."
   ]
  },
  {
   "cell_type": "code",
   "execution_count": 5,
   "metadata": {
    "collapsed": false
   },
   "outputs": [
    {
     "data": {
      "text/plain": [
       "['Gylfi', 'konungr', 'var', 'maðr', 'vitr', 'ok', 'fjölkunnigr', '.']"
      ]
     },
     "execution_count": 5,
     "metadata": {},
     "output_type": "execute_result"
    }
   ],
   "source": [
    "from cltk.tokenize.word import WordTokenizer\n",
    "word_tokenizer = WordTokenizer('old_norse')\n",
    "sentence = \"Gylfi konungr var maðr vitr ok fjölkunnigr.\"\n",
    "word_tokenizer.tokenize(sentence)"
   ]
  },
  {
   "cell_type": "markdown",
   "metadata": {},
   "source": [
    "### Old Norse Stop Words\n",
    "A list of stop words was elaborated with the most insignificant words of a sentence. Of course, according to your needs, you can change it."
   ]
  },
  {
   "cell_type": "code",
   "execution_count": 6,
   "metadata": {
    "collapsed": false
   },
   "outputs": [
    {
     "data": {
      "text/plain": [
       "['var',\n",
       " 'einn',\n",
       " 'morgin',\n",
       " ',',\n",
       " 'karlsefni',\n",
       " 'rjóðrit',\n",
       " 'flekk',\n",
       " 'nökkurn',\n",
       " ',',\n",
       " 'glitraði']"
      ]
     },
     "execution_count": 6,
     "metadata": {},
     "output_type": "execute_result"
    }
   ],
   "source": [
    "from nltk.tokenize.punkt import PunktLanguageVars\n",
    "from cltk.stop.old_norse.stops import STOPS_LIST\n",
    "sentence = 'Þat var einn morgin, er þeir Karlsefni sá fyrir ofan rjóðrit flekk nökkurn, sem glitraði við þeim'\n",
    "p = PunktLanguageVars()\n",
    "\n",
    "tokens = p.word_tokenize(sentence.lower())\n",
    "[w for w in tokens if not w in STOPS_LIST]"
   ]
  },
  {
   "cell_type": "markdown",
   "metadata": {},
   "source": [
    "### Swadesh list for Old Norse\n",
    "In the following Swadesh list, an item may have several words if they have a similar meaning, and some words lack because I have not found any corresponding Old Norse word."
   ]
  },
  {
   "cell_type": "code",
   "execution_count": 7,
   "metadata": {
    "collapsed": false
   },
   "outputs": [
    {
     "data": {
      "text/plain": [
       "['ek',\n",
       " 'þú',\n",
       " 'hann',\n",
       " 'vér',\n",
       " 'þér',\n",
       " 'þeir',\n",
       " 'sjá, þessi',\n",
       " 'sá',\n",
       " 'hér',\n",
       " 'þar',\n",
       " 'hvar',\n",
       " 'hvat',\n",
       " 'hvar',\n",
       " 'hvenær',\n",
       " 'hvé',\n",
       " 'eigi',\n",
       " 'allr',\n",
       " 'margr',\n",
       " 'nǫkkurr',\n",
       " 'fár',\n",
       " 'annarr',\n",
       " 'einn',\n",
       " 'tveir',\n",
       " 'þrír',\n",
       " 'fjórir',\n",
       " 'fimm',\n",
       " 'stórr',\n",
       " 'langr',\n",
       " 'breiðr',\n",
       " 'þykkr']"
      ]
     },
     "execution_count": 7,
     "metadata": {},
     "output_type": "execute_result"
    }
   ],
   "source": [
    "from cltk.corpus.swadesh import Swadesh\n",
    "swadesh = Swadesh('old_norse')\n",
    "words = swadesh.words()\n",
    "words[:30]"
   ]
  },
  {
   "cell_type": "markdown",
   "metadata": {},
   "source": [
    "### Inflections of Old Norse words: nouns, pronouns and verbs"
   ]
  },
  {
   "cell_type": "code",
   "execution_count": 8,
   "metadata": {
    "collapsed": true
   },
   "outputs": [],
   "source": [
    "from cltk.inflection.old_norse import nouns"
   ]
  },
  {
   "cell_type": "code",
   "execution_count": 9,
   "metadata": {
    "collapsed": false
   },
   "outputs": [
    {
     "name": "stdout",
     "output_type": "stream",
     "text": [
      "Breðafönn\n",
      "Breðafönn\n",
      "Breðafönn\n",
      "Breðafannar\n",
      "Breðafannir\n",
      "Breðafannir\n",
      "breðöfunnum\n",
      "Breðafanna\n"
     ]
    }
   ],
   "source": [
    "nouns.decline_strong_feminine_noun(\"Breðafönn\", \"Breðafannar\", \"Breðafannir\")"
   ]
  },
  {
   "cell_type": "code",
   "execution_count": 10,
   "metadata": {
    "collapsed": true
   },
   "outputs": [],
   "source": [
    "from cltk.inflection.old_norse import pronouns"
   ]
  },
  {
   "cell_type": "code",
   "execution_count": 11,
   "metadata": {
    "collapsed": false
   },
   "outputs": [
    {
     "data": {
      "text/plain": [
       "[['þú', 'þik', 'þér', 'þín'], ['ér', 'yðr', 'yðr', 'yðar']]"
      ]
     },
     "execution_count": 11,
     "metadata": {},
     "output_type": "execute_result"
    }
   ],
   "source": [
    "pronouns.pro_personal_pronouns_thu.declension"
   ]
  },
  {
   "cell_type": "code",
   "execution_count": 12,
   "metadata": {
    "collapsed": true
   },
   "outputs": [],
   "source": [
    "from cltk.inflection.old_norse import verbs"
   ]
  },
  {
   "cell_type": "code",
   "execution_count": 13,
   "metadata": {
    "collapsed": true
   },
   "outputs": [],
   "source": [
    "verb = verbs.WeakOldNorseVerb()"
   ]
  },
  {
   "cell_type": "code",
   "execution_count": 14,
   "metadata": {
    "collapsed": false
   },
   "outputs": [
    {
     "name": "stdout",
     "output_type": "stream",
     "text": [
      "Help on WeakOldNorseVerb in module cltk.inflection.old_norse.verbs object:\n",
      "\n",
      "class WeakOldNorseVerb(OldNorseVerb)\n",
      " |  Method resolution order:\n",
      " |      WeakOldNorseVerb\n",
      " |      OldNorseVerb\n",
      " |      builtins.object\n",
      " |  \n",
      " |  Methods defined here:\n",
      " |  \n",
      " |  __init__(self)\n",
      " |      Initialize self.  See help(type(self)) for accurate signature.\n",
      " |  \n",
      " |  classify(self)\n",
      " |  \n",
      " |  past_active(self)\n",
      " |      Weak verbs\n",
      " |      I\n",
      " |      >>> verb = WeakOldNorseVerb()\n",
      " |      >>> verb.set_canonic_forms([\"kalla\", \"kallaði\", \"kallaðinn\"])\n",
      " |      >>> verb.past_active()\n",
      " |      ['kallaða', 'kallaðir', 'kallaði', 'kölluðum', 'kölluðuð', 'kölluðu']\n",
      " |      \n",
      " |      II\n",
      " |      >>> verb = WeakOldNorseVerb()\n",
      " |      >>> verb.set_canonic_forms([\"mæla\", \"mælti\", \"mæltr\"])\n",
      " |      >>> verb.past_active()\n",
      " |      ['mælta', 'mæltir', 'mælti', 'mæltum', 'mæltuð', 'mæltu']\n",
      " |      \n",
      " |      III\n",
      " |      >>> verb = WeakOldNorseVerb()\n",
      " |      >>> verb.set_canonic_forms([\"telja\", \"taldi\", \"talinn\"])\n",
      " |      >>> verb.past_active()\n",
      " |      ['talda', 'taldir', 'taldi', 'töldum', 'tölduð', 'töldu']\n",
      " |      \n",
      " |      IV\n",
      " |      >>> verb = WeakOldNorseVerb()\n",
      " |      >>> verb.set_canonic_forms([\"vaka\", \"vakti\", \"vakat\"])\n",
      " |      >>> verb.past_active()\n",
      " |      ['vakta', 'vaktir', 'vakti', 'vöktum', 'vöktuð', 'vöktu']\n",
      " |      \n",
      " |      :return:\n",
      " |  \n",
      " |  past_active_subjunctive(self)\n",
      " |      Weak verbs\n",
      " |      I\n",
      " |      >>> verb = WeakOldNorseVerb()\n",
      " |      >>> verb.set_canonic_forms([\"kalla\", \"kallaði\", \"kallaðinn\"])\n",
      " |      >>> verb.past_active_subjunctive()\n",
      " |      ['kallaða', 'kallaðir', 'kallaði', 'kallaðim', 'kallaðið', 'kallaði']\n",
      " |      \n",
      " |      II\n",
      " |      >>> verb = WeakOldNorseVerb()\n",
      " |      >>> verb.set_canonic_forms([\"mæla\", \"mælti\", \"mæltr\"])\n",
      " |      >>> verb.past_active_subjunctive()\n",
      " |      ['mælta', 'mæltir', 'mælti', 'mæltim', 'mæltið', 'mælti']\n",
      " |      \n",
      " |      III\n",
      " |      >>> verb = WeakOldNorseVerb()\n",
      " |      >>> verb.set_canonic_forms([\"telja\", \"taldi\", \"talinn\"])\n",
      " |      >>> verb.past_active_subjunctive()\n",
      " |      ['telda', 'teldir', 'teldi', 'teldim', 'teldið', 'teldi']\n",
      " |      \n",
      " |      IV\n",
      " |      >>> verb = WeakOldNorseVerb()\n",
      " |      >>> verb.set_canonic_forms([\"vaka\", \"vakti\", \"vakat\"])\n",
      " |      >>> verb.past_active_subjunctive()\n",
      " |      ['vekta', 'vektir', 'vekti', 'vektim', 'vektið', 'vekti']\n",
      " |      \n",
      " |      :return:\n",
      " |  \n",
      " |  past_participle(self)\n",
      " |      Weak verbs\n",
      " |      I\n",
      " |      >>> verb = WeakOldNorseVerb()\n",
      " |      >>> verb.set_canonic_forms([\"kalla\", \"kallaði\", \"kallaðr\"])\n",
      " |      >>> verb.past_participle()\n",
      " |      [['kallaðr', 'kallaðan', 'kölluðum', 'kallaðs', 'kallaðir', 'kallaða', 'kölluðum', 'kallaðra'], ['kölluð', 'kallaða', 'kallaðri', 'kallaðrar', 'kallaðar', 'kallaðar', 'kölluðum', 'kallaðra'], ['kallatt', 'kallatt', 'kölluðu', 'kallaðs', 'kölluð', 'kölluð', 'kölluðum', 'kallaðra']]\n",
      " |      \n",
      " |      II\n",
      " |      >>> verb = WeakOldNorseVerb()\n",
      " |      >>> verb.set_canonic_forms([\"mæla\", \"mælti\", \"mæltr\"])\n",
      " |      >>> verb.past_participle()\n",
      " |      [['mæltr', 'mæltan', 'mæltum', 'mælts', 'mæltir', 'mælta', 'mæltum', 'mæltra'], ['mælt', 'mælta', 'mæltri', 'mæltrar', 'mæltar', 'mæltar', 'mæltum', 'mæltra'], ['mælt', 'mælt', 'mæltu', 'mælts', 'mælt', 'mælt', 'mæltum', 'mæltra']]\n",
      " |      \n",
      " |      III\n",
      " |      # >>> verb = WeakOldNorseVerb()\n",
      " |      # >>> verb.set_canonic_forms([\"telja\", \"taldi\", \"talinn\"])\n",
      " |      # >>> verb.past_participle()\n",
      " |      \n",
      " |      IV\n",
      " |      # >>> verb = WeakOldNorseVerb()\n",
      " |      # >>> verb.set_canonic_forms([\"vaka\", \"vakti\", \"vakat\"])\n",
      " |      # >>> verb.past_participle()\n",
      " |      \n",
      " |      :return:\n",
      " |  \n",
      " |  present_active(self)\n",
      " |      Weak verbs\n",
      " |      I\n",
      " |      >>> verb = WeakOldNorseVerb()\n",
      " |      >>> verb.set_canonic_forms([\"kalla\", \"kallaði\", \"kallaðinn\"])\n",
      " |      >>> verb.present_active()\n",
      " |      ['kalla', 'kallar', 'kallar', 'köllum', 'kallið', 'kalla']\n",
      " |      \n",
      " |      II\n",
      " |      >>> verb = WeakOldNorseVerb()\n",
      " |      >>> verb.set_canonic_forms([\"mæla\", \"mælti\", \"mæltr\"])\n",
      " |      >>> verb.present_active()\n",
      " |      ['mæli', 'mælir', 'mælir', 'mælum', 'mælið', 'mæla']\n",
      " |      \n",
      " |      III\n",
      " |      >>> verb = WeakOldNorseVerb()\n",
      " |      >>> verb.set_canonic_forms([\"telja\", \"taldi\", \"talinn\"])\n",
      " |      >>> verb.present_active()\n",
      " |      ['tel', 'telr', 'telr', 'teljum', 'telið', 'telja']\n",
      " |      \n",
      " |      IV\n",
      " |      >>> verb = WeakOldNorseVerb()\n",
      " |      >>> verb.set_canonic_forms([\"vaka\", \"vakti\", \"vakat\"])\n",
      " |      >>> verb.present_active()\n",
      " |      ['vaki', 'vakir', 'vakir', 'vökum', 'vakið', 'vaka']\n",
      " |      \n",
      " |      :return:\n",
      " |  \n",
      " |  present_active_subjunctive(self)\n",
      " |      Weak verbs\n",
      " |      I\n",
      " |      >>> verb = WeakOldNorseVerb()\n",
      " |      >>> verb.set_canonic_forms([\"kalla\", \"kallaði\", \"kallaðinn\"])\n",
      " |      >>> verb.present_active_subjunctive()\n",
      " |      ['kalla', 'kallir', 'kalli', 'kallim', 'kallið', 'kalli']\n",
      " |      \n",
      " |      II\n",
      " |      >>> verb = WeakOldNorseVerb()\n",
      " |      >>> verb.set_canonic_forms([\"mæla\", \"mælti\", \"mæltr\"])\n",
      " |      >>> verb.present_active_subjunctive()\n",
      " |      ['mæla', 'mælir', 'mæli', 'mælim', 'mælið', 'mæli']\n",
      " |      \n",
      " |      III\n",
      " |      >>> verb = WeakOldNorseVerb()\n",
      " |      >>> verb.set_canonic_forms([\"telja\", \"taldi\", \"talinn\"])\n",
      " |      >>> verb.present_active_subjunctive()\n",
      " |      ['telja', 'telir', 'teli', 'telim', 'telið', 'teli']\n",
      " |      \n",
      " |      IV\n",
      " |      >>> verb = WeakOldNorseVerb()\n",
      " |      >>> verb.set_canonic_forms([\"vaka\", \"vakta\", \"vakat\"])\n",
      " |      >>> verb.present_active_subjunctive()\n",
      " |      ['vaka', 'vakir', 'vaki', 'vakim', 'vakið', 'vaki']\n",
      " |      \n",
      " |      :return:\n",
      " |  \n",
      " |  set_canonic_forms(self, canonic_forms:List[str])\n",
      " |      Weak verbs\n",
      " |      I\n",
      " |      >>> verb = WeakOldNorseVerb()\n",
      " |      >>> verb.set_canonic_forms([\"kalla\", \"kallaði\", \"kallaðinn\"])\n",
      " |      >>> verb.subclass\n",
      " |      1\n",
      " |      \n",
      " |      II\n",
      " |      >>> verb = WeakOldNorseVerb()\n",
      " |      >>> verb.set_canonic_forms([\"mæla\", \"mælti\", \"mæltr\"])\n",
      " |      >>> verb.subclass\n",
      " |      2\n",
      " |      \n",
      " |      III\n",
      " |      >>> verb = WeakOldNorseVerb()\n",
      " |      >>> verb.set_canonic_forms([\"telja\", \"taldi\", \"talinn\"])\n",
      " |      >>> verb.subclass\n",
      " |      3\n",
      " |      \n",
      " |      IV\n",
      " |      >>> verb = WeakOldNorseVerb()\n",
      " |      >>> verb.set_canonic_forms([\"vaka\", \"vakta\", \"vakat\"])\n",
      " |      >>> verb.subclass\n",
      " |      4\n",
      " |      \n",
      " |      :param canonic_forms: (infinitive, third person singular past indicative,\n",
      " |      past participle masculine singular nominative)\n",
      " |      :return:\n",
      " |  \n",
      " |  ----------------------------------------------------------------------\n",
      " |  Methods inherited from OldNorseVerb:\n",
      " |  \n",
      " |  get_form(self, *args:List[str])\n",
      " |      :param args:\n",
      " |      :return:\n",
      " |  \n",
      " |  ----------------------------------------------------------------------\n",
      " |  Data descriptors inherited from OldNorseVerb:\n",
      " |  \n",
      " |  __dict__\n",
      " |      dictionary for instance variables (if defined)\n",
      " |  \n",
      " |  __weakref__\n",
      " |      list of weak references to the object (if defined)\n",
      "\n"
     ]
    }
   ],
   "source": [
    "help(verb)"
   ]
  },
  {
   "cell_type": "code",
   "execution_count": 15,
   "metadata": {
    "collapsed": false
   },
   "outputs": [],
   "source": [
    "verb.set_canonic_forms([\"jafna\", \"jafnaði\", \"jafnaðinn\"])"
   ]
  },
  {
   "cell_type": "code",
   "execution_count": 16,
   "metadata": {
    "collapsed": false
   },
   "outputs": [
    {
     "data": {
      "text/plain": [
       "['jafna', 'jafnar', 'jafnar', 'jöfnum', 'jafnið', 'jafna']"
      ]
     },
     "execution_count": 16,
     "metadata": {},
     "output_type": "execute_result"
    }
   ],
   "source": [
    "verb.present_active()"
   ]
  },
  {
   "cell_type": "code",
   "execution_count": 17,
   "metadata": {
    "collapsed": false
   },
   "outputs": [
    {
     "data": {
      "text/plain": [
       "['jafnaða', 'jafnaðir', 'jafnaði', 'jöfnuðum', 'jöfnuðuð', 'jöfnuðu']"
      ]
     },
     "execution_count": 17,
     "metadata": {},
     "output_type": "execute_result"
    }
   ],
   "source": [
    "verb.past_active()"
   ]
  },
  {
   "cell_type": "markdown",
   "metadata": {},
   "source": [
    "By Clément Besnier, email address: clemsciences@aol.com"
   ]
  }
 ],
 "metadata": {
  "kernelspec": {
   "display_name": "Environment (old_norse_notebook)",
   "language": "",
   "name": "old_norse_notebook"
  },
  "language_info": {
   "codemirror_mode": {
    "name": "ipython",
    "version": 3
   },
   "file_extension": ".py",
   "mimetype": "text/x-python",
   "name": "python",
   "nbconvert_exporter": "python",
   "pygments_lexer": "ipython3",
   "version": "3.6.0"
  }
 },
 "nbformat": 4,
 "nbformat_minor": 1
}
