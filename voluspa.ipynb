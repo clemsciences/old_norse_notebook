{
 "cells": [
  {
   "cell_type": "markdown",
   "metadata": {},
   "source": [
    "# Völuspá analysis\n",
    "\n",
    "The aim of this notebook is to see how the use of NLP techniques may help philological studies. My first analysis is on Völuspá (*Prophecy of the Seeress*), the first poem of the Elder Edda, telling the destiny of the worlds: from its creation to its end."
   ]
  },
  {
   "cell_type": "markdown",
   "metadata": {},
   "source": [
    "## Contents\n",
    "\n",
    "* Download used corpora\n",
    "* Read them\n",
    "* Retrieve the original structure\n",
    "* Syllabification\n",
    "* Transcribe phonetically the text\n",
    "* Alliteration\n",
    "* Vocabulary\n",
    "* Frequency\n",
    "* Poetry\n"
   ]
  },
  {
   "cell_type": "markdown",
   "metadata": {},
   "source": [
    "### All imports"
   ]
  },
  {
   "cell_type": "code",
   "execution_count": 1,
   "metadata": {},
   "outputs": [],
   "source": [
    "import os\n",
    "module_path = os.path.join(os.environ[\"HOME\"], \"cltk_data/old_norse/text/old_norse_texts_heimskringla/\")\n",
    "import re\n",
    "import sys\n",
    "sys.path.append(module_path)\n",
    "from collections import Counter\n",
    "\n",
    "from cltk.corpus.utils.importer import CorpusImporter\n",
    "from cltk.corpus.old_norse.syllabifier import hierarchy\n",
    "from cltk.phonology import utils as phu\n",
    "from cltk.phonology.old_norse import transcription as ont \n",
    "from cltk.utils.frequency import Frequency\n",
    "from cltk.tag.pos import POSTag\n",
    "from cltk.prosody.old_norse.verse import VerseManager, Fornyrdhislag, Ljoodhhaattr, ShortLine, LongLine\n",
    "\n",
    "from old_norse.text.old_norse_texts_heimskringla import text_manager\n",
    "from old_norse.text.old_norse_texts_heimskringla import reader as heim_reader\n",
    "#from syllabified_text_reader import read_annotated_text\n",
    "\n",
    "from matplotlib import pyplot as plt\n",
    "import numpy as np\n",
    "\n",
    "import warnings\n",
    "warnings.simplefilter(\"ignore\")\n",
    "\n",
    "%matplotlib inline"
   ]
  },
  {
   "cell_type": "markdown",
   "metadata": {},
   "source": [
    "### Download Old Norse Corpora to cltk_data directory"
   ]
  },
  {
   "cell_type": "code",
   "execution_count": 2,
   "metadata": {},
   "outputs": [
    {
     "data": {
      "text/plain": [
       "'/home/pi/cltk_data/old_norse/text/old_norse_texts_heimskringla/reader.py'"
      ]
     },
     "execution_count": 2,
     "metadata": {},
     "output_type": "execute_result"
    }
   ],
   "source": [
    "onc = CorpusImporter(\"old_norse\")\n",
    "onc.import_corpus(\"old_norse_texts_heimskringla\")\n",
    "onc.import_corpus('old_norse_models_cltk')\n",
    "heim_reader.__file__"
   ]
  },
  {
   "cell_type": "markdown",
   "metadata": {
    "collapsed": true
   },
   "source": [
    "Configure **ipython**.\n",
    "\n",
    "```bash\n",
    "$ ipython profile create\n",
    "$ ipython locate\n",
    "$ nano .ipython/profile_default/ipython_config.py\n",
    "```\n",
    " Add it a the end of the file:\n",
    "```bash\n",
    "c.InteractiveShellApp.exec_lines = [\n",
    "    'import sys; import os; sys.path.append(os.path.join(os.environ[\"HOME\"], \"cltk_data\"))',\n",
    "    'import sys; import os; sys.path.append(os.path.join(os.environ[\"HOME\"], \"cltk_data\", \"text\", \"old_norse_texts_heimskringla\"))'\n",
    "]\n",
    "```\n",
    "It is necessary to do that because it makes things easier to utilize data furnished by CLTK. You will see later in the notebook how it is used.\n",
    "\n",
    "Install the **kernel** associated with **python3.6** [https://ipython.readthedocs.io/en/stable/install/kernel_install.html](https://ipython.readthedocs.io/en/stable/install/kernel_install.html) "
   ]
  },
  {
   "cell_type": "code",
   "execution_count": 3,
   "metadata": {},
   "outputs": [
    {
     "name": "stdout",
     "output_type": "stream",
     "text": [
      "1.\n",
      "Hljóðs bið ek allar\n",
      "helgar kindir,\n",
      "meiri ok minni\n",
      "mögu Heimdallar;\n",
      "viltu at ek, Valföðr,\n",
      "vel fyr telja\n",
      "forn spjöll fira,\n",
      "þau er fremst of man.\n",
      " \n",
      "2.\n",
      "Ek man jötna\n",
      "ár of borna,\n",
      "þá er forðum mik\n",
      "fædda \n"
     ]
    }
   ],
   "source": [
    "loader = text_manager.TextLoader(os.path.join(module_path, \"Sæmundar-Edda\", \"Völuspá\"), \"txt\")\n",
    "text = loader.load()\n",
    "print(text[:200])"
   ]
  },
  {
   "cell_type": "markdown",
   "metadata": {},
   "source": [
    "### Split text in paragraphs ans verses\n",
    "Extract the organisation of verses in Völuspá"
   ]
  },
  {
   "cell_type": "code",
   "execution_count": 4,
   "metadata": {},
   "outputs": [],
   "source": [
    "# The following function is useful to improve existing functions\n",
    "\n",
    "def remove_punctuations(text):\n",
    "    res = text\n",
    "    # for punctuation in \"-:?\":\n",
    "    #    res = \"\".join(res.split(punctuation))\n",
    "    res = re.sub(\"[\\-:\\?;,]\", \"\", res)\n",
    "    res = re.sub(\"z\", \"s\", res)\n",
    "    res = re.sub(\"x\", \"ks\", res)\n",
    "    res = re.sub(r\" +\", \" \", res)\n",
    "    return res"
   ]
  },
  {
   "cell_type": "markdown",
   "metadata": {},
   "source": [
    "  * Get the indices of paragraphs delimiters\n",
    "  * Extract the content between two following delimiters and seperate lines and put them in a list\n",
    "  * Clean all the lines/verses"
   ]
  },
  {
   "cell_type": "code",
   "execution_count": 5,
   "metadata": {},
   "outputs": [
    {
     "data": {
      "text/plain": [
       "[['Hljóðs bið ek allar',\n",
       "  'helgar kindir',\n",
       "  'meiri ok minni',\n",
       "  'mögu Heimdallar',\n",
       "  'viltu at ek Valföðr',\n",
       "  'vel fyr telja',\n",
       "  'forn spjöll fira',\n",
       "  'þau er fremst of man.'],\n",
       " ['Ek man jötna',\n",
       "  'ár of borna',\n",
       "  'þá er forðum mik',\n",
       "  'fædda höfðu',\n",
       "  'níu man ek heima',\n",
       "  'níu íviðjur',\n",
       "  'mjötvið mæran',\n",
       "  'fyr mold neðan.'],\n",
       " ['Ár var alda',\n",
       "  'þat er ekki var',\n",
       "  'vara sandr né sær',\n",
       "  'né svalar unnir',\n",
       "  'jörð fannsk æva',\n",
       "  'né upphiminn',\n",
       "  'gap var ginnunga',\n",
       "  'en gras hvergi.']]"
      ]
     },
     "execution_count": 5,
     "metadata": {},
     "output_type": "execute_result"
    }
   ],
   "source": [
    "indices = [(m.start(0), m.end(0)) for m in re.finditer(r\"[0-9]{1,2}\\.\", text)]  #re.findall(r\"[0-9]{1,2}\\.\", text)\n",
    "paragraphs = [text[indices[i][1]:indices[i+1][0]].split(\"\\n\") for i in range(len(indices)-1)]\n",
    "paragraphs = [[remove_punctuations(verse).strip() for verse in paragraph if remove_punctuations(verse) != \"\" and verse != \"\\xa0\"] for paragraph in paragraphs ]\n",
    "paragraphs[:3]"
   ]
  },
  {
   "cell_type": "markdown",
   "metadata": {},
   "source": [
    "### Syllabification in Old Norse and The *Völuspá*\n",
    "\n",
    "Syllabification in Old Norse is a tough task and agreement among scholars has not been reached. Although Icelandic syllabifiers exist, they are not very useful because, *til dæmis* (for example), Modern Icelandic has included many [epenthetic](https://en.wikipedia.org/wiki/Epenthesis) vowels (compare *maðr* in Old Norse and *maður* in Modern Icelandic).\n",
    "\n",
    "As a substantial example, I annotated syllables in the *Völuspá*. The code below shows how to retrieve it. Before it, I explain how the raw annotated text looks like.\n",
    "\n",
    "#### Guidelines for syllable annotation\n",
    "\n",
    "* \\n+\\n delimits lines (verses)\n",
    "* \\n-\\n delimits words\n",
    "* just \\n delimits two syllables of a same word\n",
    "* numbers delimit stanzas\n",
    "\n"
   ]
  },
  {
   "cell_type": "markdown",
   "metadata": {},
   "source": [
    "You can see below the raw annotations."
   ]
  },
  {
   "cell_type": "code",
   "execution_count": 6,
   "metadata": {},
   "outputs": [
    {
     "name": "stdout",
     "output_type": "stream",
     "text": [
      "\n",
      "\n",
      "+\n",
      "-\n",
      "1\n",
      "+\n",
      "-\n",
      "Hljóðs\n",
      "-\n",
      "bið\n",
      "-\n",
      "ek\n",
      "-\n",
      "al\n",
      "lar\n",
      "+\n",
      "-\n",
      "hel\n",
      "gar\n",
      "-\n",
      "kin\n",
      "dir\n"
     ]
    }
   ],
   "source": [
    "with open(os.path.join(module_path, \"Sæmundar-Edda/Völuspá/txt_files/syllabified/syllabified_text_complete.txt\"), \"r\") as f:\n",
    "    text = f.read()\n",
    "print(text[:60])"
   ]
  },
  {
   "cell_type": "code",
   "execution_count": 7,
   "metadata": {},
   "outputs": [
    {
     "name": "stdout",
     "output_type": "stream",
     "text": [
      "\n",
      "\n",
      "Hljóðs/Hljóðs bið/bið ek/ek allar/al+lar \n",
      "helgar/hel+gar kindir/kin+dir \n",
      "\n"
     ]
    }
   ],
   "source": [
    "pesr = heim_reader.PoeticEddaSyllabifiedReader(\"Völuspá\")\n",
    "print(pesr.raw()[:75])"
   ]
  },
  {
   "cell_type": "markdown",
   "metadata": {},
   "source": [
    "Once parsed, the text is a list of paragraphs. Each paragraph is a list of verses. Each verse is a list of word. Each word is a list of syllables."
   ]
  },
  {
   "cell_type": "code",
   "execution_count": 8,
   "metadata": {},
   "outputs": [
    {
     "data": {
      "text/plain": [
       "[[[['Hljóðs'], ['bið'], ['ek'], ['al', 'lar']],\n",
       "  [['hel', 'gar'], ['kin', 'dir']],\n",
       "  [['mei', 'ri'], ['ok'], ['min', 'ni']],\n",
       "  [['mö', 'gu'], ['Heim', 'dal', 'lar']],\n",
       "  [['vi', 'ltu'], ['at'], ['ek'], ['Val', 'föðr']],\n",
       "  [['vel'], ['fyr'], ['tel', 'ja']],\n",
       "  [['forn'], ['spjöll'], ['fi', 'ra']],\n",
       "  [['þau'], ['er'], ['fremst'], ['of'], ['man']]],\n",
       " [[['Ek'], ['man'], ['jö', 'tna']],\n",
       "  [['ár'], ['of'], ['bor', 'na']],\n",
       "  [['þá'], ['er'], ['for', 'ðum'], ['mik']],\n",
       "  [['fæd', 'da'], ['höf', 'ðu']],\n",
       "  [['níu'], ['man'], ['ek'], ['hei', 'ma']],\n",
       "  [['níu'], ['í', 'við', 'jur']],\n",
       "  [['mjöt', 'við'], ['mæ', 'ran']],\n",
       "  [['fyr'], ['mold'], ['ne', 'ðan']]]]"
      ]
     },
     "execution_count": 8,
     "metadata": {},
     "output_type": "execute_result"
    }
   ],
   "source": [
    "#from old_norse.text.old_norse_texts_heimskringla import *\n",
    "syllabified_voluspa = heim_reader.PoeticEddaSyllabifiedReader.read_annotated_text(os.path.join(module_path, \"Sæmundar-Edda/Völuspá/txt_files/syllabified/syllabified_text_complete.txt\"))\n",
    "syllabified_voluspa[:2]"
   ]
  },
  {
   "cell_type": "markdown",
   "metadata": {},
   "source": [
    "#### Use the phonology module to transcribe phonetically the text"
   ]
  },
  {
   "cell_type": "code",
   "execution_count": 9,
   "metadata": {},
   "outputs": [
    {
     "name": "stdout",
     "output_type": "stream",
     "text": [
      "'Hljóðs bið ek allar'\t\t->\t[hljoːðs bið ɛk alːar]\n",
      "'helgar kindir'\t\t->\t[hɛlɣar kindir]\n",
      "'meiri ok minni'\t\t->\t[mɛiri ɔk minːi]\n",
      "'mögu Heimdallar'\t\t->\t[mœɣu hɛimdalːar]\n",
      "'viltu at ek Valföðr'\t\t->\t[viltu at ɛk valvœðr]\n",
      "'vel fyr telja'\t\t->\t[vɛl fyr tɛlja]\n",
      "'forn spjöll fira'\t\t->\t[fɔrn spjœlː fira]\n",
      "'þau er fremst of man.'\t\t->\t[θɒu ɛr frɛmst ɔv man]\n",
      "'Ek man jötna'\t\t->\t[ɛk man jœtna]\n",
      "'ár of borna'\t\t->\t[aːr ɔv bɔrna]\n",
      "'þá er forðum mik'\t\t->\t[θaː ɛr fɔrðum mik]\n",
      "'fædda höfðu'\t\t->\t[fɛːdːa hœvðu]\n",
      "'níu man ek heima'\t\t->\t[niːu man ɛk hɛima]\n",
      "'níu íviðjur'\t\t->\t[niːu iːviðjur]\n",
      "'mjötvið mæran'\t\t->\t[mjœtvið mɛːran]\n",
      "'fyr mold neðan.'\t\t->\t[fyr mɔld nɛðan]\n",
      "'Ár var alda'\t\t->\t[aːr var alda]\n",
      "'þat er ekki var'\t\t->\t[θat ɛr ɛkːi var]\n",
      "'vara sandr né sær'\t\t->\t[vara sandr neː sɛːr]\n",
      "'né svalar unnir'\t\t->\t[neː svalar unːir]\n",
      "'jörð fannsk æva'\t\t->\t[jœrð fanːsk ɛːva]\n",
      "'né upphiminn'\t\t->\t[neː upːhiminː]\n",
      "'gap var ginnunga'\t\t->\t[gap var ginːunɣa]\n",
      "'en gras hvergi.'\t\t->\t[ɛn gras hvɛrɣi]\n"
     ]
    }
   ],
   "source": [
    "tr = phu.Transcriber(ont.DIPHTHONGS_IPA, ont.DIPHTHONGS_IPA_class, ont.IPA_class, ont.old_norse_rules)\n",
    "for paragraph in paragraphs[:3]:\n",
    "    for verse in paragraph:\n",
    "        print(repr(verse)+\"\\t\\t->\\t\"+tr.main(verse))"
   ]
  },
  {
   "cell_type": "markdown",
   "metadata": {},
   "source": [
    "### Show alliterations in the text\n",
    "Alliterations are the main stylistic literary device in Old Norse poetry."
   ]
  },
  {
   "cell_type": "code",
   "execution_count": 10,
   "metadata": {},
   "outputs": [
    {
     "name": "stdout",
     "output_type": "stream",
     "text": [
      "Counter({'r': 711, 'a': 708, 'ː': 689, 'i': 578, 'n': 464, 'ɛ': 386, 'l': 313, 's': 310, 'u': 305, 'v': 288, 't': 251, 'm': 239, 'ð': 218, 'k': 208, 'h': 173, 'ɔ': 170, 'ɣ': 154, 'œ': 143, 'd': 134, 'f': 111, 'j': 110, 'g': 108, 'o': 91, 'θ': 88, 'y': 73, 'b': 67, 'e': 39, 'p': 32, 'ɒ': 30, 'ɐ': 13})\n",
      "Counter({'ar': 127, 'aː': 106, 'nː': 99, 'in': 97, 'ːr': 88, 'va': 84, 'oː': 83, 'an': 81, 'ir': 78, 'al': 77, 'ɛi': 70, 'ra': 69, 'iː': 69, 'lː': 59, 'ːð': 58, 'nd': 56, 'ɛː': 56, 'ɛr': 55, 'rɛ': 54, 'ːi': 53, 'ri': 52, 'na': 52, 'un': 50, 'ða': 49, 'um': 48, 'vɛ': 48, 'ja': 46, 'st': 45, 'ːs': 45, 'ːa': 44, 'sk': 44, 'rs': 44, 'ːt': 44, 'ur': 43, 'it': 43, 'vi': 41, 'at': 40, 'ld': 40, 'hɛ': 39, 'eː': 39, 'ɛn': 39, 'ːl': 38, 'jœ': 37, 'ːv': 37, 'ði': 37, 'ið': 36, 'ni': 36, 'li': 36, 'ðr': 35, 'œl': 33, 'rm': 33, 'nɣ': 33, 'ti': 32, 'ɣa': 31, 'ns': 31, 'im': 29, 'ːu': 29, 'ːn': 29, 'rh': 29, 'tː': 29, 'ɔk': 28, 'mi': 28, 'ɔr': 28, 'ru': 28, 'si': 28, 'rð': 27, 'sa': 27, 'tr': 27, 'ɛk': 26, 'ki': 26, 'ːɛ': 26, 'ːh': 26, 'nu': 26, 'rn': 25, 'ɔv': 25, 'rv': 25, 'ɛl': 24, 'tu': 24, 'ɒu': 24, 'ɣi': 24, 'ɣr': 24, 'ːm': 24, 'ta': 24, 'rː': 24, 'da': 23, 'ma': 23, 'œr': 23, 'is': 23, 'di': 22, 'yr': 22, 'rɔ': 22, 'dr': 22, 'hɔ': 22, 'il': 21, 'ðu': 21, 'ɛð': 21, 'rɣ': 21, 'ɛɣ': 21, 'uː': 21, 'tɛ': 20, 'ɔn': 20, 'uð': 20, 'gː': 20, 'fr': 19, 'mr': 19, 'ka': 18, 'ah': 18, 'mɛ': 18, 'as': 18, 'mu': 18, 'la': 17, 'us': 17, 'œɣ': 16, 'ha': 16, 'rj': 16, 'am': 16, 'ːk': 16, 'yː': 16, 'ɣu': 15, 'lv': 15, 'hv': 15, 'θa': 15, 'ːg': 15, 'rœ': 15, 'œk': 15, 'av': 15, 'ul': 15, 'ːj': 15, 'iɣ': 15, 'œð': 14, 'ms': 14, 'kɛ': 14, 'rb': 14, 'gɛ': 14, 'lɛ': 14, 'jo': 13, 'ks': 13, 'lœ': 13, 'ga': 13, 'aɣ': 13, 'du': 13, 'rt': 12, 'ːf': 12, 'tn': 12, 'sv': 12, 'rg': 12, 'ːɣ': 12, 'ku': 12, 'ɐy': 12, 'œt': 11, 'ik': 11, 'hœ': 11, 'ju': 11, 'su': 11, 'to': 11, 'ft': 11, 'br': 11, 'ɣn': 11, 'kl': 11, 'lɔ': 11, 'kɔ': 11, 'vœ': 10, 'sp': 10, 'ɔl': 10, 'ro': 10, 'ba': 10, 'lu': 10, 'lj': 9, 'ɛm': 9, 'fɔ': 9, 'yn': 9, 'rθ': 9, 'að': 9, 'nh': 9, 'vl': 9, 'mj': 9, 'dv': 9, 'sl': 9, 'rd': 9, 'ðv': 9, 'pa': 9, 'ðe': 9, 'ðs': 8, 'lt': 8, 'kv': 8, 'ːd': 8, 'nɛ': 8, 'tv': 8, 'iv': 8, 'hi': 8, 'ls': 8, 'ːɔ': 8, 'ɛg': 8, 'vr': 8, 'lð': 8, 'uɣ': 8, 'kf': 8, 'ɔm': 8, 'fɛ': 8, 'lɣ': 7, 'km': 7, 'rf': 7, 'nj': 7, 'œv': 7, 'ðj': 7, 'ðm': 7, 'kː': 7, 'ne': 7, 'ih': 7, 'ɔð': 7, 'vu': 7, 'mb': 7, 'ɛv': 7, 'ky': 7, 'lo': 7, 'rl': 7, 'ak': 7, 'yg': 7, 'nf': 7, 'ts': 7, 'œn': 7, 'sb': 6, 'gr': 6, 'bu': 6, 'θɛ': 6, 'nœ': 6, 'gɔ': 6, 'kn': 6, 'af': 6, 'ːb': 6, 'kr': 6, 'rɒ': 6, 'ɣs': 6, 'ɣl': 6, 'se': 6, 'vv': 6, 'rk': 5, 'md': 5, 'bɔ': 5, 'mɔ': 5, 'pː': 5, 'sh': 5, 'ss': 5, 'ko': 5, 'th': 5, 'ɣg': 5, 'mθ': 5, 'vn': 5, 'mv': 5, 'θr': 5, 'bl': 5, 'mo': 5, 'aa': 5, 'ɛs': 5, 'œm': 5, 'ny': 5, 'kj': 5, 'sj': 5, 'ry': 5, 'nk': 5, 'ðh': 5, 'lk': 5, 'dh': 5, 'sn': 5, 'mː': 5, 'lr': 5, 'rr': 5, 'gn': 5, 'ɣt': 5, 'ua': 4, 'fi': 4, 'uɛ': 4, 'mm': 4, 'vð': 4, 'dn': 4, 'sɛ': 4, 'fa': 4, 'up': 4, 'gi': 4, 'sy': 4, 'ðɣ': 4, 'ml': 4, 'lɒ': 4, 'sː': 4, 'tg': 4, 'nɔ': 4, 'vg': 4, 'ɣð': 4, 'yl': 4, 'ɛp': 4, 'sɔ': 4, 'pi': 4, 'gl': 4, 'ug': 4, 'ɔf': 4, 'ðɔ': 4, 'ːɒ': 4, 'ds': 4, 'ly': 4, 'fj': 4, 'ip': 4, 'iɔ': 3, 'uh': 3, 'fy': 3, 'pj': 3, 'tɔ': 3, 'vb': 3, 'dː': 3, 'ðf': 3, 'ng': 3, 'yp': 3, 'ːp': 3, 'pu': 3, 'mh': 3, 'iθ': 3, 'tj': 3, 'he': 3, 'sm': 3, 'lg': 3, 'gu': 3, 'mɐ': 3, 'kg': 3, 'kθ': 3, 'ɛf': 3, 'kb': 3, 'so': 3, 'uv': 3, 'ɣv': 3, 'ɔs': 3, 'hu': 3, 'dθ': 3, 'vh': 3, 'ad': 3, 'bœ': 3, 'lh': 3, 'vs': 3, 'ut': 3, 'aɛ': 3, 'ːθ': 3, 'nl': 3, 'nv': 3, 'nr': 3, 'ig': 3, 'dy': 3, 'bɛ': 3, 'do': 3, 'ty': 3, 'hl': 3, 'bi': 2, 'ðɛ': 2, 'lf': 2, 'vm': 2, 'kh': 2, 'ui': 2, 'dg': 2, 'rp': 2, 'lθ': 2, 'ia': 2, 'dɔ': 2, 'ɣɔ': 2, 'kt': 2, 'ɛt': 2, 'nt': 2, 'sθ': 2, 'yj': 2, 'θj': 2, 'θɔ': 2, 'iɛ': 2, 'kd': 2, 'nb': 2, 'hɒ': 2, 'pɔ': 2, 'le': 2, 'io': 2, 'tm': 2, 'θɒ': 2, 'ðθ': 2, 'go': 2, 'ðg': 2, 'dœ': 2, 'œg': 2, 'yv': 2, 'aθ': 2, 'vk': 2, 'ab': 2, 'ud': 2, 'lɐ': 2, 'yɣ': 2, 'ɔt': 2, 'ib': 2, 'vf': 2, 'mn': 2, 'kœ': 2, 'vθ': 2, 'ðk': 2, 're': 2, 'sœ': 2, 'ɣœ': 2, 'ɣj': 2, 'ɣy': 2, 'uf': 2, 'pr': 2, 'if': 2, 'mœ': 2, 'ðn': 2, 'tb': 2, 'lm': 2, 'nm': 2, 'θi': 2, 'fœ': 2, 'tœ': 2, 'by': 2, 'ap': 1, 'pv': 1, 'vy': 1, 'uk': 1, 'ps': 1, 'ii': 1, 'tt': 1, 'id': 1, 'ɔɣ': 1, 'vɔ': 1, 'no': 1, 'vt': 1, 'll': 1, 'pn': 1, 'ɣθ': 1, 'dl': 1, 'θv': 1, 'tk': 1, 'vo': 1, 'aɒ': 1, 'ːy': 1, 'gj': 1, 'kɒ': 1, 'ji': 1, 'fo': 1, 'nɒ': 1, 'mf': 1, 'sf': 1, 'θu': 1, 'aɔ': 1, 'gœ': 1, 'mt': 1, 'ɣf': 1, 'ɣh': 1, 'bð': 1, 'ɣb': 1, 'œf': 1, 'θœ': 1, 'ːo': 1, 'ln': 1, 'ɔp': 1, 'hr': 1, 'nθ': 1, 'sg': 1, 'sɒ': 1, 'mɣ': 1, 'ɣɛ': 1, 'rɐ': 1, 'tθ': 1, 'θe': 1, 'ub': 1, 'ys': 1, 'vj': 1, 'ːœ': 1, 'tɐ': 1, 'θy': 1, 'ɔa': 1, 'ym': 1, 'df': 1, 'pɛ': 1, 'bj': 1, 'hj': 1, 'tf': 1, 'ðy': 1, 've': 1, 'yð': 1, 'te': 1, 'ðo': 1, 'dɛ': 1, 'uo': 1, 'kð': 1, 'nð': 1})\n"
     ]
    }
   ],
   "source": [
    "unigram_sounds = []\n",
    "bigram_sounds = []\n",
    "for paragraph in paragraphs:\n",
    "    for verse in paragraph:\n",
    "        ipa_verse = tr.main(verse)\n",
    "        ipa_verse = re.sub(r\"[ \\[\\]]\", \"\", ipa_verse)\n",
    "        unigram_sounds.append(ipa_verse)\n",
    "        bigram_sounds.extend([ipa_verse[i:i+2] for i in range(1, len(ipa_verse)-1) if \" \" not in ipa_verse[i:i+2]])\n",
    "        \n",
    "print(Counter(\"\".join(unigram_sounds)))\n",
    "print(Counter(bigram_sounds))"
   ]
  },
  {
   "cell_type": "markdown",
   "metadata": {},
   "source": [
    "A better way to find aliterration is not to look for exact alitterations but for approximates ones. We can look at common consonant features like \"bilabial stops or \"labio-dental frictative\"."
   ]
  },
  {
   "cell_type": "markdown",
   "metadata": {},
   "source": [
    "### Show vocabulary\n",
    "\n",
    "Vocabulary of an eddic poem is "
   ]
  },
  {
   "cell_type": "code",
   "execution_count": 11,
   "metadata": {},
   "outputs": [
    {
     "name": "stdout",
     "output_type": "stream",
     "text": [
      "ok N-N\n",
      "er C\n",
      "á P\n",
      "of P\n",
      "í P\n",
      "en CONJ\n",
      "hon Unk\n",
      "ek PRO-N\n",
      "um P\n",
      "at C\n",
      "var BEDI\n",
      "né CONJ\n",
      "enn ADV\n",
      "eða CONJ\n",
      "sá D-N\n"
     ]
    }
   ],
   "source": [
    "tagger = POSTag('old_norse')\n",
    "\n",
    "frq = Frequency()\n",
    "\n",
    "text = \" \".join([verse for paragraph in paragraphs for verse in paragraph])\n",
    "times = frq.counter_from_str(text)\n",
    "common_words = times.most_common(15)\n",
    "for word in common_words:\n",
    "    print(word[0], tagger.tag_tnt(word[0])[0][1])"
   ]
  },
  {
   "cell_type": "markdown",
   "metadata": {},
   "source": [
    "Even in a laguage which is higly flexionnal, there are a lot of small words, which we may call *stop words* that we find everywhere."
   ]
  },
  {
   "cell_type": "markdown",
   "metadata": {},
   "source": [
    "### Show syntax\n",
    "\n",
    "The syntax of a poem is more concise than the one of a saga. Eddic poems obey strict rules like the one which require 4 syllables in a verse. Yet, it is not really respected. Are there any obstacls to write more or less than 4 syllables? In which situations do the irregulaties occur? "
   ]
  },
  {
   "cell_type": "code",
   "execution_count": 12,
   "metadata": {},
   "outputs": [
    {
     "name": "stdout",
     "output_type": "stream",
     "text": [
      "Hljóðs|Unk bið|VBPI ek|PRO-N allar|Q-A\n",
      "helgar|ADJ-A kindir|Unk\n",
      "meiri|QR-N ok|N-N minni|QR-N\n",
      "mögu|Unk Heimdallar|Unk\n",
      "viltu|Unk at|C ek|PRO-N Valföðr|Unk\n"
     ]
    }
   ],
   "source": [
    "tagger = POSTag('old_norse')\n",
    "\n",
    "\n",
    "text = [verse for paragraph in paragraphs for verse in paragraph]\n",
    "\n",
    "for sentence in text[:5]:\n",
    "    words = sentence.split(\" \")\n",
    "    tagged_words = [tagger.tag_tnt(word) for word in words]\n",
    "    print(\" \".join([word+\"|\"+tag[0][1] for word, tag in zip(words, tagged_words)]))"
   ]
  },
  {
   "cell_type": "markdown",
   "metadata": {},
   "source": [
    "### Verse structure\n",
    "\n",
    "Eddic poems have 2 main known structures named *fornyrðislag* and *ljóðaháttr*, see https://en.wikipedia.org/wiki/Alliterative_verse#Old_Norse_poetic_forms for more details."
   ]
  },
  {
   "cell_type": "code",
   "execution_count": 13,
   "metadata": {},
   "outputs": [
    {
     "name": "stdout",
     "output_type": "stream",
     "text": [
      "First stanza:\n",
      "\n",
      "Hljóðs bið ek allar\n",
      "helgar kindir,\n",
      "meiri ok minni\n",
      "mögu Heimdallar;\n",
      "viltu at ek, Valföðr,\n",
      "vel fyr telja\n",
      "forn spjöll fira,\n",
      "þau er fremst of man.\n",
      "\n",
      "This is a fornyrðislag.\n",
      "\n",
      "\"Long lines\"\n",
      "[['Hljóðs bið ek allar', 'helgar kindir,'], ['meiri ok minni', 'mögu Heimdallar;'], ['viltu at ek, Valföðr,', 'vel fyr telja'], ['forn spjöll fira,', 'þau er fremst of man.']]\n",
      "\n",
      "\n",
      "Syllabified text: \n",
      "[[[['hljóðs'], ['bið'], ['ek'], ['al', 'lar']], [['hel', 'gar'], ['kin', 'dir']]], [[['meir', 'i'], ['ok'], ['min', 'ni']], [['mög', 'u'], ['heim', 'dal', 'lar']]], [[['vil', 'tu'], ['at'], ['ek'], ['val', 'föðr']], [['vel'], ['fyr'], ['tel', 'ja']]], [[['forn'], ['spjöll'], ['fir', 'a']], [['þau'], ['er'], ['fremst'], ['of'], ['man']]]]\n",
      "\n",
      "\n",
      "Phonetic transcription:\n",
      "[[['[hljoːðs]', '[bið]', '[ɛk]', '[alːar]'], ['[hɛlɣar]', '[kindir]']], [['[mɛiri]', '[ɔk]', '[minːi]'], ['[mœɣu]', '[hɛimdalːar]']], [['[viltu]', '[at]', '[ɛk]', '[valvœðr]'], ['[vɛl]', '[fyr]', '[tɛlja]']], [['[fɔrn]', '[spjœlː]', '[fira]'], ['[θɒu]', '[ɛr]', '[frɛmst]', '[ɔv]', '[man]']]]\n",
      "\n",
      "Alliterations: \n",
      " ([[('hljóðs', 'helgar')], [('meiri', 'mögu'), ('minni', 'mögu')], [], [('forn', 'fremst'), ('fira', 'fremst')]], [1, 2, 0, 2])\n"
     ]
    }
   ],
   "source": [
    "#module_path = os.path.join(os.environ[\"HOME\"], \"cltk_data/old_norse/text/old_norse_texts_heimskringla/\")\n",
    "loader = text_manager.TextLoader(os.path.join(module_path, \"Sæmundar-Edda\", \"Völuspá\"), \"txt\")\n",
    "text = loader.load()\n",
    "indices = [(m.start(0), m.end(0)) for m in re.finditer(r\"[0-9]{1,2}\\.\", text)]  #re.findall(r\"[0-9]{1,2}\\.\", text)\n",
    "voluspa_paragraphs = [text[indices[i][1]:indices[i+1][0]].strip() for i in range(len(indices)-1)]\n",
    "\n",
    "print(\"First stanza:\\n\")\n",
    "#stanzas = [\" \".join([paragraph for paragraph in syllabified_voluspa])]\n",
    "first_stanza = voluspa_paragraphs[0]\n",
    "print(first_stanza)\n",
    "\n",
    "print(\"\\nThis is a fornyrðislag.\" if VerseManager.is_fornyrdhislag(first_stanza) else \"\\nThis is not a fornyrðislag.\")\n",
    "\n",
    "v_first_stanza = Fornyrdhislag()\n",
    "\n",
    "v_first_stanza.from_short_lines_text(first_stanza)\n",
    "print(\"\\n\\\"Long lines\\\"\\n\"+str([[line.text for line in long_line] for long_line in v_first_stanza.long_lines])+\"\\n\")\n",
    "\n",
    "v_first_stanza.syllabify(hierarchy)\n",
    "print(\"\\nSyllabified text: \\n\"+str(v_first_stanza.syllabified_text)+\"\\n\")\n",
    "\n",
    "v_first_stanza.to_phonetics()\n",
    "print(\"\\nPhonetic transcription:\\n\"+str(v_first_stanza.transcribed_text))\n",
    "\n",
    "print(\"\\nAlliterations: \\n\", v_first_stanza.find_alliteration())"
   ]
  },
  {
   "cell_type": "code",
   "execution_count": 14,
   "metadata": {},
   "outputs": [
    {
     "name": "stdout",
     "output_type": "stream",
     "text": [
      "First stanza:\n",
      "\n",
      "Deyr fé,\n",
      "deyja frændr,\n",
      "deyr sjalfr it sama,\n",
      "ek veit einn,\n",
      "at aldrei deyr:\n",
      "dómr um dauðan hvern.\n",
      "\n",
      "This is a ljóðaháttr.\n",
      "\n",
      "\"Long lines\"\n",
      "[['Deyr fé,', 'deyja frændr,'], ['deyr sjalfr it sama,'], ['ek veit einn,', 'at aldrei deyr:'], ['dómr um dauðan hvern.']]\n",
      "\n",
      "\n",
      "Syllabified text: \n",
      "[[[['deyr'], ['fé']], [['deyj', 'a'], ['frændr']]], [[['deyr'], ['sjalfr'], ['it'], ['sam', 'a']]], [[['ek'], ['veit'], ['einn']], [['at'], ['al', 'drei'], ['deyr']]], [[['dómr'], ['um'], ['dau', 'ðan'], ['hvern']]]]\n",
      "\n",
      "\n",
      "Phonetic transcription:\n",
      "[[['[dɐyr]', '[feː]'], ['[dɐyja]', '[frɛːndr]']], [['[dɐyr]', '[sjalvr]', '[it]', '[sama]']], [['[ɛk]', '[vɛit]', '[ɛinː]'], ['[at]', '[aldrɛi]', '[dɐyr]']], [['[doːmr]', '[um]', '[dɒuðan]', '[hvɛrn]']]]\n",
      "\n",
      "Alliterations: \n",
      " ([[('deyr', 'deyja'), ('fé', 'frændr')], [('sjalfr', 'sjalfr')], [('einn', 'aldrei')], [('dómr', 'um')]], [2, 1, 1, 1])\n"
     ]
    }
   ],
   "source": [
    "#module_path = os.path.join(os.environ[\"HOME\"], \"cltk_data/old_norse/text/old_norse_texts_heimskringla/\")\n",
    "loader = text_manager.TextLoader(os.path.join(module_path, \"Sæmundar-Edda\", \"Hávamál\"), \"txt\")\n",
    "text_havamal = loader.load()\n",
    "indices = [(m.start(0), m.end(0)) for m in re.finditer(r\"[0-9]{1,2}\\.\", text_havamal)]  #re.findall(r\"[0-9]{1,2}\\.\", text)\n",
    "paragraphs = [text_havamal[indices[i][1]:indices[i+1][0]].strip() for i in range(len(indices)-1)]\n",
    "\n",
    "print(\"First stanza:\\n\")\n",
    "#stanzas = [\" \".join([paragraph for paragraph in syllabified_voluspa])]\n",
    "first_stanza = paragraphs[76]\n",
    "print(first_stanza)\n",
    "\n",
    "print(\"\\nThis is a ljóðaháttr.\" if VerseManager.is_ljoodhhaattr(first_stanza) else \"\\nThis is not a ljóðaháttr.\")\n",
    "\n",
    "v_first_stanza = Ljoodhhaattr()\n",
    "\n",
    "v_first_stanza.from_short_lines_text(first_stanza)\n",
    "print(\"\\n\\\"Long lines\\\"\\n\"+str([[line.text for line in long_line] for long_line in v_first_stanza.long_lines])+\"\\n\")\n",
    "\n",
    "v_first_stanza.syllabify(hierarchy)\n",
    "print(\"\\nSyllabified text: \\n\"+str(v_first_stanza.syllabified_text)+\"\\n\")\n",
    "\n",
    "v_first_stanza.to_phonetics()\n",
    "print(\"\\nPhonetic transcription:\\n\"+str(v_first_stanza.transcribed_text))\n",
    "\n",
    "print(\"\\nAlliterations: \\n\", v_first_stanza.find_alliteration())"
   ]
  },
  {
   "cell_type": "code",
   "execution_count": 15,
   "metadata": {},
   "outputs": [
    {
     "name": "stdout",
     "output_type": "stream",
     "text": [
      "Number of stanzas: 50\n",
      "Number of long lines: 200\n",
      "Number of short lines: 394\n",
      "Number of words: 1368\n"
     ]
    },
    {
     "data": {
      "text/plain": [
       "[<matplotlib.lines.Line2D at 0x6b31d090>]"
      ]
     },
     "execution_count": 15,
     "metadata": {},
     "output_type": "execute_result"
    },
    {
     "data": {
      "image/png": "[encoded data removed]",
      "text/plain": [
       "<Figure size 432x288 with 1 Axes>"
      ]
     },
     "metadata": {},
     "output_type": "display_data"
    }
   ],
   "source": [
    "voluspa = []\n",
    "for paragraph in voluspa_paragraphs:\n",
    "    if VerseManager.is_fornyrdhislag(paragraph):\n",
    "        fnl = Fornyrdhislag()\n",
    "        fnl.from_short_lines_text(paragraph)\n",
    "        voluspa.append(fnl)\n",
    "    elif VerseManager.is_ljoodhhaattr(paragraph):\n",
    "        lh = Ljoodhhaattr()\n",
    "        lh.from_short_lines_text(paragraph)\n",
    "        voluspa.append(lh)\n",
    "        \n",
    "number_stanzas = len(voluspa)\n",
    "print(\"Number of stanzas:\", number_stanzas)\n",
    "number_long_lines = sum([len(meter.long_lines) for meter in voluspa])\n",
    "print(\"Number of long lines:\", number_long_lines)\n",
    "number_short_lines = sum([len(meter.short_lines) for meter in voluspa])\n",
    "print(\"Number of short lines:\", number_short_lines)\n",
    "number_words = sum([len(short_line.tokenized_text) for meter in voluspa for short_line in meter.short_lines])\n",
    "print(\"Number of words:\", number_words)\n",
    "word_number_per_stanza = [sum([len(short_line.tokenized_text) for short_line in meter.short_lines]) for meter in voluspa ]\n",
    "plt.plot(word_number_per_stanza)"
   ]
  },
  {
   "cell_type": "code",
   "execution_count": 16,
   "metadata": {},
   "outputs": [
    {
     "data": {
      "text/plain": [
       "Text(0.5,1,'Comparison')"
      ]
     },
     "execution_count": 16,
     "metadata": {},
     "output_type": "execute_result"
    },
    {
     "data": {
      "image/png": "[encoded data removed]",
      "text/plain": [
       "<Figure size 432x288 with 1 Axes>"
      ]
     },
     "metadata": {},
     "output_type": "display_data"
    }
   ],
   "source": [
    "x = np.arange(number_long_lines-6)  # np.linspace(0, number_long_lines, 1)\n",
    "p1 = plt.plot(x, ([len(long_line[0].tokenized_text) for meter in voluspa for long_line in meter.long_lines if len(long_line) >= 2]), marker=\"o\")\n",
    "p2 = plt.plot(x, ([len(long_line[1].tokenized_text) for meter in voluspa for long_line in meter.long_lines if len(long_line) >= 2]), marker=\"v\")\n",
    "plt.title(\"Comparison\")\n",
    "\n",
    "# number of alliterations from the first shor line of a long line \n",
    "# number of alliterations from the second shor line of a long line"
   ]
  },
  {
   "cell_type": "markdown",
   "metadata": {},
   "source": [
    "Sources :\n",
    "* [Heimskringla](heimskringla.no)"
   ]
  },
  {
   "cell_type": "markdown",
   "metadata": {},
   "source": [
    "#### TODO\n",
    "* Give distributions of syllables per short lines, long lines and stanzas.\n",
    "* Give distributions of alliterations \n",
    "* Number of short lines\n",
    "* Number of long lines\n",
    "* Number of stanzas\n",
    "* Give distribution of unigrams, bigrams\n",
    "* Give the part of speech of a word\n",
    "* Apply the same thing to an other eddic poem."
   ]
  },
  {
   "cell_type": "markdown",
   "metadata": {
    "collapsed": true
   },
   "source": [
    "\n",
    "By Clément Besnier, email address: clemsciences@aol.com, web site: https://clementbesnier.pythonanywhere.com/, twitter: clemsciences"
   ]
  }
 ],
 "metadata": {
  "kernelspec": {
   "display_name": "Python 3.6",
   "language": "python",
   "name": "python3"
  },
  "language_info": {
   "codemirror_mode": {
    "name": "ipython",
    "version": 3
   },
   "file_extension": ".py",
   "mimetype": "text/x-python",
   "name": "python",
   "nbconvert_exporter": "python",
   "pygments_lexer": "ipython3",
   "version": "3.6.3"
  }
 },
 "nbformat": 4,
 "nbformat_minor": 1
}
