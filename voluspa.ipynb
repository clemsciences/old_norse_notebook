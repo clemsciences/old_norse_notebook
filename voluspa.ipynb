{
 "cells": [
  {
   "cell_type": "code",
   "execution_count": null,
   "metadata": {
    "collapsed": true
   },
   "outputs": [],
   "source": [
    "# Set your own user path\n",
    "USER_PATH = \"/home/pi\"\n"
   ]
  },
  {
   "cell_type": "code",
   "execution_count": null,
   "metadata": {
    "collapsed": true
   },
   "outputs": [],
   "source": [
    "# Download Old Norse Corpora to cltk_data directory\n",
    "from cltk.corpus.utils.importer import CorpusImporter\n",
    "onc = CorpusImporter(\"old_norse\")\n",
    "onc.import_corpus(\"old_norse_texts_heimskringla\")\n"
   ]
  },
  {
   "cell_type": "code",
   "execution_count": null,
   "metadata": {
    "collapsed": true
   },
   "outputs": [],
   "source": [
    "# $ ipython profile create\n",
    "# $ ipython locate\n",
    "# $ nano profile_default/ipython_config.py\n",
    "# # Add it a the end of the file (without '#'):\n",
    "# c.InteractiveShellApp.exec_lines = [\n",
    "#    'import sys; sys.path.append(\"~/cltk_data/old_norse\")'\n",
    "#]\n",
    "# # And... It's done!\n"
   ]
  },
  {
   "cell_type": "code",
   "execution_count": null,
   "metadata": {
    "collapsed": true
   },
   "outputs": [],
   "source": [
    "# old_norse_text_perseus\n",
    "# __import__('/home/pi/cltk_data/old_norse/text/old_norse_texts_heimskringla/text_manager')\n",
    "import os\n",
    "module_path = os.path.join(USER_PATH, \"cltk_data/old_norse/text/old_norse_texts_heimskringla/\")\n",
    "here = os.getcwd()\n",
    "os.chdir(module_path)\n",
    "corpus_path = os.path.join(module_path, \"Völuspá\")\n",
    "import text_manager\n",
    "loader = text_manager.TextLoader(os.path.join(\"Sæmundar-Edda\", \"Völuspá\"), \"txt\")\n",
    "os.chdir(here)\n",
    "text = loader.load()[:100]\n",
    "text[:100]\n"
   ]
  },
  {
   "cell_type": "code",
   "execution_count": null,
   "metadata": {},
   "outputs": [],
   "source": [
    "# split text in paragraphs ans verses"
   ]
  },
  {
   "cell_type": "code",
   "execution_count": null,
   "metadata": {},
   "outputs": [],
   "source": [
    "# Use the phonology module to transcribe phonetically the text"
   ]
  },
  {
   "cell_type": "code",
   "execution_count": null,
   "metadata": {},
   "outputs": [],
   "source": [
    "# show alliterations in the text"
   ]
  },
  {
   "cell_type": "code",
   "execution_count": null,
   "metadata": {},
   "outputs": [],
   "source": [
    "# show vocabulary"
   ]
  },
  {
   "cell_type": "code",
   "execution_count": null,
   "metadata": {},
   "outputs": [],
   "source": [
    "# show syntax"
   ]
  },
  {
   "cell_type": "code",
   "execution_count": null,
   "metadata": {},
   "outputs": [],
   "source": []
  },
  {
   "cell_type": "code",
   "execution_count": null,
   "metadata": {
    "collapsed": true
   },
   "outputs": [],
   "source": [
    "\n"
   ]
  }
 ],
 "metadata": {
  "kernelspec": {
   "display_name": "Python 2",
   "language": "python",
   "name": "python2"
  },
  "language_info": {
   "codemirror_mode": {
    "name": "ipython",
    "version": 2
   },
   "file_extension": ".py",
   "mimetype": "text/x-python",
   "name": "python",
   "nbconvert_exporter": "python",
   "pygments_lexer": "ipython2",
   "version": "2.7.6"
  }
 },
 "nbformat": 4,
 "nbformat_minor": 0
}
