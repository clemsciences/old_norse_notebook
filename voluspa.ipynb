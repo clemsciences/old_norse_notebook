{
 "cells": [
  {
   "cell_type": "markdown",
   "metadata": {},
   "source": [
    "# Völuspá analysis\n",
    "\n",
    "The aim of this notebook is to see how the use of NLP techniques may help philological studies. My first analysis is on Völuspá, the first poem of the Elder Edda, telling the destiny of the worlds.\n",
    "\n",
    "\n",
    "#### Set your own user path"
   ]
  },
  {
   "cell_type": "code",
   "metadata": {},
   "source": [
   "USER_PATH = \"/home/clement\""
   ]
  },
  {
   "cell_type": "markdown",
   "metadata": {},
   "source": [
    "### Download Old Norse Corpora to cltk_data directory"
   ]
  },
  {
   "cell_type": "code",
   "execution_count": 2,
   "metadata": {},
   "outputs": [],
   "source": [
    "\n",
    "from cltk.corpus.utils.importer import CorpusImporter\n",
    "onc = CorpusImporter(\"old_norse\")\n",
    "onc.import_corpus(\"old_norse_texts_heimskringla\")\n",
    "onc.import_corpus('old_norse_models_cltk')\n",
    "#onc.list_corpora"
   ]
  },
  {
   "cell_type": "markdown",
   "metadata": {
    "collapsed": true
   },
   "source": [
    "Configure **ipython**.\n",
    "\n",
    "```bash\n",
    "$ ipython profile create\n",
    "$ ipython locate\n",
    "$ nano .ipython/profile_default/ipython_config.py\n",
    "```\n",
    " Add it a the end of the file:\n",
    "```bash\n",
    "c.InteractiveShellApp.exec_lines = [\n",
    "    'import sys; sys.path.append(\"/home/pi/cltk_data\")'\n",
    "]\n",
    "```\n",
    "It is necessary to do that because it makes things easier to utilize data furnished by CLTK. You will see later in the notebook how it is used.\n",
    "\n",
    "Install the **kernel** associated with **python3.6** [https://ipython.readthedocs.io/en/stable/install/kernel_install.html](https://ipython.readthedocs.io/en/stable/install/kernel_install.html) "
   ]
  },
  {
   "cell_type": "code",
   "execution_count": 3,
   "metadata": {},
   "outputs": [
    {
     "name": "stdout",
     "output_type": "stream",
     "text": [
      "1.\n",
      "Hljóðs bið ek allar\n",
      "helgar kindir,\n",
      "meiri ok minni\n",
      "mögu Heimdallar;\n",
      "viltu at ek, Valföðr,\n",
      "vel fyr telja\n",
      "forn spjöll fira,\n",
      "þau er fremst of man.\n",
      " \n",
      "2.\n",
      "Ek man jötna\n",
      "ár of borna,\n",
      "þá er forðum mik\n",
      "fædda \n"
     ]
    }
   ],
   "source": [
    "# old_norse_text_perseus\n",
    "\n",
    "import os\n",
    "module_path = os.path.join(USER_PATH, \"cltk_data/old_norse/text/old_norse_texts_heimskringla/\")\n",
    "here = os.getcwd()\n",
    "os.chdir(module_path)\n",
    "corpus_path = os.path.join(module_path, \"Völuspá\")\n",
    "import text_manager\n",
    "loader = text_manager.TextLoader(os.path.join(\"Sæmundar-Edda\", \"Völuspá\"), \"txt\")\n",
    "text = loader.load()\n",
    "os.chdir(here)\n",
    "print(text[:200])\n"
   ]
  },
  {
   "cell_type": "markdown",
   "metadata": {},
   "source": [
    "### Split text in paragraphs ans verses\n",
    "Extract the organisation of verses in Völuspá"
   ]
  },
  {
   "cell_type": "code",
   "execution_count": 4,
   "metadata": {},
   "outputs": [],
   "source": [
    "# The following function is useful to improve existing functions\n",
    "import re\n",
    "def remove_punctuations(text):\n",
    "    res = text\n",
    "    # for punctuation in \"-:?\":\n",
    "    #    res = \"\".join(res.split(punctuation))\n",
    "    res = re.sub(\"[\\-:\\?]\", \"\", res)\n",
    "    res = re.sub(\"z\", \"s\", res)\n",
    "    res = re.sub(\"x\", \"ks\", res)\n",
    "    res = re.sub(r\" +\", \" \", res)\n",
    "    return res"
   ]
  },
  {
   "cell_type": "markdown",
   "metadata": {},
   "source": [
    "  * Get the indices of paragraphs delimiters\n",
    "  * Extract the content between two following delimiters and seperate lines and put them in a list\n",
    "  * Clean all the lines/verses"
   ]
  },
  {
   "cell_type": "code",
   "execution_count": 5,
   "metadata": {},
   "outputs": [
    {
     "data": {
      "text/plain": [
       "[['Hljóðs bið ek allar',\n",
       "  'helgar kindir,',\n",
       "  'meiri ok minni',\n",
       "  'mögu Heimdallar;',\n",
       "  'viltu at ek, Valföðr,',\n",
       "  'vel fyr telja',\n",
       "  'forn spjöll fira,',\n",
       "  'þau er fremst of man.'],\n",
       " ['Ek man jötna',\n",
       "  'ár of borna,',\n",
       "  'þá er forðum mik',\n",
       "  'fædda höfðu;',\n",
       "  'níu man ek heima,',\n",
       "  'níu íviðjur,',\n",
       "  'mjötvið mæran',\n",
       "  'fyr mold neðan.'],\n",
       " ['Ár var alda,',\n",
       "  'þat er ekki var,',\n",
       "  'vara sandr né sær',\n",
       "  'né svalar unnir;',\n",
       "  'jörð fannsk æva',\n",
       "  'né upphiminn,',\n",
       "  'gap var ginnunga',\n",
       "  'en gras hvergi.']]"
      ]
     },
     "execution_count": 5,
     "metadata": {},
     "output_type": "execute_result"
    }
   ],
   "source": [
    "import re\n",
    "\n",
    "indices = [(m.start(0), m.end(0)) for m in re.finditer(r\"[0-9]{1,2}\\.\", text)]  #re.findall(r\"[0-9]{1,2}\\.\", text)\n",
    "paragraphs = [text[indices[i][1]:indices[i+1][0]].split(\"\\n\") for i in range(len(indices)-1)]\n",
    "paragraphs = [[remove_punctuations(verse).strip() for verse in paragraph if remove_punctuations(verse) != \"\" and verse != \"\\xa0\"] for paragraph in paragraphs ]\n",
    "paragraphs[:3]"
   ]
  },
  {
   "cell_type": "markdown",
   "metadata": {},
   "source": [
    "#### Use the phonology module to transcribe phonetically the text"
   ]
  },
  {
   "cell_type": "code",
   "execution_count": 6,
   "metadata": {},
   "outputs": [
    {
     "name": "stdout",
     "output_type": "stream",
     "text": [
      "'Hljóðs bið ek allar'\t\t->\t[hljoːðs bið ɛk alːar]\n",
      "'helgar kindir,'\t\t->\t[hɛlɣar kindir]\n",
      "'meiri ok minni'\t\t->\t[mɛiri ɔk minːi]\n",
      "'mögu Heimdallar;'\t\t->\t[mœɣu hɛimdalːar]\n",
      "'viltu at ek, Valföðr,'\t\t->\t[viltu at ɛk valvœðr]\n",
      "'vel fyr telja'\t\t->\t[vɛl fyr tɛlja]\n",
      "'forn spjöll fira,'\t\t->\t[fɔrn spjœlː fira]\n",
      "'þau er fremst of man.'\t\t->\t[θɒu ɛr frɛmst ɔv man]\n",
      "'Ek man jötna'\t\t->\t[ɛk man jœtna]\n",
      "'ár of borna,'\t\t->\t[aːr ɔv bɔrna]\n",
      "'þá er forðum mik'\t\t->\t[θaː ɛr fɔrðum mik]\n",
      "'fædda höfðu;'\t\t->\t[fɛːdːa hœvðu]\n",
      "'níu man ek heima,'\t\t->\t[niːu man ɛk hɛima]\n",
      "'níu íviðjur,'\t\t->\t[niːu iːviðjur]\n",
      "'mjötvið mæran'\t\t->\t[mjœtvið mɛːran]\n",
      "'fyr mold neðan.'\t\t->\t[fyr mɔld nɛðan]\n",
      "'Ár var alda,'\t\t->\t[aːr var alda]\n",
      "'þat er ekki var,'\t\t->\t[θat ɛr ɛkːi var]\n",
      "'vara sandr né sær'\t\t->\t[vara sandr neː sɛːr]\n",
      "'né svalar unnir;'\t\t->\t[neː svalar unːir]\n",
      "'jörð fannsk æva'\t\t->\t[jœrð fanːsk ɛːva]\n",
      "'né upphiminn,'\t\t->\t[neː upːhiminː]\n",
      "'gap var ginnunga'\t\t->\t[gap var ginːunɣa]\n",
      "'en gras hvergi.'\t\t->\t[ɛn gras hvɛrɣi]\n"
     ]
    }
   ],
   "source": [
    "from cltk.phonology import utils as phu\n",
    "from cltk.phonology.old_norse import transcription as ont \n",
    "tr = phu.Transcriber(ont.DIPHTHONGS_IPA, ont.DIPHTHONGS_IPA_class, ont.IPA_class, ont.old_norse_rules)\n",
    "for paragraph in paragraphs[:3]:\n",
    "    for verse in paragraph:\n",
    "        print(repr(verse)+\"\\t\\t->\\t\"+tr.main(verse))"
   ]
  },
  {
   "cell_type": "markdown",
   "metadata": {},
   "source": [
    "### Show alliterations in the text\n",
    "Alliterations are the main stylistic literary device in Old Norse poetry."
   ]
  },
  {
   "cell_type": "code",
   "execution_count": 7,
   "metadata": {},
   "outputs": [
    {
     "name": "stdout",
     "output_type": "stream",
     "text": [
      "Counter({'l': 2, 'ː': 2, 'ð': 2, 'a': 2, '[': 1, 'h': 1, 'j': 1, 'o': 1, 's': 1, 'b': 1, 'i': 1, 'ɛ': 1, 'k': 1, 'r': 1, ']': 1})\n",
      "Counter({'hl': 1, 'lj': 1, 'jo': 1, 'oː': 1, 'ːð': 1, 'ðs': 1, 'bi': 1, 'ið': 1, 'ɛk': 1, 'al': 1, 'lː': 1, 'ːa': 1, 'ar': 1, 'r]': 1})\n",
      "Counter({'r': 2, 'i': 2, '[': 1, 'h': 1, 'ɛ': 1, 'l': 1, 'ɣ': 1, 'a': 1, 'k': 1, 'n': 1, 'd': 1, ']': 1})\n",
      "Counter({'hɛ': 1, 'ɛl': 1, 'lɣ': 1, 'ɣa': 1, 'ar': 1, 'ki': 1, 'in': 1, 'nd': 1, 'di': 1, 'ir': 1, 'r]': 1})\n",
      "Counter({'i': 4, 'm': 2, '[': 1, 'ɛ': 1, 'r': 1, 'ɔ': 1, 'k': 1, 'n': 1, 'ː': 1, ']': 1})\n",
      "Counter({'mɛ': 1, 'ɛi': 1, 'ir': 1, 'ri': 1, 'ɔk': 1, 'mi': 1, 'in': 1, 'nː': 1, 'ːi': 1, 'i]': 1})\n",
      "Counter({'m': 2, 'a': 2, '[': 1, 'œ': 1, 'ɣ': 1, 'u': 1, 'h': 1, 'ɛ': 1, 'i': 1, 'd': 1, 'l': 1, 'ː': 1, 'r': 1, ']': 1})\n",
      "Counter({'mœ': 1, 'œɣ': 1, 'ɣu': 1, 'hɛ': 1, 'ɛi': 1, 'im': 1, 'md': 1, 'da': 1, 'al': 1, 'lː': 1, 'ːa': 1, 'ar': 1, 'r]': 1})\n",
      "Counter({'v': 3, 'l': 2, 't': 2, 'a': 2, '[': 1, 'i': 1, 'u': 1, 'ɛ': 1, 'k': 1, 'œ': 1, 'ð': 1, 'r': 1, ']': 1})\n",
      "Counter({'vi': 1, 'il': 1, 'lt': 1, 'tu': 1, 'at': 1, 'ɛk': 1, 'va': 1, 'al': 1, 'lv': 1, 'vœ': 1, 'œð': 1, 'ðr': 1, 'r]': 1})\n",
      "Counter({'ɛ': 2, 'l': 2, '[': 1, 'v': 1, 'f': 1, 'y': 1, 'r': 1, 't': 1, 'j': 1, 'a': 1, ']': 1})\n",
      "Counter({'ɛl': 2, 'vɛ': 1, 'fy': 1, 'yr': 1, 'tɛ': 1, 'lj': 1, 'ja': 1, 'a]': 1})\n",
      "Counter({'f': 2, 'r': 2, '[': 1, 'ɔ': 1, 'n': 1, 's': 1, 'p': 1, 'j': 1, 'œ': 1, 'l': 1, 'ː': 1, 'i': 1, 'a': 1, ']': 1})\n",
      "Counter({'fɔ': 1, 'ɔr': 1, 'rn': 1, 'sp': 1, 'pj': 1, 'jœ': 1, 'œl': 1, 'lː': 1, 'fi': 1, 'ir': 1, 'ra': 1, 'a]': 1})\n",
      "Counter({'ɛ': 2, 'r': 2, 'm': 2, '[': 1, 'θ': 1, 'ɒ': 1, 'u': 1, 'f': 1, 's': 1, 't': 1, 'ɔ': 1, 'v': 1, 'a': 1, 'n': 1, ']': 1})\n",
      "Counter({'θɒ': 1, 'ɒu': 1, 'ɛr': 1, 'fr': 1, 'rɛ': 1, 'ɛm': 1, 'ms': 1, 'st': 1, 'ɔv': 1, 'ma': 1, 'an': 1, 'n]': 1})\n",
      "Counter({'a': 2, 'n': 2, '[': 1, 'ɛ': 1, 'k': 1, 'm': 1, 'j': 1, 'œ': 1, 't': 1, ']': 1})\n",
      "Counter({'ɛk': 1, 'ma': 1, 'an': 1, 'jœ': 1, 'œt': 1, 'tn': 1, 'na': 1, 'a]': 1})\n",
      "Counter({'a': 2, 'r': 2, 'ɔ': 2, '[': 1, 'ː': 1, 'v': 1, 'b': 1, 'n': 1, ']': 1})\n",
      "Counter({'aː': 1, 'ːr': 1, 'ɔv': 1, 'bɔ': 1, 'ɔr': 1, 'rn': 1, 'na': 1, 'a]': 1})\n",
      "Counter({'r': 2, 'm': 2, '[': 1, 'θ': 1, 'a': 1, 'ː': 1, 'ɛ': 1, 'f': 1, 'ɔ': 1, 'ð': 1, 'u': 1, 'i': 1, 'k': 1, ']': 1})\n",
      "Counter({'θa': 1, 'aː': 1, 'ɛr': 1, 'fɔ': 1, 'ɔr': 1, 'rð': 1, 'ðu': 1, 'um': 1, 'mi': 1, 'ik': 1, 'k]': 1})\n",
      "Counter({'ː': 2, '[': 1, 'f': 1, 'ɛ': 1, 'd': 1, 'a': 1, 'h': 1, 'œ': 1, 'v': 1, 'ð': 1, 'u': 1, ']': 1})\n",
      "Counter({'fɛ': 1, 'ɛː': 1, 'ːd': 1, 'dː': 1, 'ːa': 1, 'hœ': 1, 'œv': 1, 'vð': 1, 'ðu': 1, 'u]': 1})\n",
      "Counter({'n': 2, 'i': 2, 'm': 2, 'a': 2, 'ɛ': 2, '[': 1, 'ː': 1, 'u': 1, 'k': 1, 'h': 1, ']': 1})\n",
      "Counter({'ma': 2, 'ni': 1, 'iː': 1, 'ːu': 1, 'an': 1, 'ɛk': 1, 'hɛ': 1, 'ɛi': 1, 'im': 1, 'a]': 1})\n",
      "Counter({'i': 3, 'ː': 2, 'u': 2, '[': 1, 'n': 1, 'v': 1, 'ð': 1, 'j': 1, 'r': 1, ']': 1})\n",
      "Counter({'iː': 2, 'ni': 1, 'ːu': 1, 'ːv': 1, 'vi': 1, 'ið': 1, 'ðj': 1, 'ju': 1, 'ur': 1, 'r]': 1})\n",
      "Counter({'m': 2, '[': 1, 'j': 1, 'œ': 1, 't': 1, 'v': 1, 'i': 1, 'ð': 1, 'ɛ': 1, 'ː': 1, 'r': 1, 'a': 1, 'n': 1, ']': 1})\n",
      "Counter({'mj': 1, 'jœ': 1, 'œt': 1, 'tv': 1, 'vi': 1, 'ið': 1, 'mɛ': 1, 'ɛː': 1, 'ːr': 1, 'ra': 1, 'an': 1, 'n]': 1})\n",
      "Counter({'n': 2, '[': 1, 'f': 1, 'y': 1, 'r': 1, 'm': 1, 'ɔ': 1, 'l': 1, 'd': 1, 'ɛ': 1, 'ð': 1, 'a': 1, ']': 1})\n",
      "Counter({'fy': 1, 'yr': 1, 'mɔ': 1, 'ɔl': 1, 'ld': 1, 'nɛ': 1, 'ɛð': 1, 'ða': 1, 'an': 1, 'n]': 1})\n",
      "Counter({'a': 4, 'r': 2, '[': 1, 'ː': 1, 'v': 1, 'l': 1, 'd': 1, ']': 1})\n",
      "Counter({'aː': 1, 'ːr': 1, 'va': 1, 'ar': 1, 'al': 1, 'ld': 1, 'da': 1, 'a]': 1})\n",
      "Counter({'a': 2, 'ɛ': 2, 'r': 2, '[': 1, 'θ': 1, 't': 1, 'k': 1, 'ː': 1, 'i': 1, 'v': 1, ']': 1})\n",
      "Counter({'θa': 1, 'at': 1, 'ɛr': 1, 'ɛk': 1, 'kː': 1, 'ːi': 1, 'va': 1, 'ar': 1, 'r]': 1})\n",
      "Counter({'a': 3, 'r': 3, 's': 2, 'n': 2, 'ː': 2, '[': 1, 'v': 1, 'd': 1, 'e': 1, 'ɛ': 1, ']': 1})\n",
      "Counter({'va': 1, 'ar': 1, 'ra': 1, 'sa': 1, 'an': 1, 'nd': 1, 'dr': 1, 'ne': 1, 'eː': 1, 'sɛ': 1, 'ɛː': 1, 'ːr': 1, 'r]': 1})\n",
      "Counter({'n': 2, 'ː': 2, 'a': 2, 'r': 2, '[': 1, 'e': 1, 's': 1, 'v': 1, 'l': 1, 'u': 1, 'i': 1, ']': 1})\n",
      "Counter({'ne': 1, 'eː': 1, 'sv': 1, 'va': 1, 'al': 1, 'la': 1, 'ar': 1, 'un': 1, 'nː': 1, 'ːi': 1, 'ir': 1, 'r]': 1})\n",
      "Counter({'a': 2, 'ː': 2, '[': 1, 'j': 1, 'œ': 1, 'r': 1, 'ð': 1, 'f': 1, 'n': 1, 's': 1, 'k': 1, 'ɛ': 1, 'v': 1, ']': 1})\n",
      "Counter({'jœ': 1, 'œr': 1, 'rð': 1, 'fa': 1, 'an': 1, 'nː': 1, 'ːs': 1, 'sk': 1, 'ɛː': 1, 'ːv': 1, 'va': 1, 'a]': 1})\n",
      "Counter({'ː': 3, 'n': 2, 'i': 2, '[': 1, 'e': 1, 'u': 1, 'p': 1, 'h': 1, 'm': 1, ']': 1})\n",
      "Counter({'ne': 1, 'eː': 1, 'up': 1, 'pː': 1, 'ːh': 1, 'hi': 1, 'im': 1, 'mi': 1, 'in': 1, 'nː': 1, 'ː]': 1})\n",
      "Counter({'a': 3, 'g': 2, 'n': 2, '[': 1, 'p': 1, 'v': 1, 'r': 1, 'i': 1, 'ː': 1, 'u': 1, 'ɣ': 1, ']': 1})\n",
      "Counter({'ga': 1, 'ap': 1, 'va': 1, 'ar': 1, 'gi': 1, 'in': 1, 'nː': 1, 'ːu': 1, 'un': 1, 'nɣ': 1, 'ɣa': 1, 'a]': 1})\n",
      "Counter({'ɛ': 2, 'r': 2, '[': 1, 'n': 1, 'g': 1, 'a': 1, 's': 1, 'h': 1, 'v': 1, 'ɣ': 1, 'i': 1, ']': 1})\n",
      "Counter({'ɛn': 1, 'gr': 1, 'ra': 1, 'as': 1, 'hv': 1, 'vɛ': 1, 'ɛr': 1, 'rɣ': 1, 'ɣi': 1, 'i]': 1})\n"
     ]
    }
   ],
   "source": [
    "import re\n",
    "from collections import Counter\n",
    "\n",
    "for paragraph in paragraphs[:3]:\n",
    "    for verse in paragraph:\n",
    "        ipa_verse = tr.main(verse)\n",
    "        print(Counter(re.sub(\" \", \"\", ipa_verse)))\n",
    "        print(Counter([ipa_verse[i:i+2] for i in range(1,len(ipa_verse)-1) if \" \" not in ipa_verse[i:i+2]]))"
   ]
  },
  {
   "cell_type": "markdown",
   "metadata": {},
   "source": [
    "### Show vocabulary\n",
    "\n",
    "Vocabulary of an eddic poem is "
   ]
  },
  {
   "cell_type": "code",
   "execution_count": 9,
   "metadata": {},
   "outputs": [
    {
     "name": "stdout",
     "output_type": "stream",
     "text": [
      "('ok', 49) [('ok', 'N-N')]\n",
      "('er', 25) [('er', 'C')]\n",
      "('á', 24) [('á', 'P')]\n",
      "('of', 22) [('of', 'P')]\n",
      "('í', 20) [('í', 'P')]\n",
      "('en', 18) [('en', 'CONJ')]\n",
      "('hon', 18) [('hon', 'Unk')]\n",
      "('ek', 14) [('ek', 'PRO-N')]\n",
      "('um', 14) [('um', 'P')]\n",
      "('at', 12) [('at', 'C')]\n",
      "('var', 11) [('var', 'BEDI')]\n",
      "('né', 11) [('né', 'CONJ')]\n",
      "('enn', 11) [('enn', 'ADV')]\n",
      "('eða', 11) [('eða', 'CONJ')]\n",
      "('sá', 11) [('sá', 'D-N')]\n",
      "('þat', 10) [('þat', 'ADV')]\n",
      "('hvat', 10) [('hvat', 'Unk')]\n",
      "('Þá', 10) [('Þá', 'ADV')]\n",
      "('fyr', 9) [('fyr', 'P')]\n",
      "('ór', 9) [('ór', 'PRO-N')]\n",
      "('mun', 9) [('mun', 'MDPI')]\n",
      "('Vituð', 9) [('Vituð', 'Unk')]\n",
      "('ér', 9) [('ér', 'PRO-N')]\n",
      "('þar', 8) [('þar', 'ADV')]\n",
      "('öll', 7) [('öll', 'Q-A')]\n",
      "('af', 7) [('af', 'P')]\n",
      "('mjök', 6) [('mjök', 'Unk')]\n",
      "('veit', 6) [('veit', 'VBPI')]\n",
      "('þá', 5) [('þá', 'ADV')]\n",
      "('þeir', 5) [('þeir', 'PRO-N')]\n",
      "('hann', 5) [('hann', 'PRO-N')]\n",
      "('æsir', 5) [('æsir', 'Unk')]\n",
      "('þeim', 5) [('þeim', 'PRO-D')]\n",
      "('nú', 5) [('nú', 'ADV')]\n",
      "('til', 5) [('til', 'P')]\n",
      "('Óðinn', 5) [('Óðinn', 'Unk')]\n",
      "('koma', 5) [('koma', 'VB')]\n",
      "('inn', 5) [('inn', 'RP')]\n",
      "('ragna', 5) [('ragna', 'Unk')]\n",
      "('fram', 5) [('fram', 'RP')]\n",
      "('munu', 5) [('munu', 'MDPI')]\n",
      "('man', 4) [('man', 'MDPI')]\n",
      "('gengu', 4) [('gengu', 'VBDI')]\n",
      "('regin', 4) [('regin', 'Unk')]\n",
      "('rökstóla', 4) [('rökstóla', 'Unk')]\n",
      "('ginnheilög', 4) [('ginnheilög', 'Unk')]\n",
      "('goð', 4) [('goð', 'NS-A')]\n",
      "('gættusk', 4) [('gættusk', 'Unk')]\n",
      "('dverga', 4) [('dverga', 'Unk')]\n",
      "('annarr', 4) [('annarr', 'Unk')]\n",
      "('standa', 4) [('standa', 'VB')]\n",
      "('heitir', 4) [('heitir', 'VBPI')]\n",
      "('falla', 4) [('falla', 'VB')]\n",
      "('vega', 4) [('vega', 'NS-A')]\n",
      "('Geyr', 4) [('Geyr', 'Unk')]\n",
      "('Garmr', 4) [('Garmr', 'Unk')]\n",
      "('Gnipahelli', 4) [('Gnipahelli', 'Unk')]\n",
      "('festr', 4) [('festr', 'Unk')]\n",
      "('slitna', 4) [('slitna', 'Unk')]\n",
      "('freki', 4) [('freki', 'Unk')]\n",
      "('renna', 4) [('renna', 'VB')]\n",
      "('fjölð', 4) [('fjölð', 'Unk')]\n",
      "('fræða', 4) [('fræða', 'Unk')]\n",
      "('sé', 4) [('sé', 'BEPS')]\n",
      "('lengra', 4) [('lengra', 'ADVR')]\n",
      "('rök', 4) [('rök', 'NS-A')]\n",
      "('römm', 4) [('römm', 'Unk')]\n",
      "('sigtíva', 4) [('sigtíva', 'Unk')]\n",
      "('við', 4) [('við', 'P')]\n",
      "('með', 4) [('með', 'P')]\n",
      "('kemr', 4) [('kemr', 'Unk')]\n",
      "('telja', 3) [('telja', 'VB')]\n",
      "('þau', 3) [('þau', 'PRO-N')]\n",
      "('höfðu', 3) [('höfðu', 'HVDI')]\n",
      "('níu', 3) [('níu', 'NUM-A')]\n",
      "('jörð', 3) [('jörð', 'N-A')]\n",
      "('sól', 3) [('sól', 'N-N')]\n",
      "('sunnan', 3) [('sunnan', 'ADV')]\n",
      "('hvar', 3) [('hvar', 'WADV')]\n",
      "('þær', 3) [('þær', 'PRO-N')]\n",
      "('hétu', 3) [('hétu', 'VBDI')]\n",
      "('gulli', 3) [('gulli', 'N-D')]\n",
      "('Þar', 3) [('Þar', 'ADV')]\n",
      "('æ', 3) [('æ', 'ADV')]\n",
      "('gaf', 3) [('gaf', 'VBDI')]\n",
      "('und', 3) [('und', 'P')]\n",
      "('heimi', 3) [('heimi', 'N-D')]\n",
      "('vítt', 3) [('vítt', 'Unk')]\n",
      "('Óðins', 3) [('Óðins', 'Unk')]\n",
      "('áðr', 3) [('áðr', 'Unk')]\n",
      "('austan', 3) [('austan', 'ADV')]\n",
      "('allir', 3) [('allir', 'Q-N')]\n",
      "('ferr', 3) [('ferr', 'Unk')]\n",
      "('kindir', 2) [('kindir', 'Unk')]\n",
      "('Heimdallar', 2) [('Heimdallar', 'Unk')]\n",
      "('vel', 2) [('vel', 'ADV')]\n",
      "('spjöll', 2) [('spjöll', 'Unk')]\n",
      "('Ek', 2) [('Ek', 'PRO-N')]\n",
      "('borna', 2) [('borna', 'VAN-A')]\n",
      "('mik', 2) [('mik', 'N-A')]\n",
      "('mæran', 2) [('mæran', 'Unk')]\n",
      "('neðan', 2) [('neðan', 'ADV')]\n",
      "('alda', 2) [('alda', 'NS-G')]\n",
      "('unnir', 2) [('unnir', 'Unk')]\n",
      "('æva', 2) [('æva', 'Unk')]\n",
      "('synir', 2) [('synir', 'NS-N')]\n",
      "('skópu', 2) [('skópu', 'Unk')]\n",
      "('salar', 2) [('salar', 'Unk')]\n",
      "('grund', 2) [('grund', 'Unk')]\n",
      "('Sól', 2) [('Sól', 'N-N')]\n",
      "('sinni', 2) [('sinni', 'PRO-D')]\n",
      "('vissi', 2) [('vissi', 'VBDI')]\n",
      "('átti', 2) [('átti', 'VBDI')]\n",
      "('stjörnur', 2) [('stjörnur', 'NS-N')]\n",
      "('áttu', 2) [('áttu', 'VBDI')]\n",
      "('Iðavelli', 2) [('Iðavelli', 'Unk')]\n",
      "('lögðu', 2) [('lögðu', 'VBDI')]\n",
      "('gerðu', 2) [('gerðu', 'DODI')]\n",
      "('váru', 2) [('váru', 'Unk')]\n",
      "('þrjár', 2) [('þrjár', 'NUM-A')]\n",
      "('kvámu', 2) [('kvámu', 'N-A')]\n",
      "('meyjar', 2) [('meyjar', 'N-G')]\n",
      "('dróttir', 2) [('dróttir', 'Unk')]\n",
      "('Durinn', 2) [('Durinn', 'Unk')]\n",
      "('dvergar', 2) [('dvergar', 'Unk')]\n",
      "('Eikinskjaldi', 2) [('Eikinskjaldi', 'Unk')]\n",
      "('liði', 2) [('liði', 'N-D')]\n",
      "('Lofars', 2) [('Lofars', 'Unk')]\n",
      "('frá', 2) [('frá', 'P')]\n",
      "('sjöt', 2) [('sjöt', 'Unk')]\n",
      "('Fjalarr', 2) [('Fjalarr', 'Unk')]\n",
      "('lifir', 2) [('lifir', 'VBPI')]\n",
      "('Ask', 2) [('Ask', 'N21-N')]\n",
      "('óð', 2) [('óð', 'VBDI')]\n",
      "('lá', 2) [('lá', 'VBDI')]\n",
      "('litu', 2) [('litu', 'VBDI')]\n",
      "('góða', 2) [('góða', 'ADJ-A')]\n",
      "('Hænir', 2) [('Hænir', 'Unk')]\n",
      "('hár', 2) [('hár', 'ADJ-N')]\n",
      "('þærs', 2) [('þærs', 'Unk')]\n",
      "('stendr', 2) [('stendr', 'VBPI')]\n",
      "('yfir', 2) [('yfir', 'P')]\n",
      "('Skuld', 2) [('Skuld', 'Unk')]\n",
      "('lög', 2) [('lög', 'NS-A')]\n",
      "('örlög', 2) [('örlög', 'NS-N')]\n",
      "('folkvíg', 2) [('folkvíg', 'Unk')]\n",
      "('fyrst', 2) [('fyrst', 'ADVS')]\n",
      "('hana', 2) [('hana', 'PRO-A')]\n",
      "('brenndu', 2) [('brenndu', 'VBDI')]\n",
      "('þrisvar', 2) [('þrisvar', 'NUM-A')]\n"
     ]
    }
   ],
   "source": [
    "from cltk.utils.frequency import Frequency\n",
    "from cltk.tag.pos import POSTag\n",
    "\n",
    "tagger = POSTag('old_norse')\n",
    "\n",
    "frq = Frequency()\n",
    "\n",
    "text = \" \".join([verse for paragraph in paragraphs for verse in paragraph])\n",
    "times = frq.counter_from_str(text)\n",
    "common_words = times.most_common(150)\n",
    "for word in common_words:\n",
    "    print(word[0], tagger.tag_tnt(word[0])[1])\n"
   ]
  },
  {
   "cell_type": "markdown",
   "metadata": {},
   "source": [
    "Even in a laguage which is higly flexionnal, there are a lot of small words, which we may call *stop words* that we find everywhere."
   ]
  },
  {
   "cell_type": "markdown",
   "metadata": {},
   "source": [
    "### Show syntax\n",
    "\n",
    "The syntax of a poem is more concise than the one of a saga. Eddic poems obey strict rules like the one which require 4 syllables in a verse. Yet, it is not really respected. Are there any obstacls to write more or less than 4 syllables? In which situations do the irregulaties occur? "
   ]
  },
  {
   "cell_type": "code",
   "execution_count": null,
   "metadata": {},
   "outputs": [],
   "source": []
  },
  {
   "cell_type": "markdown",
   "metadata": {
    "collapsed": true
   },
   "source": [
    "By Clément Besnier, email address: clemsciences@aol.com, web site: https://clementbesnier.pythonanywhere.com/, twitter: clemsciences"
   ]
  }
 ],
 "metadata": {
  "kernelspec": {
   "display_name": "Python 3.6",
   "language": "python",
   "name": "python3"
  },
  "language_info": {
   "codemirror_mode": {
    "name": "ipython",
    "version": 3
   },
   "file_extension": ".py",
   "mimetype": "text/x-python",
   "name": "python",
   "nbconvert_exporter": "python",
   "pygments_lexer": "ipython3",
   "version": "3.6.3"
  }
 },
 "nbformat": 4,
 "nbformat_minor": 1
}
