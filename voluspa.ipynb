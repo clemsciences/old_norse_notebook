{
 "cells": [
  {
   "cell_type": "markdown",
   "metadata": {},
   "source": [
    "# Völuspá analysis\n",
    "\n",
    "The aim of this notebook is to see how the use of NLP techniques may help philological studies. My first analysis is on Völuspá, the first poem of the Elder Edda, telling the destiny of the worlds."
   ]
  },
  {
   "cell_type": "code",
   "execution_count": 2,
   "metadata": {},
   "outputs": [],
   "source": [
    "# Set your own user path\n",
    "USER_PATH = \"/home/pi\"\n"
   ]
  },
  {
   "cell_type": "code",
   "execution_count": null,
   "metadata": {},
   "outputs": [],
   "source": []
  },
  {
   "cell_type": "code",
   "execution_count": null,
   "metadata": {},
   "outputs": [],
   "source": []
  },
  {
   "cell_type": "code",
   "execution_count": null,
   "metadata": {},
   "outputs": [],
   "source": []
  },
  {
   "cell_type": "code",
   "execution_count": 4,
   "metadata": {},
   "outputs": [],
   "source": [
    "# Download Old Norse Corpora to cltk_data directory\n",
    "from cltk.corpus.utils.importer import CorpusImporter\n",
    "onc = CorpusImporter(\"old_norse\")\n",
    "onc.import_corpus(\"old_norse_texts_heimskringla\")\n"
   ]
  },
  {
   "cell_type": "code",
   "execution_count": null,
   "metadata": {
    "collapsed": true
   },
   "outputs": [],
   "source": [
    "# $ ipython profile create\n",
    "# $ ipython locate\n",
    "# $ nano profile_default/ipython_config.py\n",
    "# # Add it a the end of the file (without '#'):\n",
    "# c.InteractiveShellApp.exec_lines = [\n",
    "#    'import sys; sys.path.append(\"~/cltk_data/old_norse\")'\n",
    "#]\n",
    "# # And... It's done!\n"
   ]
  },
  {
   "cell_type": "code",
   "execution_count": 14,
   "metadata": {},
   "outputs": [
    {
     "name": "stdout",
     "output_type": "stream",
     "text": [
      "1.\n",
      "Hljóðs bið ek allar\n",
      "helgar kindir,\n",
      "meiri ok minni\n",
      "mögu Heimdallar;\n",
      "viltu at ek, Valföðr,\n",
      "vel fyr telja\n",
      "forn spjöll fira,\n",
      "þau er fremst of man.\n",
      " \n",
      "2.\n",
      "Ek man jötna\n",
      "ár of borna,\n",
      "þá er forðum mik\n",
      "fædda \n"
     ]
    }
   ],
   "source": [
    "# old_norse_text_perseus\n",
    "# __import__('/home/pi/cltk_data/old_norse/text/old_norse_texts_heimskringla/text_manager')\n",
    "import os\n",
    "module_path = os.path.join(USER_PATH, \"cltk_data/old_norse/text/old_norse_texts_heimskringla/\")\n",
    "here = os.getcwd()\n",
    "os.chdir(module_path)\n",
    "corpus_path = os.path.join(module_path, \"Völuspá\")\n",
    "import text_manager\n",
    "loader = text_manager.TextLoader(os.path.join(\"Sæmundar-Edda\", \"Völuspá\"), \"txt\")\n",
    "text = loader.load()\n",
    "os.chdir(here)\n",
    "print(text[:200])\n"
   ]
  },
  {
   "cell_type": "markdown",
   "metadata": {},
   "source": [
    "#### split text in paragraphs ans verses\n"
   ]
  },
  {
   "cell_type": "code",
   "execution_count": 30,
   "metadata": {},
   "outputs": [
    {
     "data": {
      "text/plain": [
       "[['Hljóðs bið ek allar',\n",
       "  'helgar kindir,',\n",
       "  'meiri ok minni',\n",
       "  'mögu Heimdallar;',\n",
       "  'viltu at ek, Valföðr,',\n",
       "  'vel fyr telja',\n",
       "  'forn spjöll fira,',\n",
       "  'þau er fremst of man.'],\n",
       " ['Ek man jötna',\n",
       "  'ár of borna,',\n",
       "  'þá er forðum mik',\n",
       "  'fædda höfðu;',\n",
       "  'níu man ek heima,',\n",
       "  'níu íviðjur,',\n",
       "  'mjötvið mæran',\n",
       "  'fyr mold neðan.'],\n",
       " ['Ár var alda,',\n",
       "  'þat er ekki var,',\n",
       "  'var-a sandr né sær',\n",
       "  'né svalar unnir;',\n",
       "  'jörð fannsk æva',\n",
       "  'né upphiminn,',\n",
       "  'gap var ginnunga',\n",
       "  'en gras hvergi.']]"
      ]
     },
     "execution_count": 30,
     "metadata": {},
     "output_type": "execute_result"
    }
   ],
   "source": [
    "import re\n",
    "indices = [(m.start(0), m.end(0)) for m in re.finditer(r\"[0-9]{1,2}\\.\", text)]  #re.findall(r\"[0-9]{1,2}\\.\", text)\n",
    "paragraphs = [text[indices[i][1]:indices[i+1][0]].split(\"\\n\") for i in range(len(indices)-1)]\n",
    "paragraphs = [ [ verse for verse in paragraph if verse != \"\" and verse != \"\\xa0\"] for paragraph in paragraphs ]\n",
    "paragraphs[:3]"
   ]
  },
  {
   "cell_type": "markdown",
   "metadata": {},
   "source": [
    "#### Use the phonology module to transcribe phonetically the text"
   ]
  },
  {
   "cell_type": "markdown",
   "metadata": {},
   "source": [
    "#### show alliterations in the text"
   ]
  },
  {
   "cell_type": "markdown",
   "metadata": {},
   "source": [
    "#### show vocabulary"
   ]
  },
  {
   "cell_type": "markdown",
   "metadata": {},
   "source": [
    "#### show syntax"
   ]
  },
  {
   "cell_type": "code",
   "execution_count": null,
   "metadata": {},
   "outputs": [],
   "source": []
  },
  {
   "cell_type": "code",
   "execution_count": null,
   "metadata": {
    "collapsed": true
   },
   "outputs": [],
   "source": [
    "\n"
   ]
  }
 ],
 "metadata": {
  "kernelspec": {
   "display_name": "Python 3.6",
   "language": "python",
   "name": "python3"
  },
  "language_info": {
   "codemirror_mode": {
    "name": "ipython",
    "version": 3
   },
   "file_extension": ".py",
   "mimetype": "text/x-python",
   "name": "python",
   "nbconvert_exporter": "python",
   "pygments_lexer": "ipython3",
   "version": "3.6.3"
  }
 },
 "nbformat": 4,
 "nbformat_minor": 1
}
