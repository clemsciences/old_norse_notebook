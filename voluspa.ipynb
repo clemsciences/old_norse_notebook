{
 "cells": [
  {
   "cell_type": "markdown",
   "metadata": {},
   "source": [
    "# Völuspá analysis\n",
    "\n",
    "The aim of this notebook is to see how the use of NLP techniques may help philological studies. My first analysis is on Völuspá (*Prophecy of the Seeress*), the first poem of the Elder Edda, telling the destiny of the worlds: from its creation to its end."
   ]
  },
  {
   "cell_type": "markdown",
   "metadata": {},
   "source": [
    "## Contents\n",
    "\n",
    "* Download used corpora\n",
    "* Read them\n",
    "* Retrieve the original structure\n",
    "* Syllabification\n",
    "* Transcribe phonetically the text\n",
    "* Alliteration\n",
    "* Vocabulary\n",
    "* Frequency\n",
    "* Poetry\n"
   ]
  },
  {
   "cell_type": "markdown",
   "metadata": {},
   "source": [
    "### All imports"
   ]
  },
  {
   "cell_type": "code",
   "execution_count": 1,
   "metadata": {},
   "outputs": [],
   "source": [
    "import os\n",
    "module_path = os.path.join(os.environ[\"HOME\"], \"cltk_data/old_norse/text/old_norse_texts_heimskringla/\")\n",
    "import re\n",
    "import sys\n",
    "sys.path.append(module_path)\n",
    "from collections import Counter\n",
    "\n",
    "from cltk.corpus.utils.importer import CorpusImporter\n",
    "from cltk.corpus.old_norse.syllabifier import hierarchy\n",
    "from cltk.phonology import utils as phu\n",
    "from cltk.phonology.old_norse import transcription as ont \n",
    "from cltk.utils.frequency import Frequency\n",
    "from cltk.tag.pos import POSTag\n",
    "from cltk.prosody.old_norse.verse import VerseManager, Fornyrdhislag, Ljoodhhaattr, ShortLine, LongLine\n",
    "\n",
    "from old_norse.text.old_norse_texts_heimskringla import text_manager\n",
    "#from syllabified_text_reader import read_annotated_text"
   ]
  },
  {
   "cell_type": "markdown",
   "metadata": {},
   "source": [
    "### Download Old Norse Corpora to cltk_data directory"
   ]
  },
  {
   "cell_type": "code",
   "execution_count": 2,
   "metadata": {},
   "outputs": [],
   "source": [
    "onc = CorpusImporter(\"old_norse\")\n",
    "onc.import_corpus(\"old_norse_texts_heimskringla\")\n",
    "onc.import_corpus('old_norse_models_cltk')"
   ]
  },
  {
   "cell_type": "markdown",
   "metadata": {
    "collapsed": true
   },
   "source": [
    "Configure **ipython**.\n",
    "\n",
    "```bash\n",
    "$ ipython profile create\n",
    "$ ipython locate\n",
    "$ nano .ipython/profile_default/ipython_config.py\n",
    "```\n",
    " Add it a the end of the file:\n",
    "```bash\n",
    "c.InteractiveShellApp.exec_lines = [\n",
    "    'import sys; import os; sys.path.append(os.path.join(os.environ[\"HOME\"], \"cltk_data\"))',\n",
    "    'import sys; import os; sys.path.append(os.path.join(os.environ[\"HOME\"], \"cltk_data\", \"text\", \"old_norse_texts_heimskringla\"))'\n",
    "]\n",
    "```\n",
    "It is necessary to do that because it makes things easier to utilize data furnished by CLTK. You will see later in the notebook how it is used.\n",
    "\n",
    "Install the **kernel** associated with **python3.6** [https://ipython.readthedocs.io/en/stable/install/kernel_install.html](https://ipython.readthedocs.io/en/stable/install/kernel_install.html) "
   ]
  },
  {
   "cell_type": "code",
   "execution_count": 3,
   "metadata": {},
   "outputs": [
    {
     "name": "stdout",
     "output_type": "stream",
     "text": [
      "1.\n",
      "Hljóðs bið ek allar\n",
      "helgar kindir,\n",
      "meiri ok minni\n",
      "mögu Heimdallar;\n",
      "viltu at ek, Valföðr,\n",
      "vel fyr telja\n",
      "forn spjöll fira,\n",
      "þau er fremst of man.\n",
      " \n",
      "2.\n",
      "Ek man jötna\n",
      "ár of borna,\n",
      "þá er forðum mik\n",
      "fædda \n"
     ]
    }
   ],
   "source": [
    "loader = text_manager.TextLoader(os.path.join(module_path, \"Sæmundar-Edda\", \"Völuspá\"), \"txt\")\n",
    "text = loader.load()\n",
    "print(text[:200])"
   ]
  },
  {
   "cell_type": "markdown",
   "metadata": {},
   "source": [
    "### Split text in paragraphs ans verses\n",
    "Extract the organisation of verses in Völuspá"
   ]
  },
  {
   "cell_type": "code",
   "execution_count": 4,
   "metadata": {},
   "outputs": [],
   "source": [
    "# The following function is useful to improve existing functions\n",
    "\n",
    "def remove_punctuations(text):\n",
    "    res = text\n",
    "    # for punctuation in \"-:?\":\n",
    "    #    res = \"\".join(res.split(punctuation))\n",
    "    res = re.sub(\"[\\-:\\?;,]\", \"\", res)\n",
    "    res = re.sub(\"z\", \"s\", res)\n",
    "    res = re.sub(\"x\", \"ks\", res)\n",
    "    res = re.sub(r\" +\", \" \", res)\n",
    "    return res"
   ]
  },
  {
   "cell_type": "markdown",
   "metadata": {},
   "source": [
    "  * Get the indices of paragraphs delimiters\n",
    "  * Extract the content between two following delimiters and seperate lines and put them in a list\n",
    "  * Clean all the lines/verses"
   ]
  },
  {
   "cell_type": "code",
   "execution_count": 5,
   "metadata": {},
   "outputs": [
    {
     "data": {
      "text/plain": [
       "[['Hljóðs bið ek allar',\n",
       "  'helgar kindir',\n",
       "  'meiri ok minni',\n",
       "  'mögu Heimdallar',\n",
       "  'viltu at ek Valföðr',\n",
       "  'vel fyr telja',\n",
       "  'forn spjöll fira',\n",
       "  'þau er fremst of man.'],\n",
       " ['Ek man jötna',\n",
       "  'ár of borna',\n",
       "  'þá er forðum mik',\n",
       "  'fædda höfðu',\n",
       "  'níu man ek heima',\n",
       "  'níu íviðjur',\n",
       "  'mjötvið mæran',\n",
       "  'fyr mold neðan.'],\n",
       " ['Ár var alda',\n",
       "  'þat er ekki var',\n",
       "  'vara sandr né sær',\n",
       "  'né svalar unnir',\n",
       "  'jörð fannsk æva',\n",
       "  'né upphiminn',\n",
       "  'gap var ginnunga',\n",
       "  'en gras hvergi.']]"
      ]
     },
     "execution_count": 5,
     "metadata": {},
     "output_type": "execute_result"
    }
   ],
   "source": [
    "indices = [(m.start(0), m.end(0)) for m in re.finditer(r\"[0-9]{1,2}\\.\", text)]  #re.findall(r\"[0-9]{1,2}\\.\", text)\n",
    "paragraphs = [text[indices[i][1]:indices[i+1][0]].split(\"\\n\") for i in range(len(indices)-1)]\n",
    "paragraphs = [[remove_punctuations(verse).strip() for verse in paragraph if remove_punctuations(verse) != \"\" and verse != \"\\xa0\"] for paragraph in paragraphs ]\n",
    "paragraphs[:3]"
   ]
  },
  {
   "cell_type": "markdown",
   "metadata": {},
   "source": [
    "### Syllabification in Old Norse and The *Völuspá*\n",
    "\n",
    "Syllabification in Old Norse is a tough task and agreement among scholars has not been reached. Although Icelandic syllabifiers exist, they are not very useful because, *til dæmis* (for example), Modern Icelandic has included many [epenthetic](https://en.wikipedia.org/wiki/Epenthesis) vowels (compare *maðr* in Old Norse and *maður* in Modern Icelandic).\n",
    "\n",
    "As a substantial example, I annotated syllables in the *Völuspá*. The code below shows how to retrieve it. Before it, I explain how the raw annotated text looks like.\n",
    "\n",
    "#### Guidelines for syllable annotation\n",
    "\n",
    "* \\n+\\n delimits lines (verses)\n",
    "* \\n-\\n delimits words\n",
    "* just \\n delimits two syllables of a same word\n",
    "* numbers delimit stanzas\n",
    "\n"
   ]
  },
  {
   "cell_type": "markdown",
   "metadata": {},
   "source": [
    "You can see below the raw annotations."
   ]
  },
  {
   "cell_type": "code",
   "execution_count": 6,
   "metadata": {},
   "outputs": [
    {
     "name": "stdout",
     "output_type": "stream",
     "text": [
      "\n",
      "\n",
      "+\n",
      "-\n",
      "1\n",
      "+\n",
      "-\n",
      "Hljóðs\n",
      "-\n",
      "bið\n",
      "-\n",
      "ek\n",
      "-\n",
      "al\n",
      "lar\n",
      "+\n",
      "-\n",
      "hel\n",
      "gar\n",
      "-\n",
      "kin\n",
      "dir\n"
     ]
    }
   ],
   "source": [
    "with open(os.path.join(module_path, \"Sæmundar-Edda/Völuspá/txt_files/syllabified/syllabified_text_complete.txt\"), \"r\") as f:\n",
    "    text = f.read()\n",
    "print(text[:60])"
   ]
  },
  {
   "cell_type": "code",
   "execution_count": 7,
   "metadata": {},
   "outputs": [],
   "source": [
    "#from old_norse.text.old_norse_texts_heimskringla import reader as heim_reader\n",
    "\n",
    "#pesr = heim_reader.PoeticEddaSyllabifiedReader(\"Völuspá\")\n",
    "#pesr.raw()[:60]"
   ]
  },
  {
   "cell_type": "markdown",
   "metadata": {},
   "source": [
    "Once parsed, the text is a list of paragraphs. Each paragraph is a list of verses. Each verse is a list of word. Each word is a list of syllables."
   ]
  },
  {
   "cell_type": "code",
   "execution_count": 8,
   "metadata": {},
   "outputs": [
    {
     "ename": "NameError",
     "evalue": "name 'read_annotated_text' is not defined",
     "output_type": "error",
     "traceback": [
      "\u001b[0;31m---------------------------------------------------------------------------\u001b[0m",
      "\u001b[0;31mNameError\u001b[0m                                 Traceback (most recent call last)",
      "\u001b[0;32m<ipython-input-8-2a19066d3a78>\u001b[0m in \u001b[0;36m<module>\u001b[0;34m()\u001b[0m\n\u001b[1;32m      1\u001b[0m \u001b[0;31m#from old_norse.text.old_norse_texts_heimskringla import *\u001b[0m\u001b[0;34m\u001b[0m\u001b[0;34m\u001b[0m\u001b[0m\n\u001b[0;32m----> 2\u001b[0;31m \u001b[0msyllabified_voluspa\u001b[0m \u001b[0;34m=\u001b[0m \u001b[0mread_annotated_text\u001b[0m\u001b[0;34m(\u001b[0m\u001b[0mos\u001b[0m\u001b[0;34m.\u001b[0m\u001b[0mpath\u001b[0m\u001b[0;34m.\u001b[0m\u001b[0mjoin\u001b[0m\u001b[0;34m(\u001b[0m\u001b[0mmodule_path\u001b[0m\u001b[0;34m,\u001b[0m \u001b[0;34m\"Sæmundar-Edda/Völuspá/txt_files/syllabified_text_complete.txt\"\u001b[0m\u001b[0;34m)\u001b[0m\u001b[0;34m)\u001b[0m\u001b[0;34m\u001b[0m\u001b[0m\n\u001b[0m\u001b[1;32m      3\u001b[0m \u001b[0msyllabified_voluspa\u001b[0m\u001b[0;34m[\u001b[0m\u001b[0;34m:\u001b[0m\u001b[0;36m2\u001b[0m\u001b[0;34m]\u001b[0m\u001b[0;34m\u001b[0m\u001b[0m\n",
      "\u001b[0;31mNameError\u001b[0m: name 'read_annotated_text' is not defined"
     ]
    }
   ],
   "source": [
    "#from old_norse.text.old_norse_texts_heimskringla import *\n",
    "syllabified_voluspa = read_annotated_text(os.path.join(module_path, \"Sæmundar-Edda/Völuspá/txt_files/syllabified_text_complete.txt\"))\n",
    "syllabified_voluspa[:2]"
   ]
  },
  {
   "cell_type": "markdown",
   "metadata": {},
   "source": [
    "#### Use the phonology module to transcribe phonetically the text"
   ]
  },
  {
   "cell_type": "code",
   "execution_count": null,
   "metadata": {},
   "outputs": [],
   "source": [
    "tr = phu.Transcriber(ont.DIPHTHONGS_IPA, ont.DIPHTHONGS_IPA_class, ont.IPA_class, ont.old_norse_rules)\n",
    "for paragraph in paragraphs[:3]:\n",
    "    for verse in paragraph:\n",
    "        print(repr(verse)+\"\\t\\t->\\t\"+tr.main(verse))"
   ]
  },
  {
   "cell_type": "markdown",
   "metadata": {},
   "source": [
    "### Show alliterations in the text\n",
    "Alliterations are the main stylistic literary device in Old Norse poetry."
   ]
  },
  {
   "cell_type": "code",
   "execution_count": null,
   "metadata": {},
   "outputs": [],
   "source": [
    "unigram_sounds = []\n",
    "bigram_sounds = []\n",
    "for paragraph in paragraphs:\n",
    "    for verse in paragraph:\n",
    "        ipa_verse = tr.main(verse)\n",
    "        ipa_verse = re.sub(r\"[ \\[\\]]\", \"\", ipa_verse)\n",
    "        unigram_sounds.append(ipa_verse)\n",
    "        bigram_sounds.extend([ipa_verse[i:i+2] for i in range(1, len(ipa_verse)-1) if \" \" not in ipa_verse[i:i+2]])\n",
    "        \n",
    "print(Counter(\"\".join(unigram_sounds)))\n",
    "print(Counter(bigram_sounds))"
   ]
  },
  {
   "cell_type": "markdown",
   "metadata": {},
   "source": [
    "A better way to find aliterration is not to look for exact alitterations but for approximates ones. We can look at common consonant features like \"bilabial stops or \"labio-dental frictative\"."
   ]
  },
  {
   "cell_type": "markdown",
   "metadata": {},
   "source": [
    "### Show vocabulary\n",
    "\n",
    "Vocabulary of an eddic poem is "
   ]
  },
  {
   "cell_type": "code",
   "execution_count": null,
   "metadata": {},
   "outputs": [],
   "source": [
    "tagger = POSTag('old_norse')\n",
    "\n",
    "frq = Frequency()\n",
    "\n",
    "text = \" \".join([verse for paragraph in paragraphs for verse in paragraph])\n",
    "times = frq.counter_from_str(text)\n",
    "common_words = times.most_common(15)\n",
    "for word in common_words:\n",
    "    print(word[0], tagger.tag_tnt(word[0])[0][1])"
   ]
  },
  {
   "cell_type": "markdown",
   "metadata": {},
   "source": [
    "Even in a laguage which is higly flexionnal, there are a lot of small words, which we may call *stop words* that we find everywhere."
   ]
  },
  {
   "cell_type": "markdown",
   "metadata": {},
   "source": [
    "### Show syntax\n",
    "\n",
    "The syntax of a poem is more concise than the one of a saga. Eddic poems obey strict rules like the one which require 4 syllables in a verse. Yet, it is not really respected. Are there any obstacls to write more or less than 4 syllables? In which situations do the irregulaties occur? "
   ]
  },
  {
   "cell_type": "code",
   "execution_count": null,
   "metadata": {},
   "outputs": [],
   "source": [
    "tagger = POSTag('old_norse')\n",
    "\n",
    "\n",
    "text = [verse for paragraph in paragraphs for verse in paragraph]\n",
    "\n",
    "for sentence in text[:5]:\n",
    "    words = sentence.split(\" \")\n",
    "    tagged_words = [tagger.tag_tnt(word) for word in words]\n",
    "    print(\" \".join([word+\"|\"+tag[0][1] for word, tag in zip(words, tagged_words)]))"
   ]
  },
  {
   "cell_type": "markdown",
   "metadata": {},
   "source": [
    "### Verse structure\n",
    "\n",
    "Eddic poems have 2 main known structures named *fornyrðislag* and *ljóðaháttr*, see https://en.wikipedia.org/wiki/Alliterative_verse#Old_Norse_poetic_forms for more details."
   ]
  },
  {
   "cell_type": "code",
   "execution_count": null,
   "metadata": {},
   "outputs": [],
   "source": [
    "#module_path = os.path.join(os.environ[\"HOME\"], \"cltk_data/old_norse/text/old_norse_texts_heimskringla/\")\n",
    "loader = text_manager.TextLoader(os.path.join(module_path, \"Sæmundar-Edda\", \"Völuspá\"), \"txt\")\n",
    "text = loader.load()\n",
    "indices = [(m.start(0), m.end(0)) for m in re.finditer(r\"[0-9]{1,2}\\.\", text)]  #re.findall(r\"[0-9]{1,2}\\.\", text)\n",
    "paragraphs = [text[indices[i][1]:indices[i+1][0]].strip() for i in range(len(indices)-1)]\n",
    "\n",
    "print(\"First stanza:\\n\")\n",
    "#stanzas = [\" \".join([paragraph for paragraph in syllabified_voluspa])]\n",
    "first_stanza = paragraphs[0]\n",
    "print(first_stanza)\n",
    "\n",
    "print(\"\\nThis is a fornyrðislag.\" if VerseManager.is_fornyrdhislag(first_stanza) else \"\\nThis is not a fornyrðislag.\")\n",
    "\n",
    "v_first_stanza = Fornyrdhislag()\n",
    "\n",
    "v_first_stanza.from_short_lines_text(first_stanza)\n",
    "print(\"\\n\\\"Long lines\\\"\\n\"+str([[line.text for line in long_line] for long_line in v_first_stanza.long_lines])+\"\\n\")\n",
    "\n",
    "v_first_stanza.syllabify(hierarchy)\n",
    "print(\"\\nSyllabified text: \\n\"+str(v_first_stanza.syllabified_text)+\"\\n\")\n",
    "\n",
    "v_first_stanza.to_phonetics()\n",
    "print(\"\\nPhonetic transcription:\\n\"+str(v_first_stanza.transcribed_text))\n",
    "\n",
    "print(\"\\nAlliterations: \\n\", v_first_stanza.find_alliteration())"
   ]
  },
  {
   "cell_type": "code",
   "execution_count": null,
   "metadata": {},
   "outputs": [],
   "source": [
    "#module_path = os.path.join(os.environ[\"HOME\"], \"cltk_data/old_norse/text/old_norse_texts_heimskringla/\")\n",
    "loader = text_manager.TextLoader(os.path.join(module_path, \"Sæmundar-Edda\", \"Hávamál\"), \"txt\")\n",
    "text_havamal = loader.load()\n",
    "indices = [(m.start(0), m.end(0)) for m in re.finditer(r\"[0-9]{1,2}\\.\", text_havamal)]  #re.findall(r\"[0-9]{1,2}\\.\", text)\n",
    "paragraphs = [text_havamal[indices[i][1]:indices[i+1][0]].strip() for i in range(len(indices)-1)]\n",
    "\n",
    "print(\"First stanza:\\n\")\n",
    "#stanzas = [\" \".join([paragraph for paragraph in syllabified_voluspa])]\n",
    "first_stanza = paragraphs[76]\n",
    "print(first_stanza)\n",
    "\n",
    "print(\"\\nThis is a ljóðaháttr.\" if VerseManager.is_ljoodhhaattr(first_stanza) else \"\\nThis is not a ljóðaháttr.\")\n",
    "\n",
    "v_first_stanza = Ljoodhhaattr()\n",
    "\n",
    "v_first_stanza.from_short_lines_text(first_stanza)\n",
    "print(\"\\n\\\"Long lines\\\"\\n\"+str([[line.text for line in long_line] for long_line in v_first_stanza.long_lines])+\"\\n\")\n",
    "\n",
    "v_first_stanza.syllabify(hierarchy)\n",
    "print(\"\\nSyllabified text: \\n\"+str(v_first_stanza.syllabified_text)+\"\\n\")\n",
    "\n",
    "v_first_stanza.to_phonetics()\n",
    "print(\"\\nPhonetic transcription:\\n\"+str(v_first_stanza.transcribed_text))\n",
    "\n",
    "print(\"\\nAlliterations: \\n\", v_first_stanza.find_alliteration())"
   ]
  },
  {
   "cell_type": "markdown",
   "metadata": {},
   "source": [
    "Sources :\n",
    "* [Heimskringla](heimskringla.no)"
   ]
  },
  {
   "cell_type": "markdown",
   "metadata": {},
   "source": [
    "#### TODO\n",
    "* Give distributions of syllables per short lines, long lines and stanzas.\n",
    "* Give distributions of alliterations \n",
    "* Number of short lines\n",
    "* Number of long lines\n",
    "* Number of stanzas\n",
    "* Give distribution of unigrams, bigrams\n",
    "* Give the part of speech of a word\n",
    "* Apply the same thing to an other eddic poem."
   ]
  },
  {
   "cell_type": "markdown",
   "metadata": {
    "collapsed": true
   },
   "source": [
    "\n",
    "By Clément Besnier, email address: clemsciences@aol.com, web site: https://clementbesnier.pythonanywhere.com/, twitter: clemsciences"
   ]
  }
 ],
 "metadata": {
  "kernelspec": {
   "display_name": "Python 3.6",
   "language": "python",
   "name": "python3"
  },
  "language_info": {
   "codemirror_mode": {
    "name": "ipython",
    "version": 3
   },
   "file_extension": ".py",
   "mimetype": "text/x-python",
   "name": "python",
   "nbconvert_exporter": "python",
   "pygments_lexer": "ipython3",
   "version": "3.6.3"
  }
 },
 "nbformat": 4,
 "nbformat_minor": 1
}
