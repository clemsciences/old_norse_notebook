{
 "cells": [
  {
   "cell_type": "code",
   "execution_count": 1,
   "metadata": {
    "collapsed": true
   },
   "outputs": [],
   "source": [
    "# Set your own user path\n",
    "USER_PATH = \"/home/clement\"\n"
   ]
  },
  {
   "cell_type": "code",
   "execution_count": 2,
   "metadata": {
    "collapsed": false
   },
   "outputs": [
    {
     "ename": "ImportError",
     "evalue": "No module named 'cltk'",
     "output_type": "error",
     "traceback": [
      "\u001b[0;31m---------------------------------------------------------------------------\u001b[0m",
      "\u001b[0;31mImportError\u001b[0m                               Traceback (most recent call last)",
      "\u001b[0;32m<ipython-input-2-fc74fb7f1eae>\u001b[0m in \u001b[0;36m<module>\u001b[0;34m()\u001b[0m\n\u001b[1;32m      1\u001b[0m \u001b[0;31m# Download Old Norse Corpora to cltk_data directory\u001b[0m\u001b[0;34m\u001b[0m\u001b[0;34m\u001b[0m\u001b[0m\n\u001b[0;32m----> 2\u001b[0;31m \u001b[0;32mfrom\u001b[0m \u001b[0mcltk\u001b[0m\u001b[0;34m.\u001b[0m\u001b[0mcorpus\u001b[0m\u001b[0;34m.\u001b[0m\u001b[0mutils\u001b[0m\u001b[0;34m.\u001b[0m\u001b[0mimporter\u001b[0m \u001b[0;32mimport\u001b[0m \u001b[0mCorpusImporter\u001b[0m\u001b[0;34m\u001b[0m\u001b[0m\n\u001b[0m\u001b[1;32m      3\u001b[0m \u001b[0monc\u001b[0m \u001b[0;34m=\u001b[0m \u001b[0mCorpusImporter\u001b[0m\u001b[0;34m(\u001b[0m\u001b[0;34m\"old_norse\"\u001b[0m\u001b[0;34m)\u001b[0m\u001b[0;34m\u001b[0m\u001b[0m\n\u001b[1;32m      4\u001b[0m \u001b[0monc\u001b[0m\u001b[0;34m.\u001b[0m\u001b[0mimport_corpus\u001b[0m\u001b[0;34m(\u001b[0m\u001b[0;34m\"old_norse_texts_heimskringla\"\u001b[0m\u001b[0;34m)\u001b[0m\u001b[0;34m\u001b[0m\u001b[0m\n",
      "\u001b[0;31mImportError\u001b[0m: No module named 'cltk'"
     ]
    }
   ],
   "source": [
    "# Download Old Norse Corpora to cltk_data directory\n",
    "from cltk.corpus.utils.importer import CorpusImporter\n",
    "onc = CorpusImporter(\"old_norse\")\n",
    "onc.import_corpus(\"old_norse_texts_heimskringla\")\n"
   ]
  },
  {
   "cell_type": "code",
   "execution_count": null,
   "metadata": {
    "collapsed": true
   },
   "outputs": [],
   "source": [
    "# $ ipython profile create\n",
    "# $ ipython locate\n",
    "# $ nano profile_default/ipython_config.py\n",
    "# # Add it a the end of the file (without '#'):\n",
    "# c.InteractiveShellApp.exec_lines = [\n",
    "#    'import sys; sys.path.append(\"~/cltk_data/old_norse\")'\n",
    "#]\n",
    "# # And... It's done!\n"
   ]
  },
  {
   "cell_type": "code",
   "execution_count": null,
   "metadata": {
    "collapsed": true
   },
   "outputs": [],
   "source": [
    "# old_norse_text_perseus\n",
    "# __import__('/home/pi/cltk_data/old_norse/text/old_norse_texts_heimskringla/text_manager')\n",
    "import os\n",
    "module_path = os.path.join(USER_PATH, \"cltk_data/old_norse/text/old_norse_texts_heimskringla/\")\n",
    "here = os.getcwd()\n",
    "os.chdir(module_path)\n",
    "corpus_path = os.path.join(module_path, \"Völuspá\")\n",
    "import text_manager\n",
    "loader = text_manager.TextLoader(os.path.join(\"Sæmundar-Edda\", \"Völuspá\"), \"txt\")\n",
    "os.chdir(here)\n",
    "text = loader.load()[:100]\n",
    "text[:100]\n"
   ]
  },
  {
   "cell_type": "code",
   "execution_count": null,
   "metadata": {
    "collapsed": true
   },
   "outputs": [],
   "source": [
    "# split text in paragraphs ans verses"
   ]
  },
  {
   "cell_type": "code",
   "execution_count": null,
   "metadata": {
    "collapsed": true
   },
   "outputs": [],
   "source": [
    "# Use the phonology module to transcribe phonetically the text"
   ]
  },
  {
   "cell_type": "code",
   "execution_count": null,
   "metadata": {
    "collapsed": true
   },
   "outputs": [],
   "source": [
    "# show alliterations in the text"
   ]
  },
  {
   "cell_type": "code",
   "execution_count": null,
   "metadata": {
    "collapsed": true
   },
   "outputs": [],
   "source": [
    "# show vocabulary"
   ]
  },
  {
   "cell_type": "code",
   "execution_count": null,
   "metadata": {
    "collapsed": true
   },
   "outputs": [],
   "source": [
    "# show syntax"
   ]
  },
  {
   "cell_type": "code",
   "execution_count": null,
   "metadata": {
    "collapsed": true
   },
   "outputs": [],
   "source": []
  },
  {
   "cell_type": "code",
   "execution_count": null,
   "metadata": {
    "collapsed": true
   },
   "outputs": [],
   "source": [
    "\n"
   ]
  }
 ],
 "metadata": {
  "kernelspec": {
   "display_name": "Python 3",
   "language": "python",
   "name": "python3"
  },
  "language_info": {
   "codemirror_mode": {
    "name": "ipython",
    "version": 3
   },
   "file_extension": ".py",
   "mimetype": "text/x-python",
   "name": "python",
   "nbconvert_exporter": "python",
   "pygments_lexer": "ipython3",
   "version": "3.5.3"
  }
 },
 "nbformat": 4,
 "nbformat_minor": 0
}
