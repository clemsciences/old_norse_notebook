{
 "cells": [
  {
   "cell_type": "markdown",
   "metadata": {},
   "source": [
    "# Völuspá's Lexicon "
   ]
  },
  {
   "cell_type": "code",
   "execution_count": 1,
   "metadata": {
    "collapsed": true
   },
   "outputs": [],
   "source": [
    "from zoegas import reader\n",
    "from eddas import reader as poetic_edda_reader\n",
    "from eddas import pos as poetic_edda_pos"
   ]
  },
  {
   "cell_type": "code",
   "execution_count": 2,
   "metadata": {
    "collapsed": true
   },
   "outputs": [],
   "source": [
    "from collections import defaultdict"
   ]
  },
  {
   "cell_type": "code",
   "execution_count": 3,
   "metadata": {
    "collapsed": true
   },
   "outputs": [],
   "source": [
    "PUNCTUATIONS = \"':?!.,;-\""
   ]
  },
  {
   "cell_type": "code",
   "execution_count": 4,
   "metadata": {
    "collapsed": true
   },
   "outputs": [],
   "source": [
    "dictionary = reader.Dictionary(reader.dictionary_name)"
   ]
  },
  {
   "cell_type": "code",
   "execution_count": 5,
   "metadata": {
    "collapsed": true
   },
   "outputs": [],
   "source": [
    "word = dictionary.find(\"heimr\")"
   ]
  },
  {
   "cell_type": "code",
   "execution_count": 6,
   "metadata": {
    "collapsed": true
   },
   "outputs": [],
   "source": [
    "lem_voeluspaa = poetic_edda_reader.PoeticEddaLemmatizationReader(\"Völuspá\")"
   ]
  },
  {
   "cell_type": "code",
   "execution_count": 7,
   "metadata": {
    "collapsed": true
   },
   "outputs": [],
   "source": [
    "tagged_words = lem_voeluspaa.tagged_words()\n"
   ]
  },
  {
   "cell_type": "code",
   "execution_count": 8,
   "metadata": {
    "collapsed": false
   },
   "outputs": [
    {
     "data": {
      "text/plain": [
       "[('1', ''), ('Hljóðs', 'HLJÓÐ'), ('bið', 'BIÐJA'), ...]"
      ]
     },
     "execution_count": 8,
     "metadata": {},
     "output_type": "execute_result"
    }
   ],
   "source": [
    "tagged_words"
   ]
  },
  {
   "cell_type": "code",
   "execution_count": 11,
   "metadata": {
    "collapsed": true
   },
   "outputs": [],
   "source": []
  },
  {
   "cell_type": "code",
   "execution_count": 12,
   "metadata": {
    "collapsed": false
   },
   "outputs": [],
   "source": [
    "d = {}\n",
    "forms = defaultdict(list)\n",
    "proper_nouns = []\n",
    "for word, tag in tagged_words:\n",
    "    if tag.lower() not in d and tag != '' and tag not in PUNCTUATIONS:\n",
    "        d[tag.lower()] = dictionary.find(tag.lower())\n",
    "    if len(word) > 0 and word[0].isupper():\n",
    "        proper_nouns.append(word)\n",
    "    forms[tag.lower()].append(word)"
   ]
  },
  {
   "cell_type": "code",
   "execution_count": null,
   "metadata": {
    "collapsed": false
   },
   "outputs": [],
   "source": [
    "# Words not in dictionary\n",
    "not_found_lemmata = []\n",
    "for lemma in d:\n",
    "    if d[lemma] is None:\n",
    "        not_found_lemmata.append(lemma)"
   ]
  },
  {
   "cell_type": "code",
   "execution_count": null,
   "metadata": {
    "collapsed": false
   },
   "outputs": [],
   "source": [
    "not_found_lemmata"
   ]
  },
  {
   "cell_type": "code",
   "execution_count": 13,
   "metadata": {
    "collapsed": false,
    "scrolled": true
   },
   "outputs": [
    {
     "data": {
      "text/plain": [
       "['Hljóðs',\n",
       " 'Heimdallar',\n",
       " 'Valföðr',\n",
       " 'Ek',\n",
       " 'Ár',\n",
       " 'Áðr',\n",
       " 'Burs',\n",
       " 'Miðgarð',\n",
       " 'Sól',\n",
       " 'Þá',\n",
       " 'Hittusk',\n",
       " 'Iðavelli',\n",
       " 'Tefldu',\n",
       " 'Jötunheimum',\n",
       " 'Þá',\n",
       " 'Brimis',\n",
       " 'Bláins',\n",
       " 'Þar',\n",
       " 'Móðsognir',\n",
       " 'Durinn',\n",
       " 'Durinn',\n",
       " 'Nýi',\n",
       " 'Niði',\n",
       " 'Norðri',\n",
       " 'Suðri',\n",
       " 'Austri',\n",
       " 'Vestri',\n",
       " 'Alþjófr',\n",
       " 'Dvalinn',\n",
       " 'Nár',\n",
       " 'Náinn',\n",
       " 'Nípingr',\n",
       " 'Dáinn',\n",
       " 'Bívurr',\n",
       " 'Bávurr',\n",
       " 'Bömburr',\n",
       " 'Nóri',\n",
       " 'Ánn',\n",
       " 'Ánarr',\n",
       " 'Óinn',\n",
       " 'Mjöðvitnir',\n",
       " 'Veggr',\n",
       " 'Gandalfr',\n",
       " 'Vindalfr',\n",
       " 'Þorinn',\n",
       " 'Þrár',\n",
       " 'Þráinn',\n",
       " 'Þekkr',\n",
       " 'Litr',\n",
       " 'Vitr',\n",
       " 'Nýr',\n",
       " 'Nýráðr',\n",
       " 'Reginn',\n",
       " 'Ráðsviðr',\n",
       " 'Fíli',\n",
       " 'Kíli',\n",
       " 'Fundinn',\n",
       " 'Náli',\n",
       " 'Hefti',\n",
       " 'Víli',\n",
       " 'Hannar',\n",
       " 'Svíurr',\n",
       " 'Billingr',\n",
       " 'Brúni',\n",
       " 'Bíldr',\n",
       " 'Buri',\n",
       " 'Frár',\n",
       " 'Hornbori',\n",
       " 'Frægr',\n",
       " 'Lóni',\n",
       " 'Aurvangr',\n",
       " 'Jari',\n",
       " 'Eikinskjaldi',\n",
       " 'Mál',\n",
       " 'Dvalins',\n",
       " 'Lofars',\n",
       " 'Aurvanga',\n",
       " 'Jöruvalla',\n",
       " 'Þar',\n",
       " 'Draupnir',\n",
       " 'Dolgþrasir',\n",
       " 'Hár',\n",
       " 'Haugspori',\n",
       " 'Hlévangr',\n",
       " 'Glóinn',\n",
       " 'DóriDóri',\n",
       " 'Óri',\n",
       " 'Dúfr',\n",
       " 'Andvari',\n",
       " 'Skirfir',\n",
       " 'Virfir',\n",
       " 'Skáfiðr',\n",
       " 'Ái',\n",
       " 'Alfr',\n",
       " 'Yngvi',\n",
       " 'Eikinskjaldi',\n",
       " 'Fjalarr',\n",
       " 'Frosti',\n",
       " 'Finnr',\n",
       " 'Ginnarr',\n",
       " 'Lofars',\n",
       " 'Unz',\n",
       " 'Ask',\n",
       " 'Emblu',\n",
       " 'Önd',\n",
       " 'Óðinn',\n",
       " 'Hænir',\n",
       " 'Lóðurr',\n",
       " 'Ask',\n",
       " 'Yggdrasill',\n",
       " 'Urðarbrunni',\n",
       " 'Þaðan',\n",
       " 'Urð',\n",
       " 'Verðandi',\n",
       " 'Skuld',\n",
       " 'Þat',\n",
       " 'Gullveigu',\n",
       " 'Hárs',\n",
       " 'Heiði',\n",
       " 'Þá',\n",
       " 'Fleygði',\n",
       " 'Óðinn',\n",
       " 'Þá',\n",
       " 'Óðs',\n",
       " 'Þórr',\n",
       " 'Veit',\n",
       " 'Heimdallar',\n",
       " 'Valföðrs',\n",
       " 'Vituð',\n",
       " 'Ein',\n",
       " 'Hvers',\n",
       " 'Hví',\n",
       " 'Allt',\n",
       " 'Óðinn',\n",
       " 'Mímisbrunni',\n",
       " 'Drekkr',\n",
       " 'Mímir',\n",
       " 'Valföðrs',\n",
       " 'Vituð',\n",
       " 'Valði',\n",
       " 'Herföðr',\n",
       " 'Sá',\n",
       " 'Goðþjóðar',\n",
       " 'Skuld',\n",
       " 'Skögul',\n",
       " 'Gunnr',\n",
       " 'Hildr',\n",
       " 'Göndul',\n",
       " 'Geirskögul',\n",
       " 'Nú',\n",
       " 'Herjans',\n",
       " 'Ek',\n",
       " 'Baldri',\n",
       " 'Óðins',\n",
       " 'Varð',\n",
       " 'Höðr',\n",
       " 'Baldrs',\n",
       " 'Óðins',\n",
       " 'Þó',\n",
       " 'Baldrs',\n",
       " 'Frigg',\n",
       " 'Fensölum',\n",
       " 'Valhallar',\n",
       " 'Vituð',\n",
       " 'Þá',\n",
       " 'Váli',\n",
       " 'Haft',\n",
       " 'Hveralundi',\n",
       " 'Loka',\n",
       " 'Sigyn',\n",
       " 'Vituð',\n",
       " 'Á',\n",
       " 'Slíðr',\n",
       " 'Stóð',\n",
       " 'Niðavöllum',\n",
       " 'Sindra',\n",
       " 'Ókólni',\n",
       " 'Brimir',\n",
       " 'Sal',\n",
       " 'Náströndu',\n",
       " 'Sá',\n",
       " 'Niðhöggr',\n",
       " 'Vituð',\n",
       " 'Austr',\n",
       " 'Járnviði',\n",
       " 'Fenris',\n",
       " 'Fyllisk',\n",
       " 'Vituð',\n",
       " 'Sat',\n",
       " 'Eggþér',\n",
       " 'Fjalarr',\n",
       " 'Gól',\n",
       " 'Gullinkambi',\n",
       " 'Herjaföðrs',\n",
       " 'Heljar',\n",
       " 'Geyr',\n",
       " 'Garmr',\n",
       " 'Gnipahelli',\n",
       " 'Bræðr',\n",
       " 'Leika',\n",
       " 'Míms',\n",
       " 'Gjallarhorni',\n",
       " 'Heimdallr',\n",
       " 'Óðinn',\n",
       " 'Míms',\n",
       " 'Skelfr',\n",
       " 'Yggdrasils',\n",
       " 'Surtar',\n",
       " 'Hvat',\n",
       " 'Hvat',\n",
       " 'Gnýr',\n",
       " 'Jötunheimr',\n",
       " 'Vituð',\n",
       " 'Geyr',\n",
       " 'Garmr',\n",
       " 'Gnipahelli',\n",
       " 'Hrymr',\n",
       " 'Jörmungandr',\n",
       " 'Naglfar',\n",
       " 'Kjóll',\n",
       " 'Múspells',\n",
       " 'Loki',\n",
       " 'Býleists',\n",
       " 'Surtr',\n",
       " 'Þá',\n",
       " 'Hlínar',\n",
       " 'Óðinn',\n",
       " 'Belja',\n",
       " 'Surti',\n",
       " 'Friggjar',\n",
       " 'Geyr',\n",
       " 'Garmr',\n",
       " 'Gnipahelli',\n",
       " 'Þá',\n",
       " 'Sigföður',\n",
       " 'Víðarr',\n",
       " 'Lætr',\n",
       " 'Hveðrungs',\n",
       " 'Þá',\n",
       " 'Hlóðynjar',\n",
       " 'Óðins',\n",
       " 'Miðgarðs',\n",
       " 'Fjörgynjar',\n",
       " 'Sól',\n",
       " 'Geyr',\n",
       " 'Garmr',\n",
       " 'Gnipahelli',\n",
       " 'Sér',\n",
       " 'Finnask',\n",
       " 'Iðavelli',\n",
       " 'Fimbultýs',\n",
       " 'Þar',\n",
       " 'Munu',\n",
       " 'Baldr',\n",
       " 'Höðr',\n",
       " 'Baldr',\n",
       " 'Hrofts',\n",
       " 'Vituð',\n",
       " 'Þá',\n",
       " 'Hænir',\n",
       " 'Vituð',\n",
       " 'Sal',\n",
       " 'Gimléi',\n",
       " 'Þá']"
      ]
     },
     "execution_count": 13,
     "metadata": {},
     "output_type": "execute_result"
    }
   ],
   "source": [
    "proper_nouns"
   ]
  },
  {
   "cell_type": "code",
   "execution_count": null,
   "metadata": {
    "collapsed": false
   },
   "outputs": [],
   "source": [
    "len(not_found_lemmata), len(d)"
   ]
  },
  {
   "cell_type": "markdown",
   "metadata": {},
   "source": [
    "The dictionary does not contain any proper nouns. "
   ]
  },
  {
   "cell_type": "code",
   "execution_count": null,
   "metadata": {
    "collapsed": true
   },
   "outputs": [],
   "source": [
    "gods = ['heimdallr', 'valföðr', 'baldr', 'sigföður', 'óðinn', 'yngvi','frigg','þórr', 'loki', 'hænir', 'surtr', 'váli',\n",
    "       'týr', 'verðandi', 'herföðr', 'víðarr', 'hlóðyn', 'sigyn', 'hlín', 'höðr', 'brimir', 'fjörgyn', 'hveðrungr', ]\n",
    "dwarves = ['gandalfr', 'durinn', 'fíli', 'kíli', 'náli', 'durinn', 'dvalinn', 'alþjófr', 'bívurr', 'bávurr', 'bömburr', 'nóri',\n",
    "           'ánn', 'ánarr', 'óinn', 'mjöðvitnir', 'gandalfr', 'vindalfr', 'þorinn', 'þráinn', 'nýráðr', 'reginn', 'ráðsviðr', \n",
    "           'fíli', 'kíli', 'náli', 'hefti', 'víli', 'hannar', 'svíurr', 'billingr', 'brúni', 'buri', 'hornbori', 'lóni',\n",
    "           'aurvangr', 'jari', 'eikinskjaldi', 'lofarr', 'dolgþrasir',\n",
    "           'dóridóri', 'óri','glóinn', 'aurvanga', 'haugspori', 'hlévangr',\n",
    "           'dúfr', 'skirfir', 'virfir', 'skáfiðr', 'frosti', 'fjalarr', 'sindri',\n",
    "          ]\n",
    "creatures = ['alfr', 'ask', 'embla', 'fenrir', 'eggþér', 'trölls', 'galgviðr', 'gullinkambr', 'niðhöggr',]\n",
    "species_or_groups = ['vanir',]\n",
    "giants = ['eggþér', 'hrymr', ]\n",
    "names = ['finnr', 'heiður', ]\n",
    "places = ['iðavöllr', 'jötunheimr', 'iðavöllr', 'móðsognir', 'múspell', 'fensalir', 'yggdrasill',\n",
    "          'jöruvalla', 'urðarbrunnr', 'niðavallr', 'gimlé', ] # 'jöruvalla' -> 'jöruvöllr',\n",
    "unreferenced_words = ['fyr', 'upphiminn', 'hon', ,]\n",
    "spelling_variants = {'eftir': 'eptir', 'folk': 'fólk', 'skylu': \"skulu\",}\n",
    "mistakes = {'bláinn': '', 'kindr': 'kind', 'ulfr': 'úlfr', 'ausinn': 'ausa', 'slíkt': 'slíkr', 'gullr': 'gull',\n",
    "            'morgun': 'morgunn', 'öflugr': 'öflugr','velspá': 'velspár', 'það': 'þat', 'ókólnn': 'ókólnir', 'neka': 'nema',\n",
    "            'sigtoftir': 'sigtoptir', 'fjölð': 'fjöld', 'niðavallr': 'niðavöllr', 'flýgja': 'fljúga', 'býleists': 'býleistr',\n",
    "           'nken': 'föður', 'valtívar': 'valtýr', 'vígspá': 'vígspár', 'iðjagræn': 'iðjagrænn', 'sigtívamr': 'sigtýr', \n",
    "            'árdagr': 'árdagar', 'ókvíð': 'ókvíðinn', 'lkfnsf': 'allr', 'ramr': 'rámr', 'sjalfan': 'sjálfr', 'skula': 'skulu',\n",
    "           'einr': 'eimr', 'ljóra': 'ljóri',}\n",
    "objects = ['draupnir', 'naglfar', 'gjallarhorn', ]\n",
    "merges = ['uns', 'þær+es', 'hvar+es', 'sá+er', 'und+es',]\n",
    "compounds = ['vígband', ]\n",
    "valkyries = ['göndul', 'skögul', 'geirskögul',]\n",
    "witches = ['gullveig', ]\n",
    "not_found = ['glýja', ]\n",
    "different_orthographic_conventions = ['öld', 'mæran', 'grænn', 'hægr', 'gøra', 'mættr', 'nípingr',\n",
    " 'sökja', 'ginnarr', 'lofar',\n",
    " 'örlöglauss',\n",
    " 'önd',\n",
    " 'lóðurr',\n",
    " 'góð',\n",
    " 'örlög',\n",
    " 'seggja',\n",
    " 'folkvígr',\n",
    " 'þrisvar',\n",
    " 'ósjaldan',\n",
    " 'ér',\n",
    " 'mjöð',\n",
    " 'hvern',\n",
    " 'goðþjóð',\n",
    " 'herjans',\n",
    " 'blóðigr',\n",
    " 'hveralundr',\n",
    " 'járnviðr',\n",
    " 'gnipahellir',\n",
    " 'rökr',\n",
    " 'skalmöld',\n",
    " 'loft',\n",
    " 'þann',\n",
    " 'þingi',\n",
    " 'niðfölr',\n",
    " 'beli',\n",
    " 'forsi',\n",
    " 'örn',\n",
    " 'moldþinnur',\n",
    " 'dæma',\n",
    " 'hroft',\n",
    " 'fegr',\n",
    " 'ræðr']\n",
    "proper_nouns = gods + dwarves + places"
   ]
  }
 ],
 "metadata": {
  "kernelspec": {
   "display_name": "languages",
   "language": "python",
   "name": "languages"
  },
  "language_info": {
   "codemirror_mode": {
    "name": "ipython",
    "version": 3
   },
   "file_extension": ".py",
   "mimetype": "text/x-python",
   "name": "python",
   "nbconvert_exporter": "python",
   "pygments_lexer": "ipython3",
   "version": "3.6.0"
  }
 },
 "nbformat": 4,
 "nbformat_minor": 0
}
