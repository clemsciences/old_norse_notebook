{
 "cells": [
  {
   "cell_type": "markdown",
   "metadata": {},
   "source": [
    "# Völuspá's vocabulary, orthographic rules and  annotations"
   ]
  },
  {
   "cell_type": "markdown",
   "metadata": {},
   "source": [
    "The *Heimskringla* project <a id=\"heimskringla\"></a> is an independent project"
   ]
  },
  {
   "cell_type": "code",
   "execution_count": 1,
   "metadata": {
    "collapsed": true
   },
   "outputs": [],
   "source": [
    "from zoegas import reader\n",
    "from eddas import reader as poetic_edda_reader\n",
    "from eddas import pos as poetic_edda_pos"
   ]
  },
  {
   "cell_type": "markdown",
   "metadata": {},
   "source": [
    "We use the digitalized Zoëga's dictionary or *ZD* (**zoegas**) and the digitalized Völuspá (**eddas**)."
   ]
  },
  {
   "cell_type": "code",
   "execution_count": 2,
   "metadata": {
    "collapsed": true
   },
   "outputs": [],
   "source": [
    "from collections import defaultdict"
   ]
  },
  {
   "cell_type": "code",
   "execution_count": 3,
   "metadata": {
    "collapsed": true
   },
   "outputs": [],
   "source": [
    "PUNCTUATIONS = \"':?!.,;-\""
   ]
  },
  {
   "cell_type": "code",
   "execution_count": 4,
   "metadata": {
    "collapsed": true
   },
   "outputs": [],
   "source": [
    "dictionary = reader.Dictionary(reader.dictionary_name)"
   ]
  },
  {
   "cell_type": "code",
   "execution_count": 5,
   "metadata": {
    "collapsed": true
   },
   "outputs": [],
   "source": [
    "word = dictionary.find(\"heimr\")"
   ]
  },
  {
   "cell_type": "code",
   "execution_count": 6,
   "metadata": {
    "collapsed": true
   },
   "outputs": [],
   "source": [
    "lem_voeluspaa = poetic_edda_reader.PoeticEddaLemmatizationReader(\"Völuspá\")"
   ]
  },
  {
   "cell_type": "code",
   "execution_count": 7,
   "metadata": {
    "collapsed": true
   },
   "outputs": [],
   "source": [
    "tagged_words = lem_voeluspaa.tagged_words()"
   ]
  },
  {
   "cell_type": "code",
   "execution_count": 8,
   "metadata": {},
   "outputs": [
    {
     "data": {
      "text/plain": [
       "[('1', ''), ('Hljóðs', 'HLJÓÐ'), ('bið', 'BIÐJA'), ...]"
      ]
     },
     "execution_count": 8,
     "metadata": {},
     "output_type": "execute_result"
    }
   ],
   "source": [
    "tagged_words"
   ]
  },
  {
   "cell_type": "code",
   "execution_count": 9,
   "metadata": {},
   "outputs": [],
   "source": [
    "dictionary_entries = {}\n",
    "forms = defaultdict(list)\n",
    "proper_nouns = []\n",
    "for word, tag in tagged_words:\n",
    "    if tag.lower() not in dictionary_entries and tag != '' and tag not in PUNCTUATIONS:\n",
    "        dictionary_entries[tag.lower()] = dictionary.find(tag.lower())\n",
    "    if len(word) > 0 and word[0].isupper():\n",
    "        proper_nouns.append(word)\n",
    "    forms[tag.lower()].append(word)"
   ]
  },
  {
   "cell_type": "code",
   "execution_count": 10,
   "metadata": {},
   "outputs": [],
   "source": [
    "# Words not in dictionary\n",
    "not_found_lemmata = []\n",
    "for lemma in dictionary_entries:\n",
    "    if dictionary_entries[lemma] is None:\n",
    "        not_found_lemmata.append(lemma)"
   ]
  },
  {
   "cell_type": "code",
   "execution_count": 11,
   "metadata": {},
   "outputs": [
    {
     "name": "stdout",
     "output_type": "stream",
     "text": [
      "heimdallr valföðr fyr öld upphiminn mæran grænn hægr hon iðavöllr gøra gullr uns jötunheimr bláinn móðsognir mættr durinn alþjófr dvalinn nípingr bívurr bávurr bömburr nóri ánn ánarr óinn mjöðvitnir gandalfr vindalfr þorinn þráinn nýráðr reginn ráðsviðr fíli kíli náli hefti víli hannar svíurr billingr brúni buri hornbori lóni aurvangr jari eikinskjaldi kindr lofarr sökja aurvanga jöruvalla draupnir dolgþrasir haugspori hlévangr glóinn dóridóri óri dúfr skirfir virfir skáfiðr alfr yngvi fjalarr frosti finnr ginnarr lofar und+es það öflugr ask embla örlöglauss önd óðinn hænir lóðurr góð yggdrasill ausinn þær+es urðarbrunnr verðandi örlög seggja folkvígr gullveig þrisvar ósjaldan heiður hvar+es velspá skylu folk vanir vígspá þórr slíkt ér mímisbrunnr mjöð mímir morgun hvern herföðr goðþjóð skögul göndul geirskögul herjans baldr blóðigr týr höðr neka frigg fensalir váli vígband hveralundr loki sigyn glýja niðavallr sindri ókólnn brimir ljóra niðhöggr járnviðr fenrir trölls eftir eggþér galgviðr gullinkambr gnipahellir fjölð rökr ramr sigtívamr skalmöld gjallarhorn loft surtr þann þingi hrymr niðfölr naglfar múspell býleists hlín ulfr beli sigföður víðarr hveðrungr nken hlóðyn lkfnsf fjörgyn ókvíð einr sjalfan iðjagræn forsi flýgja örn moldþinnur dæma sá+er árdagr hroft sigtoftir valtívar fegr gimlé skula aldrdagr ræðr\n"
     ]
    }
   ],
   "source": [
    "print(\" \".join(not_found_lemmata))"
   ]
  },
  {
   "cell_type": "code",
   "execution_count": 12,
   "metadata": {
    "scrolled": true
   },
   "outputs": [
    {
     "name": "stdout",
     "output_type": "stream",
     "text": [
      "Hljóðs Heimdallar Valföðr Ek Ár Áðr Burs Miðgarð Sól Þá Hittusk Iðavelli Tefldu Jötunheimum Þá Brimis Bláins Þar Móðsognir Durinn Durinn Nýi Niði Norðri Suðri Austri Vestri Alþjófr Dvalinn Nár Náinn Nípingr Dáinn Bívurr Bávurr Bömburr Nóri Ánn Ánarr Óinn Mjöðvitnir Veggr Gandalfr Vindalfr Þorinn Þrár Þráinn Þekkr Litr Vitr Nýr Nýráðr Reginn Ráðsviðr Fíli Kíli Fundinn Náli Hefti Víli Hannar Svíurr Billingr Brúni Bíldr Buri Frár Hornbori Frægr Lóni Aurvangr Jari Eikinskjaldi Mál Dvalins Lofars Aurvanga Jöruvalla Þar Draupnir Dolgþrasir Hár Haugspori Hlévangr Glóinn DóriDóri Óri Dúfr Andvari Skirfir Virfir Skáfiðr Ái Alfr Yngvi Eikinskjaldi Fjalarr Frosti Finnr Ginnarr Lofars Unz Ask Emblu Önd Óðinn Hænir Lóðurr Ask Yggdrasill Urðarbrunni Þaðan Urð Verðandi Skuld Þat Gullveigu Hárs Heiði Þá Fleygði Óðinn Þá Óðs Þórr Veit Heimdallar Valföðrs Vituð Ein Hvers Hví Allt Óðinn Mímisbrunni Drekkr Mímir Valföðrs Vituð Valði Herföðr Sá Goðþjóðar Skuld Skögul Gunnr Hildr Göndul Geirskögul Nú Herjans Ek Baldri Óðins Varð Höðr Baldrs Óðins Þó Baldrs Frigg Fensölum Valhallar Vituð Þá Váli Haft Hveralundi Loka Sigyn Vituð Á Slíðr Stóð Niðavöllum Sindra Ókólni Brimir Sal Náströndu Sá Niðhöggr Vituð Austr Járnviði Fenris Fyllisk Vituð Sat Eggþér Fjalarr Gól Gullinkambi Herjaföðrs Heljar Geyr Garmr Gnipahelli Bræðr Leika Míms Gjallarhorni Heimdallr Óðinn Míms Skelfr Yggdrasils Surtar Hvat Hvat Gnýr Jötunheimr Vituð Geyr Garmr Gnipahelli Hrymr Jörmungandr Naglfar Kjóll Múspells Loki Býleists Surtr Þá Hlínar Óðinn Belja Surti Friggjar Geyr Garmr Gnipahelli Þá Sigföður Víðarr Lætr Hveðrungs Þá Hlóðynjar Óðins Miðgarðs Fjörgynjar Sól Geyr Garmr Gnipahelli Sér Finnask Iðavelli Fimbultýs Þar Munu Baldr Höðr Baldr Hrofts Vituð Þá Hænir Vituð Sal Gimléi Þá\n"
     ]
    }
   ],
   "source": [
    "print(\" \".join(proper_nouns))"
   ]
  },
  {
   "cell_type": "code",
   "execution_count": 13,
   "metadata": {},
   "outputs": [
    {
     "data": {
      "text/plain": [
       "(188, 701)"
      ]
     },
     "execution_count": 13,
     "metadata": {},
     "output_type": "execute_result"
    }
   ],
   "source": [
    "len(not_found_lemmata), len(dictionary_entries)"
   ]
  },
  {
   "cell_type": "markdown",
   "metadata": {},
   "source": [
    "*ZD* does not contain any proper nouns. "
   ]
  },
  {
   "cell_type": "code",
   "execution_count": 14,
   "metadata": {},
   "outputs": [],
   "source": [
    "gods = ['heimdallr', 'valföðr', 'baldr', 'sigföður', 'óðinn', 'yngvi','frigg','þórr', 'loki', 'hænir', 'surtr', 'váli',\n",
    "       'týr', 'verðandi', 'herföðr', 'víðarr', 'hlóðyn', 'sigyn', 'hlín', 'höðr', 'brimir', 'fjörgyn', 'hveðrungr', \n",
    "        'hroptr', 'lóðurr', 'herjan', ]\n",
    "dwarves = ['gandalfr', 'durinn', 'fíli', 'kíli', 'náli', 'durinn', 'dvalinn', 'alþjófr', 'bívurr', 'bávurr', 'bömburr', 'nóri',\n",
    "           'ánn', 'ánarr', 'óinn', 'mjöðvitnir', 'gandalfr', 'vindalfr', 'þorinn', 'þráinn', 'nýráðr', 'reginn', 'ráðsviðr', \n",
    "           'fíli', 'kíli', 'náli', 'hefti', 'víli', 'hannar', 'svíurr', 'billingr', 'brúni', 'buri', 'hornbori', 'lóni',\n",
    "           'aurvangr', 'jari', 'eikinskjaldi', 'lofarr', 'dolgþrasir',\n",
    "           'dóridóri', 'óri','glóinn', 'aurvanga', 'haugspori', 'hlévangr',\n",
    "           'dúfr', 'skirfir', 'virfir', 'skáfiðr', 'frosti', 'fjalarr', 'sindri',\n",
    "          ]\n",
    "creatures = ['alfr', 'ask', 'embla', 'fenrir', 'eggþér', 'trölls', 'galgviðr', 'gullinkambr', 'niðhöggr',]\n",
    "species_or_groups = ['vanir', 'goðþjóð',]\n",
    "giants = ['eggþér', 'hrymr', ]\n",
    "names = ['finnr', 'heiður', ]\n",
    "places = ['iðavöllr', 'jötunheimr', 'iðavöllr', 'móðsognir', 'múspell', 'fensalir', 'yggdrasill',\n",
    "          'jöruvalla', 'urðarbrunnr', 'niðavallr', 'gimlé', 'gnipahellir', 'hveralundr', 'járnviðr',] # 'jöruvalla' -> 'jöruvöllr',\n",
    "unreferenced_words = ['fyr', 'upphiminn', 'hon',]\n",
    "spelling_variants = {'eftir': 'eptir', 'folk': 'fólk', 'skylu': \"skulu\", 'loft': 'lopt', 'seggja': 'seggr',}\n",
    "mistakes = {'bláinn': '', 'kindr': 'kind', 'ulfr': 'úlfr', 'ausinn': 'ausa', 'slíkt': 'slíkr', 'gullr': 'gull',\n",
    "            'morgun': 'morgunn', 'öflugr': 'öflugr','velspá': 'velspár', 'það': 'þat', 'ókólnn': 'ókólnir', 'neka': 'nema',\n",
    "            'sigtoftir': 'sigtoptir', 'fjölð': 'fjöld', 'niðavallr': 'niðavöllr', 'flýgja': 'fljúga', 'býleists': 'býleistr',\n",
    "           'nken': 'föður', 'valtívar': 'valtýr', 'vígspá': 'vígspár', 'iðjagræn': 'iðjagrænn', 'sigtívamr': 'sigtýr', \n",
    "            'árdagr': 'árdagar', 'ókvíð': 'ókvíðinn', 'lkfnsf': 'allr', 'ramr': 'rámr', 'sjalfan': 'sjálfr', 'skula': 'skulu',\n",
    "           'einr': 'eimr', 'ljóra': 'ljóri', 'góð': 'góðr', 'forsi': 'fors', 'þann': 'sá', 'beli': 'belja', \n",
    "            'folkvígr': 'fólkvíg', 'mjöð': 'mjöðr', 'þingi': 'þing', 'hroft': 'hroptr', 'blóðigr': 'blóðga', 'ér': 'þú', \n",
    "           'herjans': 'herjan', 'ræðr': 'ráða', \n",
    "           }\n",
    "valkyries = ['göndul', 'skögul', 'geirskögul', ]\n",
    "witches = ['gullveig', ]\n",
    "objects = ['draupnir', 'naglfar', 'gjallarhorn', ]\n",
    "\n",
    "merges = ['uns', 'þær+es', 'hvar+es', 'sá+er', 'und+es',]\n",
    "compounds = ['vígband', 'skalmöld', ]\n",
    "\n",
    "not_found = ['glýja', 'þrisvar',]\n",
    "not_parsed_correctly = ['moldþinnur',]\n",
    "different_orthographic_conventions = {'öld': '', 'mæran': '', 'grænn': '', 'hægr': '', 'gøra': '', 'mættr': '', 'nípingr': '',\n",
    " 'sökja': '', 'ginnarr': '', 'lofar': '', 'örlöglauss': '', 'önd': '', 'örlög': '', 'ósjaldan': '', 'hvern': '',\n",
    " 'rökr': '', 'niðfölr': '', 'örn': '', 'dæma': 'dæma', 'fegr': ''}\n",
    "proper_nouns = gods + dwarves + creatures + species_or_groups + giants + names + places + unreferenced_words +\\\n",
    "    objects + merges + compounds + valkyries + witches \n",
    "    \n",
    "dictionary_errors = not_found + not_parsed_correctly\n",
    "\n",
    "errors = {}\n",
    "errors.update(spelling_variants)\n",
    "errors.update(mistakes)\n",
    "errors.update(different_orthographic_conventions)"
   ]
  },
  {
   "cell_type": "code",
   "execution_count": 15,
   "metadata": {},
   "outputs": [
    {
     "data": {
      "text/plain": [
       "0.268188302425107"
      ]
     },
     "execution_count": 15,
     "metadata": {},
     "output_type": "execute_result"
    }
   ],
   "source": [
    "len(not_found_lemmata)/len(dictionary_entries)"
   ]
  },
  {
   "cell_type": "code",
   "execution_count": 16,
   "metadata": {},
   "outputs": [
    {
     "data": {
      "text/plain": [
       "0.22340425531914893"
      ]
     },
     "execution_count": 16,
     "metadata": {},
     "output_type": "execute_result"
    }
   ],
   "source": [
    "len(mistakes)/len(not_found_lemmata)"
   ]
  },
  {
   "cell_type": "code",
   "execution_count": 17,
   "metadata": {},
   "outputs": [
    {
     "data": {
      "text/plain": [
       "0.13297872340425532"
      ]
     },
     "execution_count": 17,
     "metadata": {},
     "output_type": "execute_result"
    }
   ],
   "source": [
    "(len(different_orthographic_conventions)+len(spelling_variants))/len(not_found_lemmata)"
   ]
  },
  {
   "cell_type": "code",
   "execution_count": 18,
   "metadata": {},
   "outputs": [
    {
     "data": {
      "text/plain": [
       "0.010638297872340425"
      ]
     },
     "execution_count": 18,
     "metadata": {},
     "output_type": "execute_result"
    }
   ],
   "source": [
    "len(not_found)/len(not_found_lemmata)"
   ]
  },
  {
   "cell_type": "code",
   "execution_count": 19,
   "metadata": {},
   "outputs": [
    {
     "data": {
      "text/plain": [
       "0.010638297872340425"
      ]
     },
     "execution_count": 19,
     "metadata": {},
     "output_type": "execute_result"
    }
   ],
   "source": [
    "len(compounds)/len(not_found_lemmata)"
   ]
  },
  {
   "cell_type": "code",
   "execution_count": 20,
   "metadata": {},
   "outputs": [
    {
     "data": {
      "text/plain": [
       "0.026595744680851064"
      ]
     },
     "execution_count": 20,
     "metadata": {},
     "output_type": "execute_result"
    }
   ],
   "source": [
    "len(merges)/len(not_found_lemmata)"
   ]
  },
  {
   "cell_type": "code",
   "execution_count": 21,
   "metadata": {},
   "outputs": [
    {
     "data": {
      "text/plain": [
       "0.6648936170212766"
      ]
     },
     "execution_count": 21,
     "metadata": {},
     "output_type": "execute_result"
    }
   ],
   "source": [
    "len(proper_nouns)/len(not_found_lemmata)"
   ]
  },
  {
   "cell_type": "markdown",
   "metadata": {},
   "source": [
    "There are many reasons that explain why we cannot find 188 annotated lemmata in the Zoëga's dictionary, i.e. around 27% of Völuspá's lemmata:\n",
    "\n",
    "- here are no proper nouns in the ZD (66%),\n",
    "- I made mistakes (22%),\n",
    "- the *ZD* and the *Eddas* were not normalized with the same conventions (13%),\n",
    "- compound words are not always marked as main entries (2%),\n",
    "- merged words do not appear clearly in entries (1%),\n",
    "- some words are not found in the dictionary (1%)."
   ]
  },
  {
   "cell_type": "markdown",
   "metadata": {},
   "source": [
    "## Proper nouns\n",
    "\n",
    "* god names\n",
    "* associated god names\n",
    "* toponyms\n",
    "* species names\n",
    "* creature names\n",
    "* giant names\n",
    "* dwarf names\n",
    "* valkyrie names"
   ]
  },
  {
   "cell_type": "markdown",
   "metadata": {},
   "source": [
    "## Nature of mistakes"
   ]
  },
  {
   "cell_type": "markdown",
   "metadata": {},
   "source": [
    "## Orthographic conventions and normalization"
   ]
  },
  {
   "cell_type": "markdown",
   "metadata": {},
   "source": [
    "##### Letters present in the **Völuspá**:"
   ]
  },
  {
   "cell_type": "code",
   "execution_count": 22,
   "metadata": {},
   "outputs": [
    {
     "name": "stdout",
     "output_type": "stream",
     "text": [
      "a b d e f g h i j k l m n o p r s t u v x y z á æ é í ð ó ö ú ý þ œ\n"
     ]
    }
   ],
   "source": [
    "words = lem_voeluspaa.words()\n",
    "voeluspaa_characters = sorted(list({c for word in words for c in word if not c.isdigit() and c.islower() and c.isalpha()}))\n",
    "print(\" \".join(voeluspaa_characters))"
   ]
  },
  {
   "cell_type": "markdown",
   "metadata": {},
   "source": [
    "Let's keep the lower case characters."
   ]
  },
  {
   "cell_type": "markdown",
   "metadata": {},
   "source": [
    "##### Letters present in *ZD*:"
   ]
  },
  {
   "cell_type": "code",
   "execution_count": 23,
   "metadata": {},
   "outputs": [],
   "source": [
    "dictionary.get_entries()\n",
    "entries = [entry.word for entry in dictionary.entries if entry is not None]\n",
    "zd_characters = {c for word in entries if word is not None for c in word if not c.isdigit() and c.islower() and c.isalpha()}"
   ]
  },
  {
   "cell_type": "code",
   "execution_count": 24,
   "metadata": {},
   "outputs": [
    {
     "name": "stdout",
     "output_type": "stream",
     "text": [
      "a b d e f g h i j k l m n o p r s t u v w x y z á æ é í ð ó ö ø ú ý þ œ\n"
     ]
    }
   ],
   "source": [
    "print(\" \".join(sorted(list(zd_characters))))"
   ]
  },
  {
   "cell_type": "markdown",
   "metadata": {},
   "source": [
    "Charcters w and ø appear only in *ZD*, however the use of w is not significant because there is only one word 'þrywja' with it:"
   ]
  },
  {
   "cell_type": "code",
   "execution_count": 25,
   "metadata": {},
   "outputs": [
    {
     "data": {
      "text/plain": [
       "{'þrywja'}"
      ]
     },
     "execution_count": 25,
     "metadata": {},
     "output_type": "execute_result"
    }
   ],
   "source": [
    "set([word for word in entries if word is not None if \"w\" in word])"
   ]
  },
  {
   "cell_type": "code",
   "execution_count": 26,
   "metadata": {},
   "outputs": [
    {
     "name": "stdout",
     "output_type": "stream",
     "text": [
      "(þrumda), v. to lie, extend, spread (þrymr of öll lönd ørlögsímu).\n"
     ]
    }
   ],
   "source": [
    "þrywja = dictionary.find(\"þrywja\")\n",
    "print(þrywja.description.strip())"
   ]
  },
  {
   "cell_type": "markdown",
   "metadata": {},
   "source": [
    "*ZD* stated that ǫ, *o ogonoek* is not widely used so the author prefered the modern convention used for Icelandic ö which is a merge of ǫ and ø."
   ]
  },
  {
   "cell_type": "markdown",
   "metadata": {},
   "source": [
    "Diplomatica documents of "
   ]
  },
  {
   "cell_type": "markdown",
   "metadata": {},
   "source": [
    " <a href='#gramm_wiki'>The first grammatical treatise</a> is the first Old Norse writing dealing with the best orthographic conventions that Old Norse should have. It can only be found in *Codex Wormianus* with three other grammatical treatises and the Snorri's Edda. See <a href=\"#traite_theor_ling\">[4]</a>\n",
    "\n",
    "> Vowels: a, ȧ, ǫ, ǫ̇, e, ė, ę, ę̇, ı, i, o, ȯ, ø, ø̇, u, u̇, y, ẏ\n",
    "\n",
    "> Consonants: b, ʙ, c, ᴋ, d, ᴅ, f, ꜰ, g, ɢ, ǥ, h, l, ʟ, m, ᴍ, n, ɴ, p, ᴘ, r, ʀ, ſ, ꜱ, t, ᴛ, þ\n",
    "\n",
    "Lower case consonants represent short consonants and upper case consonants are long consonants.\n",
    "\n",
    "Unfortunately, this orthographic reform never happened.\n"
   ]
  },
  {
   "cell_type": "markdown",
   "metadata": {},
   "source": [
    "## Comparison with the Menota annotations"
   ]
  },
  {
   "cell_type": "markdown",
   "metadata": {
    "collapsed": true
   },
   "source": [
    "See https://github.com/clemsciences/old_norse_notebook/blob/master/voeluspaa_menota.ipynb"
   ]
  },
  {
   "cell_type": "code",
   "execution_count": 27,
   "metadata": {},
   "outputs": [],
   "source": []
  },
  {
   "cell_type": "markdown",
   "metadata": {},
   "source": [
    "## Sources:\n",
    "\n",
    "1. <a id='the_destination'></a>\n",
    "\n",
    "2. <a id='gramm_wiki'></a>[The first grammatical treatise](https://en.wikipedia.org/wiki/First_Grammatical_Treatise)\n",
    "3. Normalized text of the first grammatical treatise [http://etext.old.no/gramm/](http://etext.old.no/gramm/)\n",
    "4. <a id='traite_theor_ling'></a>[Le Premier traité grammatical islandais dans l’histoire des théories linguistiques](http://ctlf.ens-lyon.fr/documents/articles/Ptgi.Mikkelsen.Guelpa.pdf) in French\n",
    "5. [Old Norse normalized texts](https://heimskringla.no/wiki/Norr%C3%B8ne_kildetekster)\n",
    "6. [Pictures codex Wormianus](http://www.e-pages.dk/ku/621/) p.84 -> First Grammatical Treatise\n",
    "7. [Handbok i norrøne filologi](https://folk.uib.no/hnooh/handbok/)\n",
    "\n",
    "**Work** done with the following versions:\n",
    "- [https://github.com/cltk/cltk](): 0.1.110\n",
    "- https://github.com/cltk/old_norse_texts_heimskringla/: 1.2.0 \n",
    "- https://github.com/cltk/old_norse_dictionary_zoega: 1.0.6\n",
    "\n"
   ]
  },
  {
   "cell_type": "markdown",
   "metadata": {},
   "source": [
    "By Clément Besnier, (visit my [website](www.clementbesnier.fr))"
   ]
  }
 ],
 "metadata": {
  "kernelspec": {
   "display_name": "Python 3",
   "language": "python",
   "name": "python3"
  },
  "language_info": {
   "codemirror_mode": {
    "name": "ipython",
    "version": 3
   },
   "file_extension": ".py",
   "mimetype": "text/x-python",
   "name": "python",
   "nbconvert_exporter": "python",
   "pygments_lexer": "ipython3",
   "version": "3.7.4"
  }
 },
 "nbformat": 4,
 "nbformat_minor": 1
}
