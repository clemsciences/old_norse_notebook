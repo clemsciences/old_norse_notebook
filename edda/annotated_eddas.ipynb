{
 "cells": [
  {
   "cell_type": "markdown",
   "metadata": {},
   "source": [
    "# Eddas\n",
    "Note: in order to use this **Jupyter notebook**, you need at least **python 3.6** or above."
   ]
  },
  {
   "cell_type": "markdown",
   "metadata": {},
   "source": [
    "Why this notbook? You can retrieve and process easily the Eddas (the Poetic one and the Snorri's one). \n",
    "\n",
    "If you want to get more tools for Old Norse, use **cltk** (https://github.com/cltk/cltk.git). Here is the docs: http://docs.cltk.org/en/latest/old_norse.html."
   ]
  },
  {
   "cell_type": "markdown",
   "metadata": {},
   "source": [
    "### Configuration\n",
    "\n",
    "Install the modules.\n",
    "```bash\n",
    "$ pip install -r requirements.txt\n",
    "```"
   ]
  },
  {
   "cell_type": "markdown",
   "metadata": {},
   "source": [
    "Install the **kernel** associated with **python3.6** [https://ipython.readthedocs.io/en/stable/install/kernel_install.html](https://ipython.readthedocs.io/en/stable/install/kernel_install.html) "
   ]
  },
  {
   "cell_type": "markdown",
   "metadata": {},
   "source": [
    "Let's test if the import is correct:\n",
    "```bash\n",
    "$ python3.6\n",
    "```"
   ]
  },
  {
   "cell_type": "code",
   "execution_count": 18,
   "metadata": {},
   "outputs": [],
   "source": [
    "import os\n",
    "os.chdir(\"..\")"
   ]
  },
  {
   "cell_type": "code",
   "execution_count": 1,
   "metadata": {},
   "outputs": [],
   "source": [
    "import eddas"
   ]
  },
  {
   "cell_type": "markdown",
   "metadata": {},
   "source": [
    "It works! So let's continue with some predefined data."
   ]
  },
  {
   "cell_type": "code",
   "execution_count": 2,
   "metadata": {},
   "outputs": [],
   "source": [
    "from eddas import reader"
   ]
  },
  {
   "cell_type": "markdown",
   "metadata": {},
   "source": [
    "The reader module uses the **NLTK** TaggedCorpusReader class. "
   ]
  },
  {
   "cell_type": "markdown",
   "metadata": {},
   "source": [
    "#### The POS annotated Völuspá\n",
    "The POS tagset is available at http://nlp.cs.ru.is/pdf/Tagset.pdf."
   ]
  },
  {
   "cell_type": "code",
   "execution_count": 3,
   "metadata": {},
   "outputs": [],
   "source": [
    "pos_voeluspaa = reader.PoeticEddaPOSTaggedReader(\"Völuspá\")"
   ]
  },
  {
   "cell_type": "markdown",
   "metadata": {},
   "source": [
    "Raw POS annotated text :"
   ]
  },
  {
   "cell_type": "code",
   "execution_count": 4,
   "metadata": {},
   "outputs": [
    {
     "name": "stdout",
     "output_type": "stream",
     "text": [
      "1/ta\r\n",
      "Hljóðs/nhee bið/sfg1eþ ek/fp1en allar/lvfosf\r\n",
      "helgar/lvfosf kindir/nvfo ,/p\r\n",
      "meiri/lvfovm ok/cc minni/lvfovm\r\n",
      "mögu/nkfo Heimdallar/nkeem ;/p\r\n",
      "viltu/sfg2en at/cn ek/fp1em ,/p Valföðr/nkenm ,/p\r\n",
      "vel/aa fyr/cn telja/sng\r\n",
      "forn/lhfosf spjöll/nhfo fira/nkfe ,/p\r\n",
      "þau/fa er/ct fremst/aa of/aa man/sfg1\n"
     ]
    }
   ],
   "source": [
    "print(pos_voeluspaa.raw()[:300])"
   ]
  },
  {
   "cell_type": "markdown",
   "metadata": {},
   "source": [
    "The first paragraph :"
   ]
  },
  {
   "cell_type": "code",
   "execution_count": 5,
   "metadata": {},
   "outputs": [
    {
     "name": "stdout",
     "output_type": "stream",
     "text": [
      "[[('1', 'TA')], [('Hljóðs', 'NHEE'), ('bið', 'SFG1EÞ'), ('ek', 'FP1EN'), ('allar', 'LVFOSF')], [('helgar', 'LVFOSF'), ('kindir', 'NVFO'), (',', 'P')], [('meiri', 'LVFOVM'), ('ok', 'CC'), ('minni', 'LVFOVM')], [('mögu', 'NKFO'), ('Heimdallar', 'NKEEM'), (';', 'P')], [('viltu', 'SFG2EN'), ('at', 'CN'), ('ek', 'FP1EM'), (',', 'P'), ('Valföðr', 'NKENM'), (',', 'P')], [('vel', 'AA'), ('fyr', 'CN'), ('telja', 'SNG')], [('forn', 'LHFOSF'), ('spjöll', 'NHFO'), ('fira', 'NKFE'), (',', 'P')], [('þau', 'FA'), ('er', 'CT'), ('fremst', 'AA'), ('of', 'AA'), ('man', 'SFG1EN'), ('.', 'P')]]\n"
     ]
    }
   ],
   "source": [
    "print(pos_voeluspaa.tagged_paras()[0])"
   ]
  },
  {
   "cell_type": "code",
   "execution_count": null,
   "metadata": {},
   "outputs": [],
   "source": []
  },
  {
   "cell_type": "markdown",
   "metadata": {},
   "source": [
    "#### The lemmatized Völuspá\n",
    "Lemmata are from the Zoëga's dictionary that you can retrieve from https://github.com/cltk/old_norse_dictionary_zoega."
   ]
  },
  {
   "cell_type": "code",
   "execution_count": 6,
   "metadata": {},
   "outputs": [],
   "source": [
    "lem_voeluspaa = reader.PoeticEddaLemmatizationReader(\"Völuspá\")"
   ]
  },
  {
   "cell_type": "markdown",
   "metadata": {},
   "source": [
    "Sentences in the corpus are \"short lines\" in the Germanic tradition sense."
   ]
  },
  {
   "cell_type": "markdown",
   "metadata": {},
   "source": [
    "Without annotations:"
   ]
  },
  {
   "cell_type": "code",
   "execution_count": 7,
   "metadata": {},
   "outputs": [
    {
     "data": {
      "text/plain": [
       "['meiri', 'ok', 'minni']"
      ]
     },
     "execution_count": 7,
     "metadata": {},
     "output_type": "execute_result"
    }
   ],
   "source": [
    "lem_voeluspaa.sents()[3]"
   ]
  },
  {
   "cell_type": "markdown",
   "metadata": {},
   "source": [
    "With annotations:"
   ]
  },
  {
   "cell_type": "code",
   "execution_count": 8,
   "metadata": {},
   "outputs": [
    {
     "data": {
      "text/plain": [
       "[('meiri', 'mjök'), ('ok', 'ok'), ('minni', 'lítill')]"
      ]
     },
     "execution_count": 8,
     "metadata": {},
     "output_type": "execute_result"
    }
   ],
   "source": [
    "[(token, lemma.lower()) for token, lemma in lem_voeluspaa.tagged_sents()[3]]"
   ]
  },
  {
   "cell_type": "markdown",
   "metadata": {},
   "source": [
    "#### The syllabified Völuspá\n",
    "Syllables are separated by a plus sign."
   ]
  },
  {
   "cell_type": "code",
   "execution_count": 9,
   "metadata": {},
   "outputs": [],
   "source": [
    "syl_voeluspaa = reader.PoeticEddaSyllabifiedReader(\"Völuspá\")"
   ]
  },
  {
   "cell_type": "code",
   "execution_count": 10,
   "metadata": {},
   "outputs": [
    {
     "data": {
      "text/plain": [
       "[('Heimdallar', 'HEIM+DAL+LAR'),\n",
       " ('viltu', 'VI+LTU'),\n",
       " ('at', 'AT'),\n",
       " ('ek', 'EK'),\n",
       " ('Valföðr', 'VAL+FÖÐR'),\n",
       " ('vel', 'VEL'),\n",
       " ('fyr', 'FYR'),\n",
       " ('telja', 'TEL+JA'),\n",
       " ('forn', 'FORN'),\n",
       " ('spjöll', 'SPJÖLL')]"
      ]
     },
     "execution_count": 10,
     "metadata": {},
     "output_type": "execute_result"
    }
   ],
   "source": [
    "syl_voeluspaa.tagged_words()[10:20]"
   ]
  },
  {
   "cell_type": "code",
   "execution_count": 11,
   "metadata": {},
   "outputs": [],
   "source": [
    "normalized_text = [[[word for word, tag in line] for line in para] for para in lem_voeluspaa.tagged_paras()]\n",
    "lemmata_text = [[[tag for word, tag in line] for line in para] for para in lem_voeluspaa.tagged_paras()]\n",
    "pos_text = [[[tag for word, tag in line] for line in para] for para in pos_voeluspaa.tagged_paras()]"
   ]
  },
  {
   "cell_type": "code",
   "execution_count": 12,
   "metadata": {},
   "outputs": [],
   "source": [
    "from pos_icepahc import *"
   ]
  },
  {
   "cell_type": "code",
   "execution_count": 16,
   "metadata": {},
   "outputs": [],
   "source": [
    "annotations = []\n",
    "for i, stanza in enumerate(pos_text):\n",
    "    for j, line in enumerate(stanza):\n",
    "        annotations.append(\" \".join(normalized_text[i][j]))\n",
    "        for k, pos in enumerate(line):\n",
    "            normalized = normalized_text[i][j][k]\n",
    "            lemma = lemmata_text[i][j][k]\n",
    "            if not lemma:\n",
    "                lemma = \"UNK\"\n",
    "            if not pos:\n",
    "                pos = \"UNK\"\n",
    "                parsed_pos = \"UNK\"\n",
    "            else:\n",
    "                parsed_pos = parse_icepahc(pos)\n",
    "            \n",
    "            annotations.append(normalized+\" [\"+lemma+\"]\"+\" -> \"+parsed_pos+\" : \"+pos)\n",
    "        annotations.append(\"\\n\")"
   ]
  },
  {
   "cell_type": "code",
   "execution_count": 15,
   "metadata": {},
   "outputs": [],
   "source": [
    "import codecs"
   ]
  },
  {
   "cell_type": "code",
   "execution_count": 19,
   "metadata": {},
   "outputs": [],
   "source": [
    "with codecs.open(\"edda/voluspa_annotations_besnier.txt\", \"w\", encoding=\"utf-8\") as f:\n",
    "    f.write(\"\\n\".join(annotations))\n",
    "    "
   ]
  },
  {
   "cell_type": "markdown",
   "metadata": {},
   "source": [
    "The Völuspá is currently being annotated. The other poems of the Poetic Edda may also be annotated so if you want to join, go into https://github.com/cltk/old_norse_texts_heimskringla."
   ]
  },
  {
   "cell_type": "markdown",
   "metadata": {},
   "source": [
    "By Clément Besnier, web site: https://clementbesnier.fr/, twitter: clemsciences"
   ]
  }
 ],
 "metadata": {
  "kernelspec": {
   "display_name": "Python 3",
   "language": "python",
   "name": "python3"
  },
  "language_info": {
   "codemirror_mode": {
    "name": "ipython",
    "version": 3
   },
   "file_extension": ".py",
   "mimetype": "text/x-python",
   "name": "python",
   "nbconvert_exporter": "python",
   "pygments_lexer": "ipython3",
   "version": "3.7.4"
  }
 },
 "nbformat": 4,
 "nbformat_minor": 2
}
