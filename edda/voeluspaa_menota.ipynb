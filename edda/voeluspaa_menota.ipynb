{
 "cells": [
  {
   "cell_type": "markdown",
   "metadata": {},
   "source": [
    "# Menota annotated Völuspá"
   ]
  },
  {
   "cell_type": "markdown",
   "metadata": {},
   "source": [
    "(AM 242 fol – Codex Wormianus v. 0.9.9) [http://clarino.uib.no/menota/document-element](http://clarino.uib.no/menota/document-element)\n",
    "\n",
    "To use this notebook, I let you download these texts:\n",
    "\n",
    "* [Völuspá in Codex Regius](http://clarino.uib.no/menota/texts/GKS-2365-4to-Vsp.xml)\n",
    "* [Völuspá in Hauksbók](http://clarino.uib.no/menota/texts/AM-544-4to-Vsp.xml)"
   ]
  },
  {
   "cell_type": "code",
   "execution_count": 1,
   "metadata": {},
   "outputs": [],
   "source": [
    "import os\n",
    "os.chdir(\"..\")"
   ]
  },
  {
   "cell_type": "code",
   "execution_count": 2,
   "metadata": {},
   "outputs": [],
   "source": [
    "import os\n",
    "import codecs\n",
    "import html\n",
    "from collections import defaultdict\n",
    "\n",
    "import xml.etree.ElementTree as ET\n",
    "from xml.sax.saxutils import escape, unescape"
   ]
  },
  {
   "cell_type": "markdown",
   "metadata": {},
   "source": [
    "You can open the digitalized manuscripts here..."
   ]
  },
  {
   "cell_type": "code",
   "execution_count": 3,
   "metadata": {},
   "outputs": [],
   "source": [
    "konungsbok_filename = \"GKS-2365-4to-Vsp.xml\"\n",
    "hausbok_filename = \"AM-544-4to-Vsp.xml\"\n",
    "menota_directory = \"menota\"\n",
    "# #konungsbok = ET.parse(os.path.join(menota_directory, konungsbok_filename))\n",
    "# # hausbok = ET.parse(os.path.join(menota_directory, hausbok_filename))\n",
    "# with codecs.open(os.path.join(menota_directory, konungsbok_filename), \"r\", encoding=\"utf-8\") as f:\n",
    "#     konungsbok = ET.fromstring(html.unescape(f.read()))\n",
    "# #    ET.parse\n",
    "# #with codecs.open(os.path.join(menota_directory, hausbok_filename), \"r\", encoding=\"utf-8\") as f:\n",
    "# #     hausbok = ET.fromstring(html.unescape(f.read()))\n",
    "    \n",
    "    "
   ]
  },
  {
   "cell_type": "markdown",
   "metadata": {},
   "source": [
    "... but this does not work because the namespace of tags is not defined.\n",
    "The **etree** library cannot do that, whereas **lxml** can!"
   ]
  },
  {
   "cell_type": "code",
   "execution_count": 4,
   "metadata": {},
   "outputs": [],
   "source": [
    "from lxml import etree"
   ]
  },
  {
   "cell_type": "markdown",
   "metadata": {},
   "source": [
    "With the DTD ([Document Type Definition](https://en.wikipedia.org/wiki/Document_type_definition)) defined inside the document, you can use this text."
   ]
  },
  {
   "cell_type": "code",
   "execution_count": 5,
   "metadata": {},
   "outputs": [],
   "source": [
    "parser = etree.XMLParser(load_dtd=True, no_network=False)\n",
    "tree = etree.parse(os.path.join(menota_directory, konungsbok_filename), parser=parser)"
   ]
  },
  {
   "cell_type": "code",
   "execution_count": 6,
   "metadata": {},
   "outputs": [
    {
     "name": "stdout",
     "output_type": "stream",
     "text": [
      "                            <me:dipl>ec</me:dipl>\n",
      "                        <me:norm>ek</me:norm>\n",
      "</w>\n",
      "                        <w me:msa=\"xAJ rP gF nP cA sI\" lemma=\"allr\">\n",
      "                            <me:facs>allar</me:facs>\n",
      "                            <me:dipl>allar</me:dipl>\n",
      "                        <me:norm>allar</me:norm>\n",
      "</w>\n",
      "                    </l>\n",
      "                    <l>\n"
     ]
    }
   ],
   "source": [
    "root = tree.getroot()\n",
    "decoded_root = etree.tostring(root).decode(\"utf-8\")\n",
    "i = 170\n",
    "print(\"\\n\".join(decoded_root.split(\"\\n\")[i:i+10]))"
   ]
  },
  {
   "cell_type": "code",
   "execution_count": 7,
   "metadata": {
    "scrolled": true
   },
   "outputs": [
    {
     "name": "stdout",
     "output_type": "stream",
     "text": [
      "                            <me:dipl>ec</me:dipl>\n",
      "                        <me:norm>ek</me:norm>\n",
      "</w>\n",
      "                        <w me:msa=\"xAJ rP gF nP cA sI\" lemma=\"allr\">\n",
      "                            <me:facs>allar</me:facs>\n",
      "                            <me:dipl>allar</me:dipl>\n",
      "                        <me:norm>allar</me:norm>\n",
      "</w>\n",
      "                    </l>\n",
      "                    <l>\n",
      "                        <w me:msa=\"xNC gF nP cA sI\" lemma=\"kind\">\n",
      "                            <me:facs>kin&#42874;ir</me:facs>\n",
      "                            <me:dipl>kin&#42874;ir</me:dipl>\n",
      "                        <me:norm>kindir</me:norm>\n",
      "</w>\n",
      "                    </l>\n",
      "                    <l>\n",
      "                        <w me:msa=\"xAJ rC gF nP cA sD\" lemma=\"mikill\">\n",
      "                            <me:facs>meiri</me:facs>\n",
      "                            <me:dipl>meiri</me:dipl>\n",
      "                        <me:norm>meiri</me:norm>\n",
      "</w>\n",
      "                        <w me:msa=\"xCU\" lemma=\"ok\">\n",
      "                            <me:facs><am>&#8266;</am></me:facs>\n",
      "                            <me:dipl><ex>oc</ex></me:dipl>\n",
      "                        <me:norm>ok</me:norm>\n",
      "</w>\n",
      "                        <w me:msa=\"xAJ rC gF nP cA sD\" lemma=\"l&#237;till\">\n",
      "                            <me:facs>mi&#628;i</me:facs>\n",
      "                            <me:dipl>mi&#628;i</me:dipl>\n",
      "                        <me:norm>minni</me:norm>\n",
      "</w>\n",
      "                    </l>\n",
      "                    <l>\n",
      "                        <w me:msa=\"xNC gM nP cA sI\" lemma=\"m&#491;gr\">\n",
      "                            <me:facs>maugo</me:facs>\n",
      "                            <me:dipl>maugo</me:dipl>\n",
      "                        <me:norm>m&#246;gu</me:norm>\n",
      "</w>\n",
      "                        <lb ed=\"ms\" n=\"2\"/>\n",
      "                        <w me:msa=\"xNP gM cG sI\" lemma=\"Heimdallr\">\n",
      "                            <me:facs>heim&#42874;alar</me:facs>\n",
      "                            <me:dipl>heim&#42874;alar</me:dipl>\n",
      "                        <me:norm>Heimdalar</me:norm>\n",
      "</w>\n",
      "                    </l>\n",
      "                    <l>\n",
      "                        <w me:msa=\"xVB fF tPS mIN p2 nS vA iWK\" lemma=\"vilia\">\n",
      "                            <me:facs>uil&#240;o</me:facs>\n",
      "                            <me:dipl>uil&#240;o</me:dipl>\n",
      "                        <me:norm>vildu</me:norm>\n",
      "</w>\n",
      "                        <w me:msa=\"xCU\" lemma=\"at\">\n",
      "                            <me:facs>at</me:facs>\n",
      "                            <me:dipl>at</me:dipl>\n",
      "                        <me:norm>a&#240;</me:norm>\n",
      "</w>\n",
      "                        <w me:msa=\"xPD cN\" lemma=\"ek\">\n",
      "                            <me:facs>ec</me:facs>\n",
      "                            <me:dipl>ec</me:dipl>\n",
      "                        <me:norm>ek</me:norm>\n",
      "</w>\n",
      "                        <w me:msa=\"xNC gM nS cN\" lemma=\"Valf&#491;&#240;r\">\n",
      "                            <me:facs>ual&#42876;&#42809;&#254;<am>&#773;</am></me:facs>\n",
      "                            <me:dipl>ual&#42876;&#42809;&#254;<ex>r</ex></me:dipl>\n",
      "                        <me:norm>Valf&#246;&#240;r</me:norm>\n",
      "</w>\n",
      "                    </l>\n",
      "                    <l>\n",
      "                        <w me:msa=\"xAV rP\" lemma=\"vel\">\n",
      "                            <me:facs>uel</me:facs>\n",
      "                            <me:dipl>uel</me:dipl>\n",
      "                        <me:norm>vel</me:norm>\n",
      "</w>\n",
      "                        <w me:msa=\"xAV rP\" lemma=\"fyr\">\n",
      "                            <me:facs>&#42876;yr</me:facs>\n",
      "                            <me:dipl>&#42876;yr</me:dipl>\n",
      "                        <me:norm>fyr</me:norm>\n",
      "</w>\n",
      "                        <w me:msa=\"xVB fF tPS mSU p1 nS vA iWK\" lemma=\"telia\">\n",
      "                            <me:facs>telia</me:facs>\n",
      "                            <me:dipl>telia</me:dipl>\n",
      "                        <me:norm>telja</me:norm>\n",
      "</w>\n",
      "                    </l>\n",
      "                    <l>\n",
      "                        <w me:msa=\"xAJ rP gN nP cA sI\" lemma=\"forn\">\n",
      "                            <me:facs>&#42876;o&#42843;n</me:facs>\n",
      "                            <me:dipl>&#42876;o&#42843;n</me:dipl>\n",
      "                        <me:norm>forn</me:norm>\n",
      "</w>\n",
      "                        <lb ed=\"ms\" n=\"3\"/>\n",
      "                        <w me:msa=\"xNC gN nP cA sI\" lemma=\"spiall\">\n",
      "                            <me:facs>&#383;pioll</me:facs>\n",
      "                            <me:dipl>&#383;pioll</me:dipl>\n",
      "                        <me:norm>spj&#246;ll</me:norm>\n",
      "</w>\n",
      "                        <w me:msa=\"xNC gM nP cG sI\" lemma=\"firar\">\n",
      "                            <me:facs>&#42876;&#237;ra</me:facs>\n",
      "                            <me:dipl>&#42876;&#237;ra</me:dipl>\n",
      "                        <me:norm>fira</me:norm>\n",
      "</w>\n",
      "                    </l>\n",
      "                    <l>\n",
      "                        <w me:msa=\"xPD gN nP cA\" lemma=\"s&#225;\">\n",
      "                            <me:facs>&#254;&#42809;</me:facs>\n",
      "                            <me:dipl>&#254;&#42809;</me:dipl>\n",
      "                        <me:norm>&#254;au</me:norm>\n",
      "</w>\n",
      "                        <w me:msa=\"xCU\" lemma=\"er\">\n",
      "                            <me:facs>e<am>&#859;</am></me:facs>\n",
      "                            <me:dipl>e<ex>r</ex></me:dipl>\n",
      "                        <me:norm>er</me:norm>\n",
      "</w>\n",
      "                        <w me:msa=\"xAJ rS gN nP cA sI\" lemma=\"framr\">\n",
      "                            <me:facs>&#42876;rem&#383;t</me:facs>\n",
      "                            <me:dipl>&#42876;rem&#383;t</me:dipl>\n",
      "                        <me:norm>fremst</me:norm>\n",
      "</w>\n",
      "                        <w me:msa=\"xAV rP\" lemma=\"um\">\n",
      "                            <me:facs>u<am>&#773;</am></me:facs>\n",
      "                            <me:dipl>u<ex>m</ex></me:dipl>\n",
      "                        <me:norm>um</me:norm>\n",
      "</w>\n",
      "                        <w me:msa=\"xVB fF tPS mIN p1 nS vA iPP\" lemma=\"muna\">\n",
      "                            <me:facs>man</me:facs>\n",
      "                            <me:dipl>man</me:dipl>\n",
      "                        <me:norm>man</me:norm>\n",
      "</w>\n",
      "                        <me:punct>\n",
      "                            <me:facs>.</me:facs>\n",
      "                            <me:dipl>.</me:dipl>\n",
      "                        <me:norm>.</me:norm>\n",
      "</me:punct>\n",
      "                    </l>\n",
      "                </lg>\n",
      "                <lg n=\"2\" xml:id=\"v.Vsp.2\">\n",
      "                    <l>\n",
      "                        <w me:msa=\"xPD cN\" lemma=\"ek\">\n",
      "                            <me:facs>Ec</me:facs>\n",
      "                            <me:dipl>Ec</me:dipl>\n",
      "                        <me:norm>Ek</me:norm>\n",
      "</w>\n",
      "                        <w me:msa=\"xVB fF tPS mIN p1 nS vA iPP\" lemma=\"muna\">\n",
      "                            <me:facs>m&#225;n</me:facs>\n",
      "                            <me:dipl>m&#225;n</me:dipl>\n",
      "                        <me:norm>man</me:norm>\n",
      "</w>\n",
      "                        <w me:msa=\"xNC gM nP cA sI\" lemma=\"i&#491;tunn\">\n",
      "                            <me:facs>i&#491;tna</me:facs>\n",
      "                            <me:dipl>i&#491;tna</me:dipl>\n",
      "                        <me:norm>j&#246;tna</me:norm>\n",
      "</w>\n",
      "                    </l>\n",
      "                    <lb ed=\"ms\" n=\"4\"/>\n",
      "                    <l>\n",
      "                        <w me:msa=\"xAV rP\" lemma=\"&#225;r\">\n",
      "                            <me:facs>ar</me:facs>\n",
      "                            <me:dipl>ar</me:dipl>\n",
      "                        <me:norm>&#225;r</me:norm>\n",
      "</w>\n",
      "                        <w me:msa=\"xAV rP\" lemma=\"um\">\n",
      "                            <me:facs>um</me:facs>\n",
      "                            <me:dipl>um</me:dipl>\n",
      "                        <me:norm>um</me:norm>\n",
      "</w>\n",
      "                        <w me:msa=\"xVB fP tPT gM nP cA sI iST\" lemma=\"bera\">\n",
      "                            <me:facs>bo&#42843;na</me:facs>\n",
      "                            <me:dipl>bo&#42843;na</me:dipl>\n",
      "                        <me:norm>borna</me:norm>\n",
      "</w>\n",
      "                    </l>\n",
      "                    <l>\n",
      "                        <w me:msa=\"xPD gM nP cA\" lemma=\"s&#225;\">\n",
      "                            <me:facs>&#254;&#42809;&#803;</me:facs>\n",
      "                            <me:dipl>&#254;<del type=\"subpunction\">&#42809;&#803;</del>a</me:dipl>\n",
      "                        <me:norm>&#254;&#225;</me:norm>\n",
      "</w>\n",
      "                        <w me:msa=\"xRP\" lemma=\"er\">\n",
      "                            <me:facs>e<am>&#859;</am></me:facs>\n",
      "                            <me:dipl>e<ex>r</ex></me:dipl>\n",
      "                        <me:norm>er</me:norm>\n",
      "</w>\n",
      "                        <w me:msa=\"xAV rP\" lemma=\"for&#240;um\">\n",
      "                            <me:facs>&#42876;o&#42843;&#42874;o<am>&#773;</am></me:facs>\n",
      "                            <me:dipl>&#42876;o&#42843;&#42874;o<ex>m</ex></me:dipl>\n",
      "                        <me:norm>for&#240;um</me:norm>\n",
      "</w>\n",
      "                        <w me:msa=\"xPD cA\" lemma=\"ek\">\n",
      "                            <me:facs>mic</me:facs>\n",
      "                            <me:dipl>mic</me:dipl>\n",
      "                        <me:norm>mik</me:norm>\n",
      "</w>\n",
      "                    </l>\n",
      "                    <l>\n",
      "                        <w me:msa=\"xVB fP tPT gF nS cA sI iWK\" lemma=\"f&#511;&#240;a\">\n",
      "                            <me:facs>&#42876;&#491;&#42874;&#42874;a</me:facs>\n",
      "                            <me:dipl>&#42876;&#491;&#42874;&#42874;a</me:dipl>\n",
      "                        <me:norm>f&#230;dda</me:norm>\n",
      "</w>\n",
      "                        <w me:msa=\"xVB fF tPT mIN p3 nP vA iWK\" lemma=\"hafa\">\n",
      "                            <me:facs>ho&#42876;&#42874;o</me:facs>\n",
      "                            <me:dipl>ho&#42876;&#42874;o</me:dipl>\n",
      "                        <me:norm>h&#246;f&#240;u</me:norm>\n",
      "</w>\n",
      "                        <me:punct>\n",
      "                            <me:facs>.</me:facs>\n",
      "                            <me:dipl>.</me:dipl>\n",
      "                        <me:norm>.</me:norm>\n",
      "</me:punct>\n",
      "                    </l>\n",
      "                    <l>\n",
      "                        <w me:msa=\"xNA gU nU cU sU\" lemma=\"n&#237;u\">\n",
      "                            <me:facs>nio</me:facs>\n",
      "                            <me:dipl>nio</me:dipl>\n",
      "                        <me:norm>N&#237;u</me:norm>\n",
      "</w>\n",
      "                        <w me:msa=\"xVB fF tPS mIN p1 nS vA iPP\" lemma=\"muna\">\n",
      "                            <me:facs>man</me:facs>\n",
      "                            <me:dipl>man</me:dipl>\n",
      "                        <me:norm>man</me:norm>\n",
      "</w>\n",
      "                        <note>Kontrollera om det &#228;r ett nasalstreck &#246;ver a</note>\n",
      "                        <w me:msa=\"xPD cN\" lemma=\"ek\">\n",
      "                            <me:facs>ec</me:facs>\n",
      "                            <me:dipl>ec</me:dipl>\n",
      "                        <me:norm>ek</me:norm>\n",
      "</w>\n",
      "                        <w me:msa=\"xNC gM nP cA sI\" lemma=\"heimr\">\n",
      "                            <me:facs>hei<am>&#773;</am>a</me:facs>\n",
      "                            <me:dipl>hei<ex>m</ex>a</me:dipl>\n",
      "                        <me:norm>heima</me:norm>\n",
      "</w>\n",
      "                    </l>\n",
      "                    <lb ed=\"ms\" n=\"5\"/>\n",
      "                    <l>\n",
      "                        <w me:msa=\"xNA gU nU cU sU\" lemma=\"n&#237;u\">\n",
      "                            <me:facs>n&#237;o</me:facs>\n",
      "                            <me:dipl>n&#237;o</me:dipl>\n",
      "                        <me:norm>n&#237;u</me:norm>\n",
      "</w>\n",
      "                        <w>\n",
      "                            <me:facs>ivi&#254;i[<am>&#7633;</am>]</me:facs>\n",
      "                            <me:dipl>ivi&#254;i[<ex>vr</ex>]</me:dipl>\n",
      "                        <me:norm>&#237;vi&#240;jur</me:norm>\n",
      "</w>\n",
      "                    </l>\n",
      "                    <l>\n",
      "                        <w me:msa=\"xNC gM nS cA sI\" lemma=\"mj&#491;tvi&#240;r\">\n",
      "                            <me:facs>miot ui&#240;</me:facs>\n",
      "                            <me:dipl>miot ui&#240;</me:dipl>\n",
      "                        <me:norm>mj&#246;tvi&#240;</me:norm>\n",
      "</w>\n",
      "                        <w me:msa=\"xAJ rP gM nS cA sI\" lemma=\"m&#509;rr\">\n",
      "                            <me:facs>m&#58521;ran</me:facs>\n",
      "                            <me:dipl>m&#58521;ran</me:dipl>\n",
      "                        <me:norm>m&#230;ran</me:norm>\n",
      "</w>\n",
      "                    </l>\n",
      "                    <l>\n",
      "                        <w me:msa=\"xAP yA\" lemma=\"fyr\">\n",
      "                            <me:facs>&#42876;<am>&#878;</am></me:facs>\n",
      "                            <me:dipl>&#42876;<ex>yr</ex></me:dipl>\n",
      "                        <me:norm>fyr</me:norm>\n",
      "</w>\n",
      "                        <w me:msa=\"xNC gF nS cA sI\" lemma=\"mold\">\n",
      "                            <me:facs>mol&#42874;</me:facs>\n",
      "                            <me:dipl>mol&#42874;</me:dipl>\n",
      "                        <me:norm>mold</me:norm>\n",
      "</w>\n",
      "                        <w me:msa=\"xAV rP\" lemma=\"ne&#240;an\">\n",
      "                            <me:facs>ne&#240;an</me:facs>\n",
      "                            <me:dipl>ne&#240;an</me:dipl>\n",
      "                        <me:norm>ne&#240;an</me:norm>\n",
      "</w>\n",
      "                        <me:punct>\n",
      "                            <me:facs>.</me:facs>\n",
      "                            <me:dipl>.</me:dipl>\n",
      "                        <me:norm>.</me:norm>\n",
      "</me:punct>\n",
      "                    </l>\n",
      "                </lg>\n",
      "                <lg n=\"3\" xml:id=\"v.Vsp.3\">\n",
      "                    <l>\n",
      "                        <w me:msa=\"xAV rP\" lemma=\"&#225;r\">\n",
      "                            <me:facs>Ar</me:facs>\n",
      "                            <me:dipl>Ar</me:dipl>\n",
      "                        <me:norm>&#193;r</me:norm>\n",
      "</w>\n",
      "                        <w me:msa=\"xVB fF tPT mIN p3 nS vA iST\" lemma=\"vera\">\n",
      "                            <me:facs>uar</me:facs>\n",
      "                            <me:dipl>uar</me:dipl>\n",
      "                        <me:norm>var</me:norm>\n",
      "</w>\n",
      "                        <w me:msa=\"xNC gF nP cG sI\" lemma=\"&#491;ld\">\n",
      "                            <me:facs>al&#42874;a</me:facs>\n",
      "                            <me:dipl>al&#42874;a</me:dipl>\n",
      "                        <me:norm>alda</me:norm>\n",
      "</w>\n",
      "                    </l>\n",
      "                    <l>\n",
      "                        <w me:msa=\"xAV rP\" lemma=\"&#254;ar\">\n",
      "                            <me:facs>&#254;ar</me:facs>\n",
      "                            <me:dipl>&#254;ar</me:dipl>\n",
      "                        <me:norm>&#254;ar</me:norm>\n",
      "</w>\n",
      "                        <lb ed=\"ms\" n=\"6\"/>\n",
      "                        <w me:msa=\"xRP\" lemma=\"er\">\n",
      "                            <me:facs>er</me:facs>\n",
      "                            <me:dipl>er</me:dipl>\n",
      "                        <me:norm>er</me:norm>\n",
      "</w>\n",
      "                        <w me:msa=\"xNP gM nS cN sI\" lemma=\"&#221;mir\">\n",
      "                            <me:facs>&#7823;m<am>&#859;</am></me:facs>\n",
      "                            <me:dipl>&#7823;m<ex>ir</ex></me:dipl>\n",
      "                        <me:norm>&#221;mis</me:norm>\n",
      "</w>\n",
      "                        <w me:msa=\"xVB fF tPT mIN p3 nS vA iWK\" lemma=\"byggia\">\n",
      "                            <me:facs>byg&#240;i</me:facs>\n",
      "                            <me:dipl>byg&#240;i</me:dipl>\n",
      "                        <me:norm>bygg&#240;i</me:norm>\n",
      "</w>\n",
      "                    </l>\n",
      "                    <l>\n",
      "                        <w me:msa=\"xVB fF tPT mIN p3 nS vA iST\" lemma=\"vera\">\n",
      "                            <me:facs>vara</me:facs>\n",
      "                            <me:dipl>vara</me:dipl>\n",
      "                        <me:norm>var-a</me:norm>\n",
      "</w>\n",
      "                        <w me:msa=\"xNC gM nS cN sI\" lemma=\"sandr\">\n",
      "                            <me:facs>&#383;an&#42874;&#42843;</me:facs>\n",
      "                            <me:dipl>&#383;an&#42874;&#42843;</me:dipl>\n",
      "                        <me:norm>sandr</me:norm>\n",
      "</w>\n",
      "                        <w me:msa=\"xAV rP\" lemma=\"ne\">\n",
      "                            <me:facs>n&#281;</me:facs>\n",
      "                            <me:dipl>n&#281;</me:dipl>\n",
      "                        <me:norm>n&#233;</me:norm>\n",
      "</w>\n",
      "                        <w me:msa=\"xNC gM nS cN sI\" lemma=\"s&#509;r\">\n",
      "                            <me:facs>&#383;&#58521;r</me:facs>\n",
      "                            <me:dipl>&#383;&#58521;r</me:dipl>\n",
      "                        <me:norm>s&#230;r</me:norm>\n",
      "</w>\n",
      "                    </l>\n",
      "                    <l>\n",
      "                        <w me:msa=\"xAV rP\" lemma=\"ne\">\n",
      "                            <me:facs>ne</me:facs>\n",
      "                            <me:dipl>ne</me:dipl>\n",
      "                        <me:norm>n&#233;</me:norm>\n",
      "</w>\n",
      "                        <w me:msa=\"xAJ rP gF nP cN sI\" lemma=\"svalr\">\n",
      "                            <me:facs>&#383;ualar</me:facs>\n",
      "                            <me:dipl>&#383;ualar</me:dipl>\n",
      "                        <me:norm>svalar</me:norm>\n",
      "</w>\n",
      "                        <w me:msa=\"xNC gF nP cN sI\" lemma=\"unnr\">\n",
      "                            <me:facs>u&#628;<am>&#859;</am></me:facs>\n",
      "                            <me:dipl>u&#628;<ex>ir</ex></me:dipl>\n",
      "                        <me:norm>unnir</me:norm>\n",
      "</w>\n",
      "                    </l>\n",
      "                    <l>\n",
      "                        <w me:msa=\"xNC gF nS cN sI\" lemma=\"i&#491;r&#240;\">\n",
      "                            <me:facs>io&#42843;&#240;</me:facs>\n",
      "                            <me:dipl>io&#42843;&#240;</me:dipl>\n",
      "                        <me:norm>j&#246;r&#240;</me:norm>\n",
      "</w>\n",
      "                        <w me:msa=\"xVB fF tPT mIN p3 nS vR iST\" lemma=\"finna\">\n",
      "                            <me:facs>&#42876;a&#628;z</me:facs>\n",
      "                            <me:dipl>&#42876;a&#628;z</me:dipl>\n",
      "                        <me:norm>fannz</me:norm>\n",
      "</w>\n",
      "                        <lb ed=\"ms\" n=\"7\"/>\n",
      "                        <w me:msa=\"xAV rP\" lemma=\"&#230;va\">\n",
      "                            <me:facs>&#281;va</me:facs>\n",
      "                            <me:dipl>&#281;va</me:dipl>\n",
      "                        <me:norm>&#230;va</me:norm>\n",
      "</w>\n",
      "                    </l>\n",
      "                    <l>\n",
      "                        <w me:msa=\"xAV rP\" lemma=\"ne\">\n",
      "                            <me:facs>ne</me:facs>\n",
      "                            <me:dipl>ne</me:dipl>\n",
      "                        <me:norm>ne</me:norm>\n",
      "</w>\n",
      "                        <w me:msa=\"xNC gM nS cN sI\" lemma=\"upphiminn\">\n",
      "                            <me:facs>up<am>&#775;</am> him<am>&#773;</am></me:facs>\n",
      "                            <me:dipl>up<ex>p</ex>  him<ex>i&#628;</ex></me:dipl>\n",
      "                        <me:norm>upphiminn</me:norm>\n",
      "</w>\n",
      "                    </l>\n",
      "                    <l>\n",
      "                        <w me:msa=\"xNC gM nS cN sI\" lemma=\"gap\">\n",
      "                            <me:facs>gap</me:facs>\n",
      "                            <me:dipl>gap</me:dipl>\n",
      "                        <me:norm>gap</me:norm>\n",
      "</w>\n",
      "                        <w me:msa=\"xVB fF tPT mIN p3 nS vA iST\" lemma=\"vera\">\n",
      "                            <me:facs>uar</me:facs>\n",
      "                            <me:dipl>uar</me:dipl>\n",
      "                        <me:norm>var</me:norm>\n",
      "</w>\n",
      "                        <w>\n",
      "                            <me:facs>g<sic>&#42843;</sic><add place=\"supralinear\">i</add>&#628;vnga</me:facs>\n",
      "                            <me:dipl>g<sic>&#42843;</sic><add place=\"supralinear\">i</add>&#628;vnga</me:dipl>\n",
      "                            <me:norm>ginnunga</me:norm>\n",
      "                        </w>\n",
      "                    </l>\n",
      "                    <l>\n",
      "                        <w me:msa=\"xCU\" lemma=\"en\">\n",
      "                            <me:facs>e&#628;</me:facs>\n",
      "                            <me:dipl>e&#628;</me:dipl>\n",
      "                        <me:norm>en</me:norm>\n",
      "</w>\n",
      "                        <w me:msa=\"xNC gN nS cN sI\" lemma=\"gras\">\n",
      "                            <me:facs>gra&#383;</me:facs>\n",
      "                            <me:dipl>gra&#383;</me:dipl>\n",
      "                        <me:norm>gras</me:norm>\n",
      "</w>\n",
      "                        <w me:msa=\"xAV rP\" lemma=\"hvergi\">\n",
      "                            <me:facs>hv<am>&#859;</am>gi</me:facs>\n",
      "                            <me:dipl>hv<ex>er</ex>gi</me:dipl>\n",
      "                        <me:norm>hvergi</me:norm>\n",
      "</w>\n",
      "                        <me:punct>\n",
      "                            <me:facs>.</me:facs>\n",
      "                            <me:dipl>.</me:dipl>\n",
      "                        <me:norm>.</me:norm>\n",
      "</me:punct>\n",
      "                    </l>\n",
      "                </lg>\n",
      "                <lg n=\"4\" xml:id=\"v.Vsp.4\">\n",
      "                    <l>\n",
      "                        <w me:msa=\"xCU\" lemma=\"&#225;&#240;r\">\n",
      "                            <me:facs>A&#42874;&#42843;</me:facs>\n",
      "                            <me:dipl>A&#42874;&#42843;</me:dipl>\n",
      "                        <me:norm>&#193;&#240;r</me:norm>\n",
      "</w>\n",
      "                        <w me:msa=\"xNP gM nS cG sI\" lemma=\"Burr\">\n",
      "                            <me:facs>bvr&#383;</me:facs>\n",
      "                            <me:dipl>bvr&#383;</me:dipl>\n",
      "                        <me:norm>Burs</me:norm>\n",
      "</w>\n",
      "                        <lb ed=\"ms\" n=\"8\"/>\n",
      "                        <w me:msa=\"xNC gM nP cN sI\" lemma=\"sonr\">\n",
      "                            <me:facs>&#383;&#7823;n<am>&#859;</am></me:facs>\n",
      "                            <me:dipl>&#383;&#7823;n<ex>ir</ex></me:dipl>\n",
      "                        <me:norm>synir</me:norm>\n",
      "</w>\n",
      "                    </l>\n",
      "                    <l>\n",
      "                        <w me:msa=\"xNC gN nP cD sI\" lemma=\"bi&#491;&#240;\">\n",
      "                            <me:facs>bio&#240;o<am>&#773;</am></me:facs>\n",
      "                            <me:dipl>bio&#240;o<ex>m</ex></me:dipl>\n",
      "                        <me:norm>bj&#246;&#240;um</me:norm>\n",
      "</w>\n",
      "                        <w me:msa=\"xAV rP\" lemma=\"um\">\n",
      "                            <me:facs>v<am>&#773;</am></me:facs>\n",
      "                            <me:dipl>v<ex>m</ex></me:dipl>\n",
      "                        <me:norm>um</me:norm>\n",
      "</w>\n",
      "                        <w me:msa=\"xVB fF tPT mIN p3 nP vA iWK\" lemma=\"yppa\">\n",
      "                            <me:facs>&#7823;p&#240;o</me:facs>\n",
      "                            <me:dipl>&#7823;p&#240;o</me:dipl>\n",
      "                        <me:norm>ypp&#240;u</me:norm>\n",
      "</w>\n",
      "                    </l>\n",
      "                    <l>\n",
      "                        <w me:msa=\"xPD gM nP cN\" lemma=\"s&#225;\">\n",
      "                            <me:facs>&#254;<am>&#773;</am>r</me:facs>\n",
      "                            <me:dipl>&#254;<ex>ei</ex>r</me:dipl>\n",
      "                        <me:norm>&#254;eir</me:norm>\n",
      "</w>\n",
      "                        <w me:msa=\"xRP\" lemma=\"er\">\n",
      "                            <me:facs>er</me:facs>\n",
      "                            <me:dipl>er</me:dipl>\n",
      "                        <me:norm>er</me:norm>\n",
      "</w>\n",
      "                        <w me:msa=\"xNP gM nS cA sI\" lemma=\"Mi&#240;gar&#240;r\">\n",
      "                            <me:facs>mi&#240;gar&#42874;</me:facs>\n",
      "                            <me:dipl>mi&#240;gar&#42874;</me:dipl>\n",
      "                        <me:norm>Mi&#240;gar&#240;</me:norm>\n",
      "</w>\n",
      "                    </l>\n",
      "                    <l>\n",
      "                        <w me:msa=\"xAJ rP gM nS cA sI\" lemma=\"m&#509;rr\">\n",
      "                            <me:facs>m&#281;ran</me:facs>\n",
      "                            <me:dipl>m&#281;ran</me:dipl>\n",
      "                        <me:norm>m&#230;ran</me:norm>\n",
      "</w>\n",
      "                        <w me:msa=\"xVB fF tPT mIN p3 nP vA iST\" lemma=\"skapa\">\n",
      "                            <me:facs>&#383;c&#243;po</me:facs>\n",
      "                            <me:dipl>&#383;c&#243;po</me:dipl>\n",
      "                        <me:norm>sk&#243;pu</me:norm>\n",
      "</w>\n",
      "                        <me:punct>\n",
      "                            <me:facs>.</me:facs>\n",
      "                            <me:dipl>.</me:dipl>\n",
      "                        <me:norm>.</me:norm>\n"
     ]
    }
   ],
   "source": [
    "print(\"\\n\".join(decoded_root.split(\"\\n\")[i:i+500]))"
   ]
  },
  {
   "cell_type": "code",
   "execution_count": 8,
   "metadata": {},
   "outputs": [
    {
     "data": {
      "text/plain": [
       "'{http://www.tei-c.org/ns/1.0}TEI'"
      ]
     },
     "execution_count": 8,
     "metadata": {},
     "output_type": "execute_result"
    }
   ],
   "source": [
    "root.tag"
   ]
  },
  {
   "cell_type": "code",
   "execution_count": 9,
   "metadata": {},
   "outputs": [],
   "source": [
    "stringify = etree.XPath(\"string()\")"
   ]
  },
  {
   "cell_type": "code",
   "execution_count": 10,
   "metadata": {},
   "outputs": [],
   "source": [
    "namespaces = {'n': 'http://www.tei-c.org/ns/1.0',\n",
    "              'me': 'http://www.menota.org/ns/1.0'}"
   ]
  },
  {
   "cell_type": "code",
   "execution_count": 11,
   "metadata": {},
   "outputs": [],
   "source": [
    "header, text = root.getchildren()"
   ]
  },
  {
   "cell_type": "code",
   "execution_count": 12,
   "metadata": {},
   "outputs": [
    {
     "name": "stdout",
     "output_type": "stream",
     "text": [
      "<Element {http://www.tei-c.org/ns/1.0}div at 0x1b0f3c5a6c8>\n"
     ]
    }
   ],
   "source": [
    "print(text.find('.//n:div[@type=\"poem\"]', namespaces=namespaces))\n",
    "poem = text.find('.//n:div[@type=\"poem\"]', namespaces=namespaces)"
   ]
  },
  {
   "cell_type": "markdown",
   "metadata": {},
   "source": [
    "### Extraction of the poem"
   ]
  },
  {
   "cell_type": "code",
   "execution_count": 13,
   "metadata": {},
   "outputs": [],
   "source": [
    "poem = text.getchildren()[0].getchildren()[3]"
   ]
  },
  {
   "cell_type": "code",
   "execution_count": 14,
   "metadata": {},
   "outputs": [],
   "source": [
    "stanzas = [child for child in poem.xpath(\"n:lg\", namespaces=namespaces)]"
   ]
  },
  {
   "cell_type": "code",
   "execution_count": 15,
   "metadata": {},
   "outputs": [],
   "source": [
    "facsimile_stanzas = [stanza.findall(\".//n:l\", namespaces=namespaces) for stanza in stanzas]\n",
    "facsimile_lines = [[line.findall(\".//me:facs\", namespaces=namespaces) for line in stanza] for stanza in facsimile_stanzas]\n",
    "facsimile_text = [[[stringify(word) for word in line] for line in stanza ] for stanza in facsimile_lines]"
   ]
  },
  {
   "cell_type": "code",
   "execution_count": 16,
   "metadata": {},
   "outputs": [],
   "source": [
    "diplomatica_stanzas = [stanza.findall(\".//n:l\", namespaces=namespaces) for stanza in stanzas]\n",
    "diplomatica_lines = [[line.findall(\".//me:dipl\", namespaces=namespaces) for line in stanza] for stanza in diplomatica_stanzas]\n",
    "diplomatica_text = [[[stringify(word) for word in line] for line in stanza ] for stanza in diplomatica_lines]"
   ]
  },
  {
   "cell_type": "code",
   "execution_count": 17,
   "metadata": {},
   "outputs": [],
   "source": [
    "normalized_stanzas = [stanza.findall(\".//n:l\", namespaces=namespaces) for stanza in stanzas]\n",
    "normalized_lines = [[line.findall(\".//me:norm\", namespaces=namespaces) for line in stanza] for stanza in normalized_stanzas]\n",
    "normalized_text = [[[stringify(word) for word in line] for line in stanza ] for stanza in normalized_lines]"
   ]
  },
  {
   "cell_type": "code",
   "execution_count": 18,
   "metadata": {},
   "outputs": [],
   "source": [
    "lemmata_stanzas = [stanza.findall(\".//n:l\", namespaces=namespaces) for stanza in stanzas]\n",
    "lemmata_lines = [[line.findall(\".//n:w\", namespaces=namespaces) for line in stanza] for stanza in lemmata_stanzas]\n",
    "lemmata_text = [[[word.get(\"lemma\") for word in line] for line in stanza ] for stanza in lemmata_lines]"
   ]
  },
  {
   "cell_type": "code",
   "execution_count": 19,
   "metadata": {},
   "outputs": [],
   "source": [
    "pos_stanzas = [stanza.findall(\".//n:l\", namespaces=namespaces) for stanza in stanzas]\n",
    "pos_lines = [[line.findall(\".//n:w\", namespaces=namespaces) for line in stanza] for stanza in pos_stanzas]\n",
    "pos_text = [[[word.get('{http://www.menota.org/ns/1.0}msa') for word in line] for line in stanza ] for stanza in pos_lines]"
   ]
  },
  {
   "cell_type": "markdown",
   "metadata": {
    "collapsed": true
   },
   "source": [
    "#### First stanza"
   ]
  },
  {
   "cell_type": "code",
   "execution_count": 20,
   "metadata": {},
   "outputs": [
    {
     "data": {
      "text/plain": [
       "[['Hlıoðſ', 'bið', 'ec', 'allar'],\n",
       " ['kinꝺir'],\n",
       " ['meiri', '⁊', 'miɴi'],\n",
       " ['maugo', 'heimꝺalar'],\n",
       " ['uilðo', 'at', 'ec', 'ualꝼꜹþ̅'],\n",
       " ['uel', 'ꝼyr', 'telia'],\n",
       " ['ꝼoꝛn', 'ſpioll', 'ꝼíra'],\n",
       " ['þꜹ', 'e͛', 'ꝼremſt', 'u̅', 'man', '.']]"
      ]
     },
     "execution_count": 20,
     "metadata": {},
     "output_type": "execute_result"
    }
   ],
   "source": [
    "facsimile_text[0]"
   ]
  },
  {
   "cell_type": "code",
   "execution_count": 21,
   "metadata": {},
   "outputs": [
    {
     "data": {
      "text/plain": [
       "[['Hlıoðſ', 'bið', 'ec', 'allar'],\n",
       " ['kinꝺir'],\n",
       " ['meiri', 'oc', 'miɴi'],\n",
       " ['maugo', 'heimꝺalar'],\n",
       " ['uilðo', 'at', 'ec', 'ualꝼꜹþr'],\n",
       " ['uel', 'ꝼyr', 'telia'],\n",
       " ['ꝼoꝛn', 'ſpioll', 'ꝼíra'],\n",
       " ['þꜹ', 'er', 'ꝼremſt', 'um', 'man', '.']]"
      ]
     },
     "execution_count": 21,
     "metadata": {},
     "output_type": "execute_result"
    }
   ],
   "source": [
    "diplomatica_text[0]"
   ]
  },
  {
   "cell_type": "code",
   "execution_count": 22,
   "metadata": {},
   "outputs": [
    {
     "data": {
      "text/plain": [
       "[['Ek', 'man', 'jötna'],\n",
       " ['ár', 'um', 'borna'],\n",
       " ['þá', 'er', 'forðum', 'mik'],\n",
       " ['fædda', 'höfðu', '.'],\n",
       " ['Níu', 'man', 'ek', 'heima'],\n",
       " ['níu', 'íviðjur'],\n",
       " ['mjötvið', 'mæran'],\n",
       " ['fyr', 'mold', 'neðan', '.']]"
      ]
     },
     "execution_count": 22,
     "metadata": {},
     "output_type": "execute_result"
    }
   ],
   "source": [
    "normalized_text[1]"
   ]
  },
  {
   "cell_type": "code",
   "execution_count": 23,
   "metadata": {},
   "outputs": [
    {
     "data": {
      "text/plain": [
       "[['ek', 'muna', 'iǫtunn'],\n",
       " ['ár', 'um', 'bera'],\n",
       " ['sá', 'er', 'forðum', 'ek'],\n",
       " ['fǿða', 'hafa'],\n",
       " ['níu', 'muna', 'ek', 'heimr'],\n",
       " ['níu', None],\n",
       " ['mjǫtviðr', 'mǽrr'],\n",
       " ['fyr', 'mold', 'neðan']]"
      ]
     },
     "execution_count": 23,
     "metadata": {},
     "output_type": "execute_result"
    }
   ],
   "source": [
    "lemmata_text[1]"
   ]
  },
  {
   "cell_type": "code",
   "execution_count": 24,
   "metadata": {},
   "outputs": [
    {
     "name": "stdout",
     "output_type": "stream",
     "text": [
      "[['xNC gN nS cG sI', 'xVB fF tPS mIN p1 nS vA iST', 'xPD cN', 'xAJ rP gF nP cA sI'], ['xNC gF nP cA sI'], ['xAJ rC gF nP cA sD', 'xCU', 'xAJ rC gF nP cA sD'], ['xNC gM nP cA sI', 'xNP gM cG sI'], ['xVB fF tPS mIN p2 nS vA iWK', 'xCU', 'xPD cN', 'xNC gM nS cN'], ['xAV rP', 'xAV rP', 'xVB fF tPS mSU p1 nS vA iWK'], ['xAJ rP gN nP cA sI', 'xNC gN nP cA sI', 'xNC gM nP cG sI'], ['xPD gN nP cA', 'xCU', 'xAJ rS gN nP cA sI', 'xAV rP', 'xVB fF tPS mIN p1 nS vA iPP']]\n"
     ]
    }
   ],
   "source": [
    "print(pos_text[0])"
   ]
  },
  {
   "cell_type": "markdown",
   "metadata": {},
   "source": [
    "### Parsing the POS tags"
   ]
  },
  {
   "cell_type": "markdown",
   "metadata": {
    "collapsed": true
   },
   "source": [
    "These annotations are ununderstandable without the docs that you can find [here](https://menota.org/HB3_ch11.xml#sec11.3). The idea is to parse these annotations the same way I did in https://github.com/cltk/old_norse_texts_heimskringla/blob/master/pos.py"
   ]
  },
  {
   "cell_type": "code",
   "execution_count": 25,
   "metadata": {},
   "outputs": [],
   "source": [
    "from pos_menota import *"
   ]
  },
  {
   "cell_type": "code",
   "execution_count": 26,
   "metadata": {},
   "outputs": [
    {
     "name": "stdout",
     "output_type": "stream",
     "text": [
      "[True, False, False, True, False, False, True, False, False, False, False, True, False, False, False, False, False, False, False, False, False, False, True, True, False, False, True, False, False, False, False, False, False, False, False, False, False, False, False, False, False, False, True, False, False, False, False]\n"
     ]
    }
   ],
   "source": [
    "c = POSMenota.parse(\"xVB fP tPT vA gM nS cN sI\", True)\n",
    "print(c.vectorize())"
   ]
  }
 ],
 "metadata": {
  "kernelspec": {
   "display_name": "Python 3",
   "language": "python",
   "name": "python3"
  },
  "language_info": {
   "codemirror_mode": {
    "name": "ipython",
    "version": 3
   },
   "file_extension": ".py",
   "mimetype": "text/x-python",
   "name": "python",
   "nbconvert_exporter": "python",
   "pygments_lexer": "ipython3",
   "version": "3.7.4"
  }
 },
 "nbformat": 4,
 "nbformat_minor": 1
}