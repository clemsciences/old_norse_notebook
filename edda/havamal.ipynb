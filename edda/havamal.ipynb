{
 "cells": [
  {
   "cell_type": "markdown",
   "metadata": {},
   "source": [
    "# Hávamál analysis\n",
    "\n",
    "Second Edda's poem: *sayings of the High One* or Hávamál. What is different from the Völuspá?"
   ]
  },
  {
   "cell_type": "markdown",
   "metadata": {},
   "source": [
    "## Contents\n",
    "\n",
    "* Download used corpora\n",
    "* Read them\n",
    "* Retrieve the original structure\n",
    "* Syllabification\n",
    "* Transcribe phonetically the text\n",
    "* Alliteration\n",
    "* Vocabulary\n",
    "* Frequency\n",
    "* Poetry\n"
   ]
  },
  {
   "cell_type": "markdown",
   "metadata": {},
   "source": [
    "### All imports"
   ]
  },
  {
   "cell_type": "code",
   "execution_count": 1,
   "metadata": {},
   "outputs": [],
   "source": [
    "import os\n",
    "import re\n",
    "from collections import Counter\n",
    "\n",
    "from cltk.corpus.utils.importer import CorpusImporter\n",
    "from cltk.corpus.old_norse.syllabifier import hierarchy\n",
    "hierarchy[5].append(\"z\")\n",
    "hierarchy[5].append(\"x\")\n",
    "from cltk.phonology.syllabify import Syllabifier\n",
    "from cltk.phonology import utils as phu\n",
    "from cltk.phonology.old_norse import transcription as ont \n",
    "from cltk.utils.frequency import Frequency\n",
    "from cltk.tag.pos import POSTag\n",
    "from cltk.prosody.old_norse.verse import MetreManager, Fornyrdhislag, Ljoodhhaattr, ShortLine, LongLine\n",
    "\n",
    "from eddas import text_manager\n",
    "from eddas import reader as heim_reader\n",
    "#from syllabified_text_reader import read_annotated_text\n",
    "\n",
    "from matplotlib import pyplot as plt\n",
    "import numpy as np\n",
    "\n",
    "import warnings\n",
    "warnings.simplefilter(\"ignore\")\n",
    "\n",
    "%matplotlib inline"
   ]
  },
  {
   "cell_type": "markdown",
   "metadata": {},
   "source": [
    "### Download Old Norse Corpora to cltk_data directory"
   ]
  },
  {
   "cell_type": "code",
   "execution_count": 2,
   "metadata": {},
   "outputs": [],
   "source": [
    "onc = CorpusImporter(\"old_norse\")\n",
    "onc.import_corpus(\"old_norse_texts_heimskringla\")\n",
    "onc.import_corpus('old_norse_models_cltk')"
   ]
  },
  {
   "cell_type": "markdown",
   "metadata": {
    "collapsed": true
   },
   "source": [
    "Configure **ipython**.\n",
    "\n",
    "```bash\n",
    "$ ipython profile create\n",
    "$ ipython locate\n",
    "$ nano .ipython/profile_default/ipython_config.py\n",
    "```\n",
    " Add it a the end of the file:\n",
    "```bash\n",
    "c.InteractiveShellApp.exec_lines = [\n",
    "    'import sys; import os; sys.path.append(os.path.join(os.environ[\"HOME\"], \"cltk_data\"))',\n",
    "    'import sys; import os; sys.path.append(os.path.join(os.environ[\"HOME\"], \"cltk_data\", \"text\", \"old_norse_texts_heimskringla\"))'\n",
    "]\n",
    "```\n",
    "It is necessary to do that because it makes things easier to utilize data furnished by CLTK. You will see later in the notebook how it is used.\n",
    "\n",
    "Install the **kernel** associated with **python3.6** [https://ipython.readthedocs.io/en/stable/install/kernel_install.html](https://ipython.readthedocs.io/en/stable/install/kernel_install.html) "
   ]
  },
  {
   "cell_type": "code",
   "execution_count": 3,
   "metadata": {},
   "outputs": [
    {
     "name": "stdout",
     "output_type": "stream",
     "text": [
      "I.\n",
      " \n",
      "1.\n",
      "Gáttir allar,\n",
      "áðr gangi fram,\n",
      "um skoðask skyli,\n",
      "um skyggnast skyli,\n",
      "því at óvíst er at vita,\n",
      "hvar óvinir\n",
      "sitja á fleti fyrir.\n",
      " \n",
      "2.\n",
      "Gefendr heilir!\n",
      "Gestr er inn kominn,\n",
      "hvar skal sitja sjá?\n",
      "Mjö\n"
     ]
    }
   ],
   "source": [
    "loader = text_manager.TextLoader(os.path.join(heim_reader.CORPUS_PATH, \"Sæmundar-Edda\", \"Hávamál\"), \"txt\")\n",
    "text = loader.load()\n",
    "print(text[:200])"
   ]
  },
  {
   "cell_type": "markdown",
   "metadata": {},
   "source": [
    "### Split text in paragraphs ans verses\n",
    "Extract the organisation of verses in Völuspá"
   ]
  },
  {
   "cell_type": "code",
   "execution_count": 4,
   "metadata": {
    "collapsed": true
   },
   "outputs": [],
   "source": [
    "# The following function is useful to improve existing functions\n",
    "\n",
    "def remove_punctuations(text):\n",
    "    res = text\n",
    "    # for punctuation in \"-:?\":\n",
    "    #    res = \"\".join(res.split(punctuation))\n",
    "    res = re.sub(\"[\\-:\\?;,]\", \"\", res)\n",
    "    res = re.sub(\"z\", \"s\", res)\n",
    "    res = re.sub(\"x\", \"ks\", res)\n",
    "    res = re.sub(r\" +\", \" \", res)\n",
    "    return res"
   ]
  },
  {
   "cell_type": "markdown",
   "metadata": {},
   "source": [
    "  * Get the indices of paragraphs delimiters\n",
    "  * Extract the content between two following delimiters and seperate lines and put them in a list\n",
    "  * Clean all the lines/verses"
   ]
  },
  {
   "cell_type": "code",
   "execution_count": 5,
   "metadata": {},
   "outputs": [
    {
     "data": {
      "text/plain": [
       "[['Gáttir allar',\n",
       "  'áðr gangi fram',\n",
       "  'um skoðask skyli',\n",
       "  'um skyggnast skyli',\n",
       "  'því at óvíst er at vita',\n",
       "  'hvar óvinir',\n",
       "  'sitja á fleti fyrir.'],\n",
       " ['Gefendr heilir!',\n",
       "  'Gestr er inn kominn',\n",
       "  'hvar skal sitja sjá',\n",
       "  'Mjök er bráðr',\n",
       "  'sá er á bröndum skal',\n",
       "  'síns of freista frama.'],\n",
       " ['Elds er þörf',\n",
       "  'þeims inn er kominn',\n",
       "  'ok á kné kalinn',\n",
       "  'matar ok váða',\n",
       "  'er manni þörf',\n",
       "  'þeim er hefr um fjall farit.']]"
      ]
     },
     "execution_count": 5,
     "metadata": {},
     "output_type": "execute_result"
    }
   ],
   "source": [
    "indices = [(m.start(0), m.end(0)) for m in re.finditer(r\"[0-9]{1,2}\\.\", text)]  #re.findall(r\"[0-9]{1,2}\\.\", text)\n",
    "paragraphs = [text[indices[i][1]:indices[i+1][0]].split(\"\\n\") for i in range(len(indices)-1)]\n",
    "paragraphs = [[remove_punctuations(verse).strip() for verse in paragraph if remove_punctuations(verse) != \"\" and verse != \"\\xa0\"] for paragraph in paragraphs ]\n",
    "paragraphs[:3]"
   ]
  },
  {
   "cell_type": "markdown",
   "metadata": {},
   "source": [
    "### Syllabification in Old Norse and The *Völuspá*\n",
    "\n",
    "Syllabification in Old Norse is a tough task and agreement among scholars has not been reached. Although Icelandic syllabifiers exist, they are not very useful because, *til dæmis* (for example), Modern Icelandic has included many [epenthetic](https://en.wikipedia.org/wiki/Epenthesis) vowels (compare *maðr* in Old Norse and *maður* in Modern Icelandic).\n",
    "\n",
    "As a substantial example, I annotated syllables in the *Völuspá*. The code below shows how to retrieve it. Before it, I explain how the raw annotated text looks like.\n",
    "\n",
    "#### Guidelines for syllable annotation\n",
    "\n",
    "* \\n+\\n delimits lines (verses)\n",
    "* \\n-\\n delimits words\n",
    "* just \\n delimits two syllables of a same word\n",
    "* numbers delimit stanzas\n",
    "\n"
   ]
  },
  {
   "cell_type": "markdown",
   "metadata": {},
   "source": [
    "You can see below the raw annotations."
   ]
  },
  {
   "cell_type": "markdown",
   "metadata": {},
   "source": [
    "Once parsed, the text is a list of paragraphs. Each paragraph is a list of verses. Each verse is a list of word. Each word is a list of syllables."
   ]
  },
  {
   "cell_type": "markdown",
   "metadata": {},
   "source": [
    "#### Use the phonology module to transcribe phonetically the text"
   ]
  },
  {
   "cell_type": "code",
   "execution_count": 6,
   "metadata": {},
   "outputs": [
    {
     "name": "stdout",
     "output_type": "stream",
     "text": [
      "'Gáttir allar'\t\t->\t[gaːtːir alːar]\n",
      "'áðr gangi fram'\t\t->\t[aːðr ganɣi fram]\n",
      "'um skoðask skyli'\t\t->\t[um skɔðask skyli]\n",
      "'um skyggnast skyli'\t\t->\t[um skygːnast skyli]\n",
      "'því at óvíst er at vita'\t\t->\t[θviː at oːviːst ɛr at vita]\n",
      "'hvar óvinir'\t\t->\t[hvar oːvinir]\n",
      "'sitja á fleti fyrir.'\t\t->\t[sitja aː flɛti fyrir]\n",
      "'Gefendr heilir!'\t\t->\t[gɛvɛndr hɛilir]\n",
      "'Gestr er inn kominn'\t\t->\t[gɛstr ɛr inː kɔminː]\n",
      "'hvar skal sitja sjá'\t\t->\t[hvar skal sitja sjaː]\n",
      "'Mjök er bráðr'\t\t->\t[mjœk ɛr braːðr]\n",
      "'sá er á bröndum skal'\t\t->\t[saː ɛr aː brœndum skal]\n",
      "'síns of freista frama.'\t\t->\t[siːns ɔv frɛista frama]\n",
      "'Elds er þörf'\t\t->\t[ɛlds ɛr θœrv]\n",
      "'þeims inn er kominn'\t\t->\t[θɛims inː ɛr kɔminː]\n",
      "'ok á kné kalinn'\t\t->\t[ɔk aː kneː kalinː]\n",
      "'matar ok váða'\t\t->\t[matar ɔk vaːða]\n",
      "'er manni þörf'\t\t->\t[ɛr manːi θœrv]\n",
      "'þeim er hefr um fjall farit.'\t\t->\t[θɛim ɛr hɛvr um fjalː farit]\n"
     ]
    }
   ],
   "source": [
    "tr = phu.Transcriber(ont.DIPHTHONGS_IPA, ont.DIPHTHONGS_IPA_class, ont.IPA_class, ont.old_norse_rules)\n",
    "for paragraph in paragraphs[:3]:\n",
    "    for verse in paragraph:\n",
    "        print(repr(verse)+\"\\t\\t->\\t\"+tr.text_to_phonetic_representation(verse))"
   ]
  },
  {
   "cell_type": "markdown",
   "metadata": {},
   "source": [
    "### Show alliterations in the text\n",
    "Alliterations are the main stylistic literary device in Old Norse poetry."
   ]
  },
  {
   "cell_type": "code",
   "execution_count": 7,
   "metadata": {},
   "outputs": [
    {
     "name": "stdout",
     "output_type": "stream",
     "text": [
      "Counter({'a': 1557, 'ː': 1506, 'r': 1439, 'i': 1107, 'ɛ': 1096, 'n': 865, 'v': 725, 't': 711, 'u': 663, 's': 628, 'm': 618, 'l': 555, 'k': 483, 'ð': 471, 'θ': 350, 'h': 291, 'ɔ': 273, 'ɣ': 254, 'g': 227, 'd': 210, 'f': 199, 'o': 197, 'j': 165, 'e': 150, 'y': 143, 'b': 121, 'œ': 118, 'ɒ': 42, 'ɐ': 37, 'p': 37})\n",
      "Counter({'aː': 272, 'ɛr': 214, 'nː': 209, 'an': 193, 'um': 190, 'ːr': 186, 'oː': 184, 'vi': 170, 'ar': 169, 'ra': 167, 'ir': 160, 'ma': 150, 'eː': 150, 'ːð': 148, 'al': 144, 'vɛ': 140, 'ɛi': 138, 'in': 137, 'va': 135, 'uː': 135, 'ːa': 133, 'at': 132, 'ːt': 127, 'it': 122, 'iː': 120, 'ːv': 120, 'ðr': 113, 'tr': 109, 'ta': 106, 'rɛ': 104, 'sk': 103, 'θu': 99, 'ka': 95, 'ɛː': 94, 'un': 89, 'ːi': 88, 'ːs': 88, 'ri': 88, 'st': 87, 'ɣi': 85, 'nd': 85, 'lː': 82, 'ða': 82, 'tː': 77, 'ːn': 77, 'nu': 76, 'ja': 74, 'rs': 74, 'ið': 74, 'li': 72, 'ɛm': 72, 'að': 72, 'ha': 72, 'na': 70, 'ti': 70, 'ɛv': 69, 'ːɛ': 69, 'gɛ': 69, 'rm': 68, 'ːl': 67, 'am': 66, 'ɛk': 66, 'rv': 65, 'as': 64, 'il': 64, 'mɛ': 61, 'ɛt': 60, 'ld': 59, 'nɛ': 59, 'ði': 58, 'ɛɣ': 58, 'ðu': 58, 'ru': 57, 'av': 56, 'im': 55, 'ɛn': 54, 'rð': 54, 'ɛð': 54, 'vθ': 54, 'mi': 52, 'dr': 51, 'ns': 50, 'is': 50, 'mu': 50, 'nɣ': 49, 'ni': 49, 'la': 48, 'ɔv': 46, 'ki': 45, 'jo': 44, 'mr': 42, 'tu': 42, 'tɛ': 41, 'ːk': 40, 'hɛ': 39, 'si': 39, 'rθ': 39, 'da': 39, 'ːg': 39, 'go': 39, 'rh': 38, 'ːu': 38, 'ɣa': 38, 'rl': 38, 'œl': 37, 'hv': 36, 'ɒu': 36, 'lɛ': 35, 'du': 34, 'rɔ': 33, 'kθ': 33, 'se': 33, 'θa': 33, 'ɣr': 33, 'θe': 33, 'ft': 32, 'rf': 32, 'yr': 31, 'kv': 31, 'ɐy': 31, 'sa': 31, 'fr': 30, 'sɛ': 30, 'ɔk': 30, 'lv': 30, 'rː': 30, 'iv': 30, 'ːm': 30, 'mk': 30, 'ms': 29, 'kɔ': 29, 'ːf': 29, 'ɛs': 29, 'jœ': 29, 'ik': 29, 'ɔr': 29, 'ts': 28, 'br': 28, 'rk': 28, 'uɣ': 28, 'ɛl': 28, 'ah': 27, 'sn': 27, 'ug': 27, 'vr': 26, 'rɣ': 26, 'lɔ': 26, 'rg': 25, 'ro': 25, 'fa': 25, 'ky': 24, 'ːb': 24, 'th': 24, 'θɛ': 24, 'ðɛ': 24, 'nθ': 24, 'tv': 23, 'ls': 23, 'kɛ': 23, 'œr': 23, 'aɣ': 23, 'sv': 23, 'rn': 23, 'ːh': 23, 'uɛ': 23, 'dː': 23, 'ðn': 23, 'yl': 22, 'nɔ': 22, 'ɔt': 22, 'di': 22, 'ul': 22, 'gː': 21, 'rb': 21, 'ðs': 21, 'kː': 21, 'ku': 21, 'ːɣ': 21, 'ak': 21, 'vn': 21, 'ga': 20, 'sɔ': 20, 'lt': 20, 'kr': 20, 'iɣ': 20, 'yː': 20, 'tθ': 20, 'bɛ': 20, 'yn': 20, 'ɔd': 20, 'ks': 19, 'rt': 19, 'ɔn': 19, 'tm': 18, 'aɛ': 18, 'ːθ': 18, 'af': 17, 'ih': 17, 'kh': 17, 'ɣð': 16, 'uð': 16, 'gu': 16, 'fi': 16, 'us': 16, 'ia': 15, 'tf': 15, 'kg': 15, 'yg': 14, 'fl': 14, 'ɔm': 14, 'kn': 14, 'ɣu': 14, 'ig': 14, 'ðh': 14, 'lu': 14, 'su': 14, 'tn': 13, 'ɣn': 13, 'sː': 13, 'vh': 13, 'aθ': 13, 'iɛ': 13, 'ju': 13, 've': 13, 'fy': 12, 'km': 12, 'ːj': 12, 'hɔ': 12, 'vg': 12, 'ːɔ': 12, 'lr': 12, 'hu': 12, 'vu': 12, 'hœ': 12, 'me': 12, 'if': 11, 'sj': 11, 'ne': 11, 'uh': 11, 'kf': 11, 'rj': 11, 'ut': 11, 'ba': 11, 'θi': 11, 'nr': 11, 'nh': 11, 'rr': 11, 'tl': 11, 'aa': 10, 'rœ': 10, 'θœ': 10, 'fj': 10, 'œɣ': 10, 'hl': 10, 'lj': 10, 'ːd': 10, 'ua': 10, 'bi': 10, 'lm': 10, 'ɣs': 10, 'to': 9, 'iθ': 9, 'ab': 9, 'tg': 9, 'nm': 9, 'yk': 9, 'ry': 9, 'pi': 9, 'sy': 9, 'mː': 9, 'ag': 9, 'mm': 9, 'ɣj': 9, 'lɒ': 9, 'ur': 9, 'ðj': 9, 'lœ': 9, 'gj': 9, 'tj': 8, 'rɒ': 8, 'fɛ': 8, 'ðg': 8, 'ap': 8, 'lk': 8, 'gr': 8, 'mv': 8, 'ɣt': 8, 'ðm': 8, 'vv': 8, 'gl': 8, 'œv': 8, 'vð': 8, 'vs': 7, 'hr': 7, 'nv': 7, 'mh': 7, 'ly': 7, 'ðθ': 7, 'sb': 7, 'nl': 7, 'mg': 7, 'sh': 7, 'yv': 7, 'lð': 7, 'mθ': 7, 'θr': 7, 'œð': 7, 'œt': 7, 'pː': 7, 'mɔ': 7, 'pa': 7, 'ɣɛ': 7, 'yɣ': 7, 'bœ': 7, 'sl': 7, 'uk': 7, 'sm': 7, 'so': 7, 'mb': 7, 'vf': 6, 'mf': 6, 'hy': 6, 'ib': 6, 'sg': 6, 'θo': 6, 'sθ': 6, 'θy': 6, 'ɔl': 6, 'bu': 6, 'nt': 6, 'hj': 6, 'lh': 6, 'fe': 6, 'sp': 6, 'uv': 6, 'up': 6, 'rɐ': 6, 'œk': 5, 'ðl': 5, 'ny': 5, 'dɛ': 5, 'ɔf': 5, 'ːo': 5, 'sf': 5, 'mt': 5, 'ðv': 5, 'ɣv': 5, 'ːp': 5, 'aɔ': 5, 'ds': 4, 'θj': 4, 'kl': 4, 'ɣl': 4, 'ðɔ': 4, 'tɔ': 4, 'mn': 4, 'ss': 4, 'lɣ': 4, 'mj': 4, 'no': 4, 'vm': 4, 'lo': 4, 'nb': 4, 'œg': 4, 'tb': 4, 'bl': 4, 'ip': 4, 'ng': 4, 'kj': 4, 'rd': 4, 'ɔs': 4, 'kd': 4, 'yj': 4, 'uθ': 4, 'ðb': 4, 'ui': 4, 'ɔð': 3, 'œn': 3, 'tɒ': 3, 'vœ': 3, 'vɔ': 3, 'mo': 3, 'kt': 3, 'vd': 3, 'lg': 3, 'nj': 3, 'jɛ': 3, 'fɔ': 3, 'ai': 3, 'lɐ': 3, 'tt': 3, 'vj': 3, 'gœ': 3, 'ɛf': 3, 'θɔ': 3, 'pt': 3, 'nf': 3, 'mœ': 3, 'tk': 3, 'dh': 3, 'vb': 3, 'kb': 3, 'ðf': 3, 'hi': 3, 'bɔ': 3, 'lθ': 3, 'kœ': 3, 'œp': 3, 'pu': 3, 'uo': 3, 'ml': 3, 'ad': 2, 'fu': 2, 'ɣd': 2, 'ho': 2, 'ðk': 2, 'vl': 2, 'pn': 2, 're': 2, 'rp': 2, 'kɒ': 2, 'iu': 2, 'dv': 2, 'gn': 2, 'dɔ': 2, 'vɒ': 2, 'œs': 2, 'ðɣ': 2, 'dɒ': 2, 'ps': 2, 'id': 2, 'md': 2, 'gi': 2, 'yɛ': 2, 'sɒ': 2, 'mɐ': 2, 'yt': 2, 'ɔɣ': 2, 'ln': 2, 'by': 2, 'nn': 2, 'my': 2, 'ːœ': 2, 'vk': 2, 'sœ': 2, 'sd': 2, 'dy': 2, 'ðo': 2, 'ðt': 2, 'iɔ': 2, 'ko': 2, 'uf': 2, 'fœ': 2, 'ðœ': 2, 'uɔ': 1, 'sɣ': 1, 'nɒ': 1, 'aœ': 1, 'dj': 1, 'uɐ': 1, 'vɣ': 1, 'ɣɔ': 1, 'ty': 1, 'uy': 1, 'ɣo': 1, 'œm': 1, 'kk': 1, 'fh': 1, 'ub': 1, 'yi': 1, 'ɣm': 1, 'dg': 1, 'nœ': 1, 'pr': 1, 'ːy': 1, 'lf': 1, 'ðy': 1, 'bɒ': 1, 'ɔɛ': 1, 'sr': 1, 'hɒ': 1, 'tɣ': 1, 'dœ': 1, 'ːɒ': 1, 'dɐ': 1, 'mɒ': 1, 'py': 1, 'nk': 1, 'pj': 1, 'ud': 1, 'dt': 1, 'θv': 1, 'au': 1, 'fo': 1, 'iœ': 1, 'ij': 1, 'yd': 1, 'bj': 1, 'ao': 1, 'nð': 1, 'ɣb': 1, 'fs': 1, 'dn': 1, 'aj': 1, 'kɐ': 1, 'yp': 1, 'le': 1, 'hɐ': 1, 'θɐ': 1, 'ɣœ': 1, 'gɐ': 1, 'ɣθ': 1, 'bː': 1, 'dɣ': 1})\n"
     ]
    }
   ],
   "source": [
    "unigram_sounds = []\n",
    "bigram_sounds = []\n",
    "for paragraph in paragraphs:\n",
    "    for verse in paragraph:\n",
    "        if verse != \"\" and not verse.isdigit() :\n",
    "            ipa_verse = tr.text_to_phonetic_representation(verse)\n",
    "            ipa_verse = re.sub(r\"[ \\[\\]]\", \"\", ipa_verse)\n",
    "            unigram_sounds.append(ipa_verse)\n",
    "            bigram_sounds.extend([ipa_verse[i:i+2] for i in range(1, len(ipa_verse)-1) if \" \" not in ipa_verse[i:i+2]])\n",
    "        \n",
    "print(Counter(\"\".join(unigram_sounds)))\n",
    "print(Counter(bigram_sounds))"
   ]
  },
  {
   "cell_type": "markdown",
   "metadata": {},
   "source": [
    "A better way to find aliterration is not to look for exact alitterations but for approximates ones. We can look at common consonant features like \"bilabial stops or \"labio-dental frictative\"."
   ]
  },
  {
   "cell_type": "markdown",
   "metadata": {},
   "source": [
    "### Show vocabulary\n",
    "\n",
    "Vocabulary of an eddic poem is "
   ]
  },
  {
   "cell_type": "code",
   "execution_count": 8,
   "metadata": {},
   "outputs": [
    {
     "name": "stdout",
     "output_type": "stream",
     "text": [
      "er C\n",
      "þú PRO-N\n",
      "at C\n",
      "ok N-N\n",
      "ef P\n",
      "en CONJ\n",
      "ek PRO-N\n",
      "þér PRO-D\n",
      "1 Unk\n",
      "á P\n",
      "maðr N-N\n",
      "hann PRO-N\n",
      "of P\n",
      "skal MDPI\n",
      "við P\n"
     ]
    }
   ],
   "source": [
    "tagger = POSTag('old_norse')\n",
    "\n",
    "frq = Frequency()\n",
    "\n",
    "text = \" \".join([verse for paragraph in paragraphs for verse in paragraph])\n",
    "times = frq.counter_from_str(text)\n",
    "common_words = times.most_common(15)\n",
    "for word in common_words:\n",
    "    print(word[0], tagger.tag_tnt(word[0])[0][1])"
   ]
  },
  {
   "cell_type": "markdown",
   "metadata": {},
   "source": [
    "Even in a laguage which is higly flexionnal, there are a lot of small words, which we may call *stop words* that we find everywhere."
   ]
  },
  {
   "cell_type": "markdown",
   "metadata": {},
   "source": [
    "### Show syntax\n",
    "\n",
    "The syntax of a poem is more concise than the one of a saga. Eddic poems obey strict rules like the one which require 4 syllables in a verse. Yet, it is not really respected. Are there any obstacls to write more or less than 4 syllables? In which situations do the irregulaties occur? "
   ]
  },
  {
   "cell_type": "code",
   "execution_count": 9,
   "metadata": {},
   "outputs": [
    {
     "name": "stdout",
     "output_type": "stream",
     "text": [
      "Gáttir|Unk allar|Q-A\n",
      "áðr|Unk gangi|VBPS fram|RP\n",
      "um|P skoðask|Unk skyli|MDPS\n",
      "um|P skyggnast|Unk skyli|MDPS\n",
      "því|PRO-D at|C óvíst|ADJ-N er|C at|C vita|VB\n"
     ]
    }
   ],
   "source": [
    "tagger = POSTag('old_norse')\n",
    "\n",
    "\n",
    "text = [verse for paragraph in paragraphs for verse in paragraph]\n",
    "\n",
    "for sentence in text[:5]:\n",
    "    words = sentence.split(\" \")\n",
    "    tagged_words = [tagger.tag_tnt(word) for word in words]\n",
    "    print(\" \".join([word+\"|\"+tag[0][1] for word, tag in zip(words, tagged_words)]))"
   ]
  },
  {
   "cell_type": "markdown",
   "metadata": {},
   "source": [
    "### Verse structure\n",
    "\n",
    "Eddic poems have 2 main known structures named *fornyrðislag* and *ljóðaháttr*, see https://en.wikipedia.org/wiki/Alliterative_verse#Old_Norse_poetic_forms for more details."
   ]
  },
  {
   "cell_type": "code",
   "execution_count": 10,
   "metadata": {},
   "outputs": [
    {
     "name": "stdout",
     "output_type": "stream",
     "text": [
      "First stanza:\n",
      "\n",
      "Gáttir allar,\n",
      "áðr gangi fram,\n",
      "um skoðask skyli,\n",
      "um skyggnast skyli,\n",
      "því at óvíst er at vita,\n",
      "hvar óvinir\n",
      "sitja á fleti fyrir.\n",
      "\n",
      "This is not a fornyrðislag.\n",
      "\n",
      "\"Long lines\"\n",
      "[['Gáttir allar,', 'áðr gangi fram,'], ['um skoðask skyli,', 'um skyggnast skyli,'], ['því at óvíst er at vita,', 'hvar óvinir']]\n",
      "\n",
      "\n",
      "Syllabified text: \n",
      "[[[['gát', 'tir'], ['al', 'lar']], [['áðr'], ['gang', 'i'], ['fram']]], [[['um'], ['sko', 'ðask'], ['skyl', 'i']], [['um'], ['skyg', 'gnast'], ['skyl', 'i']]], [[['því'], ['at'], ['ó', 'víst'], ['er'], ['at'], ['vit', 'a']], [['hvar'], ['ó', 'vi', 'nir']]]]\n",
      "\n",
      "\n",
      "Phonetic transcription:\n",
      "[[['[gaːtːir]', '[alːar]'], ['[aːðr]', '[ganɣi]', '[fram]']], [['[um]', '[skɔðask]', '[skyli]'], ['[um]', '[skygːnast]', '[skyli]']], [['[θviː]', '[at]', '[oːviːst]', '[ɛr]', '[at]', '[vita]'], ['[hvar]', '[oːvinir]']]]\n",
      "\n",
      "Alliterations: \n",
      " ([[('gáttir', 'gangi')], [('skoðask', 'skyggnast'), ('skoðask', 'skyli'), ('skyli', 'skyggnast'), ('skyli', 'skyli')], [('óvíst', 'óvinir')]], [1, 4, 1])\n"
     ]
    }
   ],
   "source": [
    "#module_path = os.path.join(os.environ[\"HOME\"], \"cltk_data/old_norse/text/old_norse_texts_heimskringla/\")\n",
    "loader = text_manager.TextLoader(os.path.join(heim_reader.CORPUS_PATH, \"Sæmundar-Edda\", \"Hávamál\"), \"txt\")\n",
    "text = loader.load()\n",
    "indices = [(m.start(0), m.end(0)) for m in re.finditer(r\"[0-9]{1,2}\\.\", text)]  #re.findall(r\"[0-9]{1,2}\\.\", text)\n",
    "voluspa_paragraphs = [text[indices[i][1]:indices[i+1][0]].strip() for i in range(len(indices)-1)]\n",
    "\n",
    "print(\"First stanza:\\n\")\n",
    "#stanzas = [\" \".join([paragraph for paragraph in syllabified_voluspa])]\n",
    "first_stanza = voluspa_paragraphs[0]\n",
    "print(first_stanza)\n",
    "\n",
    "print(\"\\nThis is a fornyrðislag.\" if MetreManager.is_fornyrdhislag(first_stanza) else \"\\nThis is not a fornyrðislag.\")\n",
    "\n",
    "v_first_stanza = Fornyrdhislag()\n",
    "\n",
    "v_first_stanza.from_short_lines_text(first_stanza)\n",
    "print(\"\\n\\\"Long lines\\\"\\n\"+str([[line.text for line in long_line] for long_line in v_first_stanza.long_lines])+\"\\n\")\n",
    "\n",
    "v_first_stanza.syllabify(hierarchy)\n",
    "print(\"\\nSyllabified text: \\n\"+str(v_first_stanza.syllabified_text)+\"\\n\")\n",
    "\n",
    "v_first_stanza.to_phonetics()\n",
    "print(\"\\nPhonetic transcription:\\n\"+str(v_first_stanza.transcribed_text))\n",
    "\n",
    "print(\"\\nAlliterations: \\n\", v_first_stanza.find_alliteration())"
   ]
  },
  {
   "cell_type": "code",
   "execution_count": 11,
   "metadata": {},
   "outputs": [
    {
     "name": "stdout",
     "output_type": "stream",
     "text": [
      "First stanza:\n",
      "\n",
      "Deyr fé,\n",
      "deyja frændr,\n",
      "deyr sjalfr it sama,\n",
      "ek veit einn,\n",
      "at aldrei deyr:\n",
      "dómr um dauðan hvern.\n",
      "\n",
      "This is a ljóðaháttr.\n",
      "\n",
      "\"Long lines\"\n",
      "[['Deyr fé,', 'deyja frændr,'], ['deyr sjalfr it sama,'], ['ek veit einn,', 'at aldrei deyr:'], ['dómr um dauðan hvern.']]\n",
      "\n",
      "\n",
      "Syllabified text: \n",
      "[[[['deyr'], ['fé']], [['deyj', 'a'], ['frændr']]], [[['deyr'], ['sjalfr'], ['it'], ['sam', 'a']]], [[['ek'], ['veit'], ['einn']], [['at'], ['al', 'drei'], ['deyr']]], [[['dómr'], ['um'], ['dau', 'ðan'], ['hvern']]]]\n",
      "\n",
      "\n",
      "Phonetic transcription:\n",
      "[[['[dɐyr]', '[feː]'], ['[dɐyja]', '[frɛːndr]']], [['[dɐyr]', '[sjalvr]', '[it]', '[sama]']], [['[ɛk]', '[vɛit]', '[ɛinː]'], ['[at]', '[aldrɛi]', '[dɐyr]']], [['[doːmr]', '[um]', '[dɒuðan]', '[hvɛrn]']]]\n",
      "\n",
      "Alliterations: \n",
      " ([[('deyr', 'deyja'), ('fé', 'frændr')], [('sjalfr', 'sjalfr')], [('einn', 'aldrei')], [('dómr', 'um')]], [2, 1, 1, 1])\n"
     ]
    }
   ],
   "source": [
    "#module_path = os.path.join(os.environ[\"HOME\"], \"cltk_data/old_norse/text/old_norse_texts_heimskringla/\")\n",
    "loader = text_manager.TextLoader(os.path.join(heim_reader.CORPUS_PATH, \"Sæmundar-Edda\", \"Hávamál\"), \"txt\")\n",
    "text_havamal = loader.load()\n",
    "indices = [(m.start(0), m.end(0)) for m in re.finditer(r\"[0-9]{1,2}\\.\", text_havamal)]  #re.findall(r\"[0-9]{1,2}\\.\", text)\n",
    "paragraphs = [text_havamal[indices[i][1]:indices[i+1][0]].strip() for i in range(len(indices)-1)]\n",
    "\n",
    "print(\"First stanza:\\n\")\n",
    "#stanzas = [\" \".join([paragraph for paragraph in syllabified_voluspa])]\n",
    "first_stanza = paragraphs[76]\n",
    "print(first_stanza)\n",
    "\n",
    "print(\"\\nThis is a ljóðaháttr.\" if MetreManager.is_ljoodhhaattr(first_stanza) else \"\\nThis is not a ljóðaháttr.\")\n",
    "\n",
    "v_first_stanza = Ljoodhhaattr()\n",
    "\n",
    "v_first_stanza.from_short_lines_text(first_stanza)\n",
    "print(\"\\n\\\"Long lines\\\"\\n\"+str([[line.text for line in long_line] for long_line in v_first_stanza.long_lines])+\"\\n\")\n",
    "\n",
    "v_first_stanza.syllabify(hierarchy)\n",
    "print(\"\\nSyllabified text: \\n\"+str(v_first_stanza.syllabified_text)+\"\\n\")\n",
    "\n",
    "v_first_stanza.to_phonetics()\n",
    "print(\"\\nPhonetic transcription:\\n\"+str(v_first_stanza.transcribed_text))\n",
    "\n",
    "print(\"\\nAlliterations: \\n\", v_first_stanza.find_alliteration())"
   ]
  },
  {
   "cell_type": "code",
   "execution_count": 13,
   "metadata": {},
   "outputs": [],
   "source": [
    "# voluspa = MetreManager.load_poem_from_paragraphs(voluspa_paragraphs)\n",
    "\n",
    "# # for paragraph in voluspa_paragraphs:\n",
    "# #    if MetreManager.is_fornyrdhislag(paragraph):\n",
    "# #        fnl = Fornyrdhislag()\n",
    "# #        fnl.from_short_lines_text(paragraph)\n",
    "# #        voluspa.append(fnl)\n",
    "# #    elif MetreManager.is_ljoodhhaattr(paragraph):\n",
    "# #        lh = Ljoodhhaattr()\n",
    "# #        lh.from_short_lines_text(paragraph)\n",
    "# #        voluspa.append(lh)\n",
    "        \n",
    "# number_stanzas = len(voluspa)\n",
    "# print(\"Number of stanzas:\", number_stanzas)\n",
    "# #number_long_lines = sum([len(meter.long_lines) for meter in voluspa])\n",
    "# #print(\"Number of long lines:\", number_long_lines)\n",
    "# number_short_lines = sum([len(meter.short_lines) for meter in voluspa])\n",
    "# print(\"Number of short lines:\", number_short_lines)\n",
    "# number_words = sum([len(short_line.tokenized_text) for meter in voluspa for short_line in meter.short_lines])\n",
    "# print(\"Number of words:\", number_words)\n",
    "# word_number_per_stanza = [sum([len(short_line.tokenized_text) for short_line in meter.short_lines]) for meter in voluspa ]\n",
    "# plt.plot(word_number_per_stanza)"
   ]
  },
  {
   "cell_type": "markdown",
   "metadata": {},
   "source": [
    "Sources :\n",
    "* [Heimskringla](heimskringla.no)"
   ]
  },
  {
   "cell_type": "markdown",
   "metadata": {},
   "source": [
    "#### TODO\n",
    "* Give distributions of syllables per short lines, long lines and stanzas.\n",
    "* Give distributions of alliterations \n",
    "* Number of short lines\n",
    "* Number of long lines\n",
    "* Number of stanzas\n",
    "* Give distribution of unigrams, bigrams\n",
    "* Give the part of speech of a word\n",
    "* Apply the same thing to an other eddic poem."
   ]
  },
  {
   "cell_type": "markdown",
   "metadata": {
    "collapsed": true
   },
   "source": [
    "\n",
    "By Clément Besnier, email address: clemsciences@aol.com, web site: https://clementbesnier.pythonanywhere.com/, twitter: clemsciences"
   ]
  }
 ],
 "metadata": {
  "kernelspec": {
   "display_name": "Python 3",
   "language": "python",
   "name": "python3"
  },
  "language_info": {
   "codemirror_mode": {
    "name": "ipython",
    "version": 3
   },
   "file_extension": ".py",
   "mimetype": "text/x-python",
   "name": "python",
   "nbconvert_exporter": "python",
   "pygments_lexer": "ipython3",
   "version": "3.7.4"
  }
 },
 "nbformat": 4,
 "nbformat_minor": 1
}
