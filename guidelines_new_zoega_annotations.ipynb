{
 "cells": [
  {
   "cell_type": "markdown",
   "metadata": {},
   "source": [
    "# Re-annotation of the Zoëga's dictionary"
   ]
  },
  {
   "cell_type": "code",
   "execution_count": null,
   "metadata": {
    "collapsed": true
   },
   "outputs": [],
   "source": []
  },
  {
   "cell_type": "markdown",
   "metadata": {},
   "source": [
    "### Configuration\n",
    "\n",
    "Install the modules.\n",
    "```bash\n",
    "$ pip3 install -r requirements.txt\n",
    "```"
   ]
  },
  {
   "cell_type": "markdown",
   "metadata": {},
   "source": [
    "Install the **kernel** associated with **python3.6** [https://ipython.readthedocs.io/en/stable/install/kernel_install.html](https://ipython.readthedocs.io/en/stable/install/kernel_install.html) "
   ]
  },
  {
   "cell_type": "code",
   "execution_count": 1,
   "metadata": {
    "collapsed": false
   },
   "outputs": [
    {
     "name": "stdout",
     "output_type": "stream",
     "text": [
      "Help on package zoegas:\n",
      "\n",
      "NAME\n",
      "    zoegas\n",
      "\n",
      "PACKAGE CONTENTS\n",
      "    constants\n",
      "    reader\n",
      "    tests\n",
      "    utils\n",
      "\n",
      "FILE\n",
      "    /home/clementbesnier/.virtualenvs/old_norse_notebook/src/zoegas/zoegas/__init__.py\n",
      "\n",
      "\n"
     ]
    }
   ],
   "source": [
    "import zoegas\n",
    "help(zoegas)"
   ]
  },
  {
   "cell_type": "code",
   "execution_count": 2,
   "metadata": {
    "collapsed": true
   },
   "outputs": [],
   "source": [
    "from zoegas import reader\n",
    "from zoegas.constants import abbreviations, pos_verbose, postags"
   ]
  },
  {
   "cell_type": "code",
   "execution_count": 3,
   "metadata": {
    "collapsed": true
   },
   "outputs": [],
   "source": [
    "dictionary = reader.Dictionary(reader.dictionary_name)\n",
    "dictionary.get_entries()"
   ]
  },
  {
   "cell_type": "code",
   "execution_count": 4,
   "metadata": {
    "collapsed": false
   },
   "outputs": [
    {
     "data": {
      "text/plain": [
       "defaultdict(str,\n",
       "            {'a.': 'lkensf',\n",
       "             'acc.': 'o',\n",
       "             'adv.': 'a',\n",
       "             'card. numb.': 'ta',\n",
       "             'compar.': 'm',\n",
       "             'conj.': 'c',\n",
       "             'dat.': 'þ',\n",
       "             'def. art.': 'gken',\n",
       "             'dem. pron.': 'demonstrative pronoun',\n",
       "             'f.': 'nven',\n",
       "             'for.': 'e',\n",
       "             'fem.': 'v',\n",
       "             'gen.': 'e',\n",
       "             'imperat.': 'sb',\n",
       "             'impers.': 'impersonal',\n",
       "             'indecl.': 'indeclinable',\n",
       "             'indef. pron.': 'fo',\n",
       "             'infin.': 'sn',\n",
       "             'int. pron.': 'fs',\n",
       "             'interj.': 'interjection',\n",
       "             'm.': 'nken',\n",
       "             'masc.': 'k',\n",
       "             'n.': 'nhen',\n",
       "             'neut.': 'h',\n",
       "             'nom.': 'n',\n",
       "             'ord. numb.': 'to',\n",
       "             'pers. pron.': 'fp',\n",
       "             'pl.': 'f',\n",
       "             'poss. pron.': 'fe',\n",
       "             'pp.': 'sþ',\n",
       "             'pr. p.': 'se',\n",
       "             'prep.': 'a[oþe}',\n",
       "             'pron.': 'f',\n",
       "             'refl.': 'reflexive',\n",
       "             'refl. pron.': 'fb',\n",
       "             'rel. pron.': 'ft',\n",
       "             'sing.': 'e',\n",
       "             'superl.': 'e',\n",
       "             'v.': 's',\n",
       "             'v. refl.': 's[nbfvse]m',\n",
       "             'e-n': '',\n",
       "             'compds.': '',\n",
       "             'e-m': '',\n",
       "             'absol.': '',\n",
       "             'e-u': '',\n",
       "             'e-t': '',\n",
       "             'e-s': '',\n",
       "             'cf.': '',\n",
       "             'e-a': '',\n",
       "             'esp.': '',\n",
       "             'poet.': '',\n",
       "             'viz.': '',\n",
       "             'Cf.': '',\n",
       "             'e-ð': '',\n",
       "             'freq.': '',\n",
       "             'e-rar': '',\n",
       "             'compds': '',\n",
       "             'recipr.': '',\n",
       "             'i. e.': '',\n",
       "             'e-rri': '',\n",
       "             'e-t fram': '',\n",
       "             'e-rra': '',\n",
       "             'harmsfullr': '',\n",
       "             'adj.': '',\n",
       "             'snemma': '',\n",
       "             'plur.': ''})"
      ]
     },
     "execution_count": 4,
     "metadata": {},
     "output_type": "execute_result"
    }
   ],
   "source": [
    "postags"
   ]
  },
  {
   "cell_type": "code",
   "execution_count": 5,
   "metadata": {
    "collapsed": false
   },
   "outputs": [
    {
     "name": "stdout",
     "output_type": "stream",
     "text": [
      "['masculine noun']\n",
      "heimr\n",
      "\n",
      "\n",
      "(-s, -ar), m.\n",
      "\n",
      "1) a place of abode, a region or world (níu man ek heima); spyrja e-n í hvern heim, to ask one freely;\n",
      "\n",
      "2) this world (segðu mér ór heimi, ek man ór helju); koma í heiminn, to be born; fara af heiminum, to depart this life; liggja milli heims ok heljar, to lie between life and death;\n",
      "\n",
      "3) the earth; kringla heimsins, the globe.\n",
      "\n",
      "\n",
      "['a place of abode, a region or world', 'to ask one freely', 'this world', 'to be born', 'to depart this life', 'to lie between life and death', 'the earth', 'the globe']\n",
      "[]\n",
      "<entry word=\"heimr\">\n",
      "\n",
      "\t<m1>(-s, -ar), <p>m.</p></m1>\n",
      "\n",
      "\t<m2>1) <i><trn>a place of abode, a region or world</trn></i> (n&#237;u man ek heima); spyrja <p>e-n</p> &#237; hvern heim, <i><trn>to ask one freely</trn></i>;</m2>\n",
      "\n",
      "\t<m2>2) <i><trn>this world</trn></i> (seg&#240;u m&#233;r &#243;r heimi, ek man &#243;r helju); koma &#237; heiminn, <i><trn>to be born</trn></i>; fara af heiminum, <i><trn>to depart this life</trn></i>; liggja milli heims ok heljar, <i><trn>to lie between life and death</trn></i>;</m2>\n",
      "\n",
      "\t<m2>3) <i><trn>the earth</trn></i>; kringla heimsins, <i><trn>the globe</trn></i>.</m2>\n",
      "\n",
      "</entry>\n",
      "\n",
      "\n"
     ]
    }
   ],
   "source": [
    "word = dictionary.find(\"heimr\")\n",
    "print(word.pos)\n",
    "print(word.word)\n",
    "print(word.description)\n",
    "print(word.translations)\n",
    "print(word.references)\n",
    "print(word.raw.decode(\"utf-8\"))"
   ]
  },
  {
   "cell_type": "code",
   "execution_count": 6,
   "metadata": {
    "collapsed": false
   },
   "outputs": [],
   "source": [
    "from lxml import etree\n",
    "parser = etree.XMLParser(load_dtd=True, no_network=False)\n",
    "# help(parser)"
   ]
  },
  {
   "cell_type": "code",
   "execution_count": 7,
   "metadata": {
    "collapsed": false
   },
   "outputs": [],
   "source": [
    "from zoegas.constants import postags, pos_verbose"
   ]
  },
  {
   "cell_type": "code",
   "execution_count": 8,
   "metadata": {
    "collapsed": false
   },
   "outputs": [],
   "source": [
    "pos_verbose_inverted = {pos_verbose[key]: key for key in pos_verbose}"
   ]
  },
  {
   "cell_type": "code",
   "execution_count": 9,
   "metadata": {
    "collapsed": true
   },
   "outputs": [],
   "source": [
    "import re\n",
    "# def extract_parts(text):\n",
    "    \n",
    "def extract_category(text):\n",
    "    p = re.compile(r\"\\(.+?\\), (?P<category>\\w+)\\.\")\n",
    "    m = p.search(text)\n",
    "    if m:\n",
    "        return m.group(\"category\")\n",
    "    else:\n",
    "        return text\n",
    "\n",
    "def extract_subentries(text):\n",
    "    subentries = [subentry for subentry in re.split(r'[IVX]+\\)', text) if subentry.strip()]\n",
    "    return subentries\n",
    "\n",
    "def extract_group_in_parentheses(text):\n",
    "    p = re.compile(r'\\((?P<first>.+?)\\)')\n",
    "    m = p.search(text)\n",
    "    if m is not None:\n",
    "#         print(m.group(\"first\"))\n",
    "        return m.group(\"first\")\n",
    "    else:\n",
    "        return text\n",
    "\n",
    "def strip_ending(text: str, word_category: str) -> str:\n",
    "    if word_category in [\"m\", \"f\", \"n\"]:\n",
    "        if text.endswith(text, \"i\"):\n",
    "            return text[:-1]\n",
    "        elif text.endswith():\n",
    "            return text\n",
    "    elif word_category in [\"v. refl.\"]:\n",
    "        if text.endswith(text, \"st\"):\n",
    "            return text[:-2]\n",
    "    return text\n",
    "\n",
    "def extract_weak_verb_forms(text):\n",
    "    p = re.compile(r'\\((?P<sfg3en>\\w+), (?P<sfg3et>\\w+), (?P<stken>\\w+)\\)')\n",
    "    m = p.search(description)\n",
    "#     print(m.group(\"sfg3en\"))\n",
    "#     print(m.group(\"sfg3et\"))\n",
    "#     print(m.group(\"stken\"))\n",
    "    return {\"sfg3en\": m.group(\"sfg3en\").strip(), \"sgg3et\": m.group(\"sfg3et\").strip(), \"stken\": m.group(\"stken\").strip()}\n",
    "\n",
    "\n",
    "\n",
    "def extract_sub_element(text):\n",
    "#     element_extractor_ending = re.compile(r'(?P<subcategory>\\w+)\\. -(?P<ending>\\w+)')\n",
    "    element_extractor = re.compile(r'(?P<subcategory>\\w+)\\. (?P<form>[\\w\\- ]+)')\n",
    "    m = element_extractor.search(text)\n",
    "    if m is not None:\n",
    "        l = (m.group(\"subcategory\"), analyse_given_form(m.group(\"form\")))\n",
    "#         print(m.group(\"subcategory\"))\n",
    "#         print(m.group(\"form\"))\n",
    "    else:\n",
    "#         print(\"text : \"+text)\n",
    "        form_extractor = re.compile(r'(?P<form>[\\w\\- ]+)')\n",
    "        m = form_extractor.search(text)\n",
    "        l = [m.group(\"form\")]\n",
    "    return l\n",
    "        \n",
    "        \n",
    "def extract_list_from_parentheses(text):\n",
    "    l = []\n",
    "    singular_plural = text.split(\";\")\n",
    "    if len(singular_plural) > 1:\n",
    "        for i in singular_plural:\n",
    "            for element in i.split(\",\"):\n",
    "                l.append(extract_sub_element(element))\n",
    "    else:\n",
    "        \n",
    "        forms = text.replace(\",\", \"\").split(\" \")\n",
    "#         print(\"forms:\", forms)\n",
    "        if \"later\" in forms:\n",
    "            before, after = text.split(\"later\")\n",
    "            l_before = []\n",
    "            l_after = []\n",
    "            for element in before.split(\",\"):\n",
    "                if element.strip():\n",
    "                    l_before.append(extract_sub_element(element))\n",
    "            for element in after.split(\",\"):\n",
    "                if element.strip():\n",
    "                    l_after.append(extract_sub_element(element))\n",
    "            l = {\"before\": l_before, \"after\": l_after}\n",
    "        else:\n",
    "#             print(text)\n",
    "            for element in text.split(\",\"):\n",
    "                if element.strip():\n",
    "                    l.append(extract_sub_element(element))\n",
    "    return l\n",
    "\n",
    "\n",
    "def analyse_given_form(text):\n",
    "    l = []\n",
    "    text = text.replace(\",\", \"\")\n",
    "    words = text.split(\" \")\n",
    "    \n",
    "#     print(text)\n",
    "    if \"and\" in words:\n",
    "        for i in text.split(\"and\"):\n",
    "            print(i)\n",
    "            l.append({\"complete\": i.strip()})\n",
    "    elif \"later,\" in words:\n",
    "        before_after = text.split(\"later\")\n",
    "        before = before_after[0]\n",
    "        nee, nfn = before.split(\" \")\n",
    "        nee2, nfn2 = before_after[1].split(\" \")\n",
    "        l.append({})\n",
    "        \n",
    "    elif text[0] == \"-\":\n",
    "        l.append({\"ending\": text[0:]})\n",
    "    else:\n",
    "        l.append({\"complete\": text})\n",
    "    return l\n",
    "\n",
    "def display_entry_processing(entry):\n",
    "    if entry is not None:\n",
    "        description = entry.description.strip()\n",
    "        print(\"-------------------------------------------------\")\n",
    "        print(description)\n",
    "        print(\"-------------------------------------------------\")\n",
    "        first_group = extract_group_in_parentheses(description)\n",
    "        if first_group == description:\n",
    "            subentries = extract_subentries(description)\n",
    "            l = []\n",
    "            for subentry in subentries:\n",
    "                l.append(subentry.split(\";\")[0])\n",
    "                print()\n",
    "            print(l)\n",
    "        else:\n",
    "            l = extract_list_from_parentheses(first_group)\n",
    "            print(l)\n",
    "    else:\n",
    "        print(word.capitalize() + \" is not in the dictionary\")"
   ]
  },
  {
   "cell_type": "code",
   "execution_count": 10,
   "metadata": {
    "collapsed": false
   },
   "outputs": [
    {
     "data": {
      "text/plain": [
       "['umbreytta', 'umbreyttr']"
      ]
     },
     "execution_count": 10,
     "metadata": {},
     "output_type": "execute_result"
    }
   ],
   "source": [
    "def apply_suffix(suffixes, word, pos):\n",
    "    l = []\n",
    "    for suffix in suffixes.split(\",\"):\n",
    "        ssuffix = suffix.strip()\n",
    "        if \"-\" == ssuffix[0]:\n",
    "            if pos == \"s\":\n",
    "                if word[-2] == ssuffix[1]:\n",
    "                    l.append(word[:-1]+ssuffix[2:])\n",
    "                else:\n",
    "                    l.append(word[:-1]+ssuffix[1:])\n",
    "            else:\n",
    "                if word[-1] == ssuffix[1]:\n",
    "                    l.append(word+ssuffix[2:])\n",
    "                else:\n",
    "                    l.append(word+ssuffix[1:])\n",
    "    return l\n",
    "\n",
    "apply_suffix(\"-tta, -ttr\", \"umbreyta\", \"s\")\n",
    "        "
   ]
  },
  {
   "cell_type": "code",
   "execution_count": 11,
   "metadata": {
    "collapsed": false
   },
   "outputs": [
    {
     "data": {
      "text/plain": [
       "'abc'"
      ]
     },
     "execution_count": 11,
     "metadata": {},
     "output_type": "execute_result"
    }
   ],
   "source": [
    "a = \"abcd\"\n",
    "a[:-1]"
   ]
  },
  {
   "cell_type": "code",
   "execution_count": 12,
   "metadata": {
    "collapsed": false
   },
   "outputs": [],
   "source": [
    "def from_dictionary_view_to_good_annotation(parser, entry: reader.Entry):\n",
    "    xml_view = entry.raw.decode(\"utf-8\")\n",
    "    tree = etree.fromstring(xml_view)\n",
    "    print(tree)\n",
    "    print(tree.get(\"word\"))\n",
    "    if len(entry.pos) == 1:\n",
    "        tree.set(\"pos\", postags[pos_verbose_inverted[entry.pos[0]]])\n",
    "        print(tree.get(\"pos\"))\n",
    "    \n",
    "    new_element = etree.SubElement(tree, \"form\")\n",
    "    new_element.set(\"pos\", \"nkee\")\n",
    "    new_element.text = \"heims\"\n",
    "    new_element = etree.SubElement(tree, \"form\")\n",
    "    new_element.set(\"pos\", \"nkfn\")\n",
    "    new_element.text = \"heimar\"\n",
    "    \n",
    "    print(etree.tostring(tree, pretty_print=True).decode(\"utf-8\"))\n",
    "    \n",
    "    "
   ]
  },
  {
   "cell_type": "code",
   "execution_count": 13,
   "metadata": {
    "collapsed": false
   },
   "outputs": [
    {
     "name": "stdout",
     "output_type": "stream",
     "text": [
      "<Element entry at 0x7fa3161debc8>\n",
      "heimr\n",
      "nken\n",
      "<entry word=\"heimr\" pos=\"nken\">\n",
      "\n",
      "\t<m1>(-s, -ar), <p>m.</p></m1>\n",
      "\n",
      "\t<m2>1) <i><trn>a place of abode, a region or world</trn></i> (n&#237;u man ek heima); spyrja <p>e-n</p> &#237; hvern heim, <i><trn>to ask one freely</trn></i>;</m2>\n",
      "\n",
      "\t<m2>2) <i><trn>this world</trn></i> (seg&#240;u m&#233;r &#243;r heimi, ek man &#243;r helju); koma &#237; heiminn, <i><trn>to be born</trn></i>; fara af heiminum, <i><trn>to depart this life</trn></i>; liggja milli heims ok heljar, <i><trn>to lie between life and death</trn></i>;</m2>\n",
      "\n",
      "\t<m2>3) <i><trn>the earth</trn></i>; kringla heimsins, <i><trn>the globe</trn></i>.</m2>\n",
      "\n",
      "<form pos=\"nkee\">heims</form><form pos=\"nkfn\">heimar</form></entry>\n",
      "\n",
      "=============================================\n",
      "m\n",
      "['\\n\\n(-s, -ar), m.\\n\\n1) a place of abode, a region or world (níu man ek heima); spyrja e-n í hvern heim, to ask one freely;\\n\\n2) this world (segðu mér ór heimi, ek man ór helju); koma í heiminn, to be born; fara af heiminum, to depart this life; liggja milli heims ok heljar, to lie between life and death;\\n\\n3) the earth; kringla heimsins, the globe.\\n\\n']\n"
     ]
    }
   ],
   "source": [
    "from_dictionary_view_to_good_annotation(parser, word)\n",
    "print(\"=============================================\")\n",
    "print(extract_category(word.description))\n",
    "print(extract_subentries(word.description))"
   ]
  },
  {
   "cell_type": "code",
   "execution_count": 14,
   "metadata": {
    "collapsed": false
   },
   "outputs": [
    {
     "name": "stdout",
     "output_type": "stream",
     "text": [
      "-------------------------------------------------\n",
      "(-s, -ar), m.\n",
      "\n",
      "1) a place of abode, a region or world (níu man ek heima); spyrja e-n í hvern heim, to ask one freely;\n",
      "\n",
      "2) this world (segðu mér ór heimi, ek man ór helju); koma í heiminn, to be born; fara af heiminum, to depart this life; liggja milli heims ok heljar, to lie between life and death;\n",
      "\n",
      "3) the earth; kringla heimsins, the globe.\n",
      "-------------------------------------------------\n",
      "[['-s'], [' -ar']]\n"
     ]
    }
   ],
   "source": [
    "display_entry_processing(word)"
   ]
  },
  {
   "cell_type": "code",
   "execution_count": 15,
   "metadata": {
    "collapsed": true
   },
   "outputs": [],
   "source": [
    "def count_words_by_letter(letter):\n",
    "    return len([entry.word for entry in dictionary.find_beginning_with(letter)])"
   ]
  },
  {
   "cell_type": "code",
   "execution_count": 16,
   "metadata": {
    "collapsed": false
   },
   "outputs": [
    {
     "data": {
      "text/plain": [
       "349"
      ]
     },
     "execution_count": 16,
     "metadata": {},
     "output_type": "execute_result"
    }
   ],
   "source": [
    "count_words_by_letter(\"u\")"
   ]
  },
  {
   "cell_type": "code",
   "execution_count": 17,
   "metadata": {
    "collapsed": false
   },
   "outputs": [],
   "source": [
    "l = []\n",
    "for entry in dictionary.find_beginning_with(\"u\"):\n",
    "#     print(entry)\n",
    "#     print(repr(entry.description))\n",
    "#     print(entry.word)\n",
    "#     print(entry.raw.decode(\"utf-8\"))\n",
    "    description = entry.description.strip()\n",
    "    if description:\n",
    "        category_extracted_1 = extract_category(description)\n",
    "        if category_extracted_1 != description:\n",
    "            first_line = description.split(\"\\n\")[0]\n",
    "            l.append([postags[category_extracted_1+\".\"], entry.word, first_line, extract_group_in_parentheses(first_line), \n",
    "                      apply_suffix(extract_group_in_parentheses(first_line), entry.word, postags[category_extracted_1+\".\"])])\n",
    "            continue\n",
    "        pos = description.split(\" \")[0]\n",
    "        if pos in postags:\n",
    "            first_line = description.split(\"\\n\")[0]\n",
    "#             l.append(\"\")\n",
    "            l.append([postags[pos], entry.word, description, \n",
    "                      apply_suffix(extract_group_in_parentheses(first_line), entry.word, postags[category_extracted_1+\".\"])])"
   ]
  },
  {
   "cell_type": "code",
   "execution_count": 18,
   "metadata": {
    "collapsed": false
   },
   "outputs": [
    {
     "name": "stdout",
     "output_type": "stream",
     "text": [
      "['nven', 'umskipting', 'f. change.', []]\n",
      "['nhen', 'umkeypi', 'n. exchange, barter.', []]\n",
      "['lkensf', 'undrligr', 'a. wonderful, strange.', []]\n",
      "['lkensf', 'uppburðarlítill', 'a. shy, timid.', []]\n",
      "['nven', 'uppgreizla', 'f. payment, discharge.', []]\n",
      "['nven', 'umsniðning', 'f. circumcision.', []]\n",
      "['nven', 'umhugsan', 'f. reflection.', []]\n",
      "['nven', 'upptendran', 'f. kindling.', []]\n",
      "['nken', 'undirbiskup', 'm. suffragan bishop.', []]\n",
      "['lkensf', 'undirhyggjusamr', 'a. guileful.', []]\n",
      "['nhen', 'uxahöfuð', 'n. head of an ox.', []]\n",
      "['nken', 'umlesmaðr', 'm. slanderer.', []]\n",
      "['nken', 'upphlaupsmaðr', 'm. rioter.', []]\n",
      "['lkensf', 'undranarverðr', 'a. wonderful.', []]\n",
      "===>>>> ['s', 'ugga', '(-ða, -at), v.', '-ða, -at', ['uggða', 'uggat']]\n",
      "['lkensf', 'ugglauss', 'a. fearless, unconcerned.', []]\n",
      "['a', 'ugglaust', 'adv. no doubt, undoubtedly.', []]\n",
      "['nken', 'uggr', 'm. fear, apprehension; ~ er mér á, at = mik uggir, at.', []]\n",
      "['lkensf', 'uggsamligr', 'a. to be feared.', []]\n",
      "['lkensf', 'uggviss', 'a. doubtful, = uggligr 2.', []]\n",
      "['nven', 'ugla', 'f. owl (uglur gular al klóm ok nefi, en svartar at lit).', []]\n",
      "===>>>> ['nven', 'ull', '(dat. ullu), f. wool.', 'dat. ullu', []]\n",
      "['nken', 'ullarlagðr', 'm. tuft of wool; ullarreyfi, n. fleece (snjór sem ullarreyfi væri).', []]\n",
      "['nhen', 'ullband', 'n. woollen yarn.', []]\n",
      "['lkensf', 'ullhvítr', 'a. white as wool (~ á hár).', []]\n",
      "['nken', 'ullkambr', 'm. wool-comb.', []]\n",
      "['nhen', 'ullklæði', 'n. pl. clothes of wool.', []]\n",
      "['nken', 'ulllaupr', 'm. wool-basket.', []]\n",
      "['lkensf', 'umalauss', 'a. without (disadvantageous) report (cf. umi).', []]\n",
      "['nven', 'umannan', 'f. care about a thing (~ ok forráð staðarins).', []]\n",
      "['nhen', 'umband', 'n. bandage (~ um sár).', []]\n",
      "['s', 'umbera', 'v. to bear with (má vera at þeir umberi betr við þik).', []]\n",
      "['a[oþe}', 'umhverfum', 'prep. and adv. = umhverfis.', []]\n",
      "['nhen', 'umboð', 'n. charge, commission (fá e-m ~ sitt).', []]\n",
      "['nken', 'umboðsmaðr', 'm. commissary, steward (~ biskups, klaustrs).', []]\n",
      "['nken', 'umbótamaðr', 'm. one who mends matters (vér þurfum umbótamenn).', []]\n",
      "===>>>> ['s', 'umbreyta', '(-tta, -ttr), v. to change, alter (aldri umbreytti hann sínum orðum).', '-tta, -ttr', ['umbreytta', 'umbreyttr']]\n",
      "['nhen', 'umbrot', 'n. pl. violent struggle, convulsion.', []]\n",
      "['nken', 'umbúningr', 'm. = umbúnaðr; outfit (var henni veitir ~, sem hón þurfti at hafa).', []]\n",
      "['nhen', 'umdýri', 'n. lintel.', []]\n",
      "['nhen', 'umdœmi', 'n. adjustment.', []]\n",
      "['nven', 'umdögg', 'f. poet., ~ arins, ‘hearth’s dew’, soot.', []]\n",
      "['nhen', 'umfang', 'n. struggle, bustle.', []]\n",
      "['lkensf', 'umfangsmikill', 'a. making a great stir, boisterously active.', []]\n",
      "['nven', 'umferð', 'f. circuit, round journey.', []]\n",
      "['nken', 'umferðarpiltr', 'm. itinerant lad.', []]\n",
      "['a[oþe}', 'umfram', 'prep. with acc.\\n\\n1) above, beyond (~ aðra menn);\\n\\n2) as adv. besides (tólf menn ok lögsögumaðr ~); ríða ~, to ride by; at hvárigir gangi þar ~, trespass beyond that;\\n\\n3) ~ um or of, beyond; vera ~ of aðra menn, to excel others.', []]\n",
      "['nhen', 'umgengi', 'n. management, care.', []]\n",
      "['nven', 'umgjörð', 'f. = umgerð.', []]\n",
      "['nken', 'umgröptr', 'm. ‘digging round’, searching.', []]\n",
      "===>>>> ['s', 'umgyrða', '(-rða, -rðr), v. to encircle, surround.', '-rða, -rðr', ['umgyrðrða', 'umgyrðrðr']]\n",
      "['nhen', 'umhorf', 'n. a looking round; hversu þar var ~s, how it looked there.', []]\n",
      "['a[oþe}', 'umhverfis', 'prep. and adv.\\n\\n1) with acc. round, all around (settu þeir lið sitt ~ borgina);\\n\\n2) as adv., þar ~, allt ~, there about, all around.', []]\n",
      "['nven', 'umhyggja', 'f. care (þeir vilja svipta þik várri umhyggju ok forsjá).', []]\n",
      "['lkensf', 'umhyggjulauss', 'a. neglected; umhyggjulaust, adv. carelessly.', []]\n",
      "['nken', 'umi', 'm. unfavourable rumour.', []]\n",
      "['nhen', 'umkast', 'n. sudden change, convulsion.', []]\n",
      "['a[oþe}', 'umkringis', 'prep. with acc. = umhverfis.', []]\n",
      "===>>>> ['s', 'umkringja', '(-ða, -ðr), v. to surround.', '-ða, -ðr', ['umkringjða', 'umkringjðr']]\n",
      "['nhen', 'umkvæði', 'n. term, expression, wording.', []]\n",
      "===>>>> ['s', 'umla', '(að), v. to mutter, mumble (hann umlaði við).', 'að', []]\n",
      "['nven', 'umleitan', 'f. a seeking for, negotiation (sætta ~).', []]\n",
      "['nhen', 'umles', 'n. = ~tr.', []]\n",
      "['nken', 'umleslestr', 'm. slander.', []]\n",
      "['sþ', 'umliðinn', 'pp. past, of time.', []]\n",
      "['nven', 'umliðning', 'f. course of time.', []]\n",
      "===>>>> ['s', 'ummerkja', '(-ta, -tr), v. to bound, form the boundary of.', '-ta, -tr', ['ummerkjta', 'ummerkjtr']]\n",
      "['h', 'ummæli', 'neut. pl. utterances, words said (þér skuluð ráða yðrum ummælum).', []]\n",
      "['nven', 'ummæling', 'f. circumference.', []]\n",
      "['nhen', 'ummörk', 'n. pl. = ummæli.', []]\n",
      "['nven', 'umrás', 'f. course (~ sólar).', []]\n",
      "['nken', 'umrennendr', 'm. pl. marauders.', []]\n",
      "['nken', 'umrenningr', 'm. vagrant, marauder.', []]\n",
      "['nhen', 'umræði', 'n. = umráð.', []]\n",
      "['nven', 'umrœða', 'f. discourse, talk.', []]\n",
      "['lkensf', 'umrœðiligr', 'a. worth mentioning.', []]\n",
      "['nven', 'umsamning', 'f. agreement, reconciliation.', []]\n",
      "['nken', 'umsátarmaðr', 'm. waylayer.', []]\n",
      "['nven', 'umseta', 'f. siege (~ Jórsalaborgar).', []]\n",
      "['nhen', 'umsetr', 'n. siege (umseta Jórsalaborgar).', []]\n",
      "['nken', 'umsitjendr', 'm. pl. neighbours.', []]\n",
      "['nven', 'umsjá', 'f. oversight, care, supervision (veita e-m ~).', []]\n",
      "['lkensf', 'umsjálauss', 'a. unprovided for.', []]\n",
      "['nken', 'umsjár', 'm. the surrounding sea, the ocean.', []]\n",
      "['nven', 'umsjón', 'f. = umsjá.', []]\n",
      "['nken', 'umsjór', 'm. = umsjár.', []]\n",
      "['nhen', 'umskipti', 'n. change, turn (~ hafa nú orðit).', []]\n",
      "['lkensf', 'umskiptiligr', 'a. shifty, changeful.', []]\n",
      "['nken', 'umskurðr', 'm. circumcision.', []]\n",
      "===>>>> ['s', 'umskyggja', '(-ða, -ðr), v. to overshadow.', '-ða, -ðr', ['umskyggjða', 'umskyggjðr']]\n",
      "['nken', 'umskygnari', 'm. outlooker, scout.', []]\n",
      "['s', 'umsnúa', 'v. to overthrow.', []]\n",
      "['nken', 'umspillendr', 'm. pl. slanderers, disparagers.', []]\n",
      "['nhen', 'umstilli', 'n. guidance, management.', []]\n",
      "['nhen', 'umsvif', 'n. activity.', []]\n",
      "['nken', 'umsvifsmaðr', 'm. an active man (hann var umsvifsmaör mikill um bú sitt).', []]\n",
      "['nven', 'umsýsla', 'f. occupation, assistance, aid (hét hann sinni umsýslu við föður sinn).', []]\n",
      "['lkensf', 'umsýslumikill', 'a. active, busy (væn kona ok umsýslumikil).', []]\n",
      "['nhen', 'umtal', 'n. talk, conversation (er hann heyrði ~ manna).', []]\n",
      "['nhen', 'umtalsmál', 'n. matter of discussion.', []]\n",
      "===>>>> ['s', 'umturna', '(að), v. to turn upside down, upset.', 'að', []]\n",
      "['nven', 'umturnan', 'f. upsetting.', []]\n",
      "['nven', 'umvandan', 'f. reprimand, admonition.', []]\n",
      "===>>>> ['s', 'umvenda', '(-nda, -ndr), v. to turn about, change.', '-nda, -ndr', ['umvendnda', 'umvendndr']]\n",
      "['nven', 'umvending', 'f. conversion.', []]\n",
      "['a[oþe}', 'umvergis', 'prep. and adv. = umbergis.', []]\n",
      "===>>>> ['s', 'una', '(uni, unda, unat), v.', 'uni, unda, unat', []]\n",
      "['nhen', 'unað', 'n. delight, happiness (þetta er sællífi ok unað heilagra).', []]\n",
      "['lkensf', 'unaðsamr', 'a. delightful;\\n\\nunaðsamar vistir, a happy home.', []]\n",
      "['nven', 'unaðsbót', 'f. delight (skömm ~).', []]\n",
      "['nven', 'unaðsemd', 'f. charm, delight.', []]\n",
      "['nken', 'unaðsilmr', 'm. sweet smell.', []]\n",
      "['nven', 'unaðssýn', 'f. happy sight.', []]\n",
      "['nven', 'unaðsvist', 'f. happy home.', []]\n",
      "===>>>> ['nven', 'und', 'I)', 'I)', []]\n",
      "['sþ', 'undaðr', 'pp. wounded (geiri, sverði ~); cf. hjör~.', []]\n",
      "['a[oþe}', 'undan', 'prep. with dat. and adv.\\n\\n1) from under, from beneath;\\n\\nhann hjó ~ honum fótinn, he cut his leg off;\\n\\nhann spratt upp ~ borðinu, he sprang up from (sitting at) the table;\\n\\nhann spratt upp ~ garðinum, from under the fence;\\n\\nhalda skipum ~ landi, to stand aivayfrom the shore;\\n\\n2) without motion;\\n\\nskerit var út ~ firðinum, the skerry was just off the mouth of the fjord;\\n\\nG. prestr ~ Felli, from Fell;\\n\\n3) from, away;\\n\\nsnúa ~ e-m, to turn away from;\\n\\nheimta fé mitt ~ Hrúti, to claim my property out of Hrut’s hands;\\n\\n4) ahead of, before (ganga, fara ~ e-m);\\n\\n5) as adv. (hann lætr fara ~ sauðfé þat, er skjarrast var);\\n\\nkomast ~, to escape.', []]\n",
      "['nhen', 'undanbragð', 'n. device, subterfuge.', []]\n",
      "['nken', 'undandráttr', 'm. evasion, shirking.', []]\n",
      "['nven', 'undanferð', 'f. means of escape.', []]\n",
      "['nhen', 'undanferli', 'n. evasion.', []]\n",
      "['nhen', 'undanfœri', 'n. = undanferð.', []]\n",
      "['nven', 'undanfœrsla', 'f. evasion, pleading one’s innocence.', []]\n",
      "['nhen', 'undanhald', 'n. flight.', []]\n",
      "['nven', 'undanherkjan', 'f. shirk, subterfuge.', []]\n",
      "['nven', 'undankváma', 'f. escape.', []]\n",
      "['nven', 'undanlausn', 'f. releasing, redemption.', []]\n",
      "['nhen', 'undanmæli', 'n. excuse.', []]\n",
      "['nven', 'undanrás', 'f. running away.', []]\n",
      "['nken', 'undanróðr', 'm. rowing away.', []]\n",
      "['a', 'undarliga', 'adv. wonderfully, extraordinarily.', []]\n",
      "['lkensf', 'undarligr', 'a. wonderful, extraordinary, marvellous.', []]\n",
      "['a[oþe}', 'undir', 'prep. with dat. and acc.\\n\\nI. with dat.\\n\\n1) under;\\n\\nþá brast í sundr jörð ~ hesti hans, the earth burst asunder under his horse;\\n\\nþungr ~ árum, heavy to row;\\n\\nþeir leita þeirra ok finna þá ~ eyju einni, they seek for them and find them under an island;\\n\\n~ þeim hesti var alinn Eiðfaxi, that horse was the sire of E.;\\n\\n2) fig. (~ þeim biskupi eru ellifu hundruð kirkna);\\n\\neiga ~ sér, to have under one, in one’s power;\\n\\neiga fé ~ e-m, to have money in his hands, deposited with him;\\n\\n3) under, depending on;\\n\\norlög vár eru eigi ~ orðum þínum, our fate does not depend on thy words;\\n\\nhann á vin ~ hverjum manni, he has a friend in every man;\\n\\n4) ellipt. or adverbial usages;\\n\\nvóru þau (Njáll ok Bergþóra) úbrunnin ~, they were unburned underneath;\\n\\nmeðan töður manna eru ~, whilst the hay is lying (mown, but not got in);\\n\\nef þér þœtti nökkut ~ um mik, if thou hast cared at all for me;\\n\\nsól (dagr) er ~, the sun (day) is down, under the horizon;\\n\\nværi oss mikit ~, at vér fengim liðsinni hans, it were worth much to us to get his help;\\n\\nII. with acc.\\n\\n1) under, underneath, denoting motion (var settr ~ hann stóll);\\n\\n2) of time;\\n\\nhrökk ~ miðdegi, it drew close to midday;\\n\\n3) fig. leggja ~ sik, to lay under oneself, to subjugate;\\n\\nþjóna ~ e-n, to serve under one;\\n\\nþessa laxveiði gaf hann ~ kirkjuna, he made it over to the church;\\n\\nbera fé ~ e-n, to bribe one;\\n\\nleggja virðing konungs ~ vápn mín, to let it depend on my weapons;\\n\\nef ~ oss skal koma kjörit, if the choice is to be left with us;\\n\\nHjört þótti mér þeir hafa ~, H. me thought they got under;\\n\\nef kona tekr mann ~ bónda sinn, if she be untrue to her husband;\\n\\nbjóða fé í leigu ~ sik, to offer to pay money for one’s passage.', []]\n",
      "['nven', 'undirborg', 'f. suburb.', []]\n",
      "['nhen', 'undirbrot', 'n. subjugation, subjection.', []]\n",
      "['nken', 'undirbúi', 'm. underdweller.', []]\n",
      "['nken', 'undirbyrli', 'm. under-cupbearer.', []]\n",
      "['nhen', 'undirdjúp', 'n. gulf, abyss.', []]\n",
      "['nken', 'undirdráttr', 'm. unfair gain.', []]\n",
      "['lkensf', 'undirdráttull', 'a. covetous, making unfair gain.', []]\n",
      "['nhen', 'undireldi', 'n. offspring, breed, of animals.', []]\n",
      "['nhen', 'undirfólk', 'n. subjects.', []]\n",
      "['lkensf', 'undirförull', 'a. dealing underhand, false.', []]\n",
      "['sþ', 'undirgefinn', 'pp. subject.', []]\n",
      "['nven', 'undirgjóf', 'f. subjection.', []]\n",
      "['nken', 'undirgrefill', 'm. underminer.', []]\n",
      "['nken', 'undirgröptr', 'm. undermining.', []]\n",
      "['nven', 'undirgørð', 'f. cushion under a saddle.', []]\n",
      "['nken', 'undirheimar', 'm. pl. the nether world, lower regions.', []]\n",
      "['nken', 'undirhlutr', 'm. the lowest part (of a ship).', []]\n",
      "['nhen', 'undirhús', 'n. the nether part of a house.', []]\n",
      "['nven', 'undirhyggja', 'f. craft, cunning, deceitfulness.', []]\n",
      "['lkensf', 'undirhyggjufullr', 'a. guileful, false.', []]\n",
      "['nhen', 'undirhyggjuleysi', 'n. guilelessness.', []]\n",
      "['nken', 'undirhyggjumaðr', 'm. guileful man.', []]\n",
      "['nhen', 'undirklæði', 'n. under-garment.', []]\n",
      "['nken', 'undirkonungr', 'm. tributary king.', []]\n",
      "['nken', 'undirkurr', 'm. secret artifice.', []]\n",
      "['nken', 'undirkyrtill', 'm. under kirtle.', []]\n",
      "['nhen', 'undirland', 'n. province.', []]\n",
      "['nken', 'undirmaðr', 'm. subordinate, subject.', []]\n",
      "['nken', 'undirmál', 'm. pl. underhand dealings, secret stipulation.', []]\n",
      "===>>>> ['s', 'undiroka', '(að), v. to subject.', 'að', []]\n",
      "['sþ', 'undirorpinn', 'pp. subjected.', []]\n",
      "['nken', 'undirprestr', 'm. subordinate priest.', []]\n",
      "['nven', 'undirrót', 'f. origin prime cause of a thing.', []]\n",
      "['nven', 'undirseta', 'f. pressure, influence.', []]\n",
      "['nken', 'undirskáli', 'm. under-hall.', []]\n",
      "['nven', 'undirskemma', 'f. under-room.', []]\n",
      "['s', 'undirstanda', 'v. to understand, perceive.', []]\n",
      "['nken', 'undirstokkr', 'm. under-post in a building.', []]\n",
      "['nken', 'undirstólpi', 'm. pillar.', []]\n",
      "['nven', 'undirtekt', 'f. answer (vitrligar ~ir konungs).', []]\n",
      "===>>>> ['s', 'undra', '(að), v.', 'að', []]\n",
      "['nken', 'undramaðr', 'm. wonderful man.', []]\n",
      "['nven', 'undran', 'f. wonder, astonishment.', []]\n",
      "['lkensf', 'undrlátr', 'a. given to wondering, eager for strange news.', []]\n",
      "['lkensf', 'undrsamligr', 'a. wondrous.', []]\n",
      "['nven', 'undrsjón', 'f. a wonder to see, spectacle; verða at ~um = verða at undri.', []]\n",
      "['sþ', 'undrskapaðr', 'pp. of portentous or wonderful shape.', []]\n",
      "['nhen', 'ungbarn', 'n. infant.', []]\n",
      "['nhen', 'ungfé', 'n. young cattle, young stock.', []]\n",
      "['nken', 'ungherra', 'm. = j~.', []]\n",
      "['nhen', 'unghryssi', 'n. young colt.', []]\n",
      "['nken', 'ungi', 'm. the young of a bird.', []]\n",
      "['nhen', 'unglamb', 'n. young lamb.', []]\n",
      "['nken', 'ungleiki', 'm. youth.', []]\n",
      "['lkensf', 'ungligr', 'a. youthful; ~ í ásjónu, boyish-looking.', []]\n",
      "['nhen', 'ungmenni', 'n. young man, youth.', []]\n",
      "===>>>> ['lkensf', 'ungr', '(yngri, yngstr), a. young.', 'yngri, yngstr', []]\n",
      "['nken', 'ungsveinn', 'm. young lad.', []]\n",
      "['nhen', 'ungviði', 'n. young trees.', []]\n",
      "===>>>> ['s', 'unna', '(ann, unna, unnat and unnt), v.', 'ann, unna, unnat and unnt', []]\n",
      "===>>>> ['nken', 'unnandi', '(pl. -endr), m. lover.', 'pl. -endr', []]\n",
      "['nken', 'unnasti', 'm. lover, = unnandi.', []]\n",
      "===>>>> ['nven', 'unnr', '(gen. -ar, pl. -ir), f. wave.', 'gen. -ar, pl. -ir', []]\n",
      "['nhen', 'unnvörp', 'n. pl. dashing of waves; falla (fella) ~um, to fall (kill) in large numbers.', []]\n",
      "['lkensf', 'ununarsamr', 'a. delightful (var þar harðla ununarsamt inni).', []]\n",
      "===>>>> ['c', 'unz', '(for ‘und es’), conj. till, until (glaðr skyli gumna hverr, ~ sinn bíðr bana); til þess unz, until.', 'for ‘und es’', []]\n",
      "['nken', 'uppaustrarmaðr', 'm. babbler.', []]\n",
      "['nken', 'uppdalr', 'm. up-dale, inland valley.', []]\n",
      "['nhen', 'uppdyri', 'n. = ofdyri.', []]\n",
      "===>>>> ['s', 'uppfesta', '(-sta, -str), v. to suspend.', '-sta, -str', ['uppfeststa', 'uppfeststr']]\n",
      "['nven', 'uppfesting', 'f. suspension.', []]\n",
      "['nhen', 'uppfóstr', 'n. rearing, fostering.', []]\n",
      "['nven', 'uppfrœðing', 'f. instruction.', []]\n",
      "['nhen', 'uppfœði', 'n. breeding, fostering.', []]\n",
      "['nven', 'uppfœzla', 'f. breeding, fostering.', []]\n",
      "['nven', 'uppgjöf', 'f. remission (uppgjöf um sakir).', []]\n",
      "['nken', 'upphafari', 'm. founder.', []]\n",
      "['lkensf', 'upphafligr', 'a. original.', []]\n",
      "['nven', 'upphafning', 'f. elevation, pride.', []]\n",
      "['nken', 'upphafsmaðr', 'm. author, originator (~ at e-u, til e-s).', []]\n",
      "['nken', 'upphafsstafr', 'm. initial letter.', []]\n",
      "['nhen', 'upphaldskerti', 'n. a taper to be held up or carried in procession.', []]\n",
      "['nken', 'upphaldsmaðr', 'm. upholder, maintainer.', []]\n",
      "['lkensf', 'upphár', 'a. coming high upon the leg (~ skór).', []]\n",
      "['nken', 'uppheimr', 'm. the heaven.', []]\n",
      "['nhen', 'uppheldi', 'n. upholding, maintenance.', []]\n",
      "['nhen', 'upphlaup', 'n. riot, tumult.', []]\n",
      "['nken', 'upphlutr', 'm. the upper part of a kirtle.', []]\n",
      "['nven', 'upphæð', 'f. elevation.', []]\n",
      "['nken', 'uppivözlumaðr', 'm. a turbulent, overbearing man.', []]\n",
      "['lkensf', 'uppivözlumikill', 'a. turbulent, overbearing.', []]\n",
      "['nhen', 'uppkast', 'n. stretching, drawing.', []]\n",
      "['nven', 'uppkváma', 'f. coming-up, outbreak (uppkoma elds).', []]\n",
      "['nken', 'upplendingar', 'm. pl. the men from the Upplönd.', []]\n",
      "['lkensf', 'upplenzkr', 'a. belonging to the Upplönd.', []]\n",
      "['nhen', 'upplétti', 'n. ceasing, of rain.', []]\n",
      "['nven', 'upplitning', 'f. looking up, contemplation.', []]\n",
      "['lkensf', 'upplítill', 'a. small at the upper end, tapering.', []]\n",
      "['nhen', 'upplok', 'n. unlocking opening.', []]\n",
      "['nhen', 'upplost', 'n. false rumour.', []]\n",
      "['nven', 'upplostning', 'f. false rumour.', []]\n",
      "['lkensf', 'upplægr', 'a. elevated, lying high.', []]\n",
      "['nven', 'uppnumning', 'f. being taken up into heaven, assumption.', []]\n",
      "['nken', 'uppnumningardagr', 'm. Assumption-day (~ Maríu).', []]\n",
      "['sþ', 'upporpinn', 'pp. = uppnæmr 2.', []]\n",
      "['nhen', 'uppregin', 'n. pl. the high gods.', []]\n",
      "['nven', 'uppreising', 'f. a raising up, reparation.', []]\n",
      "['nven', 'uppreisn', 'f. = uppreist 2.', []]\n",
      "['nven', 'uppreistardrápa', 'f. a poem on the creation.', []]\n",
      "['nven', 'uppreistarsaga', 'f. the story of creation, the book of Genesis.', []]\n",
      "['lkensf', 'uppréttr', 'a. upright, erect (sitja ~).', []]\n",
      "['nven', 'upprisa', 'f. resurrection (eptir upprisu Jesu).', []]\n",
      "['nken', 'upprisudagr', 'm. Resurrection-day.', []]\n",
      "===>>>> ['s', 'upprœta', '(-tta, -ttr), v. to root up.', '-tta, -ttr', ['upprœtta', 'upprœttr']]\n",
      "['nven', 'uppsaga', 'f. pronouncing (~ dóms).', []]\n",
      "['nven', 'uppsát', 'f. and n. a place where ships are drawn ashore.', []]\n",
      "===>>>> ['lkensf', 'uppskár', '(-ská, -skátt), a. communicative (gerast ~ um e-t).', '-ská, -skátt', ['uppskárská', 'uppskárskátt']]\n",
      "['sþ', 'uppskelldr', 'pp. mounted (uppskellt skaptit með silfri).', []]\n",
      "['nhen', 'uppskot', 'n. delay.', []]\n",
      "['nven', 'uppslátta', 'f. = upplost, false rumour.', []]\n",
      "['nhen', 'uppsmiði', 'n. building, raising a house.', []]\n",
      "['lkensf', 'uppstertr', 'a. strutting; ganga uppsterti, to walk haughtily.', []]\n",
      "['nken', 'uppstigudagr', 'm. Ascension-day.', []]\n",
      "['nhen', 'uppstöðutré', 'n. post.', []]\n",
      "['nven', 'uppsögn', 'f. = uppsaga.', []]\n",
      "['nhen', 'upptak', 'n. income, resource.', []]\n",
      "['nven', 'upptekning', 'f. the translation of a saint.', []]\n",
      "['lkensf', 'uppvíss', 'a. found out, known (varð aldri uppvíst, hverr þetta víg hafði vegit); láta e-t uppvíst, to make known.', []]\n",
      "['lkensf', 'uppvözlumikill', 'a. boisterous = uppivözlumikill.', []]\n",
      "['lkensf', 'uppþunnr', 'a. thin upwards.', []]\n",
      "['nven', 'ups', 'f. eaves (Egill skaut endanum, er logaði, upp undir upsina).', []]\n",
      "['nken', 'upsi', 'm. coal-fish, a nickname.', []]\n",
      "===>>>> ['nven', 'urð', '(pl. -ir), f. heap of stones fallen from a hill (grjót ok urðir).', 'pl. -ir', []]\n",
      "===>>>> ['s', 'urða', '(að), v. to cover with stones.', 'að', []]\n",
      "['nken', 'urðarmaðr', 'm. outlaw (gera e-n at urðarmanni); cf. skógarmaðr.', []]\n",
      "['nken', 'urðarmáni', 'm. a ‘weird moon’, boding evil.', []]\n",
      "['nhen', 'urðarorð', 'n. decree of fate.', []]\n",
      "['lkensf', 'urðgrœfr', 'a. that ought to be buried under piles of stones.', []]\n",
      "===>>>> ['nven', 'urðr', 'I)', 'I)', []]\n",
      "===>>>> ['s', 'urga', 'I)', 'I)', []]\n",
      "['nhen', 'url', 'n. a kind of hood (for. word).', []]\n",
      "['nken', 'uxabáss', 'm. ox-stall.', []]\n",
      "['nven', 'uxahnúta', 'f. joint-bone of an ox.', []]\n",
      "['nven', 'uxahúð', 'f. oxhide.', []]\n",
      "['nhen', 'uxakjót', 'n. ox-beef.', []]\n",
      "['nhen', 'uxamerki', 'n. Taurus, in the Zodiac.', []]\n",
      "===>>>> ['nken', 'uxi', '(pl. uxar, older forms yxn, eyxn, øxn), m. ox; yxninir, the oxen; eyxn margir, many oxen; n. pl., þrjú yxn, three oxen', 'pl. uxar, older forms yxn, eyxn, øxn', []]\n"
     ]
    }
   ],
   "source": [
    "for i in l:\n",
    "    if len(i) > 4:\n",
    "        print(\"===>>>>\", i)\n",
    "    else:\n",
    "        print(i)"
   ]
  },
  {
   "cell_type": "code",
   "execution_count": null,
   "metadata": {
    "collapsed": true
   },
   "outputs": [],
   "source": []
  },
  {
   "cell_type": "code",
   "execution_count": null,
   "metadata": {
    "collapsed": true
   },
   "outputs": [],
   "source": []
  },
  {
   "cell_type": "code",
   "execution_count": null,
   "metadata": {
    "collapsed": true
   },
   "outputs": [],
   "source": []
  },
  {
   "cell_type": "code",
   "execution_count": null,
   "metadata": {
    "collapsed": true
   },
   "outputs": [],
   "source": []
  },
  {
   "cell_type": "code",
   "execution_count": null,
   "metadata": {
    "collapsed": true
   },
   "outputs": [],
   "source": []
  },
  {
   "cell_type": "code",
   "execution_count": null,
   "metadata": {
    "collapsed": true
   },
   "outputs": [],
   "source": []
  }
 ],
 "metadata": {
  "kernelspec": {
   "display_name": "Environment (old_norse_notebook)",
   "language": "",
   "name": "old_norse_notebook"
  },
  "language_info": {
   "codemirror_mode": {
    "name": "ipython",
    "version": 3
   },
   "file_extension": ".py",
   "mimetype": "text/x-python",
   "name": "python",
   "nbconvert_exporter": "python",
   "pygments_lexer": "ipython3",
   "version": "3.6.0"
  }
 },
 "nbformat": 4,
 "nbformat_minor": 0
}
