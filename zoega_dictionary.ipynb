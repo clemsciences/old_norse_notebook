{
 "cells": [
  {
   "cell_type": "markdown",
   "metadata": {},
   "source": [
    "# Zoëga's dictionary\n",
    "Note: in order to use this **Jupyter notebook**, you need at least **python 3.6** or above."
   ]
  },
  {
   "cell_type": "markdown",
   "metadata": {},
   "source": [
    "Why this notbook? You can retrieve and process easily the Zoëga's dictionary https://github.com/cltk/old_norse_dictionary_zoega.\n",
    "\n",
    "If you want to get more tools for Old Norse, use **cltk** (https://github.com/cltk/cltk.git). Here is the docs: http://docs.cltk.org/en/latest/old_norse.html."
   ]
  },
  {
   "cell_type": "markdown",
   "metadata": {},
   "source": [
    "### Configuration\n",
    "\n",
    "Install the modules.\n",
    "```bash\n",
    "$ git clone https://github.com/cltk/old_norse_dictionary_zoega.git zoegas\n",
    "$ cd zoegas\n",
    "$ sudo pip3.6 install cltk\n",
    "$ python3.6 setup.py install \n",
    "```"
   ]
  },
  {
   "cell_type": "markdown",
   "metadata": {},
   "source": [
    "Install the **kernel** associated with **python3.6** [https://ipython.readthedocs.io/en/stable/install/kernel_install.html](https://ipython.readthedocs.io/en/stable/install/kernel_install.html) "
   ]
  },
  {
   "cell_type": "markdown",
   "metadata": {},
   "source": [
    "Let's test if the import is correct:\n",
    "```bash\n",
    "$ python3.6\n",
    "```"
   ]
  },
  {
   "cell_type": "code",
   "execution_count": 1,
   "metadata": {},
   "outputs": [
    {
     "name": "stdout",
     "output_type": "stream",
     "text": [
      "Help on package zoegas:\n",
      "\n",
      "NAME\n",
      "    zoegas\n",
      "\n",
      "PACKAGE CONTENTS\n",
      "    constants\n",
      "    reader\n",
      "    utils\n",
      "\n",
      "FILE\n",
      "    /usr/local/lib/python3.6/site-packages/zoegas-1.0.5-py3.6.egg/zoegas/__init__.py\n",
      "\n",
      "\n"
     ]
    }
   ],
   "source": [
    "import zoegas\n",
    "help(zoegas)"
   ]
  },
  {
   "cell_type": "markdown",
   "metadata": {},
   "source": [
    "It works! So let's continue with some predefined data."
   ]
  },
  {
   "cell_type": "code",
   "execution_count": 2,
   "metadata": {
    "scrolled": true
   },
   "outputs": [
    {
     "ename": "NotADirectoryError",
     "evalue": "[Errno 20] Not a directory: '/usr/local/lib/python3.6/site-packages/zoegas-1.0.5-py3.6.egg/zoegas/entries'",
     "output_type": "error",
     "traceback": [
      "\u001b[0;31m---------------------------------------------------------------------------\u001b[0m",
      "\u001b[0;31mNotADirectoryError\u001b[0m                        Traceback (most recent call last)",
      "\u001b[0;32m<ipython-input-2-a84b3df3c30d>\u001b[0m in \u001b[0;36m<module>\u001b[0;34m()\u001b[0m\n\u001b[0;32m----> 1\u001b[0;31m \u001b[0;32mfrom\u001b[0m \u001b[0mzoegas\u001b[0m \u001b[0;32mimport\u001b[0m \u001b[0mconstants\u001b[0m\u001b[0;34m\u001b[0m\u001b[0m\n\u001b[0m",
      "\u001b[0;32m/usr/local/lib/python3.6/importlib/_bootstrap.py\u001b[0m in \u001b[0;36m_find_and_load\u001b[0;34m(name, import_)\u001b[0m\n",
      "\u001b[0;32m/usr/local/lib/python3.6/importlib/_bootstrap.py\u001b[0m in \u001b[0;36m_find_and_load_unlocked\u001b[0;34m(name, import_)\u001b[0m\n",
      "\u001b[0;32m/usr/local/lib/python3.6/importlib/_bootstrap.py\u001b[0m in \u001b[0;36m_load_unlocked\u001b[0;34m(spec)\u001b[0m\n",
      "\u001b[0;32m/usr/local/lib/python3.6/importlib/_bootstrap.py\u001b[0m in \u001b[0;36m_load_backward_compatible\u001b[0;34m(spec)\u001b[0m\n",
      "\u001b[0;32m/usr/local/lib/python3.6/site-packages/zoegas-1.0.5-py3.6.egg/zoegas/constants.py\u001b[0m in \u001b[0;36m<module>\u001b[0;34m()\u001b[0m\n\u001b[1;32m    144\u001b[0m \u001b[0;34m\u001b[0m\u001b[0m\n\u001b[1;32m    145\u001b[0m head_dict_paths = [os.path.join(os.path.dirname(os.path.abspath(__file__)), \"entries\", filename)\n\u001b[0;32m--> 146\u001b[0;31m                    for filename in os.listdir(os.path.join(os.path.dirname(os.path.abspath(__file__)), \"entries\"))]\n\u001b[0m\u001b[1;32m    147\u001b[0m head_filenames = [filename for filename in\n\u001b[1;32m    148\u001b[0m                   os.listdir(os.path.join(os.path.dirname(os.path.abspath(__file__)), \"entries\"))]\n",
      "\u001b[0;31mNotADirectoryError\u001b[0m: [Errno 20] Not a directory: '/usr/local/lib/python3.6/site-packages/zoegas-1.0.5-py3.6.egg/zoegas/entries'"
     ]
    }
   ],
   "source": [
    "from zoegas import constants"
   ]
  },
  {
   "cell_type": "markdown",
   "metadata": {},
   "source": [
    "* Load XML dictionary"
   ]
  },
  {
   "cell_type": "code",
   "execution_count": null,
   "metadata": {},
   "outputs": [],
   "source": [
    "dictionary = dictionary_reader.Dictionary(dictionary_reader.dictionary_name)\n",
    "dictionary.get_entries()"
   ]
  },
  {
   "cell_type": "markdown",
   "metadata": {},
   "source": [
    "* Search a unique entry in dictionary"
   ]
  },
  {
   "cell_type": "code",
   "execution_count": null,
   "metadata": {},
   "outputs": [],
   "source": [
    "word = dictionary.find(\"heimr\")\n",
    "print(word.word)\n",
    "print(word.description)"
   ]
  },
  {
   "cell_type": "code",
   "execution_count": null,
   "metadata": {},
   "outputs": [],
   "source": [
    "word = dictionary.find(\"vilja\")\n",
    "print(word.word)\n",
    "print(word.description)"
   ]
  },
  {
   "cell_type": "code",
   "execution_count": null,
   "metadata": {},
   "outputs": [],
   "source": [
    "word = dictionary.find(\"at\")\n",
    "print(word.word)\n",
    "print(word.description)"
   ]
  },
  {
   "cell_type": "code",
   "execution_count": null,
   "metadata": {},
   "outputs": [],
   "source": [
    "word = dictionary.find(\"spjall\")\n",
    "print(word.word)\n",
    "print(word.description)"
   ]
  },
  {
   "cell_type": "code",
   "execution_count": null,
   "metadata": {},
   "outputs": [],
   "source": [
    "word = dictionary.find(\"gefandi\")\n",
    "print(word.word)\n",
    "print(word.description)"
   ]
  },
  {
   "cell_type": "markdown",
   "metadata": {},
   "source": [
    "* Search words which are similar to a given word "
   ]
  },
  {
   "cell_type": "code",
   "execution_count": null,
   "metadata": {},
   "outputs": [],
   "source": [
    "words = dictionary.find_approximately(\"agnar\", 2)\n",
    "for word in words:\n",
    "    print(word.word)"
   ]
  },
  {
   "cell_type": "markdown",
   "metadata": {},
   "source": [
    "* Search words which begins with a specific string"
   ]
  },
  {
   "cell_type": "code",
   "execution_count": null,
   "metadata": {},
   "outputs": [],
   "source": [
    "words = dictionary.find_beginning_with(\"blá\")\n",
    "for word in words:\n",
    "    print(word.word)"
   ]
  },
  {
   "cell_type": "markdown",
   "metadata": {},
   "source": [
    "By Clément Besnier, email address: clemsciences@aol.com, web site: https://clementbesnier.pythonanywhere.com/, twitter: clemsciences"
   ]
  }
 ],
 "metadata": {
  "kernelspec": {
   "display_name": "Python 3.6",
   "language": "python",
   "name": "python3"
  },
  "language_info": {
   "codemirror_mode": {
    "name": "ipython",
    "version": 3
   },
   "file_extension": ".py",
   "mimetype": "text/x-python",
   "name": "python",
   "nbconvert_exporter": "python",
   "pygments_lexer": "ipython3",
   "version": "3.6.3"
  }
 },
 "nbformat": 4,
 "nbformat_minor": 2
}
