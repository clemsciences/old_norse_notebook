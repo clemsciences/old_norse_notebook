{
 "cells": [
  {
   "cell_type": "markdown",
   "metadata": {},
   "source": [
    "# Zoëga's dictionary\n",
    "Note: in order to use this **Jupyter notebook**, you need at least **python 3.6** or above."
   ]
  },
  {
   "cell_type": "markdown",
   "metadata": {},
   "source": [
    "Why this notbook? You can retrieve and process easily the Zoëga's dictionary https://github.com/cltk/old_norse_dictionary_zoega.\n",
    "\n",
    "If you want to get more tools for Old Norse, use **cltk** (https://github.com/cltk/cltk.git). Here is the docs: http://docs.cltk.org/en/latest/old_norse.html."
   ]
  },
  {
   "cell_type": "markdown",
   "metadata": {},
   "source": [
    "### Configuration\n",
    "\n",
    "Install the modules.\n",
    "```bash\n",
    "$ pip3 install -r requirements.txt\n",
    "```"
   ]
  },
  {
   "cell_type": "markdown",
   "metadata": {},
   "source": [
    "Install the **kernel** associated with **python3.6** [https://ipython.readthedocs.io/en/stable/install/kernel_install.html](https://ipython.readthedocs.io/en/stable/install/kernel_install.html) "
   ]
  },
  {
   "cell_type": "markdown",
   "metadata": {},
   "source": [
    "Let's test if the import is correct:\n",
    "```bash\n",
    "$ python3.6\n",
    "```"
   ]
  },
  {
   "cell_type": "code",
   "execution_count": 1,
   "metadata": {
    "collapsed": false
   },
   "outputs": [
    {
     "name": "stdout",
     "output_type": "stream",
     "text": [
      "Help on package zoegas:\n",
      "\n",
      "NAME\n",
      "    zoegas\n",
      "\n",
      "PACKAGE CONTENTS\n",
      "    constants\n",
      "    reader\n",
      "    utils\n",
      "\n",
      "FILE\n",
      "    /home/clementbesnier/.virtualenvs/old_norse_notebook/src/zoegas/zoegas/__init__.py\n",
      "\n",
      "\n"
     ]
    }
   ],
   "source": [
    "import zoegas\n",
    "help(zoegas)"
   ]
  },
  {
   "cell_type": "markdown",
   "metadata": {},
   "source": [
    "It works! So let's continue with some predefined data."
   ]
  },
  {
   "cell_type": "code",
   "execution_count": 2,
   "metadata": {
    "collapsed": true,
    "scrolled": true
   },
   "outputs": [],
   "source": [
    "from zoegas import reader"
   ]
  },
  {
   "cell_type": "markdown",
   "metadata": {},
   "source": [
    "* Load XML dictionary"
   ]
  },
  {
   "cell_type": "code",
   "execution_count": 3,
   "metadata": {
    "collapsed": true
   },
   "outputs": [],
   "source": [
    "dictionary = reader.Dictionary(reader.dictionary_name)\n",
    "dictionary.get_entries()"
   ]
  },
  {
   "cell_type": "markdown",
   "metadata": {},
   "source": [
    "* Search a unique entry in dictionary"
   ]
  },
  {
   "cell_type": "code",
   "execution_count": 4,
   "metadata": {
    "collapsed": false
   },
   "outputs": [
    {
     "name": "stdout",
     "output_type": "stream",
     "text": [
      "heimr\n",
      "\n",
      "\n",
      "(-s, -ar), m.\n",
      "\n",
      "1) a place of abode, a region or world (níu man ek heima); spyrja e-n í hvern heim, to ask one freely;\n",
      "\n",
      "2) this world (segðu mér ór heimi, ek man ór helju); koma í heiminn, to be born; fara af heiminum, to depart this life; liggja milli heims ok heljar, to lie between life and death;\n",
      "\n",
      "3) the earth; kringla heimsins, the globe.\n",
      "\n",
      "\n"
     ]
    }
   ],
   "source": [
    "word = dictionary.find(\"heimr\")\n",
    "print(word.word)\n",
    "print(word.description)"
   ]
  },
  {
   "cell_type": "code",
   "execution_count": 5,
   "metadata": {
    "collapsed": false
   },
   "outputs": [
    {
     "name": "stdout",
     "output_type": "stream",
     "text": [
      "vilja\n",
      "\n",
      "\n",
      "I) (vil, vilda, ~t), v.\n",
      "\n",
      "1) to will, wish, with infin. (nú vil ek spyrja yðr); Austmaðr kvazt vildu (pret. infin.) fyrir hafa land, the Easterling said he wished to have land for (the ship); with the infin. left out or understood; vildi Aðalráðr hann ekki þar, A. wished him not (to be) there; hón vildi hann feigan, she wished him dead; with subj., viltu, at ek fara til eyjanna, wilt thou that I shall go to the islands;\n",
      "\n",
      "2) with acc. to wish, want (eigi vil ek þessa); hvat vilt þú honum, what dost thou want with him?; v. hverjum manni gott, to wish good to everybody; v. heldr, to prefer (viltu heldr dóminn?);\n",
      "\n",
      "3) impers., var sigit inn eptir firðinum svá sem vera vildi, as best might be, at random; þá er vel vildi, when the luck was fair;\n",
      "\n",
      "4) v. e-m, to favour one (þat er ván, at þér mundi sœmdin v.);\n",
      "\n",
      "5) v. til, to happen (ef þat á. til at v.);\n",
      "\n",
      "6) refl., þeir ~st eigi við oss, they bear no good will towards us.\n",
      "\n",
      "II) from vili, will.\n",
      "\n",
      "\n"
     ]
    }
   ],
   "source": [
    "word = dictionary.find(\"vilja\")\n",
    "print(word.word)\n",
    "print(word.description)"
   ]
  },
  {
   "cell_type": "code",
   "execution_count": 6,
   "metadata": {
    "collapsed": false
   },
   "outputs": [
    {
     "name": "stdout",
     "output_type": "stream",
     "text": [
      "at\n",
      "\n",
      "\n",
      "I) prep.\n",
      "\n",
      "A. with dative.\n",
      "\n",
      "I. Of motion;\n",
      "\n",
      "1) towards, against;\n",
      "\n",
      "Otkell laut at Skamkatli, bowed down to S.;\n",
      "\n",
      "hann sneri egginni at Ásgrími, turned the edge against A.;\n",
      "\n",
      "2) close atup to;\n",
      "\n",
      "Brynjólfr gengr alit at honum, quite up to him;\n",
      "\n",
      "þeir kómust aldri at honum, they could never get near him, to close quarters with him;\n",
      "\n",
      "3) to, at;\n",
      "\n",
      "koma at landi, to come to land;\n",
      "\n",
      "ganga at dómi, to go into court;\n",
      "\n",
      "4) along (= eptir);\n",
      "\n",
      "ganga at stræti, to walk along the street;\n",
      "\n",
      "dreki er niðr fór at ánni (went down the river) fyrir strauminum;\n",
      "\n",
      "refr dró hörpu at ísi, on the ice;\n",
      "\n",
      "5) denoting hostility;\n",
      "\n",
      "renna (sœkja) at e-m, to rush at, assault;\n",
      "\n",
      "gerði þá at þeim þoku mikla, they were overtaken by a thick fog;\n",
      "\n",
      "6) around;\n",
      "\n",
      "vefja motri at höfði sér, to wrap a veil round one’s head;\n",
      "\n",
      "bera grjót at e-m, to heap stones upon the body;\n",
      "\n",
      "7) denoting business, engagement;\n",
      "\n",
      "ríða at hrossum, at sauðum, to go looking after horses, watching sheep;\n",
      "\n",
      "fara at landskuldum, to go collecting rents.\n",
      "\n",
      "II. Of position, c.;\n",
      "\n",
      "1) denoting presence at, near, by, upon;\n",
      "\n",
      "at kirkju, at church;\n",
      "\n",
      "at dómi, in court;\n",
      "\n",
      "at lögbergi, at the hill of laws;\n",
      "\n",
      "2) denoting participation in;\n",
      "\n",
      "vera at veizlu, brullaupi, to be at a banquet, wedding;\n",
      "\n",
      "vera at vígi, to be an accessory in man-slaying;\n",
      "\n",
      "3) ellipt., vera at, to be about, to be busy at;\n",
      "\n",
      "kvalararnir, er at vóru at pína hann, who were tormenting him;\n",
      "\n",
      "var þar at kona nökkur at binda (was there busy dressing) sár manna;\n",
      "\n",
      "4) with proper names of places (farms);\n",
      "\n",
      "konungr at Danmörku ok Noregi, king of;\n",
      "\n",
      "biskup at Hólum, bishop of Holar;\n",
      "\n",
      "at Helgafelli, at Bergþórshváli;\n",
      "\n",
      "5) used ellipt. with a genitive, at (a person’s) house;\n",
      "\n",
      "at hans (at his house) gisti fjölmenni mikit;\n",
      "\n",
      "at Marðar, at Mara’s home;\n",
      "\n",
      "at hins beilaga Ólafs konungs, at St. Olave’s church;\n",
      "\n",
      "at Ránar, at Ran’s (abode).\n",
      "\n",
      "III. Of time;\n",
      "\n",
      "1) at, in;\n",
      "\n",
      "at upphafi, at first, in the beginning;\n",
      "\n",
      "at skilnaði, at parting, when they parted;\n",
      "\n",
      "at páskum, at Easter;\n",
      "\n",
      "at kveldi, at eventide;\n",
      "\n",
      "at þinglausnum, at the close of the Assembly;\n",
      "\n",
      "at fjöru, at the ebb;\n",
      "\n",
      "at flœðum, at the floodtide;\n",
      "\n",
      "2) adding ‘komanda’ or ‘er kemr’;\n",
      "\n",
      "at ári komanda, next year;\n",
      "\n",
      "at vári, er kemr, next spring;\n",
      "\n",
      "generally with ‘komanda’ understood;\n",
      "\n",
      "at sumri, hausti, vetri, vári, next summer, \n",
      "\n",
      "3) used with an absolute dative and present or past part.;\n",
      "\n",
      "at sér lifanda, duing his lifetime;\n",
      "\n",
      "at öllum ásjándum, in the sight of all;\n",
      "\n",
      "at áheyranda höfðingjanum, in the hearing of the chief;\n",
      "\n",
      "at upprennandi sólu, at sunrise;\n",
      "\n",
      "at liðnum sex vikum, after six weeks are past;\n",
      "\n",
      "at honum önduðum, after his death;\n",
      "\n",
      "4) denoting uninterrupted succession, after;\n",
      "\n",
      "hverr at öðrum, annarr at öðrum, one after another;\n",
      "\n",
      "skildu menn at þessu, thereupon, after this;\n",
      "\n",
      "at því (thereafter) kómu aðrar meyjar.\n",
      "\n",
      "IV. fig. and in various uses;\n",
      "\n",
      "1) to, into, with the notion of destruction or change;\n",
      "\n",
      "brenna (borgina) at ösku, to burn to ashes;\n",
      "\n",
      "verða at ormi, to become a snake;\n",
      "\n",
      "2) for, as;\n",
      "\n",
      "gefa e-t at gjöf, as a present;\n",
      "\n",
      "eiga e-n at vin, to have one as friend;\n",
      "\n",
      "3) by;\n",
      "\n",
      "taka sverð at hjöltum, by the hilt;\n",
      "\n",
      "draga út björninn at hlustunum, by the ears;\n",
      "\n",
      "kjósa at afli, álitum, by strength, appearrance;\n",
      "\n",
      "4) as regards as to;\n",
      "\n",
      "auðigr at fé, wealthy in goods;\n",
      "\n",
      "vænn (fagr) at áliti, fair of face;\n",
      "\n",
      "5) as a law term, on the grounds of, by reason of;\n",
      "\n",
      "ryðja (to challenge) dóm at mægðum, kvið at frændsemi;\n",
      "\n",
      "6) as a paraphrase of a genitive;\n",
      "\n",
      "faðir, móðir at barni (= barns, of a child);\n",
      "\n",
      "aðili at sök = aðili sakar;\n",
      "\n",
      "7) with adjectives denoting colour, size, age, of;\n",
      "\n",
      "hvítr, svartr, rauðr at lit, while, black, red of colour;\n",
      "\n",
      "mikill, lítill at stœrð, vexti, tall, small of stature;\n",
      "\n",
      "tvítugr at aldri, twenty years of age;\n",
      "\n",
      "kýr at fyrsta, öðrum kálfi, a cow that has calved once, twice;\n",
      "\n",
      "8) determining the source from which anything comes, of, from;\n",
      "\n",
      "Ari nam ok marga frœði at Þuríði (from her);\n",
      "\n",
      "þiggja, kaupa, geta, leigja e-t at e-m, to receive, buy, obtain, borrow a thing from one;\n",
      "\n",
      "hafa veg (virðing) styrk at e-m, to derive honour, power, from one;\n",
      "\n",
      "9) according, to, after (heygðr at fornum sið);\n",
      "\n",
      "at ráði allra vitrustu manna, by the advice of;\n",
      "\n",
      "at landslögum, by the law of the land;\n",
      "\n",
      "at vánum, as was to be expected;\n",
      "\n",
      "at leyfi e-s, by one’s leave;\n",
      "\n",
      "10) in adverbial phrases;\n",
      "\n",
      "gróa (vera grœddr) at heilu, to be quite healed;\n",
      "\n",
      "bíta af allt gras at snøggu, quite bare;\n",
      "\n",
      "at fullu, fully;\n",
      "\n",
      "at vísu, surely;\n",
      "\n",
      "at frjálsu, freely;\n",
      "\n",
      "at eilífu, for ever and ever;\n",
      "\n",
      "at röngu, at réttu, wrongly, rightly;\n",
      "\n",
      "at líku, at sömu, equally, all the same;\n",
      "\n",
      "at mun, at ráði, at marki, to a great extent.\n",
      "\n",
      "B. with acc., after, upon (= eptir);\n",
      "\n",
      "sonr á at taka arf at föður sinn, to take the inheritance after his father;\n",
      "\n",
      "eiga féránsdóm at e-n, to hold a court of execution upon a person;\n",
      "\n",
      "at þat (= eptir þat), after that, thereafter;\n",
      "\n",
      "connected with a past part. or a., at Gamla fallinn, after the fall of Gamli;\n",
      "\n",
      "at Hrungni dauðan, upon the death of Hrungnir.\n",
      "\n",
      "II)\n",
      "\n",
      "1) as the simple mark of the infinitive, to;\n",
      "\n",
      "at ganga, at ríða, at hlaupa, to walk, to ride, to run;\n",
      "\n",
      "2) in an objective sense;\n",
      "\n",
      "hann bauð þeim at fara, sitja, he bade (ordered) them to go, sit;\n",
      "\n",
      "gefa e-m at eta, at drekka, to give one to eat, to drink;\n",
      "\n",
      "3) denoting design or purpose, in order to (hann gekk í borg at kaupa silfr).\n",
      "\n",
      "III)\n",
      "\n",
      "1) demonstrative particle before a comparative, the, all the, so much the;\n",
      "\n",
      "hón grét at meir, she wept the more;\n",
      "\n",
      "þykkir oss at líkara, all the more likely;\n",
      "\n",
      "þú ert maðr at verri (so much the worse), er þú hefir þetta mælt;\n",
      "\n",
      "2) rel. pron., who, which, that (= er);\n",
      "\n",
      "þeir allir, at þau tíðindi heyrðu, all those who heard;\n",
      "\n",
      "sem þeim er títt, at (as is the custom of those who) kaupferðir reka.\n",
      "\n",
      "IV)\n",
      "\n",
      "conj., that;\n",
      "\n",
      "1) introducing a subjective or objective clause;\n",
      "\n",
      "þat var einhverju sinni, at Höskuldr hafði vinaboð, it happened once that H.;\n",
      "\n",
      "vilda ek, at þú réðist austr í fjörðu, I should like you to go;\n",
      "\n",
      "2) relative to svá, denoting proportion, degree;\n",
      "\n",
      "svá mikill lagamaðr, at, so great a lawyer, that;\n",
      "\n",
      "3) with subj., denoting end or purpose, in order that (skáru þeir fyrir þá (viz. hestana) melinn, at þeir dœi eigi af sulti);\n",
      "\n",
      "4) since, because, as (= því at);\n",
      "\n",
      "5) connected with þó, því, svá;\n",
      "\n",
      "þó at (with subj.), though, although;\n",
      "\n",
      "því at, because, for;\n",
      "\n",
      "svá at, so that;\n",
      "\n",
      "6) temp., þá at (= þá er), when;\n",
      "\n",
      "þegar at (= þegar er), as soon as;\n",
      "\n",
      "þar til at (= þar til er), until, till;\n",
      "\n",
      "áðr at (= á. en), before;\n",
      "\n",
      "7) used superfluously after an int. pron. or adv.;\n",
      "\n",
      "Ólafr spurði, hvern styrk at hann mundi fá honum, what help he was likely to give him;\n",
      "\n",
      "in a relative sense; með fullkomnum ávexti, hverr at (which) þekkr ok þægiligr mun verða.\n",
      "\n",
      "V)\n",
      "\n",
      "negative verbal suffix, = ata; var-at, was not.\n",
      "\n",
      "VI)\n",
      "\n",
      "n. an incited conflict or fight (see etja);\n",
      "\n",
      "odda at, Yggs at, battle.\n",
      "\n",
      "\n"
     ]
    }
   ],
   "source": [
    "word = dictionary.find(\"at\")\n",
    "print(word.word)\n",
    "print(word.description)"
   ]
  },
  {
   "cell_type": "code",
   "execution_count": 7,
   "metadata": {
    "collapsed": false
   },
   "outputs": [
    {
     "name": "stdout",
     "output_type": "stream",
     "text": [
      "spjall\n",
      "\n",
      "\n",
      "I)\n",
      "\n",
      "n. saying, tale, esp. pl.; forn spjöll fira, old tales of men; úrughlýra jó frá ek ~a, with wet cheeks I asked the steed for news; móðug spjöll, lamentations.\n",
      "\n",
      "II)\n",
      "\n",
      "n.\n",
      "\n",
      "1) damage (taka s. af e-u);\n",
      "\n",
      "2) flaw (spjöll á máli).\n",
      "\n",
      "\n"
     ]
    }
   ],
   "source": [
    "word = dictionary.find(\"spjall\")\n",
    "print(word.word)\n",
    "print(word.description)"
   ]
  },
  {
   "cell_type": "code",
   "execution_count": 8,
   "metadata": {
    "collapsed": false
   },
   "outputs": [
    {
     "name": "stdout",
     "output_type": "stream",
     "text": [
      "gefandi\n",
      "\n",
      "\n",
      "(pl. -endr), m. giver.\n",
      "\n",
      "\n"
     ]
    }
   ],
   "source": [
    "word = dictionary.find(\"gefandi\")\n",
    "print(word.word)\n",
    "print(word.description)"
   ]
  },
  {
   "cell_type": "markdown",
   "metadata": {},
   "source": [
    "* Search words which are similar to a given word "
   ]
  },
  {
   "cell_type": "code",
   "execution_count": 9,
   "metadata": {
    "collapsed": false
   },
   "outputs": [
    {
     "name": "stdout",
     "output_type": "stream",
     "text": [
      "agnar\n",
      "agnör\n",
      "alnar\n",
      "annar\n",
      "arnar\n",
      "sagnar\n",
      "þagnar\n"
     ]
    }
   ],
   "source": [
    "words = dictionary.find_approximately(\"agnar\", 2)\n",
    "for word in words:\n",
    "    print(word.word)"
   ]
  },
  {
   "cell_type": "markdown",
   "metadata": {},
   "source": [
    "* Search words which begins with a specific string"
   ]
  },
  {
   "cell_type": "code",
   "execution_count": 10,
   "metadata": {
    "collapsed": false
   },
   "outputs": [
    {
     "name": "stdout",
     "output_type": "stream",
     "text": [
      "bláber\n",
      "blábrúnaðr\n",
      "bládjúp\n",
      "bláeygðr\n",
      "bláeygr\n",
      "bláfastr\n",
      "bláfáinn\n",
      "bláfár\n",
      "bláfeldr\n",
      "bláflekkóttr\n",
      "bláhvítr\n",
      "blákápa\n",
      "blákinn\n",
      "bláklæddr\n",
      "bláleitr\n",
      "blálendingr\n",
      "blálenzkr\n",
      "blámaðr\n",
      "bláman\n",
      "blámengdr\n",
      "blámengjaðr\n",
      "blámerktr\n",
      "blámi\n",
      "blána\n",
      "blár\n",
      "blárendr\n",
      "blása\n",
      "blásari\n",
      "blásilfr\n",
      "blásinn\n",
      "blástafaðr\n",
      "blástr\n",
      "blástrbelgr\n",
      "blástrhorn\n",
      "blástrjárn\n",
      "blástrpipa\n",
      "blástrsamr\n",
      "blástrsvalr\n",
      "blásvartr\n",
      "blátt\n",
      "blátönn\n"
     ]
    }
   ],
   "source": [
    "words = dictionary.find_beginning_with(\"blá\")\n",
    "for word in words:\n",
    "    print(word.word)"
   ]
  },
  {
   "cell_type": "markdown",
   "metadata": {},
   "source": [
    "By Clément Besnier, email address: clemsciences@aol.com, web site: https://clementbesnier.fr/, twitter: clemsciences"
   ]
  }
 ],
 "metadata": {
  "kernelspec": {
   "display_name": "Environment (old_norse_notebook)",
   "language": "",
   "name": "old_norse_notebook"
  },
  "language_info": {
   "codemirror_mode": {
    "name": "ipython",
    "version": 3
   },
   "file_extension": ".py",
   "mimetype": "text/x-python",
   "name": "python",
   "nbconvert_exporter": "python",
   "pygments_lexer": "ipython3",
   "version": "3.6.0"
  }
 },
 "nbformat": 4,
 "nbformat_minor": 2
}
