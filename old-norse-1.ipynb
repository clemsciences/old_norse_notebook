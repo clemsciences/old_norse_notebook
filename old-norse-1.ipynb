{
 "cells": [
  {
   "cell_type": "code",
   "execution_count": 1,
   "metadata": {
    "collapsed": true
   },
   "outputs": [],
   "source": [
    "# Set your own user path\n",
    "USER_PATH = \"/home/pi\""
   ]
  },
  {
   "cell_type": "code",
   "execution_count": 2,
   "metadata": {
    "collapsed": true
   },
   "outputs": [],
   "source": [
    "# Downloading Old Norse Corpora to cltk_data directory\n",
    "from cltk.corpus.utils.importer import CorpusImporter\n",
    "onc = CorpusImporter(\"old_norse\")\n",
    "onc.import_corpus(\"old_norse_text_perseus\")\n",
    "onc.import_corpus(\"old_norse_texts_heimskringla\")"
   ]
  },
  {
   "cell_type": "code",
   "execution_count": 8,
   "metadata": {
    "collapsed": false
   },
   "outputs": [
    {
     "ename": "IndentationError",
     "evalue": "unexpected indent (<ipython-input-8-9d975ce76734>, line 6)",
     "output_type": "error",
     "traceback": [
      "\u001b[0;36m  File \u001b[0;32m\"<ipython-input-8-9d975ce76734>\"\u001b[0;36m, line \u001b[0;32m6\u001b[0m\n\u001b[0;31m    'import sys; sys.path.append(\"~/cltk_data/old_norse\")'\u001b[0m\n\u001b[0m    ^\u001b[0m\n\u001b[0;31mIndentationError\u001b[0m\u001b[0;31m:\u001b[0m unexpected indent\n"
     ]
    }
   ],
   "source": [
    "# $ ipython profile create\n",
    "# $ ipython locate\n",
    "# $ nano profile_default/ipython_config.py\n",
    "# # Add it a the end of the file (without '#'):\n",
    "# c.InteractiveShellApp.exec_lines = [\n",
    "#    'import sys; sys.path.append(\"~/cltk_data/old_norse\")'\n",
    "#]\n",
    "# # And... It's done!"
   ]
  },
  {
   "cell_type": "code",
   "execution_count": null,
   "metadata": {
    "collapsed": false
   },
   "outputs": [],
   "source": [
    "# old_norse_text_perseus\n",
    "\n",
    "import os\n",
    "import json\n",
    "\n",
    "corpus = os.path.join(USER_PATH, \"cltk_data/old_norse/text/old_norse_text_perseus/plain_text/Ragnars_saga_loðbrókar_ok_sona_hans\")\n",
    "chapters = []\n",
    "for filename in os.listdir(corpus):\n",
    "    with open(os.path.join(corpus, filename)) as f:\n",
    "        chapter_text = f.read()  # json.load(filename)\n",
    "        print(chapter_text[:30])\n",
    "        chapters.append(chapter_text)\n",
    "    \n",
    "#__import__('/home/pi/cltk_data/old_norse/text/old_norse_texts_heimskringla/text_manager')\n"
   ]
  },
  {
   "cell_type": "code",
   "execution_count": null,
   "metadata": {
    "collapsed": false
   },
   "outputs": [],
   "source": [
    "# old_norse_texts_heimskringla\n",
    "\n",
    "from old_norse.text.old_norse_texts_heimskringla.text_manager import *\n",
    "corpus_path = \"/home/pi/cltk_data/old_norse/text/old_norse_texts_heimskringla\"\n",
    "here = os.getcwd()\n",
    "os.chdir(corpus_path)\n",
    "loader = TextLoader(os.path.join(corpus_path, \"Sæmundar-Edda\", \"Atlakviða\"), \"txt\")\n",
    "print(loader.get_available_names())\n",
    "complete_text = loader.load()\n",
    "print(complete_text[:100])\n",
    "os.chdir(here)"
   ]
  },
  {
   "cell_type": "code",
   "execution_count": 4,
   "metadata": {
    "collapsed": false
   },
   "outputs": [
    {
     "data": {
      "text/plain": [
       "[('Hlióðs', 'Unk'),\n",
       " ('bið', 'VBPI'),\n",
       " ('ek', 'PRO-N'),\n",
       " ('allar', 'Q-A'),\n",
       " ('.', '.')]"
      ]
     },
     "execution_count": 4,
     "metadata": {},
     "output_type": "execute_result"
    }
   ],
   "source": [
    "# POS tagging\n",
    "from cltk.tag.pos import POSTag\n",
    "tagger = POSTag('old_norse')\n",
    "sent = 'Hlióðs bið ek allar.'\n",
    "tagger.tag_tnt(sent)"
   ]
  },
  {
   "cell_type": "code",
   "execution_count": 5,
   "metadata": {
    "collapsed": false
   },
   "outputs": [
    {
     "data": {
      "text/plain": [
       "['Gylfi', 'konungr', 'var', 'maðr', 'vitr', 'ok', 'fjölkunnigr', '.']"
      ]
     },
     "execution_count": 5,
     "metadata": {},
     "output_type": "execute_result"
    }
   ],
   "source": [
    "# Word tokenizing\n",
    "from cltk.tokenize.word import WordTokenizer\n",
    "word_tokenizer = WordTokenizer('old_norse')\n",
    "sentence = \"Gylfi konungr var maðr vitr ok fjölkunnigr.\"\n",
    "word_tokenizer.tokenize(sentence)"
   ]
  },
  {
   "cell_type": "code",
   "execution_count": 6,
   "metadata": {
    "collapsed": false
   },
   "outputs": [
    {
     "data": {
      "text/plain": [
       "['var',\n",
       " 'einn',\n",
       " 'morgin',\n",
       " ',',\n",
       " 'karlsefni',\n",
       " 'rjóðrit',\n",
       " 'flekk',\n",
       " 'nökkurn',\n",
       " ',',\n",
       " 'glitraði']"
      ]
     },
     "execution_count": 6,
     "metadata": {},
     "output_type": "execute_result"
    }
   ],
   "source": [
    "# Old Norse stop words\n",
    "from nltk.tokenize.punkt import PunktLanguageVars\n",
    "from cltk.stop.old_norse.stops import STOPS_LIST\n",
    "sentence = 'Þat var einn morgin, er þeir Karlsefni sá fyrir ofan rjóðrit flekk nökkurn, sem glitraði við þeim'\n",
    "p = PunktLanguageVars()\n",
    "\n",
    "tokens = p.word_tokenize(sentence.lower())\n",
    "[w for w in tokens if not w in STOPS_LIST]"
   ]
  },
  {
   "cell_type": "code",
   "execution_count": 7,
   "metadata": {
    "collapsed": false
   },
   "outputs": [
    {
     "name": "stdout",
     "output_type": "stream",
     "text": [
      "<cltk.corpus.swadesh.Swadesh object at 0x6dd11d70>\n"
     ]
    }
   ],
   "source": [
    "# Swadesh list for Old Norse\n",
    "from cltk.corpus.swadesh import Swadesh\n",
    "swadesh = Swadesh('old_norse')\n",
    "print(swadesh)\n",
    "words = swadesh.words()\n",
    "#words[:30]\n",
    "# Old Norse is not yet available with pip"
   ]
  },
  {
   "cell_type": "code",
   "execution_count": null,
   "metadata": {
    "collapsed": false
   },
   "outputs": [],
   "source": []
  },
  {
   "cell_type": "code",
   "execution_count": null,
   "metadata": {
    "collapsed": true
   },
   "outputs": [],
   "source": []
  },
  {
   "cell_type": "code",
   "execution_count": null,
   "metadata": {
    "collapsed": false
   },
   "outputs": [],
   "source": []
  },
  {
   "cell_type": "code",
   "execution_count": 5,
   "metadata": {
    "collapsed": true
   },
   "outputs": [],
   "source": []
  }
 ],
 "metadata": {
  "kernelspec": {
   "display_name": "Python 3",
   "language": "python",
   "name": "python3"
  },
  "language_info": {
   "codemirror_mode": {
    "name": "ipython",
    "version": 3
   },
   "file_extension": ".py",
   "mimetype": "text/x-python",
   "name": "python",
   "nbconvert_exporter": "python",
   "pygments_lexer": "ipython3",
   "version": "3.5.3"
  }
 },
 "nbformat": 4,
 "nbformat_minor": 0
}
