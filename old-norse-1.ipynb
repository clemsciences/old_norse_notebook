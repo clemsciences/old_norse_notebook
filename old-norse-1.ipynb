{
 "cells": [
  {
   "cell_type": "code",
   "execution_count": 2,
   "metadata": {},
   "outputs": [],
   "source": [
    "# Set your own user path\n",
    "USER_PATH = \"/home/clement\""
   ]
  },
  {
   "cell_type": "code",
   "execution_count": 10,
   "metadata": {},
   "outputs": [],
   "source": [
    "# Downloading Old Norse Corpora to cltk_data directory\n",
    "from cltk.corpus.utils.importer import CorpusImporter\n",
    "onc = CorpusImporter(\"old_norse\")\n",
    "onc.import_corpus(\"old_norse_text_perseus\")\n",
    "onc.import_corpus(\"old_norse_texts_heimskringla\")\n",
    "onc.import_corpus(\"old_norse_models_cltk\")"
   ]
  },
  {
   "cell_type": "code",
   "execution_count": 4,
   "metadata": {},
   "outputs": [],
   "source": [
    "# $ ipython profile create\n",
    "# $ ipython locate\n",
    "# $ nano profile_default/ipython_config.py\n",
    "# # Add it a the end of the file (without '#'):\n",
    "# c.InteractiveShellApp.exec_lines = [\n",
    "#    'import sys; sys.path.append(\"~/cltk_data/old_norse\")'\n",
    "#]\n",
    "# # And... It's done!"
   ]
  },
  {
   "cell_type": "code",
   "execution_count": 12,
   "metadata": {},
   "outputs": [
    {
     "name": "stdout",
     "output_type": "stream",
     "text": [
      "Nú halda þeir þangat, ok er þe\n",
      "Nú er sú stund var liðin, er á\n",
      "Nú líða stundir fram, ok var s\n",
      "Nú halda þeir í brott þaðan, þ\n",
      "Eptir þetta fara þeir Hvítserk\n",
      "Nú ráða þeir þetta með sér, at\n",
      "Eysteinn hefir konungr heitit,\n",
      "Ögmundr er maðr nefndr, er kal\n",
      "Nú er þat eitt sumar, at hann \n",
      "Í þann tíma réð fyrir Danmörku\n",
      "Nú ráða þeir þat með sér, at þ\n",
      "HEIMIR í Hlymdölum spyrr nú þe\n",
      "Sigurðr hefir átt sér einn fós\n",
      "Herruðr hét jarl ríkr ok ágætr\n",
      "Þetta spyrst til skipa Ragnars\n",
      "Nú er þat eitthvert sinn, at m\n",
      "Nú berr svá til, at þeir koma \n",
      "Nú er þar til máls at taka, er\n",
      "Nú segir hann, at honum lízt v\n",
      "Sá atburðr hefir verit út í lö\n"
     ]
    }
   ],
   "source": [
    "# old_norse_text_perseus\n",
    "\n",
    "import os\n",
    "import json\n",
    "\n",
    "corpus = os.path.join(USER_PATH, \"cltk_data/old_norse/text/old_norse_text_perseus/plain_text/Ragnars_saga_loðbrókar_ok_sona_hans\")\n",
    "chapters = []\n",
    "for filename in os.listdir(corpus):\n",
    "    with open(os.path.join(corpus, filename)) as f:\n",
    "        chapter_text = f.read()  # json.load(filename)\n",
    "        print(chapter_text[:30])\n",
    "        chapters.append(chapter_text)\n",
    "    \n",
    "#__import__('/home/pi/cltk_data/old_norse/text/old_norse_texts_heimskringla/text_manager')\n"
   ]
  },
  {
   "cell_type": "code",
   "execution_count": 13,
   "metadata": {},
   "outputs": [
    {
     "name": "stdout",
     "output_type": "stream",
     "text": [
      "['/usr/local/lib/python3.6/site-packages/git/ext/gitdb', '', '/usr/local/lib/python36.zip', '/usr/local/lib/python3.6', '/usr/local/lib/python3.6/lib-dynload', '/home/clement/.local/lib/python3.6/site-packages', '/usr/local/lib/python3.6/site-packages', '/usr/local/lib/python3.6/site-packages/IPython/extensions', '/home/clement/.ipython', '/home/clement/cltk_data/', '/home/clement/Documents/notebook/runes-analyzer', '/usr/local/lib/python3.6/site-packages/gitdb/ext/smmap']\n",
      "['Snorra-Edda', '__pycache__', 'Sæmundar-Edda']\n",
      "\n",
      "Atlakviða\n",
      "\n",
      "Dauði Atla\n",
      "\n",
      "Guðrún Gjúkadóttir hefndi bræðra sinna, svá sem frægt er orðit. Hon drap fyr\n"
     ]
    }
   ],
   "source": [
    "# old_norse_texts_heimskringla\n",
    "import sys\n",
    "print(sys.path)\n",
    "from old_norse.text.old_norse_texts_heimskringla.text_manager import *\n",
    "corpus_path = USER_PATH+\"/cltk_data/old_norse/text/old_norse_texts_heimskringla\"\n",
    "here = os.getcwd()\n",
    "os.chdir(corpus_path)\n",
    "loader = TextLoader(os.path.join(corpus_path, \"Sæmundar-Edda\", \"Atlakviða\"), \"txt\")\n",
    "print(loader.get_available_names())\n",
    "complete_text = loader.load()\n",
    "print(complete_text[:100])\n",
    "os.chdir(here)"
   ]
  },
  {
   "cell_type": "code",
   "execution_count": 14,
   "metadata": {},
   "outputs": [
    {
     "data": {
      "text/plain": [
       "[('Hlióðs', 'Unk'),\n",
       " ('bið', 'VBPI'),\n",
       " ('ek', 'PRO-N'),\n",
       " ('allar', 'Q-A'),\n",
       " ('.', '.')]"
      ]
     },
     "execution_count": 14,
     "metadata": {},
     "output_type": "execute_result"
    }
   ],
   "source": [
    "# POS tagging\n",
    "from cltk.tag.pos import POSTag\n",
    "tagger = POSTag('old_norse')\n",
    "sent = 'Hlióðs bið ek allar.'\n",
    "tagger.tag_tnt(sent)"
   ]
  },
  {
   "cell_type": "code",
   "execution_count": 7,
   "metadata": {},
   "outputs": [
    {
     "data": {
      "text/plain": [
       "['Gylfi', 'konungr', 'var', 'maðr', 'vitr', 'ok', 'fjölkunnigr', '.']"
      ]
     },
     "execution_count": 7,
     "metadata": {},
     "output_type": "execute_result"
    }
   ],
   "source": [
    "# Word tokenizing\n",
    "from cltk.tokenize.word import WordTokenizer\n",
    "word_tokenizer = WordTokenizer('old_norse')\n",
    "sentence = \"Gylfi konungr var maðr vitr ok fjölkunnigr.\"\n",
    "word_tokenizer.tokenize(sentence)"
   ]
  },
  {
   "cell_type": "code",
   "execution_count": 15,
   "metadata": {},
   "outputs": [
    {
     "data": {
      "text/plain": [
       "['var',\n",
       " 'einn',\n",
       " 'morgin',\n",
       " ',',\n",
       " 'karlsefni',\n",
       " 'rjóðrit',\n",
       " 'flekk',\n",
       " 'nökkurn',\n",
       " ',',\n",
       " 'glitraði']"
      ]
     },
     "execution_count": 15,
     "metadata": {},
     "output_type": "execute_result"
    }
   ],
   "source": [
    "# Old Norse stop words\n",
    "from nltk.tokenize.punkt import PunktLanguageVars\n",
    "from cltk.stop.old_norse.stops import STOPS_LIST\n",
    "sentence = 'Þat var einn morgin, er þeir Karlsefni sá fyrir ofan rjóðrit flekk nökkurn, sem glitraði við þeim'\n",
    "p = PunktLanguageVars()\n",
    "\n",
    "tokens = p.word_tokenize(sentence.lower())\n",
    "[w for w in tokens if not w in STOPS_LIST]"
   ]
  },
  {
   "cell_type": "code",
   "execution_count": 17,
   "metadata": {},
   "outputs": [
    {
     "name": "stdout",
     "output_type": "stream",
     "text": [
      "<cltk.corpus.swadesh.Swadesh object at 0xae0f6cec>\n"
     ]
    },
    {
     "data": {
      "text/plain": [
       "['ek',\n",
       " 'þú',\n",
       " 'hann',\n",
       " 'vér',\n",
       " 'þér',\n",
       " 'þeir',\n",
       " 'sjá, þessi',\n",
       " 'sá',\n",
       " 'hér',\n",
       " 'þar',\n",
       " 'hvar',\n",
       " 'hvat',\n",
       " 'hvar',\n",
       " 'hvenær',\n",
       " 'hvé',\n",
       " 'eigi',\n",
       " 'allr',\n",
       " 'margr',\n",
       " 'nǫkkurr',\n",
       " 'fár',\n",
       " 'annarr',\n",
       " 'einn',\n",
       " 'tveir',\n",
       " 'þrír',\n",
       " 'fjórir',\n",
       " 'fimm',\n",
       " 'stórr',\n",
       " 'langr',\n",
       " 'breiðr',\n",
       " 'þykkr']"
      ]
     },
     "execution_count": 17,
     "metadata": {},
     "output_type": "execute_result"
    }
   ],
   "source": [
    "# Swadesh list for Old Norse\n",
    "from cltk.corpus.swadesh import Swadesh\n",
    "swadesh = Swadesh('old_norse')\n",
    "print(swadesh)\n",
    "words = swadesh.words()\n",
    "words[:30]\n",
    "# Old Norse is not yet available with pip"
   ]
  },
  {
   "cell_type": "code",
   "execution_count": null,
   "metadata": {},
   "outputs": [],
   "source": []
  }
 ],
 "metadata": {
  "kernelspec": {
   "display_name": "Python 3",
   "language": "python",
   "name": "python3"
  },
  "language_info": {
   "codemirror_mode": {
    "name": "ipython",
    "version": 3
   },
   "file_extension": ".py",
   "mimetype": "text/x-python",
   "name": "python",
   "nbconvert_exporter": "python",
   "pygments_lexer": "ipython3",
   "version": "3.6.5"
  }
 },
 "nbformat": 4,
 "nbformat_minor": 1
}
