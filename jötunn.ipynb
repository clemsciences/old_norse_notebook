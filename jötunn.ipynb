{
 "cells": [
  {
   "cell_type": "markdown",
   "metadata": {},
   "source": [
    "# Place of jötunn in Old Norse Texts"
   ]
  },
  {
   "cell_type": "markdown",
   "metadata": {
    "collapsed": true
   },
   "source": [
    "The *jötunn* is one of the most known creature in the Germanic mythology. They are often referred as *giants*, whereas this translation is not always applicable. "
   ]
  },
  {
   "cell_type": "markdown",
   "metadata": {
    "collapsed": true
   },
   "source": [
    "---------------\n",
    "Some basic sources: [Jötunn](https://en.wikipedia.org/wiki/J%C3%B6tunn), [Jötunheimr](https://en.wikipedia.org/wiki/J%C3%B6tunheimr)"
   ]
  },
  {
   "cell_type": "markdown",
   "metadata": {
    "collapsed": true
   },
   "source": [
    "-----------------\n",
    "\n",
    "Basic survey of the Völuspá: https://github.com/clemsciences/old_norse_notebook/blob/master/voluspa.ipynb\n",
    "\n",
    "--------------------"
   ]
  },
  {
   "cell_type": "code",
   "execution_count": 1,
   "metadata": {
    "collapsed": false
   },
   "outputs": [],
   "source": [
    "import os\n",
    "from eddas import reader\n",
    "from eddas import text_manager\n",
    "from cltk.tokenize.word import tokenize_old_norse_words\n",
    "from nltk.text import Text"
   ]
  },
  {
   "cell_type": "markdown",
   "metadata": {},
   "source": [
    "### Pronounciation"
   ]
  },
  {
   "cell_type": "code",
   "execution_count": 2,
   "metadata": {
    "collapsed": true
   },
   "outputs": [],
   "source": [
    "from cltk.phonology import utils as phu\n",
    "from cltk.phonology.old_norse import transcription as ont "
   ]
  },
  {
   "cell_type": "code",
   "execution_count": 3,
   "metadata": {
    "collapsed": false
   },
   "outputs": [
    {
     "data": {
      "text/plain": [
       "'[jœtunː]'"
      ]
     },
     "execution_count": 3,
     "metadata": {},
     "output_type": "execute_result"
    }
   ],
   "source": [
    "tr = phu.Transcriber(ont.DIPHTHONGS_IPA, ont.DIPHTHONGS_IPA_class, ont.IPA_class, ont.old_norse_rules)\n",
    "tr.main(\"jötunn\")"
   ]
  },
  {
   "cell_type": "markdown",
   "metadata": {},
   "source": [
    "### Declension of jötunn\n",
    "\n",
    "Does the morphology of *jötunn* tell something about its use? This word seems regular for a masculine noun."
   ]
  },
  {
   "cell_type": "code",
   "execution_count": 4,
   "metadata": {
    "collapsed": true
   },
   "outputs": [],
   "source": [
    "from cltk.inflection.utils import DeclinableOneGender\n",
    "from cltk.inflection.utils import Gender"
   ]
  },
  {
   "cell_type": "code",
   "execution_count": 5,
   "metadata": {
    "collapsed": true
   },
   "outputs": [],
   "source": [
    "giant = DeclinableOneGender(\"jötunn\", Gender.masculine)\n",
    "giant.set_declension([\n",
    "        [\"jötunn\", \"jötun\", \"jötni\", \"jötuns\"],\n",
    "        [\"jötnar\", \"jötna\", \"jötnum\", \"jötna\"]\n",
    "    ])"
   ]
  },
  {
   "cell_type": "code",
   "execution_count": 6,
   "metadata": {
    "collapsed": false
   },
   "outputs": [
    {
     "data": {
      "text/plain": [
       "{'jötna', 'jötnar', 'jötni', 'jötnum', 'jötun', 'jötunn', 'jötuns'}"
      ]
     },
     "execution_count": 6,
     "metadata": {},
     "output_type": "execute_result"
    }
   ],
   "source": [
    "forms = set([word for declension_series in giant.declension \n",
    "             for word in declension_series])\n",
    "forms"
   ]
  },
  {
   "cell_type": "markdown",
   "metadata": {
    "collapsed": false
   },
   "source": [
    "# Poetic Edda\n",
    "\n",
    "The survey continues with an analysis of the use of *jötunn* word in the Poetic Edda in order to know better what characterizes them."
   ]
  },
  {
   "cell_type": "markdown",
   "metadata": {},
   "source": [
    "The available texts are:"
   ]
  },
  {
   "cell_type": "code",
   "execution_count": 7,
   "metadata": {
    "collapsed": false
   },
   "outputs": [
    {
     "name": "stdout",
     "output_type": "stream",
     "text": [
      "Titles: Rígsþula Helreið Brynhildar Gróttasöngr Sigrdrífumál Hárbarðsljóð Grímnismál Þrymskviða Völuspá Atlamál in grænlenzku Hyndluljóð Skírnismál Hymiskviða Atlakviða Vafþrúðnismál Oddrúnarkviða Völundarkviða Alvíssmál Fáfnismál Dráp Niflunga Hávamál Guðrúnarhvöt Hamðismál Baldrs draumar Lokasenna Guðrúnarkviða\n"
     ]
    }
   ],
   "source": [
    "print(\"Titles: \"+\" \".join(reader.poetic_edda_titles))"
   ]
  },
  {
   "cell_type": "code",
   "execution_count": 8,
   "metadata": {
    "collapsed": true
   },
   "outputs": [],
   "source": [
    "poetic_edda_texts = []\n",
    "for title in reader.poetic_edda_titles:\n",
    "    text_loader = text_manager.TextLoader(os.path.join(\"Sæmundar-Edda\", title), \"txt\")\n",
    "    poetic_edda_texts.append(Text(tokenize_old_norse_words(text_loader.load()), title))"
   ]
  },
  {
   "cell_type": "code",
   "execution_count": 9,
   "metadata": {
    "collapsed": false
   },
   "outputs": [
    {
     "name": "stdout",
     "output_type": "stream",
     "text": [
      "---------------------Hárbarðsljóð---------------------\n",
      "Displaying 2 of 2 matches:\n",
      " \" Þórr kvað : 23 . \"Ek var austr ok jötna barðak brúðir bölvísar , er til bjar\n",
      "r til bjargs gengu ; mikil myndi ætt jötna , ef allir lifði vætr myndi manna un\n",
      "No matches\n",
      "Displaying 1 of 1 matches:\n",
      " Hrungnir deildum , sá inn stórúðgi jötunn , er ór steini var höfuðit á ; þó l\n",
      "No matches\n",
      "No matches\n",
      "No matches\n",
      "Displaying 2 of 2 matches:\n",
      " 19 . \"Ek drap Þjaza , inn þrúðmóðga jötun , upp ek varp augum Alvalda sonar á \n",
      "á er ek vélta þær frá verum ; harðan jötun ek hugða Hlébarð vera , gaf hann mér\n",
      "---------------------Grímnismál---------------------\n",
      "No matches\n",
      "No matches\n",
      "Displaying 1 of 1 matches:\n",
      "tti , er Þjazi bjó , sá inn ámáttki jötunn ; en nú Skaði byggvir , skír brúðr \n",
      "No matches\n",
      "No matches\n",
      "No matches\n",
      "Displaying 1 of 1 matches:\n",
      "Sökkmímis , ok dulðak þann inn aldna jötun , þá er ek Miðvitnis vark ins mæra b\n",
      "---------------------Þrymskviða---------------------\n",
      "Displaying 5 of 5 matches:\n",
      " útan kom ása garða ok fyr innan kom jötna heima . 6 . Þrymr sat á haugi , þurs\n",
      "fjaðrhamr dunði , - unz fyr útan kom jötna heima ok fyr innan kom ása garða . M\n",
      "þar at kveldi of komit snemma ok fyr jötna öl fram borit ; einn át oxa , átta l\n",
      " Jötunheima . \" 29 . Inn kom in arma jötna systir , hin er brúðféar biðja þorði\n",
      "lla lamði . 32 . Drap hann ina öldnu jötna systur , hin er brúðféar of beðit ha\n",
      "No matches\n",
      "No matches\n",
      "Displaying 1 of 1 matches:\n",
      "arði gullhyrnðar kýr , öxn alsvartir jötni at gamni ; fjölð á ek meiðma , fjölð\n",
      "Displaying 3 of 3 matches:\n",
      "a ambótt fyrir , er orð of fann við jötuns máli : \"Át vætr Freyja átta nóttum \n",
      "a ambótt fyrir , er orð of fann við jötuns máli : \"Svaf vætr Freyja átta nóttu\n",
      "nn fyrstan , þursa dróttin , ok ætt jötuns alla lamði . 32 . Drap hann ina öld\n",
      "Displaying 2 of 2 matches:\n",
      "þú , Þórr , þeira orða . Þegar munu jötnar Ásgarð búa , nema þú þinn hamar þér\n",
      "r , þursa dróttinn : \"Standið upp , jötnar , ok stráið bekki , nú færa mér Fre\n",
      "No matches\n",
      "---------------------Völuspá---------------------\n",
      "Displaying 1 of 1 matches:\n",
      " , þau er fremst of man . 2 . Ek man jötna ár of borna , þá er forðum mik fædda\n",
      "No matches\n",
      "Displaying 1 of 1 matches:\n",
      "r standandi , ymr it aldna tré , en jötunn losnar ; hræðask allir á helvegum á\n",
      "No matches\n",
      "Displaying 2 of 2 matches:\n",
      "efði loft allt lævi blandit eða ætt jötuns Óðs mey gefna . 26 . Þórr einn þar \n",
      " ; en annarr stóð á Ókólni bjórsalr jötuns , en sá Brimir heitir . 38 . Sal sá\n",
      "No matches\n",
      "No matches\n",
      "---------------------Atlamál in grænlenzku---------------------\n",
      "No matches\n",
      "No matches\n",
      "No matches\n",
      "No matches\n",
      "No matches\n",
      "Displaying 1 of 1 matches:\n",
      "sér réð hann lítt eira : \"Eigi hann jötnar , ef hann at yðr lygi , galgi görva\n",
      "No matches\n",
      "---------------------Hyndluljóð---------------------\n",
      "No matches\n",
      "No matches\n",
      "No matches\n",
      "No matches\n",
      "Displaying 2 of 2 matches:\n",
      "einart láti ; þó er hánum ótítt við jötuns brúðir . 5 . Nú taktu ulf þinn einn\n",
      " þín skal engu ráða , þóttú , brúðr jötuns , bölvi heitir ; hann skal drekka d\n",
      "No matches\n",
      "No matches\n",
      "---------------------Skírnismál---------------------\n",
      "Displaying 2 of 2 matches:\n",
      " ok þat sverð , er sjalft vegisk við jötna ætt . \" Freyr kvað : 9 . \"Mar ek þér\n",
      " Tramar gneypa þik skulu gerstan dag jötna görðum í ; til hrímþursa hallar þú s\n",
      "No matches\n",
      "Displaying 2 of 2 matches:\n",
      ", eða okkr báða tekr sá inn ámáttki jötunn . \" Skírnir reið í Jötunheima til G\n",
      "yr þessum eggjum hnígr sá inn aldni jötunn , verðr þinn feigr faðir . 26 . Tam\n",
      "No matches\n",
      "No matches\n",
      "Displaying 1 of 1 matches:\n",
      " hefr gambanreiði goða . 34 . Heyri jötnar , heyri hrímþursar , synir Suttungs\n",
      "No matches\n",
      "---------------------Hymiskviða---------------------\n",
      "Displaying 1 of 1 matches:\n",
      "ít bera bjórveig syni : 9 . \"Áttniðr jötna , ek viljak ykkr hugfulla tvá und hv\n",
      "No matches\n",
      "Displaying 6 of 6 matches:\n",
      "f þolli ; fram gengu þeir , en forn jötunn sjónum leiddi sinn andskota . 14 . \n",
      "ru þjórar þrír of teknir , bað senn jötunn sjóða ganga . 15 . Hvern létu þeir \n",
      "r kvaðzk vilja á vág róa , ef ballr jötunn beitr gæfi . Hymir kvað : \"Hverf þú\n",
      "ttinn áttrunn apa útar færa , en sá jötunn sína talði lítla fýsi at róa lengra\n",
      " síðan sá fiskr í mar . 25 . Óteitr jötunn , er aftr reru , svá at ár Hymir ek\n",
      "oltriða hver í gegnum . 28 . Ok enn jötunn um afrendi , þrágirni vanr , við Þó\n",
      "Displaying 1 of 1 matches:\n",
      "ásum oft sumbl gera . \" 3 . Önn fekk jötni orðbæginn halr , hugði at hefndum ha\n",
      "Displaying 3 of 3 matches:\n",
      "fyrir . \" Sundr stökk súla fyr sjón jötuns , en áðr í tvau áss brotnaði . 13 .\n",
      "stskotu bar hann til bæjar brimsvín jötuns ok holtriða hver í gegnum . 28 . Ok\n",
      " Hymis , hann er harðari , kostmóðs jötuns kálki hverjum . \" 31 . Harðr reis á\n",
      "No matches\n",
      "No matches\n",
      "---------------------Vafþrúðnismál---------------------\n",
      "Displaying 5 of 5 matches:\n",
      "ma , hvé sú á heitir , er deilir með jötna sonum grund ok með goðum . \" Óðinn k\n",
      "16 . \"Ífing heitir á , er deilir með jötna sonum grund ok með goðum ; opin renn\n",
      "r , vitir , hvaðan Aurgelmir kom með jötna sonum fyrst , inn fróði jötunn . \" V\n",
      "a rök öll , Vafþrúðnir , vitir , frá jötna rúnum ok allra goða segir þú it sann\n",
      "tunn . \" Vafþrúðnir kvað : 43 . \"Frá jötna rúnum ok allra goða ek kann segja sa\n",
      "Displaying 1 of 1 matches:\n",
      "nar þær er í heimi eru , þó þær með jötnum alask . \" Óðinn kvað : 50 . \"Fjölð \n",
      "Displaying 10 of 10 matches:\n",
      " vita , ef þú fróðr sér eða alsviðr jötunn . \" Vafþrúðnir kvað : 7 . \"Hvat er \n",
      "k lengi farit - ok þinna andfanga , jötunn . \" Vafþrúðnir kvað : 9 . \"Hví þú þ\n",
      "kom eða upphiminn fyrst , inn fróði jötunn . \" Vafþrúðnir kvað : 21 . \"Ór Ymis\n",
      "m með jötna sonum fyrst , inn fróði jötunn . \" Vafþrúðnir kvað : 31 . \"Ór Éliv\n",
      "ukku eitrdropar , svá óx , unz varð jötunn ; þar eru órar ættir komnar allar s\n",
      "itir , hvé sá börn gat , inn baldni jötunn , er hann hafði -t gýgjar gaman . \"\n",
      " fremst of veizt , þú ert alsviðr , jötunn . \" Vafþrúðnir kvað : 35 . Örófi ve\n",
      "t ek fyrst of man , er sá inn fróði jötunn á var lúðr of lagiðr . \" Óðinn kvað\n",
      "gr heitir , er sitr á himins enda , jötunn í arnar ham ; af hans vængjum kvæða\n",
      "segir þú it sannasta , inn alsvinni jötunn . \" Vafþrúðnir kvað : 43 . \"Frá jöt\n",
      "No matches\n",
      "Displaying 4 of 4 matches:\n",
      " freista orðspeki þess ins alsvinna jötuns ; at höllu hann kom , ok átti Íms f\n",
      "óðr ertu nú , gestr , far þú á bekk jötuns , ok mælumk í sessi saman ; höfði v\n",
      "örg , himinn ór hausi ins hrímkalda jötuns , en ór sveita sær . \" Óðinn kvað :\n",
      "saman ; fótr við fæti gat ins fróða jötuns sexhöfðaðan son . \" Óðinn kvað : 34\n",
      "No matches\n",
      "Displaying 3 of 3 matches:\n",
      " fornum stöfum við þann inn alsvinna jötun . \" Frigg kvað : 2 . \"Heima letja ek\n",
      "erjaföðr í görðum goða ; því at engi jötun ek hugða jafnramman sem Vafþrúðni ve\n",
      "ars þú skalt , Aldaföðr , orðum mæla jötun . 5 . Fór þá Óðinn at freista orðspe\n",
      "---------------------Alvíssmál---------------------\n",
      "No matches\n",
      "No matches\n",
      "No matches\n",
      "No matches\n",
      "No matches\n",
      "Displaying 13 of 13 matches:\n",
      "sum fold , kalla vega vanir , ígræn jötnar , alfar gróandi , kalla aur uppregi\n",
      "um , kalla vindófni vanir , uppheim jötnar , alfar fagraræfr , dvergar drjúpan\n",
      "lla hverfanda hvél helju í , skyndi jötnar , en skin dvergar , kalla alfar árt\n",
      "kalla dvergar Dvalins leika , eygló jötnar , alfar fagrahvél , alskír ása syni\n",
      "oðum , kalla vindflot vanir , úrván jötnar , alfar veðrmegin , kalla í helju h\n",
      "um , kalla gneggjuð ginnregin , æpi jötnar , alfar dynfara , kalla í helju hvi\n",
      "goðum , kalla vindlot vanir , ofhlý jötnar , alfar dagsefa , kalla dvergar dag\n",
      "eð goðum , kalla vág vanir , álheim jötnar , alfar lagastaf , kalla dvergar dj\n",
      "sum funi , kalla vág vanir , frekan jötnar , en forbrenni dvergar , kalla í he\n",
      "goðum , kalla hlíðþang halir , eldi jötnar alfar fagrlima , kalla vönd vanir .\n",
      "ðum , kalla grímu ginnregin , óljós jötnar , alfar svefngaman , kalla dvergar \n",
      " með goðum , kalla vöxt vanir , æti jötnar , alfar lagastaf , kalla í helju hn\n",
      "jórr , kalla veig vanir , hreinalög jötnar , en í helju mjöð , kalla sumbl Sut\n",
      "No matches\n",
      "---------------------Fáfnismál---------------------\n",
      "No matches\n",
      "No matches\n",
      "No matches\n",
      "No matches\n",
      "No matches\n",
      "No matches\n",
      "Displaying 2 of 2 matches:\n",
      "gja létir þú lyngvi í þann inn aldna jötun , ef þú sverðs né nytir , þess er ek\n",
      "skemmra láti hann þann inn hrímkalda jötun ok af baugum búa ; þá mun hann fjár \n",
      "---------------------Hávamál---------------------\n",
      "Displaying 2 of 2 matches:\n",
      " grjót gnaga ; yfir ok undir stóðumk jötna vegir , svá hætta ek höfði til . 107\n",
      "Ifi er mér á , at ek væra enn kominn jötna görðum ór , ef ek Gunnlaðar né nytak\n",
      "Displaying 1 of 1 matches:\n",
      ", Dvalinn ok dvergum fyrir , Ásviðr jötnum fyrir , ek reist sjalfr sumar . 144\n",
      "No matches\n",
      "No matches\n",
      "No matches\n",
      "No matches\n",
      "Displaying 1 of 1 matches:\n",
      "at er ósnotrs aðal . 104 . Inn aldna jötun ek sótta , nú em ek aftr of kominn :\n"
     ]
    }
   ],
   "source": [
    "for text in poetic_edda_texts:\n",
    "    giant_count = sum([text.count(form) for form in forms])\n",
    "    if giant_count > 0:\n",
    "        print(\"---------------------\"+text.name+\"---------------------\")\n",
    "        for form in forms:\n",
    "            text.concordance(form)"
   ]
  },
  {
   "cell_type": "code",
   "execution_count": 10,
   "metadata": {
    "collapsed": false
   },
   "outputs": [
    {
     "data": {
      "text/plain": [
       "0.0006917675015221259"
      ]
     },
     "execution_count": 10,
     "metadata": {},
     "output_type": "execute_result"
    }
   ],
   "source": [
    "from nltk.text import TextCollection\n",
    "tc = TextCollection(poetic_edda_texts)\n",
    "tc.tf_idf(\"jötunn\", poetic_edda_texts[7])"
   ]
  },
  {
   "cell_type": "markdown",
   "metadata": {
    "collapsed": true
   },
   "source": [
    "By Clément Besnier, web site: https://clementbesnierfr/, twitter: **@clemsciences**"
   ]
  }
 ],
 "metadata": {
  "kernelspec": {
   "display_name": "languages",
   "language": "python",
   "name": "languages"
  },
  "language_info": {
   "codemirror_mode": {
    "name": "ipython",
    "version": 3
   },
   "file_extension": ".py",
   "mimetype": "text/x-python",
   "name": "python",
   "nbconvert_exporter": "python",
   "pygments_lexer": "ipython3",
   "version": "3.6.0"
  }
 },
 "nbformat": 4,
 "nbformat_minor": 0
}
