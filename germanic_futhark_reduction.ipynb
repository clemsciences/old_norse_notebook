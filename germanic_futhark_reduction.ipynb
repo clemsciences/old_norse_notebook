{
 "cells": [
  {
   "cell_type": "markdown",
   "metadata": {},
   "source": [
    "# From Elder Futhark to Younger Futhark"
   ]
  },
  {
   "cell_type": "code",
   "execution_count": null,
   "metadata": {
    "collapsed": true
   },
   "outputs": [],
   "source": []
  },
  {
   "cell_type": "markdown",
   "metadata": {},
   "source": [
    "## Introduction\n",
    "\n",
    "This notebook intends to use computational tools to present what happened in the Scandinavian world to use an alphabet with 24 signs (*the Elder Futhark*) until the eigth century, then to use an alphabet with 16 signs. A reduction of 8 signs is not common in the history of scriptures in the world.\n"
   ]
  },
  {
   "cell_type": "markdown",
   "metadata": {},
   "source": [
    "What do we call *Futhark*? This is the alphabet of Germanic peoples. The name comes from the 6 first runes of the runic scripture."
   ]
  },
  {
   "cell_type": "code",
   "execution_count": null,
   "metadata": {
    "collapsed": true
   },
   "outputs": [],
   "source": []
  },
  {
   "cell_type": "code",
   "execution_count": 1,
   "metadata": {
    "collapsed": true
   },
   "outputs": [],
   "source": [
    "from runesanalyzer import data"
   ]
  },
  {
   "cell_type": "markdown",
   "metadata": {},
   "source": [
    "The six first runes of the *Elder Futhark*"
   ]
  },
  {
   "cell_type": "code",
   "execution_count": 2,
   "metadata": {
    "collapsed": false
   },
   "outputs": [
    {
     "data": {
      "text/plain": [
       "[ᚠ, ᚢ, ᚦ, ᚨ, ᚱ, ᚲ]"
      ]
     },
     "execution_count": 2,
     "metadata": {},
     "output_type": "execute_result"
    }
   ],
   "source": [
    "data.ELDER_FUTHARK[:6]"
   ]
  },
  {
   "cell_type": "code",
   "execution_count": 3,
   "metadata": {
    "collapsed": false
   },
   "outputs": [
    {
     "data": {
      "text/plain": [
       "['f', 'u', 'þ', 'a', 'r', 'k']"
      ]
     },
     "execution_count": 3,
     "metadata": {},
     "output_type": "execute_result"
    }
   ],
   "source": [
    "[rune.transcription for rune in data.ELDER_FUTHARK[:6]]"
   ]
  },
  {
   "cell_type": "markdown",
   "metadata": {},
   "source": [
    "The six first runes of the *Younger Futhark*"
   ]
  },
  {
   "cell_type": "code",
   "execution_count": 4,
   "metadata": {
    "collapsed": false
   },
   "outputs": [
    {
     "data": {
      "text/plain": [
       "[ᚠ, ᚢ, ᚦ, ᚭ, ᚱ, ᚴ]"
      ]
     },
     "execution_count": 4,
     "metadata": {},
     "output_type": "execute_result"
    }
   ],
   "source": [
    "data.YOUNGER_FUTHARK[:6]"
   ]
  },
  {
   "cell_type": "code",
   "execution_count": 5,
   "metadata": {
    "collapsed": false
   },
   "outputs": [
    {
     "data": {
      "text/plain": [
       "['f', 'u', 'þ', 'a', 'r', 'k']"
      ]
     },
     "execution_count": 5,
     "metadata": {},
     "output_type": "execute_result"
    }
   ],
   "source": [
    "[rune.transcription for rune in data.YOUNGER_FUTHARK[:6]]"
   ]
  },
  {
   "cell_type": "markdown",
   "metadata": {},
   "source": [
    "In the Nordic area, there are almost no runic inscriptions found during the 8th century."
   ]
  },
  {
   "cell_type": "code",
   "execution_count": 6,
   "metadata": {
    "collapsed": true
   },
   "outputs": [],
   "source": [
    "import codecs\n",
    "import os\n",
    "from runesanalyzer.scraper import retrieve_scandinavian_runic_text_database"
   ]
  },
  {
   "cell_type": "code",
   "execution_count": 7,
   "metadata": {
    "collapsed": true
   },
   "outputs": [],
   "source": [
    "retrieve_scandinavian_runic_text_database()"
   ]
  },
  {
   "cell_type": "code",
   "execution_count": 8,
   "metadata": {
    "collapsed": false
   },
   "outputs": [],
   "source": [
    "from runesanalyzer.reader import load_metadata"
   ]
  },
  {
   "cell_type": "code",
   "execution_count": 9,
   "metadata": {
    "collapsed": false
   },
   "outputs": [
    {
     "name": "stdout",
     "output_type": "stream",
     "text": [
      "['Signum', 'Plats', 'Socken', 'Härad', 'Kommun', 'Placering', 'Koordinater', 'Urspr. plats?', 'Nuv. koord.', 'Sockenkod/Fornlämningsnr.', 'Runtyper', 'Korsform', 'Period/Datering', 'Stilgruppering', 'Ristare', 'Materialtyp', 'Material', 'Föremål', 'Övrigt', 'Alternativt signum', 'Referens', 'Bildlänk']\n"
     ]
    }
   ],
   "source": [
    "dated_inscriptions = {}\n",
    "for line in load_metadata():\n",
    "    if line[\"Period/Datering\"]:\n",
    "        dated_inscriptions[line[\"Signum\"]] = line[\"Period/Datering\"]\n"
   ]
  },
  {
   "cell_type": "code",
   "execution_count": 10,
   "metadata": {
    "collapsed": false,
    "scrolled": true
   },
   "outputs": [
    {
     "name": "stdout",
     "output_type": "stream",
     "text": [
      "Ög KJ59 U  \t U 520/530-700 (Imer 2007)\n",
      "U HG1989;44 U  \t U 600-700 (Imer 2007)\n",
      "Vr NOR1994;27 $U  \t U 520/530-560/570 (Imer 2007) ; U 550-700 (Fv 2011)\n",
      "Bo Boije4 $  \t V 700-800-t\n",
      "G 157   \t V 700-t\n",
      "G 248   \t V 700-t\n",
      "G 253 †SENTIDA  \t Sentida 1700-t(?)\n",
      "G 268   \t V s 700-t - b 900-t\n",
      "G 379 SENTIDA  \t Sentida 1700-t\n",
      "DR 54 $SENTIDA  \t Sentida 1700-t(?)\n",
      "DR 263 $  \t V 700-750 (DK Sk 5)\n",
      "DR 357 $U  \t U 520/530-700 (Imer 2007)\n",
      "DR 358 †$U  \t U 560/570-700 (Imer 2007)\n",
      "DR 360 U  \t U 520/530-700 (Imer 2007)\n",
      "DR EM85;151B $  \t V 700-750 (Imer 2007)\n",
      "DR AUD1995;277 U  \t U 630-675/700 (Imer 2007)\n",
      "DR DKFyn51   \t V 700-900\n",
      "N 450 U  \t U ca 650 - ca 700\n",
      "N KJ101 $U  \t U 650-700 (Grønvik)\n"
     ]
    }
   ],
   "source": [
    "inscriptions_700 = {}\n",
    "for i in dated_inscriptions:\n",
    "    if \"700\" in dated_inscriptions[i]:\n",
    "        inscriptions_700[i] = dated_inscriptions[i]\n",
    "        print(i, \"\\t\", dated_inscriptions[i])"
   ]
  },
  {
   "cell_type": "code",
   "execution_count": 11,
   "metadata": {
    "collapsed": false
   },
   "outputs": [
    {
     "name": "stdout",
     "output_type": "stream",
     "text": [
      "§A ekA sigimArAz Afs... §B ...kA rAisidokA stAinAz -... kk kiiii kkk... \n",
      "\n",
      "§A h-AhAhAukz Albu-- §B ...-nA \n",
      "\n",
      "--jþaahar farkano \n",
      "\n",
      "§PA fulk- §PB isuk §PC kilfihR §PD ftinun iþninufoi §QA fulki §QB Auk §QC kilfihR §QD iþ f tinuh tinu foiþu §RA fulk §RB isuk §RC kilfiAR §RD iþ ftinuA tinufoiþu \n",
      "\n",
      "...uþurfrataGR-u-a... \n",
      "\n",
      "...ik... \n",
      "\n",
      "¬ \n",
      "\n",
      "D-aRutDuþ \n",
      "\n",
      "¬ \n",
      "\n",
      "¬ \n",
      "\n",
      "§P ... RRRRRRRRRRRRRRRR -aþi tuk fauka fiaR sis in a iak asu þui launat ... auab-k sua fakat... §Q ... RRRRRRRRRRRRRRRR raþi tuk fauka fiaR sis in a iak asa þui launat ... auab-k sua fakat... \n",
      "\n",
      "§AP niuhAborumz niuhagestumz hAþuwolAfz gAf j hAriwolAfz mA--u snuh-e hidez runono felAh ekA hederA §AQ niu hAborumz niu hagestumz hAþuwolAfz gAf j hAriwolAfz mA--u snuh-e hidez runono felAh ekA hederA §B ginoronoz §C herAmAlAsAz ArAgeu welAdudsA þAt §D bAriutiþ \n",
      "\n",
      "§PA hAþuwolAfA §PB sAte §PC stAbA þria §PD fff §QA ... hAþuwolAfA §QB ... sAte §QC ... stAbA þria §QD fff \n",
      "\n",
      "§A hAidz runo ronu fAlAhAk hAiderA ginArunAz ArAgeu hAerAmAlAusz utiAz welAdAude sAz þAt bArutz §B uþArAbA sbA\n",
      "\n",
      "§P ulfuR Auk uþin Auk HutiuR HiAlb buris uiþR þAiMA uiArki Auk tuirkuniG buur §Q ulfuR Auk uþin Auk HutiuR HiAlb buri is uiþR þAimA uiArki Auk tuirkuniu buur §R ulfuR Auk uþin Auk HutiuR HiAlb buri is uiþR þAiMA uiArki Auk tuirk unin buur \n",
      "\n",
      "...uAlis \n",
      "\n",
      "oslakR \n",
      "\n",
      "siklis nA hli \n",
      "\n",
      "§A min wArb nAseu wilR mAde þAim kAibA i bormoþA huni huwAR ob kam hArie a hit lat gotnA fiskR oR firnAuim suwimade foki af -a----gA lande §B A-- is urki §C ni s solu sot ukni sAkse stAin skorin ni ---- maR nAkdan is nA wrinR ni wiltiR manR lagi- \n",
      "\n"
     ]
    }
   ],
   "source": [
    "def load_rundata():\n",
    "    with codecs.open(os.path.join(\"data_runes\", \"RUNTEXTX\"), \"r\", encoding=\"utf-8\") as f:\n",
    "        for line in f:\n",
    "            yield line\n",
    "\n",
    "for line in load_rundata():\n",
    "    for i in inscriptions_700:\n",
    "        if line[0] != \"!\":\n",
    "            if line.startswith(i):\n",
    "                print(line[len(i):])\n",
    "                break"
   ]
  },
  {
   "cell_type": "code",
   "execution_count": 12,
   "metadata": {
    "collapsed": true
   },
   "outputs": [],
   "source": [
    "import re\n",
    "\n",
    "def retrieve_inscriptions_by_period():\n",
    "    dated_inscriptions = {}\n",
    "    for line in load_metadata():\n",
    "        if line[\"Period/Datering\"]:\n",
    "            dated_inscriptions[line[\"Signum\"]] = line[\"Period/Datering\"]\n",
    "    return dated_inscriptions\n",
    "\n",
    "def group_inscriptions_by_period():\n",
    "    p = re.compile(r\"^(?P<period>[UVM]) \")\n",
    "    dated_inscriptions = retrieve_inscriptions_by_period()\n",
    "    grouped_dated_inscriptions = {\"U\": [], \"V\": [], \"M\": []}\n",
    "    for i, period in dated_inscriptions.items():\n",
    "        m = p.search(period) \n",
    "        if m:\n",
    "            global_period = m.group(\"period\")\n",
    "            grouped_dated_inscriptions[global_period].append(i)\n",
    "    return grouped_dated_inscriptions"
   ]
  },
  {
   "cell_type": "code",
   "execution_count": 13,
   "metadata": {
    "collapsed": false
   },
   "outputs": [],
   "source": [
    "def get_century(period):\n",
    "    p = re.compile(r\"(?P<period>[0-9]{3,4})\")\n",
    "    m = p.search(period) \n",
    "    if m:\n",
    "        year_period = m.group(\"period\")\n",
    "        return year_period\n",
    "    else:\n",
    "        return None\n",
    "        \n",
    "def get_approximative_period(period):\n",
    "    p = re.compile(r\"(?P<start_low>[0-9]{3,4})/(?P<start_high>[0-9]{3,4})-(?P<end_low>[0-9]{3,4})/(?P<end_high>[0-9]{3,4})\")\n",
    "    m = p.search(period) \n",
    "    if m:\n",
    "        start_low, start_high, end_low, end_high = m.group(\"start_low\"), \\\n",
    "        m.group(\"start_high\"), m.group(\"end_low\"), m.group(\"end_high\")\n",
    "        return start_low, start_high, end_low, end_high\n",
    "    else:\n",
    "        return None\n",
    "    \n",
    "\n",
    "def get_year_period(period):\n",
    "    p = re.compile(r\"(?P<start>[0-9]{3,4})-(?P<end>[0-9]{3,4})\")\n",
    "    m = p.search(period) \n",
    "    if m:\n",
    "        start, end = m.group(\"start\"), m.group(\"end\")\n",
    "        return start, end\n",
    "    else:\n",
    "        return None\n",
    "    \n",
    "    \n",
    "def get_date(period):\n",
    "    main_period = \"\"\n",
    "    if len(period) == 1:\n",
    "        return period\n",
    "    if period[1] == \" \":\n",
    "        main_period = period[0]\n",
    "        period = period[2:]\n",
    "    res = get_approximative_period(period)\n",
    "    if res:\n",
    "        return str(int((int(res[3])+int(res[0]))/2))\n",
    "    res = get_year_period(period)\n",
    "    if res:\n",
    "        return str(int((int(res[1])+int(res[0]))/2))\n",
    "    res = get_century(period)\n",
    "    if res:\n",
    "        return res\n",
    "    else:\n",
    "        return main_period\n",
    "    \n",
    "    "
   ]
  },
  {
   "cell_type": "code",
   "execution_count": 14,
   "metadata": {
    "collapsed": false
   },
   "outputs": [
    {
     "data": {
      "text/plain": [
       "'900'"
      ]
     },
     "execution_count": 14,
     "metadata": {},
     "output_type": "execute_result"
    }
   ],
   "source": [
    "get_century(\"V b 900-t\")"
   ]
  },
  {
   "cell_type": "code",
   "execution_count": 15,
   "metadata": {
    "collapsed": false
   },
   "outputs": [
    {
     "data": {
      "text/plain": [
       "('560', '570', '775', '800')"
      ]
     },
     "execution_count": 15,
     "metadata": {},
     "output_type": "execute_result"
    }
   ],
   "source": [
    "get_approximative_period(\"U/V 560/570-775/800 (Imer 2007)\")"
   ]
  },
  {
   "cell_type": "code",
   "execution_count": 16,
   "metadata": {
    "collapsed": false
   },
   "outputs": [
    {
     "data": {
      "text/plain": [
       "('1175', '1225')"
      ]
     },
     "execution_count": 16,
     "metadata": {},
     "output_type": "execute_result"
    }
   ],
   "source": [
    "get_year_period(\"M 1175-1225\")"
   ]
  },
  {
   "cell_type": "code",
   "execution_count": 17,
   "metadata": {
    "collapsed": false
   },
   "outputs": [
    {
     "name": "stdout",
     "output_type": "stream",
     "text": [
      "['Signum', 'Plats', 'Socken', 'Härad', 'Kommun', 'Placering', 'Koordinater', 'Urspr. plats?', 'Nuv. koord.', 'Sockenkod/Fornlämningsnr.', 'Runtyper', 'Korsform', 'Period/Datering', 'Stilgruppering', 'Ristare', 'Materialtyp', 'Material', 'Föremål', 'Övrigt', 'Alternativt signum', 'Referens', 'Bildlänk']\n"
     ]
    }
   ],
   "source": [
    "# aaa = 0\n",
    "from collections import Counter\n",
    "set_time = []\n",
    "dated_inscriptions = {}\n",
    "for line in load_metadata():\n",
    "    if line[\"Period/Datering\"].strip():\n",
    "        set_time.append(get_date(line[\"Period/Datering\"]))\n",
    "    # if aaa > 30:\n",
    "    #    break\n",
    "    # aaa += 1\n",
    "counter = Counter(set_time)\n"
   ]
  },
  {
   "cell_type": "code",
   "execution_count": 50,
   "metadata": {
    "collapsed": false
   },
   "outputs": [],
   "source": [
    "n = 100\n",
    "sorted_counts = [i for i in counter.most_common(n) if i[0].isdigit() ]\n",
    "sorted(sorted_counts, key=lambda x: int(x[0]))\n",
    "sorted_dates = [i[0] for i in sorted_counts]\n",
    "sorted_numbers = [i[1] for i in sorted_counts]"
   ]
  },
  {
   "cell_type": "code",
   "execution_count": null,
   "metadata": {
    "collapsed": false
   },
   "outputs": [],
   "source": []
  },
  {
   "cell_type": "code",
   "execution_count": 19,
   "metadata": {
    "collapsed": false
   },
   "outputs": [
    {
     "name": "stdout",
     "output_type": "stream",
     "text": [
      "['Signum', 'Plats', 'Socken', 'Härad', 'Kommun', 'Placering', 'Koordinater', 'Urspr. plats?', 'Nuv. koord.', 'Sockenkod/Fornlämningsnr.', 'Runtyper', 'Korsform', 'Period/Datering', 'Stilgruppering', 'Ristare', 'Materialtyp', 'Material', 'Föremål', 'Övrigt', 'Alternativt signum', 'Referens', 'Bildlänk']\n"
     ]
    }
   ],
   "source": [
    "a = group_inscriptions_by_period()"
   ]
  },
  {
   "cell_type": "code",
   "execution_count": 35,
   "metadata": {
    "collapsed": false
   },
   "outputs": [],
   "source": [
    "# a['M']"
   ]
  },
  {
   "cell_type": "code",
   "execution_count": 22,
   "metadata": {
    "collapsed": true
   },
   "outputs": [],
   "source": [
    "import matplotlib.pyplot as plt\n",
    "import numpy as np\n",
    "\n",
    "import warnings\n",
    "warnings.simplefilter(\"ignore\")\n",
    "\n",
    "%matplotlib inline"
   ]
  },
  {
   "cell_type": "code",
   "execution_count": 51,
   "metadata": {
    "collapsed": false
   },
   "outputs": [
    {
     "data": {
      "image/png": "[encoded data removed]",
      "text/plain": [
       "<Figure size 1800x1600 with 1 Axes>"
      ]
     },
     "metadata": {},
     "output_type": "display_data"
    }
   ],
   "source": [
    "plt.rcdefaults()\n",
    "fig, ax = plt.subplots(figsize=(18, 16))\n",
    "\n",
    "# Example data\n",
    "y_pos = np.arange(max(sorted_numbers))\n",
    "\n",
    "rects1 = ax.barh(sorted_dates, sorted_numbers, align='center',\n",
    "        color='green', ecolor='black', label=\"Number of stanzas\")\n",
    "\n",
    "ax.set_yticks(sorted_dates)\n",
    "ax.set_yticklabels(sorted_dates)\n",
    "#ax.invert_yaxis()  # labels read top-to-bottom\n",
    "ax.set_xlabel('')\n",
    "ax.set_ylabel(\"\")\n",
    "ax.set_title('')\n",
    "\n",
    "plt.show()"
   ]
  },
  {
   "cell_type": "code",
   "execution_count": null,
   "metadata": {
    "collapsed": true
   },
   "outputs": [],
   "source": []
  },
  {
   "cell_type": "markdown",
   "metadata": {
    "collapsed": true
   },
   "source": [
    "* Find transcriptions of runes which disappeared in the younger futhark\n",
    "* Find positions in words of such runes"
   ]
  },
  {
   "cell_type": "code",
   "execution_count": null,
   "metadata": {
    "collapsed": true
   },
   "outputs": [],
   "source": []
  },
  {
   "cell_type": "code",
   "execution_count": null,
   "metadata": {
    "collapsed": true
   },
   "outputs": [],
   "source": []
  },
  {
   "cell_type": "code",
   "execution_count": null,
   "metadata": {
    "collapsed": true
   },
   "outputs": [],
   "source": []
  },
  {
   "cell_type": "code",
   "execution_count": null,
   "metadata": {
    "collapsed": true
   },
   "outputs": [],
   "source": []
  },
  {
   "cell_type": "markdown",
   "metadata": {},
   "source": [
    "By Clément Besnier [www.clementbesnier.fr](www.clementbesnier.fr)"
   ]
  }
 ],
 "metadata": {
  "kernelspec": {
   "display_name": "Environment (old_norse_notebook)",
   "language": "",
   "name": "old_norse_notebook"
  },
  "language_info": {
   "codemirror_mode": {
    "name": "ipython",
    "version": 3
   },
   "file_extension": ".py",
   "mimetype": "text/x-python",
   "name": "python",
   "nbconvert_exporter": "python",
   "pygments_lexer": "ipython3",
   "version": "3.6.0"
  }
 },
 "nbformat": 4,
 "nbformat_minor": 0
}
