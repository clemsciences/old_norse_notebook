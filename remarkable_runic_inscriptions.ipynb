{
 "cells": [
  {
   "cell_type": "code",
   "execution_count": null,
   "metadata": {
    "collapsed": true
   },
   "outputs": [],
   "source": [
    "from runesanalyzer.reader import load_metadata"
   ]
  },
  {
   "cell_type": "code",
   "execution_count": null,
   "metadata": {
    "collapsed": true
   },
   "outputs": [],
   "source": [
    "def load_rundata():\n",
    "    with codecs.open(os.path.join(\"data_runes\", \"RUNTEXTX\"), \"r\", encoding=\"utf-8\") as f:\n",
    "        for line in f:\n",
    "            yield line"
   ]
  },
  {
   "cell_type": "code",
   "execution_count": null,
   "metadata": {
    "collapsed": true
   },
   "outputs": [],
   "source": [
    "def find_runic_inscription_by_reference(reference):\n",
    "    for line in load_rundata():\n",
    "        if line.startswith(reference):\n",
    "            return line[len(reference):].strip()"
   ]
  },
  {
   "cell_type": "code",
   "execution_count": null,
   "metadata": {
    "collapsed": true
   },
   "outputs": [],
   "source": [
    "from runesanalyzer.data import ELDER_FUTHARK"
   ]
  },
  {
   "cell_type": "code",
   "execution_count": null,
   "metadata": {
    "collapsed": true
   },
   "outputs": [],
   "source": [
    "def rundata_transcription_to_runic(transcription):\n",
    "    d = {rune.transcription: rune.form for rune in ELDER_FUTHARK}\n",
    "    d[\"ñ\"] = ELDER_FUTHARK[21].form\n",
    "    d[\" \"] = \" \"\n",
    "    d[\"ï\"] = ELDER_FUTHARK[12].form\n",
    "    d[\"z\"] = ELDER_FUTHARK[14].form\n",
    "    d[\"o\"] = ELDER_FUTHARK[22].form\n",
    "    return \"\".join([d[character] for character in transcription])"
   ]
  },
  {
   "cell_type": "code",
   "execution_count": null,
   "metadata": {
    "collapsed": true
   },
   "outputs": [],
   "source": [
    "kylver_inscription = find_runic_inscription_by_reference(\"Ög 178 †$U\")"
   ]
  },
  {
   "cell_type": "code",
   "execution_count": null,
   "metadata": {
    "collapsed": true
   },
   "outputs": [],
   "source": [
    "rundata_transcription_to_runic(kylver_inscription)"
   ]
  },
  {
   "cell_type": "code",
   "execution_count": null,
   "metadata": {
    "collapsed": true
   },
   "outputs": [],
   "source": [
    "eggja_inscription = find_runic_inscription_by_reference(\"N KJ101 $U\")"
   ]
  },
  {
   "cell_type": "code",
   "execution_count": null,
   "metadata": {
    "collapsed": true
   },
   "outputs": [],
   "source": [
    "find_runic_inscription_by_reference(\"DR 239\")"
   ]
  }
 ],
 "metadata": {
  "kernelspec": {
   "display_name": "Environment (old_norse_notebook)",
   "language": "",
   "name": "old_norse_notebook"
  }
 },
 "nbformat": 4,
 "nbformat_minor": 0
}
