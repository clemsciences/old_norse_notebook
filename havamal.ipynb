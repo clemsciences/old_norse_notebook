{
 "cells": [
  {
   "cell_type": "markdown",
   "metadata": {},
   "source": [
    "# Hávamál analysis\n",
    "\n",
    "Second Edda's poem: *sayings of the High One* or Hávamál. What is different from the Völuspá?"
   ]
  },
  {
   "cell_type": "markdown",
   "metadata": {},
   "source": [
    "## Contents\n",
    "\n",
    "* Download used corpora\n",
    "* Read them\n",
    "* Retrieve the original structure\n",
    "* Syllabification\n",
    "* Transcribe phonetically the text\n",
    "* Alliteration\n",
    "* Vocabulary\n",
    "* Frequency\n",
    "* Poetry\n"
   ]
  },
  {
   "cell_type": "markdown",
   "metadata": {},
   "source": [
    "### All imports"
   ]
  },
  {
   "cell_type": "code",
   "execution_count": 1,
   "metadata": {
    "collapsed": true
   },
   "outputs": [],
   "source": [
    "import os\n",
    "module_path = os.path.join(os.environ[\"HOME\"], \"cltk_data/old_norse/text/old_norse_texts_heimskringla/\")\n",
    "import re\n",
    "import sys\n",
    "sys.path.append(module_path)\n",
    "from collections import Counter\n",
    "\n",
    "from cltk.corpus.utils.importer import CorpusImporter\n",
    "from cltk.corpus.old_norse.syllabifier import hierarchy\n",
    "hierarchy[5].append(\"z\")\n",
    "hierarchy[5].append(\"x\")\n",
    "from cltk.phonology.syllabify import Syllabifier\n",
    "from cltk.phonology import utils as phu\n",
    "from cltk.phonology.old_norse import transcription as ont \n",
    "from cltk.utils.frequency import Frequency\n",
    "from cltk.tag.pos import POSTag\n",
    "from cltk.prosody.old_norse.verse import MetreManager, Fornyrdhislag, Ljoodhhaattr, ShortLine, LongLine\n",
    "\n",
    "from old_norse.text.old_norse_texts_heimskringla import text_manager\n",
    "from old_norse.text.old_norse_texts_heimskringla import reader as heim_reader\n",
    "#from syllabified_text_reader import read_annotated_text\n",
    "\n",
    "from matplotlib import pyplot as plt\n",
    "import numpy as np\n",
    "\n",
    "import warnings\n",
    "warnings.simplefilter(\"ignore\")\n",
    "\n",
    "%matplotlib inline"
   ]
  },
  {
   "cell_type": "markdown",
   "metadata": {},
   "source": [
    "### Download Old Norse Corpora to cltk_data directory"
   ]
  },
  {
   "cell_type": "code",
   "execution_count": 2,
   "metadata": {
    "collapsed": false
   },
   "outputs": [
    {
     "data": {
      "text/plain": [
       "'/home/pi/cltk_data/old_norse/text/old_norse_texts_heimskringla/reader.py'"
      ]
     },
     "execution_count": 2,
     "metadata": {},
     "output_type": "execute_result"
    }
   ],
   "source": [
    "onc = CorpusImporter(\"old_norse\")\n",
    "onc.import_corpus(\"old_norse_texts_heimskringla\")\n",
    "onc.import_corpus('old_norse_models_cltk')\n",
    "heim_reader.__file__"
   ]
  },
  {
   "cell_type": "markdown",
   "metadata": {
    "collapsed": true
   },
   "source": [
    "Configure **ipython**.\n",
    "\n",
    "```bash\n",
    "$ ipython profile create\n",
    "$ ipython locate\n",
    "$ nano .ipython/profile_default/ipython_config.py\n",
    "```\n",
    " Add it a the end of the file:\n",
    "```bash\n",
    "c.InteractiveShellApp.exec_lines = [\n",
    "    'import sys; import os; sys.path.append(os.path.join(os.environ[\"HOME\"], \"cltk_data\"))',\n",
    "    'import sys; import os; sys.path.append(os.path.join(os.environ[\"HOME\"], \"cltk_data\", \"text\", \"old_norse_texts_heimskringla\"))'\n",
    "]\n",
    "```\n",
    "It is necessary to do that because it makes things easier to utilize data furnished by CLTK. You will see later in the notebook how it is used.\n",
    "\n",
    "Install the **kernel** associated with **python3.6** [https://ipython.readthedocs.io/en/stable/install/kernel_install.html](https://ipython.readthedocs.io/en/stable/install/kernel_install.html) "
   ]
  },
  {
   "cell_type": "code",
   "execution_count": 3,
   "metadata": {
    "collapsed": false
   },
   "outputs": [
    {
     "name": "stdout",
     "output_type": "stream",
     "text": [
      "I.\n",
      " \n",
      "1.\n",
      "Gáttir allar,\n",
      "áðr gangi fram,\n",
      "um skoðask skyli,\n",
      "um skyggnast skyli,\n",
      "því at óvíst er at vita,\n",
      "hvar óvinir\n",
      "sitja á fleti fyrir.\n",
      " \n",
      "2.\n",
      "Gefendr heilir!\n",
      "Gestr er inn kominn,\n",
      "hvar skal sitja sjá?\n",
      "Mjö\n"
     ]
    }
   ],
   "source": [
    "loader = text_manager.TextLoader(os.path.join(module_path, \"Sæmundar-Edda\", \"Hávamál\"), \"txt\")\n",
    "text = loader.load()\n",
    "print(text[:200])"
   ]
  },
  {
   "cell_type": "markdown",
   "metadata": {},
   "source": [
    "### Split text in paragraphs ans verses\n",
    "Extract the organisation of verses in Völuspá"
   ]
  },
  {
   "cell_type": "code",
   "execution_count": 4,
   "metadata": {
    "collapsed": true
   },
   "outputs": [],
   "source": [
    "# The following function is useful to improve existing functions\n",
    "\n",
    "def remove_punctuations(text):\n",
    "    res = text\n",
    "    # for punctuation in \"-:?\":\n",
    "    #    res = \"\".join(res.split(punctuation))\n",
    "    res = re.sub(\"[\\-:\\?;,]\", \"\", res)\n",
    "    res = re.sub(\"z\", \"s\", res)\n",
    "    res = re.sub(\"x\", \"ks\", res)\n",
    "    res = re.sub(r\" +\", \" \", res)\n",
    "    return res"
   ]
  },
  {
   "cell_type": "markdown",
   "metadata": {},
   "source": [
    "  * Get the indices of paragraphs delimiters\n",
    "  * Extract the content between two following delimiters and seperate lines and put them in a list\n",
    "  * Clean all the lines/verses"
   ]
  },
  {
   "cell_type": "code",
   "execution_count": 5,
   "metadata": {
    "collapsed": false
   },
   "outputs": [
    {
     "data": {
      "text/plain": [
       "[['Gáttir allar',\n",
       "  'áðr gangi fram',\n",
       "  'um skoðask skyli',\n",
       "  'um skyggnast skyli',\n",
       "  'því at óvíst er at vita',\n",
       "  'hvar óvinir',\n",
       "  'sitja á fleti fyrir.'],\n",
       " ['Gefendr heilir!',\n",
       "  'Gestr er inn kominn',\n",
       "  'hvar skal sitja sjá',\n",
       "  'Mjök er bráðr',\n",
       "  'sá er á bröndum skal',\n",
       "  'síns of freista frama.'],\n",
       " ['Elds er þörf',\n",
       "  'þeims inn er kominn',\n",
       "  'ok á kné kalinn',\n",
       "  'matar ok váða',\n",
       "  'er manni þörf',\n",
       "  'þeim er hefr um fjall farit.']]"
      ]
     },
     "execution_count": 5,
     "metadata": {},
     "output_type": "execute_result"
    }
   ],
   "source": [
    "indices = [(m.start(0), m.end(0)) for m in re.finditer(r\"[0-9]{1,2}\\.\", text)]  #re.findall(r\"[0-9]{1,2}\\.\", text)\n",
    "paragraphs = [text[indices[i][1]:indices[i+1][0]].split(\"\\n\") for i in range(len(indices)-1)]\n",
    "paragraphs = [[remove_punctuations(verse).strip() for verse in paragraph if remove_punctuations(verse) != \"\" and verse != \"\\xa0\"] for paragraph in paragraphs ]\n",
    "paragraphs[:3]"
   ]
  },
  {
   "cell_type": "markdown",
   "metadata": {},
   "source": [
    "### Syllabification in Old Norse and The *Völuspá*\n",
    "\n",
    "Syllabification in Old Norse is a tough task and agreement among scholars has not been reached. Although Icelandic syllabifiers exist, they are not very useful because, *til dæmis* (for example), Modern Icelandic has included many [epenthetic](https://en.wikipedia.org/wiki/Epenthesis) vowels (compare *maðr* in Old Norse and *maður* in Modern Icelandic).\n",
    "\n",
    "As a substantial example, I annotated syllables in the *Völuspá*. The code below shows how to retrieve it. Before it, I explain how the raw annotated text looks like.\n",
    "\n",
    "#### Guidelines for syllable annotation\n",
    "\n",
    "* \\n+\\n delimits lines (verses)\n",
    "* \\n-\\n delimits words\n",
    "* just \\n delimits two syllables of a same word\n",
    "* numbers delimit stanzas\n",
    "\n"
   ]
  },
  {
   "cell_type": "markdown",
   "metadata": {},
   "source": [
    "You can see below the raw annotations."
   ]
  },
  {
   "cell_type": "markdown",
   "metadata": {},
   "source": [
    "Once parsed, the text is a list of paragraphs. Each paragraph is a list of verses. Each verse is a list of word. Each word is a list of syllables."
   ]
  },
  {
   "cell_type": "markdown",
   "metadata": {},
   "source": [
    "#### Use the phonology module to transcribe phonetically the text"
   ]
  },
  {
   "cell_type": "code",
   "execution_count": 6,
   "metadata": {
    "collapsed": false
   },
   "outputs": [
    {
     "name": "stdout",
     "output_type": "stream",
     "text": [
      "'Gáttir allar'\t\t->\t[gaːtːir alːar]\n",
      "'áðr gangi fram'\t\t->\t[aːðr ganɣi fram]\n",
      "'um skoðask skyli'\t\t->\t[um skɔðask skyli]\n",
      "'um skyggnast skyli'\t\t->\t[um skygːnast skyli]\n",
      "'því at óvíst er at vita'\t\t->\t[θviː at oːviːst ɛr at vita]\n",
      "'hvar óvinir'\t\t->\t[hvar oːvinir]\n",
      "'sitja á fleti fyrir.'\t\t->\t[sitja aː flɛti fyrir]\n",
      "'Gefendr heilir!'\t\t->\t[gɛvɛndr hɛilir]\n",
      "'Gestr er inn kominn'\t\t->\t[gɛstr ɛr inː kɔminː]\n",
      "'hvar skal sitja sjá'\t\t->\t[hvar skal sitja sjaː]\n",
      "'Mjök er bráðr'\t\t->\t[mjœk ɛr braːðr]\n",
      "'sá er á bröndum skal'\t\t->\t[saː ɛr aː brœndum skal]\n",
      "'síns of freista frama.'\t\t->\t[siːns ɔv frɛista frama]\n",
      "'Elds er þörf'\t\t->\t[ɛlds ɛr θœrv]\n",
      "'þeims inn er kominn'\t\t->\t[θɛims inː ɛr kɔminː]\n",
      "'ok á kné kalinn'\t\t->\t[ɔk aː kneː kalinː]\n",
      "'matar ok váða'\t\t->\t[matar ɔk vaːða]\n",
      "'er manni þörf'\t\t->\t[ɛr manːi θœrv]\n",
      "'þeim er hefr um fjall farit.'\t\t->\t[θɛim ɛr hɛvr um fjalː farit]\n"
     ]
    }
   ],
   "source": [
    "tr = phu.Transcriber(ont.DIPHTHONGS_IPA, ont.DIPHTHONGS_IPA_class, ont.IPA_class, ont.old_norse_rules)\n",
    "for paragraph in paragraphs[:3]:\n",
    "    for verse in paragraph:\n",
    "        print(repr(verse)+\"\\t\\t->\\t\"+tr.main(verse))"
   ]
  },
  {
   "cell_type": "markdown",
   "metadata": {},
   "source": [
    "### Show alliterations in the text\n",
    "Alliterations are the main stylistic literary device in Old Norse poetry."
   ]
  },
  {
   "cell_type": "code",
   "execution_count": 7,
   "metadata": {
    "collapsed": false
   },
   "outputs": [
    {
     "ename": "IndexError",
     "evalue": "string index out of range",
     "output_type": "error",
     "traceback": [
      "\u001b[0;31m---------------------------------------------------------------------------\u001b[0m",
      "\u001b[0;31mIndexError\u001b[0m                                Traceback (most recent call last)",
      "\u001b[0;32m<ipython-input-7-0915c669a50b>\u001b[0m in \u001b[0;36m<module>\u001b[0;34m()\u001b[0m\n\u001b[1;32m      3\u001b[0m \u001b[0;32mfor\u001b[0m \u001b[0mparagraph\u001b[0m \u001b[0;32min\u001b[0m \u001b[0mparagraphs\u001b[0m\u001b[0;34m:\u001b[0m\u001b[0;34m\u001b[0m\u001b[0m\n\u001b[1;32m      4\u001b[0m     \u001b[0;32mfor\u001b[0m \u001b[0mverse\u001b[0m \u001b[0;32min\u001b[0m \u001b[0mparagraph\u001b[0m\u001b[0;34m:\u001b[0m\u001b[0;34m\u001b[0m\u001b[0m\n\u001b[0;32m----> 5\u001b[0;31m         \u001b[0mipa_verse\u001b[0m \u001b[0;34m=\u001b[0m \u001b[0mtr\u001b[0m\u001b[0;34m.\u001b[0m\u001b[0mmain\u001b[0m\u001b[0;34m(\u001b[0m\u001b[0mverse\u001b[0m\u001b[0;34m)\u001b[0m\u001b[0;34m\u001b[0m\u001b[0m\n\u001b[0m\u001b[1;32m      6\u001b[0m         \u001b[0mipa_verse\u001b[0m \u001b[0;34m=\u001b[0m \u001b[0mre\u001b[0m\u001b[0;34m.\u001b[0m\u001b[0msub\u001b[0m\u001b[0;34m(\u001b[0m\u001b[0;34mr\"[ \\[\\]]\"\u001b[0m\u001b[0;34m,\u001b[0m \u001b[0;34m\"\"\u001b[0m\u001b[0;34m,\u001b[0m \u001b[0mipa_verse\u001b[0m\u001b[0;34m)\u001b[0m\u001b[0;34m\u001b[0m\u001b[0m\n\u001b[1;32m      7\u001b[0m         \u001b[0munigram_sounds\u001b[0m\u001b[0;34m.\u001b[0m\u001b[0mappend\u001b[0m\u001b[0;34m(\u001b[0m\u001b[0mipa_verse\u001b[0m\u001b[0;34m)\u001b[0m\u001b[0;34m\u001b[0m\u001b[0m\n",
      "\u001b[0;32m/usr/local/lib/python3.6/site-packages/cltk/phonology/utils.py\u001b[0m in \u001b[0;36mmain\u001b[0;34m(self, sentence)\u001b[0m\n\u001b[1;32m    483\u001b[0m         \u001b[0msentence\u001b[0m \u001b[0;34m=\u001b[0m \u001b[0mre\u001b[0m\u001b[0;34m.\u001b[0m\u001b[0msub\u001b[0m\u001b[0;34m(\u001b[0m\u001b[0;34mr\"[.\\\";,:\\[\\]()!&?‘]\"\u001b[0m\u001b[0;34m,\u001b[0m \u001b[0;34m\"\"\u001b[0m\u001b[0;34m,\u001b[0m \u001b[0msentence\u001b[0m\u001b[0;34m)\u001b[0m\u001b[0;34m\u001b[0m\u001b[0m\n\u001b[1;32m    484\u001b[0m         \u001b[0;32mfor\u001b[0m \u001b[0mword\u001b[0m \u001b[0;32min\u001b[0m \u001b[0msentence\u001b[0m\u001b[0;34m.\u001b[0m\u001b[0msplit\u001b[0m\u001b[0;34m(\u001b[0m\u001b[0;34m\" \"\u001b[0m\u001b[0;34m)\u001b[0m\u001b[0;34m:\u001b[0m\u001b[0;34m\u001b[0m\u001b[0m\n\u001b[0;32m--> 485\u001b[0;31m             \u001b[0mfirst_res\u001b[0m \u001b[0;34m=\u001b[0m \u001b[0mself\u001b[0m\u001b[0;34m.\u001b[0m\u001b[0mfirst_process\u001b[0m\u001b[0;34m(\u001b[0m\u001b[0mword\u001b[0m\u001b[0;34m)\u001b[0m\u001b[0;34m\u001b[0m\u001b[0m\n\u001b[0m\u001b[1;32m    486\u001b[0m             \u001b[0msecond_res\u001b[0m \u001b[0;34m=\u001b[0m \u001b[0mself\u001b[0m\u001b[0;34m.\u001b[0m\u001b[0msecond_process\u001b[0m\u001b[0;34m(\u001b[0m\u001b[0mfirst_res\u001b[0m\u001b[0;34m)\u001b[0m\u001b[0;34m\u001b[0m\u001b[0m\n\u001b[1;32m    487\u001b[0m             \u001b[0mtranslitterated\u001b[0m\u001b[0;34m.\u001b[0m\u001b[0mappend\u001b[0m\u001b[0;34m(\u001b[0m\u001b[0msecond_res\u001b[0m\u001b[0;34m)\u001b[0m\u001b[0;34m\u001b[0m\u001b[0m\n",
      "\u001b[0;32m/usr/local/lib/python3.6/site-packages/cltk/phonology/utils.py\u001b[0m in \u001b[0;36mfirst_process\u001b[0;34m(self, word)\u001b[0m\n\u001b[1;32m    512\u001b[0m                 \u001b[0mfirst_res\u001b[0m\u001b[0;34m.\u001b[0m\u001b[0mappend\u001b[0m\u001b[0;34m(\u001b[0m\u001b[0mself\u001b[0m\u001b[0;34m.\u001b[0m\u001b[0mipa_class\u001b[0m\u001b[0;34m[\u001b[0m\u001b[0mword\u001b[0m\u001b[0;34m[\u001b[0m\u001b[0mlen\u001b[0m\u001b[0;34m(\u001b[0m\u001b[0mword\u001b[0m\u001b[0;34m)\u001b[0m \u001b[0;34m-\u001b[0m \u001b[0;36m1\u001b[0m\u001b[0;34m]\u001b[0m\u001b[0;34m]\u001b[0m\u001b[0;34m)\u001b[0m\u001b[0;34m\u001b[0m\u001b[0m\n\u001b[1;32m    513\u001b[0m         \u001b[0;32melse\u001b[0m\u001b[0;34m:\u001b[0m\u001b[0;34m\u001b[0m\u001b[0m\n\u001b[0;32m--> 514\u001b[0;31m             \u001b[0mfirst_res\u001b[0m\u001b[0;34m.\u001b[0m\u001b[0mappend\u001b[0m\u001b[0;34m(\u001b[0m\u001b[0mself\u001b[0m\u001b[0;34m.\u001b[0m\u001b[0mipa_class\u001b[0m\u001b[0;34m[\u001b[0m\u001b[0mword\u001b[0m\u001b[0;34m[\u001b[0m\u001b[0;36m0\u001b[0m\u001b[0;34m]\u001b[0m\u001b[0;34m]\u001b[0m\u001b[0;34m)\u001b[0m\u001b[0;34m\u001b[0m\u001b[0m\n\u001b[0m\u001b[1;32m    515\u001b[0m         \u001b[0;32mreturn\u001b[0m \u001b[0mfirst_res\u001b[0m\u001b[0;34m\u001b[0m\u001b[0m\n\u001b[1;32m    516\u001b[0m \u001b[0;34m\u001b[0m\u001b[0m\n",
      "\u001b[0;31mIndexError\u001b[0m: string index out of range"
     ]
    }
   ],
   "source": [
    "unigram_sounds = []\n",
    "bigram_sounds = []\n",
    "for paragraph in paragraphs:\n",
    "    for verse in paragraph:\n",
    "        ipa_verse = tr.main(verse)\n",
    "        ipa_verse = re.sub(r\"[ \\[\\]]\", \"\", ipa_verse)\n",
    "        unigram_sounds.append(ipa_verse)\n",
    "        bigram_sounds.extend([ipa_verse[i:i+2] for i in range(1, len(ipa_verse)-1) if \" \" not in ipa_verse[i:i+2]])\n",
    "        \n",
    "print(Counter(\"\".join(unigram_sounds)))\n",
    "print(Counter(bigram_sounds))"
   ]
  },
  {
   "cell_type": "markdown",
   "metadata": {},
   "source": [
    "A better way to find aliterration is not to look for exact alitterations but for approximates ones. We can look at common consonant features like \"bilabial stops or \"labio-dental frictative\"."
   ]
  },
  {
   "cell_type": "markdown",
   "metadata": {},
   "source": [
    "### Show vocabulary\n",
    "\n",
    "Vocabulary of an eddic poem is "
   ]
  },
  {
   "cell_type": "code",
   "execution_count": 8,
   "metadata": {
    "collapsed": false
   },
   "outputs": [
    {
     "name": "stdout",
     "output_type": "stream",
     "text": [
      "er C\n",
      "þú PRO-N\n",
      "at C\n",
      "ok N-N\n",
      "ef P\n",
      "en CONJ\n",
      "ek PRO-N\n",
      "þér PRO-D\n",
      "1 Unk\n",
      "á P\n",
      "maðr N-N\n",
      "hann PRO-N\n",
      "of P\n",
      "skal MDPI\n",
      "við P\n"
     ]
    }
   ],
   "source": [
    "tagger = POSTag('old_norse')\n",
    "\n",
    "frq = Frequency()\n",
    "\n",
    "text = \" \".join([verse for paragraph in paragraphs for verse in paragraph])\n",
    "times = frq.counter_from_str(text)\n",
    "common_words = times.most_common(15)\n",
    "for word in common_words:\n",
    "    print(word[0], tagger.tag_tnt(word[0])[0][1])"
   ]
  },
  {
   "cell_type": "markdown",
   "metadata": {},
   "source": [
    "Even in a laguage which is higly flexionnal, there are a lot of small words, which we may call *stop words* that we find everywhere."
   ]
  },
  {
   "cell_type": "markdown",
   "metadata": {},
   "source": [
    "### Show syntax\n",
    "\n",
    "The syntax of a poem is more concise than the one of a saga. Eddic poems obey strict rules like the one which require 4 syllables in a verse. Yet, it is not really respected. Are there any obstacls to write more or less than 4 syllables? In which situations do the irregulaties occur? "
   ]
  },
  {
   "cell_type": "code",
   "execution_count": 9,
   "metadata": {
    "collapsed": false
   },
   "outputs": [
    {
     "name": "stdout",
     "output_type": "stream",
     "text": [
      "Gáttir|Unk allar|Q-A\n",
      "áðr|Unk gangi|VBPS fram|RP\n",
      "um|P skoðask|Unk skyli|MDPS\n",
      "um|P skyggnast|Unk skyli|MDPS\n",
      "því|PRO-D at|C óvíst|ADJ-N er|C at|C vita|VB\n"
     ]
    }
   ],
   "source": [
    "tagger = POSTag('old_norse')\n",
    "\n",
    "\n",
    "text = [verse for paragraph in paragraphs for verse in paragraph]\n",
    "\n",
    "for sentence in text[:5]:\n",
    "    words = sentence.split(\" \")\n",
    "    tagged_words = [tagger.tag_tnt(word) for word in words]\n",
    "    print(\" \".join([word+\"|\"+tag[0][1] for word, tag in zip(words, tagged_words)]))"
   ]
  },
  {
   "cell_type": "markdown",
   "metadata": {},
   "source": [
    "### Verse structure\n",
    "\n",
    "Eddic poems have 2 main known structures named *fornyrðislag* and *ljóðaháttr*, see https://en.wikipedia.org/wiki/Alliterative_verse#Old_Norse_poetic_forms for more details."
   ]
  },
  {
   "cell_type": "code",
   "execution_count": 11,
   "metadata": {
    "collapsed": false
   },
   "outputs": [
    {
     "name": "stdout",
     "output_type": "stream",
     "text": [
      "First stanza:\n",
      "\n",
      "Gáttir allar,\n",
      "áðr gangi fram,\n",
      "um skoðask skyli,\n",
      "um skyggnast skyli,\n",
      "því at óvíst er at vita,\n",
      "hvar óvinir\n",
      "sitja á fleti fyrir.\n",
      "\n",
      "This is not a fornyrðislag.\n",
      "\n",
      "\"Long lines\"\n",
      "[['Gáttir allar,', 'áðr gangi fram,'], ['um skoðask skyli,', 'um skyggnast skyli,'], ['því at óvíst er at vita,', 'hvar óvinir']]\n",
      "\n",
      "\n",
      "Syllabified text: \n",
      "[[[['gát', 'tir'], ['al', 'lar']], [['áðr'], ['gang', 'i'], ['fram']]], [[['um'], ['sko', 'ðask'], ['skyl', 'i']], [['um'], ['skyg', 'gnast'], ['skyl', 'i']]], [[['því'], ['at'], ['ó', 'víst'], ['er'], ['at'], ['vit', 'a']], [['hvar'], ['ó', 'vi', 'nir']]]]\n",
      "\n",
      "\n",
      "Phonetic transcription:\n",
      "[[['[gaːtːir]', '[alːar]'], ['[aːðr]', '[ganɣi]', '[fram]']], [['[um]', '[skɔðask]', '[skyli]'], ['[um]', '[skygːnast]', '[skyli]']], [['[θviː]', '[at]', '[oːviːst]', '[ɛr]', '[at]', '[vita]'], ['[hvar]', '[oːvinir]']]]\n",
      "\n",
      "Alliterations: \n",
      " ([[('gáttir', 'gangi')], [('skoðask', 'skyggnast'), ('skoðask', 'skyli'), ('skyli', 'skyggnast'), ('skyli', 'skyli')], [('óvíst', 'óvinir')]], [1, 4, 1])\n"
     ]
    }
   ],
   "source": [
    "#module_path = os.path.join(os.environ[\"HOME\"], \"cltk_data/old_norse/text/old_norse_texts_heimskringla/\")\n",
    "loader = text_manager.TextLoader(os.path.join(module_path, \"Sæmundar-Edda\", \"Hávamál\"), \"txt\")\n",
    "text = loader.load()\n",
    "indices = [(m.start(0), m.end(0)) for m in re.finditer(r\"[0-9]{1,2}\\.\", text)]  #re.findall(r\"[0-9]{1,2}\\.\", text)\n",
    "voluspa_paragraphs = [text[indices[i][1]:indices[i+1][0]].strip() for i in range(len(indices)-1)]\n",
    "\n",
    "print(\"First stanza:\\n\")\n",
    "#stanzas = [\" \".join([paragraph for paragraph in syllabified_voluspa])]\n",
    "first_stanza = voluspa_paragraphs[0]\n",
    "print(first_stanza)\n",
    "\n",
    "print(\"\\nThis is a fornyrðislag.\" if MetreManager.is_fornyrdhislag(first_stanza) else \"\\nThis is not a fornyrðislag.\")\n",
    "\n",
    "v_first_stanza = Fornyrdhislag()\n",
    "\n",
    "v_first_stanza.from_short_lines_text(first_stanza)\n",
    "print(\"\\n\\\"Long lines\\\"\\n\"+str([[line.text for line in long_line] for long_line in v_first_stanza.long_lines])+\"\\n\")\n",
    "\n",
    "v_first_stanza.syllabify(hierarchy)\n",
    "print(\"\\nSyllabified text: \\n\"+str(v_first_stanza.syllabified_text)+\"\\n\")\n",
    "\n",
    "v_first_stanza.to_phonetics()\n",
    "print(\"\\nPhonetic transcription:\\n\"+str(v_first_stanza.transcribed_text))\n",
    "\n",
    "print(\"\\nAlliterations: \\n\", v_first_stanza.find_alliteration())"
   ]
  },
  {
   "cell_type": "code",
   "execution_count": 12,
   "metadata": {
    "collapsed": false
   },
   "outputs": [
    {
     "name": "stdout",
     "output_type": "stream",
     "text": [
      "First stanza:\n",
      "\n",
      "Deyr fé,\n",
      "deyja frændr,\n",
      "deyr sjalfr it sama,\n",
      "ek veit einn,\n",
      "at aldrei deyr:\n",
      "dómr um dauðan hvern.\n",
      "\n",
      "This is a ljóðaháttr.\n",
      "\n",
      "\"Long lines\"\n",
      "[['Deyr fé,', 'deyja frændr,'], ['deyr sjalfr it sama,'], ['ek veit einn,', 'at aldrei deyr:'], ['dómr um dauðan hvern.']]\n",
      "\n",
      "\n",
      "Syllabified text: \n",
      "[[[['deyr'], ['fé']], [['deyj', 'a'], ['frændr']]], [[['deyr'], ['sjalfr'], ['it'], ['sam', 'a']]], [[['ek'], ['veit'], ['einn']], [['at'], ['al', 'drei'], ['deyr']]], [[['dómr'], ['um'], ['dau', 'ðan'], ['hvern']]]]\n",
      "\n",
      "\n",
      "Phonetic transcription:\n",
      "[[['[dɐyr]', '[feː]'], ['[dɐyja]', '[frɛːndr]']], [['[dɐyr]', '[sjalvr]', '[it]', '[sama]']], [['[ɛk]', '[vɛit]', '[ɛinː]'], ['[at]', '[aldrɛi]', '[dɐyr]']], [['[doːmr]', '[um]', '[dɒuðan]', '[hvɛrn]']]]\n",
      "\n",
      "Alliterations: \n",
      " ([[('deyr', 'deyja'), ('fé', 'frændr')], [('sjalfr', 'sjalfr')], [('einn', 'aldrei')], [('dómr', 'um')]], [2, 1, 1, 1])\n"
     ]
    }
   ],
   "source": [
    "#module_path = os.path.join(os.environ[\"HOME\"], \"cltk_data/old_norse/text/old_norse_texts_heimskringla/\")\n",
    "loader = text_manager.TextLoader(os.path.join(module_path, \"Sæmundar-Edda\", \"Hávamál\"), \"txt\")\n",
    "text_havamal = loader.load()\n",
    "indices = [(m.start(0), m.end(0)) for m in re.finditer(r\"[0-9]{1,2}\\.\", text_havamal)]  #re.findall(r\"[0-9]{1,2}\\.\", text)\n",
    "paragraphs = [text_havamal[indices[i][1]:indices[i+1][0]].strip() for i in range(len(indices)-1)]\n",
    "\n",
    "print(\"First stanza:\\n\")\n",
    "#stanzas = [\" \".join([paragraph for paragraph in syllabified_voluspa])]\n",
    "first_stanza = paragraphs[76]\n",
    "print(first_stanza)\n",
    "\n",
    "print(\"\\nThis is a ljóðaháttr.\" if MetreManager.is_ljoodhhaattr(first_stanza) else \"\\nThis is not a ljóðaháttr.\")\n",
    "\n",
    "v_first_stanza = Ljoodhhaattr()\n",
    "\n",
    "v_first_stanza.from_short_lines_text(first_stanza)\n",
    "print(\"\\n\\\"Long lines\\\"\\n\"+str([[line.text for line in long_line] for long_line in v_first_stanza.long_lines])+\"\\n\")\n",
    "\n",
    "v_first_stanza.syllabify(hierarchy)\n",
    "print(\"\\nSyllabified text: \\n\"+str(v_first_stanza.syllabified_text)+\"\\n\")\n",
    "\n",
    "v_first_stanza.to_phonetics()\n",
    "print(\"\\nPhonetic transcription:\\n\"+str(v_first_stanza.transcribed_text))\n",
    "\n",
    "print(\"\\nAlliterations: \\n\", v_first_stanza.find_alliteration())"
   ]
  },
  {
   "cell_type": "code",
   "execution_count": 18,
   "metadata": {
    "collapsed": false
   },
   "outputs": [
    {
     "name": "stdout",
     "output_type": "stream",
     "text": [
      "Number of stanzas: 65\n",
      "Number of short lines: 538\n",
      "Number of words: 1889\n"
     ]
    },
    {
     "data": {
      "text/plain": [
       "[<matplotlib.lines.Line2D at 0x6ac1c810>]"
      ]
     },
     "execution_count": 18,
     "metadata": {},
     "output_type": "execute_result"
    },
    {
     "data": {
      "image/png": "[encoded data removed]",
      "text/plain": [
       "<Figure size 432x288 with 1 Axes>"
      ]
     },
     "metadata": {},
     "output_type": "display_data"
    }
   ],
   "source": [
    "voluspa = MetreManager.load_poem_from_paragraphs(voluspa_paragraphs)\n",
    "\n",
    "# for paragraph in voluspa_paragraphs:\n",
    "#    if MetreManager.is_fornyrdhislag(paragraph):\n",
    "#        fnl = Fornyrdhislag()\n",
    "#        fnl.from_short_lines_text(paragraph)\n",
    "#        voluspa.append(fnl)\n",
    "#    elif MetreManager.is_ljoodhhaattr(paragraph):\n",
    "#        lh = Ljoodhhaattr()\n",
    "#        lh.from_short_lines_text(paragraph)\n",
    "#        voluspa.append(lh)\n",
    "        \n",
    "number_stanzas = len(voluspa)\n",
    "print(\"Number of stanzas:\", number_stanzas)\n",
    "#number_long_lines = sum([len(meter.long_lines) for meter in voluspa])\n",
    "#print(\"Number of long lines:\", number_long_lines)\n",
    "number_short_lines = sum([len(meter.short_lines) for meter in voluspa])\n",
    "print(\"Number of short lines:\", number_short_lines)\n",
    "number_words = sum([len(short_line.tokenized_text) for meter in voluspa for short_line in meter.short_lines])\n",
    "print(\"Number of words:\", number_words)\n",
    "word_number_per_stanza = [sum([len(short_line.tokenized_text) for short_line in meter.short_lines]) for meter in voluspa ]\n",
    "plt.plot(word_number_per_stanza)"
   ]
  },
  {
   "cell_type": "markdown",
   "metadata": {},
   "source": [
    "Sources :\n",
    "* [Heimskringla](heimskringla.no)"
   ]
  },
  {
   "cell_type": "markdown",
   "metadata": {},
   "source": [
    "#### TODO\n",
    "* Give distributions of syllables per short lines, long lines and stanzas.\n",
    "* Give distributions of alliterations \n",
    "* Number of short lines\n",
    "* Number of long lines\n",
    "* Number of stanzas\n",
    "* Give distribution of unigrams, bigrams\n",
    "* Give the part of speech of a word\n",
    "* Apply the same thing to an other eddic poem."
   ]
  },
  {
   "cell_type": "markdown",
   "metadata": {
    "collapsed": true
   },
   "source": [
    "\n",
    "By Clément Besnier, email address: clemsciences@aol.com, web site: https://clementbesnier.pythonanywhere.com/, twitter: clemsciences"
   ]
  }
 ],
 "metadata": {
  "kernelspec": {
   "display_name": "Python 3",
   "language": "python",
   "name": "python3"
  },
  "language_info": {
   "codemirror_mode": {
    "name": "ipython",
    "version": 3
   },
   "file_extension": ".py",
   "mimetype": "text/x-python",
   "name": "python",
   "nbconvert_exporter": "python",
   "pygments_lexer": "ipython3",
   "version": "3.6.3"
  }
 },
 "nbformat": 4,
 "nbformat_minor": 1
}
