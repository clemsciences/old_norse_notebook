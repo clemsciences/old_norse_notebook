{
 "cells": [
  {
   "cell_type": "markdown",
   "metadata": {},
   "source": [
    "# Eddas\n",
    "Note: in order to use this **Jupyter notebook**, you need at least **python 3.6** or above."
   ]
  },
  {
   "cell_type": "markdown",
   "metadata": {},
   "source": [
    "Why this notbook? You can retrieve and process easily the Eddas (the Poetic one and the Snorri's one). \n",
    "\n",
    "If you want to get more tools for Old Norse, use **cltk** (https://github.com/cltk/cltk.git). Here is the docs: http://docs.cltk.org/en/latest/old_norse.html."
   ]
  },
  {
   "cell_type": "markdown",
   "metadata": {},
   "source": [
    "### Configuration\n",
    "\n",
    "Install the modules.\n",
    "```bash\n",
    "$ pip install -r requirements.txt\n",
    "```"
   ]
  },
  {
   "cell_type": "markdown",
   "metadata": {},
   "source": [
    "Install the **kernel** associated with **python3.6** [https://ipython.readthedocs.io/en/stable/install/kernel_install.html](https://ipython.readthedocs.io/en/stable/install/kernel_install.html) "
   ]
  },
  {
   "cell_type": "markdown",
   "metadata": {},
   "source": [
    "Let's test if the import is correct:\n",
    "```bash\n",
    "$ python3.6\n",
    "```"
   ]
  },
  {
   "cell_type": "code",
   "execution_count": 1,
   "metadata": {
    "collapsed": true
   },
   "outputs": [],
   "source": [
    "import eddas"
   ]
  },
  {
   "cell_type": "markdown",
   "metadata": {},
   "source": [
    "It works! So let's continue with some predefined data."
   ]
  },
  {
   "cell_type": "code",
   "execution_count": 2,
   "metadata": {
    "collapsed": true
   },
   "outputs": [],
   "source": [
    "from eddas import reader"
   ]
  },
  {
   "cell_type": "markdown",
   "metadata": {},
   "source": [
    "The reader module uses the **NLTK** TaggedCorpusReader class. "
   ]
  },
  {
   "cell_type": "markdown",
   "metadata": {},
   "source": [
    "#### The POS annotated Völuspá\n",
    "The POS tagset is available at http://nlp.cs.ru.is/pdf/Tagset.pdf."
   ]
  },
  {
   "cell_type": "code",
   "execution_count": 3,
   "metadata": {
    "collapsed": true
   },
   "outputs": [],
   "source": [
    "pos_voeluspaa = reader.PoeticEddaPOSTaggedReader(\"Völuspá\")"
   ]
  },
  {
   "cell_type": "markdown",
   "metadata": {},
   "source": [
    "Raw POS annotated text :"
   ]
  },
  {
   "cell_type": "code",
   "execution_count": 4,
   "metadata": {},
   "outputs": [
    {
     "name": "stdout",
     "output_type": "stream",
     "text": [
      "1/ta\n",
      "Hljóðs/nhee bið/sfg1eþ ek/fp1en allar/lvfosf\n",
      "helgar/lvfosf kindir/nvfo ,/p\n",
      "meiri/lvfovm ok/cc minni/lvfovm\n",
      "mögu/nkfo Heimdallar/nkeem ;/p\n",
      "viltu/sfg2en at/cn ek/fp1em ,/p Valföðr/nkenm ,/p\n",
      "vel/aa fyr/cn telja/sng\n",
      "forn/lhfosf spjöll/nhfo fira/nkfe ,/p\n",
      "þau/fa er/ct fremst/aa of/aa man/sfg1en ./p\n",
      "\n",
      "\n"
     ]
    }
   ],
   "source": [
    "print(pos_voeluspaa.raw()[:300])"
   ]
  },
  {
   "cell_type": "markdown",
   "metadata": {},
   "source": [
    "The first paragraph :"
   ]
  },
  {
   "cell_type": "code",
   "execution_count": 5,
   "metadata": {},
   "outputs": [
    {
     "name": "stdout",
     "output_type": "stream",
     "text": [
      "[['1'], ['Hljóðs', 'bið', 'ek', 'allar'], ['helgar', 'kindir', ','], ['meiri', 'ok', 'minni'], ['mögu', 'Heimdallar', ';'], ['viltu', 'at', 'ek', ',', 'Valföðr', ','], ['vel', 'fyr', 'telja'], ['forn', 'spjöll', 'fira', ','], ['þau', 'er', 'fremst', 'of', 'man', '.']]\n"
     ]
    }
   ],
   "source": [
    "print(pos_voeluspaa.paras()[0])"
   ]
  },
  {
   "cell_type": "markdown",
   "metadata": {},
   "source": [
    "#### The lemmatized Völuspá\n",
    "Lemmata are from the Zoëga's dictionary that you can retrieve from https://github.com/cltk/old_norse_dictionary_zoega."
   ]
  },
  {
   "cell_type": "code",
   "execution_count": 6,
   "metadata": {
    "collapsed": true
   },
   "outputs": [],
   "source": [
    "lem_voeluspaa = reader.PoeticEddaLemmatizationReader(\"Völuspá\")"
   ]
  },
  {
   "cell_type": "markdown",
   "metadata": {},
   "source": [
    "Sentences in the corpus are \"short lines\" in the Germanic tradition sense."
   ]
  },
  {
   "cell_type": "markdown",
   "metadata": {},
   "source": [
    "Without annotations:"
   ]
  },
  {
   "cell_type": "code",
   "execution_count": 7,
   "metadata": {},
   "outputs": [
    {
     "data": {
      "text/plain": [
       "['meiri', 'ok', 'minni']"
      ]
     },
     "execution_count": 7,
     "metadata": {},
     "output_type": "execute_result"
    }
   ],
   "source": [
    "lem_voeluspaa.sents()[3]"
   ]
  },
  {
   "cell_type": "markdown",
   "metadata": {},
   "source": [
    "With annotations:"
   ]
  },
  {
   "cell_type": "code",
   "execution_count": 8,
   "metadata": {},
   "outputs": [
    {
     "data": {
      "text/plain": [
       "[('meiri', 'mjök'), ('ok', 'ok'), ('minni', 'lítill')]"
      ]
     },
     "execution_count": 8,
     "metadata": {},
     "output_type": "execute_result"
    }
   ],
   "source": [
    "[(token, lemma.lower()) for token, lemma in lem_voeluspaa.tagged_sents()[3]]"
   ]
  },
  {
   "cell_type": "markdown",
   "metadata": {},
   "source": [
    "#### The syllabified Völuspá\n",
    "Syllables are separated by a plus sign."
   ]
  },
  {
   "cell_type": "code",
   "execution_count": 9,
   "metadata": {
    "collapsed": true
   },
   "outputs": [],
   "source": [
    "syl_voeluspaa = reader.PoeticEddaSyllabifiedReader(\"Völuspá\")"
   ]
  },
  {
   "cell_type": "code",
   "execution_count": 10,
   "metadata": {},
   "outputs": [
    {
     "data": {
      "text/plain": [
       "[('Heimdallar', 'HEIM+DAL+LAR'),\n",
       " ('viltu', 'VI+LTU'),\n",
       " ('at', 'AT'),\n",
       " ('ek', 'EK'),\n",
       " ('Valföðr', 'VAL+FÖÐR'),\n",
       " ('vel', 'VEL'),\n",
       " ('fyr', 'FYR'),\n",
       " ('telja', 'TEL+JA'),\n",
       " ('forn', 'FORN'),\n",
       " ('spjöll', 'SPJÖLL')]"
      ]
     },
     "execution_count": 10,
     "metadata": {},
     "output_type": "execute_result"
    }
   ],
   "source": [
    "syl_voeluspaa.tagged_words()[10:20]"
   ]
  },
  {
   "cell_type": "markdown",
   "metadata": {},
   "source": [
    "The Völuspá is currently being annotated. The other poems of the Poetic Edda may also be annotated so if you want to join, go into https://github.com/cltk/old_norse_texts_heimskringla."
   ]
  },
  {
   "cell_type": "markdown",
   "metadata": {},
   "source": [
    "By Clément Besnier, email address: clemsciences@aol.com, web site: https://clementbesnier.fr/, twitter: clemsciences"
   ]
  }
 ],
 "metadata": {
  "kernelspec": {
   "display_name": "Python 3",
   "language": "python",
   "name": "python3"
  },
  "language_info": {
   "codemirror_mode": {
    "name": "ipython",
    "version": 3
   },
   "file_extension": ".py",
   "mimetype": "text/x-python",
   "name": "python",
   "nbconvert_exporter": "python",
   "pygments_lexer": "ipython3",
   "version": "3.6.5"
  }
 },
 "nbformat": 4,
 "nbformat_minor": 2
}
